{
  "cells": [
    {
      "cell_type": "markdown",
      "metadata": {
        "id": "view-in-github",
        "colab_type": "text"
      },
      "source": [
        "<a href=\"https://colab.research.google.com/github/JCTSilva/FinalProject_IMT_CANCER/blob/main/Notebooks/mouth_oropharynx_preprocessing.ipynb\" target=\"_parent\"><img src=\"https://colab.research.google.com/assets/colab-badge.svg\" alt=\"Open In Colab\"/></a>"
      ]
    },
    {
      "cell_type": "markdown",
      "source": [
        "# **Descrição desse notebook:**\n",
        "\n",
        "*   Carregamento dos dados referentes a boca e a orofaringe ainda em seu estado mais bruto\n",
        "*   União dos dados, a fim de possibilitar ao modelo futuro mais informação de treinamento\n",
        "\n"
      ],
      "metadata": {
        "id": "WaVXqJnU93oV"
      }
    },
    {
      "cell_type": "markdown",
      "metadata": {
        "id": "LPae7x8J38aH"
      },
      "source": [
        "# **Bibliotecas**"
      ]
    },
    {
      "cell_type": "markdown",
      "source": [
        "## **Instalação**"
      ],
      "metadata": {
        "id": "WFF7F08l-69r"
      }
    },
    {
      "cell_type": "code",
      "execution_count": null,
      "metadata": {
        "colab": {
          "base_uri": "https://localhost:8080/"
        },
        "id": "Vu8XaZrRvbjT",
        "outputId": "216ad7ba-3cc8-41f9-80e5-82766bbb56ce"
      },
      "outputs": [
        {
          "output_type": "stream",
          "name": "stdout",
          "text": [
            "Looking in indexes: https://pypi.org/simple, https://us-python.pkg.dev/colab-wheels/public/simple/\n",
            "Requirement already satisfied: gdown in /usr/local/lib/python3.7/dist-packages (4.4.0)\n",
            "Requirement already satisfied: beautifulsoup4 in /usr/local/lib/python3.7/dist-packages (from gdown) (4.6.3)\n",
            "Requirement already satisfied: filelock in /usr/local/lib/python3.7/dist-packages (from gdown) (3.7.1)\n",
            "Requirement already satisfied: six in /usr/local/lib/python3.7/dist-packages (from gdown) (1.15.0)\n",
            "Requirement already satisfied: tqdm in /usr/local/lib/python3.7/dist-packages (from gdown) (4.64.0)\n",
            "Requirement already satisfied: requests[socks] in /usr/local/lib/python3.7/dist-packages (from gdown) (2.23.0)\n",
            "Requirement already satisfied: chardet<4,>=3.0.2 in /usr/local/lib/python3.7/dist-packages (from requests[socks]->gdown) (3.0.4)\n",
            "Requirement already satisfied: certifi>=2017.4.17 in /usr/local/lib/python3.7/dist-packages (from requests[socks]->gdown) (2022.6.15)\n",
            "Requirement already satisfied: idna<3,>=2.5 in /usr/local/lib/python3.7/dist-packages (from requests[socks]->gdown) (2.10)\n",
            "Requirement already satisfied: urllib3!=1.25.0,!=1.25.1,<1.26,>=1.21.1 in /usr/local/lib/python3.7/dist-packages (from requests[socks]->gdown) (1.24.3)\n",
            "Requirement already satisfied: PySocks!=1.5.7,>=1.5.6 in /usr/local/lib/python3.7/dist-packages (from requests[socks]->gdown) (1.7.1)\n"
          ]
        }
      ],
      "source": [
        "!pip install gdown"
      ]
    },
    {
      "cell_type": "code",
      "execution_count": null,
      "metadata": {
        "colab": {
          "base_uri": "https://localhost:8080/"
        },
        "id": "k8Rt5ofZIIZX",
        "outputId": "58e59240-d575-41a1-d95c-4b302c2aaab6"
      },
      "outputs": [
        {
          "output_type": "stream",
          "name": "stdout",
          "text": [
            "Looking in indexes: https://pypi.org/simple, https://us-python.pkg.dev/colab-wheels/public/simple/\n",
            "Collecting shap\n",
            "  Downloading shap-0.41.0-cp37-cp37m-manylinux_2_12_x86_64.manylinux2010_x86_64.whl (569 kB)\n",
            "\u001b[K     |████████████████████████████████| 569 kB 4.2 MB/s \n",
            "\u001b[?25hRequirement already satisfied: numpy in /usr/local/lib/python3.7/dist-packages (from shap) (1.21.6)\n",
            "Requirement already satisfied: packaging>20.9 in /usr/local/lib/python3.7/dist-packages (from shap) (21.3)\n",
            "Requirement already satisfied: scikit-learn in /usr/local/lib/python3.7/dist-packages (from shap) (1.0.2)\n",
            "Requirement already satisfied: scipy in /usr/local/lib/python3.7/dist-packages (from shap) (1.7.3)\n",
            "Requirement already satisfied: pandas in /usr/local/lib/python3.7/dist-packages (from shap) (1.3.5)\n",
            "Requirement already satisfied: numba in /usr/local/lib/python3.7/dist-packages (from shap) (0.51.2)\n",
            "Requirement already satisfied: tqdm>4.25.0 in /usr/local/lib/python3.7/dist-packages (from shap) (4.64.0)\n",
            "Collecting slicer==0.0.7\n",
            "  Downloading slicer-0.0.7-py3-none-any.whl (14 kB)\n",
            "Requirement already satisfied: cloudpickle in /usr/local/lib/python3.7/dist-packages (from shap) (1.3.0)\n",
            "Requirement already satisfied: pyparsing!=3.0.5,>=2.0.2 in /usr/local/lib/python3.7/dist-packages (from packaging>20.9->shap) (3.0.9)\n",
            "Requirement already satisfied: llvmlite<0.35,>=0.34.0.dev0 in /usr/local/lib/python3.7/dist-packages (from numba->shap) (0.34.0)\n",
            "Requirement already satisfied: setuptools in /usr/local/lib/python3.7/dist-packages (from numba->shap) (57.4.0)\n",
            "Requirement already satisfied: python-dateutil>=2.7.3 in /usr/local/lib/python3.7/dist-packages (from pandas->shap) (2.8.2)\n",
            "Requirement already satisfied: pytz>=2017.3 in /usr/local/lib/python3.7/dist-packages (from pandas->shap) (2022.1)\n",
            "Requirement already satisfied: six>=1.5 in /usr/local/lib/python3.7/dist-packages (from python-dateutil>=2.7.3->pandas->shap) (1.15.0)\n",
            "Requirement already satisfied: threadpoolctl>=2.0.0 in /usr/local/lib/python3.7/dist-packages (from scikit-learn->shap) (3.1.0)\n",
            "Requirement already satisfied: joblib>=0.11 in /usr/local/lib/python3.7/dist-packages (from scikit-learn->shap) (1.1.0)\n",
            "Installing collected packages: slicer, shap\n",
            "Successfully installed shap-0.41.0 slicer-0.0.7\n"
          ]
        }
      ],
      "source": [
        "!pip install shap"
      ]
    },
    {
      "cell_type": "markdown",
      "metadata": {
        "id": "boYaJCOJc7l_"
      },
      "source": [
        "## **Importação**"
      ]
    },
    {
      "cell_type": "code",
      "execution_count": null,
      "metadata": {
        "id": "f_Lpm8RjeXYW"
      },
      "outputs": [],
      "source": [
        "import pandas as pd\n",
        "import numpy as np\n",
        "import gdown\n",
        "\n",
        "# Graphs\n",
        "import matplotlib.pyplot as plt\n",
        "import seaborn as sns\n",
        "import plotly.express as px\n",
        "import plotly.graph_objects as go\n",
        "from plotly.subplots import make_subplots\n",
        "\n",
        "import pickle # Save models\n",
        "seed = 10 # seed for the random state"
      ]
    },
    {
      "cell_type": "code",
      "execution_count": null,
      "metadata": {
        "id": "1ivafM-qaTLo"
      },
      "outputs": [],
      "source": [
        "# Preprocessing\n",
        "from sklearn.preprocessing import LabelEncoder, StandardScaler, MinMaxScaler, MaxAbsScaler, PowerTransformer, QuantileTransformer\n",
        "from sklearn.model_selection import train_test_split"
      ]
    },
    {
      "cell_type": "code",
      "execution_count": null,
      "metadata": {
        "id": "k6QXRUiSfi7w"
      },
      "outputs": [],
      "source": [
        "# Classification\n",
        "from imblearn.over_sampling import SMOTE\n",
        "\n",
        "from sklearn.ensemble import RandomForestClassifier\n",
        "import xgboost as xgb\n",
        "\n",
        "from sklearn.metrics import plot_confusion_matrix"
      ]
    },
    {
      "cell_type": "code",
      "execution_count": null,
      "metadata": {
        "id": "gQbdFLLrqhNK"
      },
      "outputs": [],
      "source": [
        "from sklearn.model_selection import RandomizedSearchCV"
      ]
    },
    {
      "cell_type": "code",
      "execution_count": null,
      "metadata": {
        "id": "5pPnwsapzyeV"
      },
      "outputs": [],
      "source": [
        "from sklearn import tree"
      ]
    },
    {
      "cell_type": "markdown",
      "metadata": {
        "id": "KrtScl3y0RJD"
      },
      "source": [
        "# **Funções pré-programadas**"
      ]
    },
    {
      "cell_type": "markdown",
      "source": [
        "## **Instalação**"
      ],
      "metadata": {
        "id": "g9czgDBf_LMN"
      }
    },
    {
      "cell_type": "code",
      "execution_count": null,
      "metadata": {
        "colab": {
          "base_uri": "https://localhost:8080/"
        },
        "id": "-uyYClrXdKiy",
        "outputId": "713ce828-0769-44fe-d91a-60176f360926"
      },
      "outputs": [
        {
          "output_type": "stream",
          "name": "stderr",
          "text": [
            "Downloading...\n",
            "From: https://drive.google.com/uc?id=1ka06g2-8j1Iykx9fzGT7tVFwQZYHu6IH\n",
            "To: /content/functions.py\n",
            "100%|██████████| 20.3k/20.3k [00:00<00:00, 20.0MB/s]\n"
          ]
        },
        {
          "output_type": "execute_result",
          "data": {
            "text/plain": [
              "'functions.py'"
            ],
            "application/vnd.google.colaboratory.intrinsic+json": {
              "type": "string"
            }
          },
          "metadata": {},
          "execution_count": 8
        }
      ],
      "source": [
        "# Install the file with the file ID in Google Drive\n",
        "id = \"1ka06g2-8j1Iykx9fzGT7tVFwQZYHu6IH\"\n",
        "output = \"functions.py\"\n",
        "gdown.download(id=id, output=output, quiet=False)"
      ]
    },
    {
      "cell_type": "markdown",
      "source": [
        "## **Importação**"
      ],
      "metadata": {
        "id": "CrlKtj_4_OeH"
      }
    },
    {
      "cell_type": "code",
      "execution_count": null,
      "metadata": {
        "id": "3cKnpZL8x4iQ"
      },
      "outputs": [],
      "source": [
        "from functions import *"
      ]
    },
    {
      "cell_type": "markdown",
      "metadata": {
        "id": "9YR3fsPLo1w1"
      },
      "source": [
        "# **Dados**"
      ]
    },
    {
      "cell_type": "markdown",
      "metadata": {
        "id": "p-XaH_Hk6qd-"
      },
      "source": [
        "## **Boca**"
      ]
    },
    {
      "cell_type": "markdown",
      "source": [
        "### **Instalação**"
      ],
      "metadata": {
        "id": "OfHyooqt_o1z"
      }
    },
    {
      "cell_type": "code",
      "execution_count": null,
      "metadata": {
        "colab": {
          "base_uri": "https://localhost:8080/"
        },
        "id": "RzeyQ5pqM8Kp",
        "outputId": "cde62637-70b2-4b2d-d502-b12019c85aef"
      },
      "outputs": [
        {
          "output_type": "stream",
          "name": "stderr",
          "text": [
            "Downloading...\n",
            "From: https://drive.google.com/uc?id=1H5RJuaMOIyhdDT45_T1J4T7_G4IgZ8FS\n",
            "To: /content/cancer_boca.csv\n",
            "100%|██████████| 2.07M/2.07M [00:00<00:00, 48.3MB/s]\n"
          ]
        },
        {
          "output_type": "execute_result",
          "data": {
            "text/plain": [
              "'cancer_boca.csv'"
            ],
            "application/vnd.google.colaboratory.intrinsic+json": {
              "type": "string"
            }
          },
          "metadata": {},
          "execution_count": 10
        }
      ],
      "source": [
        "# Install the file with the file ID in Google Drive\n",
        "id = \"1H5RJuaMOIyhdDT45_T1J4T7_G4IgZ8FS\"\n",
        "output = \"cancer_boca.csv\"\n",
        "gdown.download(id=id, output=output, quiet=False)"
      ]
    },
    {
      "cell_type": "markdown",
      "source": [
        "### **Importação**"
      ],
      "metadata": {
        "id": "0NHDr4E9_o10"
      }
    },
    {
      "cell_type": "code",
      "execution_count": null,
      "metadata": {
        "colab": {
          "base_uri": "https://localhost:8080/"
        },
        "id": "tiKhKkNxbO18",
        "outputId": "96fa2686-c9ee-4f73-843f-4c5c1e0e2f04"
      },
      "outputs": [
        {
          "output_type": "execute_result",
          "data": {
            "text/plain": [
              "   ESCOLARI  IDADE  SEXO UFNASC UFRESID     IBGE           CIDADE  CATEATEND  \\\n",
              "0         9     74     2     PE      SP  3546900      SANTA LUCIA          2   \n",
              "1         2     69     2     MG      SP  3556503  VARZEA PAULISTA          2   \n",
              "2         2     65     1     BA      SP  3550308        SAO PAULO          2   \n",
              "3         2     72     2     SP      SP  3550308        SAO PAULO          2   \n",
              "4         1     78     2     SP      SP  3528502        MAIRIPORA          2   \n",
              "\n",
              "    DTCONSULT  DIAGPREV  ... RECDIST  REC01 REC02 REC03 REC04  IBGEATEN  \\\n",
              "0  2000-02-08         1  ...       0    NaN   NaN   NaN   NaN   3503208   \n",
              "1  2018-03-13         2  ...       0    NaN   NaN   NaN   NaN   3525904   \n",
              "2  2013-06-24         1  ...       0    NaN   NaN   NaN   NaN   3550308   \n",
              "3  2009-06-10         1  ...       0    NaN   NaN   NaN   NaN   3550308   \n",
              "4  2016-05-10         2  ...       0    NaN   NaN   NaN   NaN   3550308   \n",
              "\n",
              "    CIDO                      DSCCIDO HABILIT2     CIDADEH  \n",
              "0  80703  CARCINOMA ESCAMOCELULAR SOE        1  Araraquara  \n",
              "1  80703  CARCINOMA ESCAMOCELULAR SOE        1     Jundiai  \n",
              "2  80703  CARCINOMA ESCAMOCELULAR SOE        1   São Paulo  \n",
              "3  80703  CARCINOMA ESCAMOCELULAR SOE        2   São Paulo  \n",
              "4  80703  CARCINOMA ESCAMOCELULAR SOE        2   São Paulo  \n",
              "\n",
              "[5 rows x 60 columns]"
            ],
            "text/html": [
              "\n",
              "  <div id=\"df-76084f84-ff55-43f9-abc1-7a236adb7ab9\">\n",
              "    <div class=\"colab-df-container\">\n",
              "      <div>\n",
              "<style scoped>\n",
              "    .dataframe tbody tr th:only-of-type {\n",
              "        vertical-align: middle;\n",
              "    }\n",
              "\n",
              "    .dataframe tbody tr th {\n",
              "        vertical-align: top;\n",
              "    }\n",
              "\n",
              "    .dataframe thead th {\n",
              "        text-align: right;\n",
              "    }\n",
              "</style>\n",
              "<table border=\"1\" class=\"dataframe\">\n",
              "  <thead>\n",
              "    <tr style=\"text-align: right;\">\n",
              "      <th></th>\n",
              "      <th>ESCOLARI</th>\n",
              "      <th>IDADE</th>\n",
              "      <th>SEXO</th>\n",
              "      <th>UFNASC</th>\n",
              "      <th>UFRESID</th>\n",
              "      <th>IBGE</th>\n",
              "      <th>CIDADE</th>\n",
              "      <th>CATEATEND</th>\n",
              "      <th>DTCONSULT</th>\n",
              "      <th>DIAGPREV</th>\n",
              "      <th>...</th>\n",
              "      <th>RECDIST</th>\n",
              "      <th>REC01</th>\n",
              "      <th>REC02</th>\n",
              "      <th>REC03</th>\n",
              "      <th>REC04</th>\n",
              "      <th>IBGEATEN</th>\n",
              "      <th>CIDO</th>\n",
              "      <th>DSCCIDO</th>\n",
              "      <th>HABILIT2</th>\n",
              "      <th>CIDADEH</th>\n",
              "    </tr>\n",
              "  </thead>\n",
              "  <tbody>\n",
              "    <tr>\n",
              "      <th>0</th>\n",
              "      <td>9</td>\n",
              "      <td>74</td>\n",
              "      <td>2</td>\n",
              "      <td>PE</td>\n",
              "      <td>SP</td>\n",
              "      <td>3546900</td>\n",
              "      <td>SANTA LUCIA</td>\n",
              "      <td>2</td>\n",
              "      <td>2000-02-08</td>\n",
              "      <td>1</td>\n",
              "      <td>...</td>\n",
              "      <td>0</td>\n",
              "      <td>NaN</td>\n",
              "      <td>NaN</td>\n",
              "      <td>NaN</td>\n",
              "      <td>NaN</td>\n",
              "      <td>3503208</td>\n",
              "      <td>80703</td>\n",
              "      <td>CARCINOMA ESCAMOCELULAR SOE</td>\n",
              "      <td>1</td>\n",
              "      <td>Araraquara</td>\n",
              "    </tr>\n",
              "    <tr>\n",
              "      <th>1</th>\n",
              "      <td>2</td>\n",
              "      <td>69</td>\n",
              "      <td>2</td>\n",
              "      <td>MG</td>\n",
              "      <td>SP</td>\n",
              "      <td>3556503</td>\n",
              "      <td>VARZEA PAULISTA</td>\n",
              "      <td>2</td>\n",
              "      <td>2018-03-13</td>\n",
              "      <td>2</td>\n",
              "      <td>...</td>\n",
              "      <td>0</td>\n",
              "      <td>NaN</td>\n",
              "      <td>NaN</td>\n",
              "      <td>NaN</td>\n",
              "      <td>NaN</td>\n",
              "      <td>3525904</td>\n",
              "      <td>80703</td>\n",
              "      <td>CARCINOMA ESCAMOCELULAR SOE</td>\n",
              "      <td>1</td>\n",
              "      <td>Jundiai</td>\n",
              "    </tr>\n",
              "    <tr>\n",
              "      <th>2</th>\n",
              "      <td>2</td>\n",
              "      <td>65</td>\n",
              "      <td>1</td>\n",
              "      <td>BA</td>\n",
              "      <td>SP</td>\n",
              "      <td>3550308</td>\n",
              "      <td>SAO PAULO</td>\n",
              "      <td>2</td>\n",
              "      <td>2013-06-24</td>\n",
              "      <td>1</td>\n",
              "      <td>...</td>\n",
              "      <td>0</td>\n",
              "      <td>NaN</td>\n",
              "      <td>NaN</td>\n",
              "      <td>NaN</td>\n",
              "      <td>NaN</td>\n",
              "      <td>3550308</td>\n",
              "      <td>80703</td>\n",
              "      <td>CARCINOMA ESCAMOCELULAR SOE</td>\n",
              "      <td>1</td>\n",
              "      <td>São Paulo</td>\n",
              "    </tr>\n",
              "    <tr>\n",
              "      <th>3</th>\n",
              "      <td>2</td>\n",
              "      <td>72</td>\n",
              "      <td>2</td>\n",
              "      <td>SP</td>\n",
              "      <td>SP</td>\n",
              "      <td>3550308</td>\n",
              "      <td>SAO PAULO</td>\n",
              "      <td>2</td>\n",
              "      <td>2009-06-10</td>\n",
              "      <td>1</td>\n",
              "      <td>...</td>\n",
              "      <td>0</td>\n",
              "      <td>NaN</td>\n",
              "      <td>NaN</td>\n",
              "      <td>NaN</td>\n",
              "      <td>NaN</td>\n",
              "      <td>3550308</td>\n",
              "      <td>80703</td>\n",
              "      <td>CARCINOMA ESCAMOCELULAR SOE</td>\n",
              "      <td>2</td>\n",
              "      <td>São Paulo</td>\n",
              "    </tr>\n",
              "    <tr>\n",
              "      <th>4</th>\n",
              "      <td>1</td>\n",
              "      <td>78</td>\n",
              "      <td>2</td>\n",
              "      <td>SP</td>\n",
              "      <td>SP</td>\n",
              "      <td>3528502</td>\n",
              "      <td>MAIRIPORA</td>\n",
              "      <td>2</td>\n",
              "      <td>2016-05-10</td>\n",
              "      <td>2</td>\n",
              "      <td>...</td>\n",
              "      <td>0</td>\n",
              "      <td>NaN</td>\n",
              "      <td>NaN</td>\n",
              "      <td>NaN</td>\n",
              "      <td>NaN</td>\n",
              "      <td>3550308</td>\n",
              "      <td>80703</td>\n",
              "      <td>CARCINOMA ESCAMOCELULAR SOE</td>\n",
              "      <td>2</td>\n",
              "      <td>São Paulo</td>\n",
              "    </tr>\n",
              "  </tbody>\n",
              "</table>\n",
              "<p>5 rows × 60 columns</p>\n",
              "</div>\n",
              "      <button class=\"colab-df-convert\" onclick=\"convertToInteractive('df-76084f84-ff55-43f9-abc1-7a236adb7ab9')\"\n",
              "              title=\"Convert this dataframe to an interactive table.\"\n",
              "              style=\"display:none;\">\n",
              "        \n",
              "  <svg xmlns=\"http://www.w3.org/2000/svg\" height=\"24px\"viewBox=\"0 0 24 24\"\n",
              "       width=\"24px\">\n",
              "    <path d=\"M0 0h24v24H0V0z\" fill=\"none\"/>\n",
              "    <path d=\"M18.56 5.44l.94 2.06.94-2.06 2.06-.94-2.06-.94-.94-2.06-.94 2.06-2.06.94zm-11 1L8.5 8.5l.94-2.06 2.06-.94-2.06-.94L8.5 2.5l-.94 2.06-2.06.94zm10 10l.94 2.06.94-2.06 2.06-.94-2.06-.94-.94-2.06-.94 2.06-2.06.94z\"/><path d=\"M17.41 7.96l-1.37-1.37c-.4-.4-.92-.59-1.43-.59-.52 0-1.04.2-1.43.59L10.3 9.45l-7.72 7.72c-.78.78-.78 2.05 0 2.83L4 21.41c.39.39.9.59 1.41.59.51 0 1.02-.2 1.41-.59l7.78-7.78 2.81-2.81c.8-.78.8-2.07 0-2.86zM5.41 20L4 18.59l7.72-7.72 1.47 1.35L5.41 20z\"/>\n",
              "  </svg>\n",
              "      </button>\n",
              "      \n",
              "  <style>\n",
              "    .colab-df-container {\n",
              "      display:flex;\n",
              "      flex-wrap:wrap;\n",
              "      gap: 12px;\n",
              "    }\n",
              "\n",
              "    .colab-df-convert {\n",
              "      background-color: #E8F0FE;\n",
              "      border: none;\n",
              "      border-radius: 50%;\n",
              "      cursor: pointer;\n",
              "      display: none;\n",
              "      fill: #1967D2;\n",
              "      height: 32px;\n",
              "      padding: 0 0 0 0;\n",
              "      width: 32px;\n",
              "    }\n",
              "\n",
              "    .colab-df-convert:hover {\n",
              "      background-color: #E2EBFA;\n",
              "      box-shadow: 0px 1px 2px rgba(60, 64, 67, 0.3), 0px 1px 3px 1px rgba(60, 64, 67, 0.15);\n",
              "      fill: #174EA6;\n",
              "    }\n",
              "\n",
              "    [theme=dark] .colab-df-convert {\n",
              "      background-color: #3B4455;\n",
              "      fill: #D2E3FC;\n",
              "    }\n",
              "\n",
              "    [theme=dark] .colab-df-convert:hover {\n",
              "      background-color: #434B5C;\n",
              "      box-shadow: 0px 1px 3px 1px rgba(0, 0, 0, 0.15);\n",
              "      filter: drop-shadow(0px 1px 2px rgba(0, 0, 0, 0.3));\n",
              "      fill: #FFFFFF;\n",
              "    }\n",
              "  </style>\n",
              "\n",
              "      <script>\n",
              "        const buttonEl =\n",
              "          document.querySelector('#df-76084f84-ff55-43f9-abc1-7a236adb7ab9 button.colab-df-convert');\n",
              "        buttonEl.style.display =\n",
              "          google.colab.kernel.accessAllowed ? 'block' : 'none';\n",
              "\n",
              "        async function convertToInteractive(key) {\n",
              "          const element = document.querySelector('#df-76084f84-ff55-43f9-abc1-7a236adb7ab9');\n",
              "          const dataTable =\n",
              "            await google.colab.kernel.invokeFunction('convertToInteractive',\n",
              "                                                     [key], {});\n",
              "          if (!dataTable) return;\n",
              "\n",
              "          const docLinkHtml = 'Like what you see? Visit the ' +\n",
              "            '<a target=\"_blank\" href=https://colab.research.google.com/notebooks/data_table.ipynb>data table notebook</a>'\n",
              "            + ' to learn more about interactive tables.';\n",
              "          element.innerHTML = '';\n",
              "          dataTable['output_type'] = 'display_data';\n",
              "          await google.colab.output.renderOutput(dataTable, element);\n",
              "          const docLink = document.createElement('div');\n",
              "          docLink.innerHTML = docLinkHtml;\n",
              "          element.appendChild(docLink);\n",
              "        }\n",
              "      </script>\n",
              "    </div>\n",
              "  </div>\n",
              "  "
            ]
          },
          "metadata": {},
          "execution_count": 11
        }
      ],
      "source": [
        "dfb = pd.read_csv('/content/cancer_boca.csv', index_col='Unnamed: 0')\n",
        "dfb.head()"
      ]
    },
    {
      "cell_type": "markdown",
      "metadata": {
        "id": "c_E_Zn3c6slZ"
      },
      "source": [
        "## **Orofaringe**"
      ]
    },
    {
      "cell_type": "markdown",
      "source": [
        "### **Instalação**"
      ],
      "metadata": {
        "id": "lwrKI4SB_wTr"
      }
    },
    {
      "cell_type": "code",
      "execution_count": null,
      "metadata": {
        "colab": {
          "base_uri": "https://localhost:8080/"
        },
        "id": "RT7fND4Z6wbB",
        "outputId": "d5e04584-1dac-4b0c-984e-f25e3f929a30"
      },
      "outputs": [
        {
          "output_type": "stream",
          "name": "stderr",
          "text": [
            "Downloading...\n",
            "From: https://drive.google.com/uc?id=1KM2jsBiHOswhF0QLTuN0s79-Xd5YapZ-\n",
            "To: /content/cancer_orofaringe.csv\n",
            "100%|██████████| 2.12M/2.12M [00:00<00:00, 59.1MB/s]\n"
          ]
        },
        {
          "output_type": "execute_result",
          "data": {
            "text/plain": [
              "'cancer_orofaringe.csv'"
            ],
            "application/vnd.google.colaboratory.intrinsic+json": {
              "type": "string"
            }
          },
          "metadata": {},
          "execution_count": 12
        }
      ],
      "source": [
        "# Install the file with the file ID in Google Drive\n",
        "id = \"1KM2jsBiHOswhF0QLTuN0s79-Xd5YapZ-\"\n",
        "output = \"cancer_orofaringe.csv\"\n",
        "gdown.download(id=id, output=output, quiet=False)"
      ]
    },
    {
      "cell_type": "markdown",
      "source": [
        "### **Importação**"
      ],
      "metadata": {
        "id": "snK3g5qE_wTt"
      }
    },
    {
      "cell_type": "code",
      "execution_count": null,
      "metadata": {
        "colab": {
          "base_uri": "https://localhost:8080/"
        },
        "id": "DqWBKwaW6wbC",
        "outputId": "341a4e5a-dcb3-4dce-b397-785f0a371f6a"
      },
      "outputs": [
        {
          "output_type": "execute_result",
          "data": {
            "text/plain": [
              "   ESCOLARI  IDADE  SEXO UFNASC UFRESID     IBGE      CIDADE  CATEATEND  \\\n",
              "0         2     62     1     SP      SP  3550308   SAO PAULO          2   \n",
              "1         2     54     1     SP      SP  3536802  PEDRA BELA          2   \n",
              "2         9     57     1     SP      SP  3550308   SAO PAULO          2   \n",
              "3         9     50     1     SP      SP  3550308   SAO PAULO          2   \n",
              "4         9     63     1     SP      SP  3550308   SAO PAULO          2   \n",
              "\n",
              "    DTCONSULT  DIAGPREV  ... RECDIST  REC01 REC02 REC03 REC04  IBGEATEN  \\\n",
              "0  2004-08-11         1  ...       0    NaN   NaN   NaN   NaN   3550308   \n",
              "1  2006-07-11         1  ...       0    NaN   NaN   NaN   NaN   3550308   \n",
              "2  2006-03-13         1  ...       0    NaN   NaN   NaN   NaN   3550308   \n",
              "3  2006-03-01         1  ...       0    NaN   NaN   NaN   NaN   3550308   \n",
              "4  2007-04-20         1  ...       0    NaN   NaN   NaN   NaN   3550308   \n",
              "\n",
              "    CIDO                      DSCCIDO HABILIT2    CIDADEH  \n",
              "0  80703  CARCINOMA ESCAMOCELULAR SOE        1  São Paulo  \n",
              "1  80703  CARCINOMA ESCAMOCELULAR SOE        1  São Paulo  \n",
              "2  80703  CARCINOMA ESCAMOCELULAR SOE        1  São Paulo  \n",
              "3  80703  CARCINOMA ESCAMOCELULAR SOE        1  São Paulo  \n",
              "4  80703  CARCINOMA ESCAMOCELULAR SOE        1  São Paulo  \n",
              "\n",
              "[5 rows x 60 columns]"
            ],
            "text/html": [
              "\n",
              "  <div id=\"df-5a2f72d3-80dc-4f98-a540-162e15b79bc5\">\n",
              "    <div class=\"colab-df-container\">\n",
              "      <div>\n",
              "<style scoped>\n",
              "    .dataframe tbody tr th:only-of-type {\n",
              "        vertical-align: middle;\n",
              "    }\n",
              "\n",
              "    .dataframe tbody tr th {\n",
              "        vertical-align: top;\n",
              "    }\n",
              "\n",
              "    .dataframe thead th {\n",
              "        text-align: right;\n",
              "    }\n",
              "</style>\n",
              "<table border=\"1\" class=\"dataframe\">\n",
              "  <thead>\n",
              "    <tr style=\"text-align: right;\">\n",
              "      <th></th>\n",
              "      <th>ESCOLARI</th>\n",
              "      <th>IDADE</th>\n",
              "      <th>SEXO</th>\n",
              "      <th>UFNASC</th>\n",
              "      <th>UFRESID</th>\n",
              "      <th>IBGE</th>\n",
              "      <th>CIDADE</th>\n",
              "      <th>CATEATEND</th>\n",
              "      <th>DTCONSULT</th>\n",
              "      <th>DIAGPREV</th>\n",
              "      <th>...</th>\n",
              "      <th>RECDIST</th>\n",
              "      <th>REC01</th>\n",
              "      <th>REC02</th>\n",
              "      <th>REC03</th>\n",
              "      <th>REC04</th>\n",
              "      <th>IBGEATEN</th>\n",
              "      <th>CIDO</th>\n",
              "      <th>DSCCIDO</th>\n",
              "      <th>HABILIT2</th>\n",
              "      <th>CIDADEH</th>\n",
              "    </tr>\n",
              "  </thead>\n",
              "  <tbody>\n",
              "    <tr>\n",
              "      <th>0</th>\n",
              "      <td>2</td>\n",
              "      <td>62</td>\n",
              "      <td>1</td>\n",
              "      <td>SP</td>\n",
              "      <td>SP</td>\n",
              "      <td>3550308</td>\n",
              "      <td>SAO PAULO</td>\n",
              "      <td>2</td>\n",
              "      <td>2004-08-11</td>\n",
              "      <td>1</td>\n",
              "      <td>...</td>\n",
              "      <td>0</td>\n",
              "      <td>NaN</td>\n",
              "      <td>NaN</td>\n",
              "      <td>NaN</td>\n",
              "      <td>NaN</td>\n",
              "      <td>3550308</td>\n",
              "      <td>80703</td>\n",
              "      <td>CARCINOMA ESCAMOCELULAR SOE</td>\n",
              "      <td>1</td>\n",
              "      <td>São Paulo</td>\n",
              "    </tr>\n",
              "    <tr>\n",
              "      <th>1</th>\n",
              "      <td>2</td>\n",
              "      <td>54</td>\n",
              "      <td>1</td>\n",
              "      <td>SP</td>\n",
              "      <td>SP</td>\n",
              "      <td>3536802</td>\n",
              "      <td>PEDRA BELA</td>\n",
              "      <td>2</td>\n",
              "      <td>2006-07-11</td>\n",
              "      <td>1</td>\n",
              "      <td>...</td>\n",
              "      <td>0</td>\n",
              "      <td>NaN</td>\n",
              "      <td>NaN</td>\n",
              "      <td>NaN</td>\n",
              "      <td>NaN</td>\n",
              "      <td>3550308</td>\n",
              "      <td>80703</td>\n",
              "      <td>CARCINOMA ESCAMOCELULAR SOE</td>\n",
              "      <td>1</td>\n",
              "      <td>São Paulo</td>\n",
              "    </tr>\n",
              "    <tr>\n",
              "      <th>2</th>\n",
              "      <td>9</td>\n",
              "      <td>57</td>\n",
              "      <td>1</td>\n",
              "      <td>SP</td>\n",
              "      <td>SP</td>\n",
              "      <td>3550308</td>\n",
              "      <td>SAO PAULO</td>\n",
              "      <td>2</td>\n",
              "      <td>2006-03-13</td>\n",
              "      <td>1</td>\n",
              "      <td>...</td>\n",
              "      <td>0</td>\n",
              "      <td>NaN</td>\n",
              "      <td>NaN</td>\n",
              "      <td>NaN</td>\n",
              "      <td>NaN</td>\n",
              "      <td>3550308</td>\n",
              "      <td>80703</td>\n",
              "      <td>CARCINOMA ESCAMOCELULAR SOE</td>\n",
              "      <td>1</td>\n",
              "      <td>São Paulo</td>\n",
              "    </tr>\n",
              "    <tr>\n",
              "      <th>3</th>\n",
              "      <td>9</td>\n",
              "      <td>50</td>\n",
              "      <td>1</td>\n",
              "      <td>SP</td>\n",
              "      <td>SP</td>\n",
              "      <td>3550308</td>\n",
              "      <td>SAO PAULO</td>\n",
              "      <td>2</td>\n",
              "      <td>2006-03-01</td>\n",
              "      <td>1</td>\n",
              "      <td>...</td>\n",
              "      <td>0</td>\n",
              "      <td>NaN</td>\n",
              "      <td>NaN</td>\n",
              "      <td>NaN</td>\n",
              "      <td>NaN</td>\n",
              "      <td>3550308</td>\n",
              "      <td>80703</td>\n",
              "      <td>CARCINOMA ESCAMOCELULAR SOE</td>\n",
              "      <td>1</td>\n",
              "      <td>São Paulo</td>\n",
              "    </tr>\n",
              "    <tr>\n",
              "      <th>4</th>\n",
              "      <td>9</td>\n",
              "      <td>63</td>\n",
              "      <td>1</td>\n",
              "      <td>SP</td>\n",
              "      <td>SP</td>\n",
              "      <td>3550308</td>\n",
              "      <td>SAO PAULO</td>\n",
              "      <td>2</td>\n",
              "      <td>2007-04-20</td>\n",
              "      <td>1</td>\n",
              "      <td>...</td>\n",
              "      <td>0</td>\n",
              "      <td>NaN</td>\n",
              "      <td>NaN</td>\n",
              "      <td>NaN</td>\n",
              "      <td>NaN</td>\n",
              "      <td>3550308</td>\n",
              "      <td>80703</td>\n",
              "      <td>CARCINOMA ESCAMOCELULAR SOE</td>\n",
              "      <td>1</td>\n",
              "      <td>São Paulo</td>\n",
              "    </tr>\n",
              "  </tbody>\n",
              "</table>\n",
              "<p>5 rows × 60 columns</p>\n",
              "</div>\n",
              "      <button class=\"colab-df-convert\" onclick=\"convertToInteractive('df-5a2f72d3-80dc-4f98-a540-162e15b79bc5')\"\n",
              "              title=\"Convert this dataframe to an interactive table.\"\n",
              "              style=\"display:none;\">\n",
              "        \n",
              "  <svg xmlns=\"http://www.w3.org/2000/svg\" height=\"24px\"viewBox=\"0 0 24 24\"\n",
              "       width=\"24px\">\n",
              "    <path d=\"M0 0h24v24H0V0z\" fill=\"none\"/>\n",
              "    <path d=\"M18.56 5.44l.94 2.06.94-2.06 2.06-.94-2.06-.94-.94-2.06-.94 2.06-2.06.94zm-11 1L8.5 8.5l.94-2.06 2.06-.94-2.06-.94L8.5 2.5l-.94 2.06-2.06.94zm10 10l.94 2.06.94-2.06 2.06-.94-2.06-.94-.94-2.06-.94 2.06-2.06.94z\"/><path d=\"M17.41 7.96l-1.37-1.37c-.4-.4-.92-.59-1.43-.59-.52 0-1.04.2-1.43.59L10.3 9.45l-7.72 7.72c-.78.78-.78 2.05 0 2.83L4 21.41c.39.39.9.59 1.41.59.51 0 1.02-.2 1.41-.59l7.78-7.78 2.81-2.81c.8-.78.8-2.07 0-2.86zM5.41 20L4 18.59l7.72-7.72 1.47 1.35L5.41 20z\"/>\n",
              "  </svg>\n",
              "      </button>\n",
              "      \n",
              "  <style>\n",
              "    .colab-df-container {\n",
              "      display:flex;\n",
              "      flex-wrap:wrap;\n",
              "      gap: 12px;\n",
              "    }\n",
              "\n",
              "    .colab-df-convert {\n",
              "      background-color: #E8F0FE;\n",
              "      border: none;\n",
              "      border-radius: 50%;\n",
              "      cursor: pointer;\n",
              "      display: none;\n",
              "      fill: #1967D2;\n",
              "      height: 32px;\n",
              "      padding: 0 0 0 0;\n",
              "      width: 32px;\n",
              "    }\n",
              "\n",
              "    .colab-df-convert:hover {\n",
              "      background-color: #E2EBFA;\n",
              "      box-shadow: 0px 1px 2px rgba(60, 64, 67, 0.3), 0px 1px 3px 1px rgba(60, 64, 67, 0.15);\n",
              "      fill: #174EA6;\n",
              "    }\n",
              "\n",
              "    [theme=dark] .colab-df-convert {\n",
              "      background-color: #3B4455;\n",
              "      fill: #D2E3FC;\n",
              "    }\n",
              "\n",
              "    [theme=dark] .colab-df-convert:hover {\n",
              "      background-color: #434B5C;\n",
              "      box-shadow: 0px 1px 3px 1px rgba(0, 0, 0, 0.15);\n",
              "      filter: drop-shadow(0px 1px 2px rgba(0, 0, 0, 0.3));\n",
              "      fill: #FFFFFF;\n",
              "    }\n",
              "  </style>\n",
              "\n",
              "      <script>\n",
              "        const buttonEl =\n",
              "          document.querySelector('#df-5a2f72d3-80dc-4f98-a540-162e15b79bc5 button.colab-df-convert');\n",
              "        buttonEl.style.display =\n",
              "          google.colab.kernel.accessAllowed ? 'block' : 'none';\n",
              "\n",
              "        async function convertToInteractive(key) {\n",
              "          const element = document.querySelector('#df-5a2f72d3-80dc-4f98-a540-162e15b79bc5');\n",
              "          const dataTable =\n",
              "            await google.colab.kernel.invokeFunction('convertToInteractive',\n",
              "                                                     [key], {});\n",
              "          if (!dataTable) return;\n",
              "\n",
              "          const docLinkHtml = 'Like what you see? Visit the ' +\n",
              "            '<a target=\"_blank\" href=https://colab.research.google.com/notebooks/data_table.ipynb>data table notebook</a>'\n",
              "            + ' to learn more about interactive tables.';\n",
              "          element.innerHTML = '';\n",
              "          dataTable['output_type'] = 'display_data';\n",
              "          await google.colab.output.renderOutput(dataTable, element);\n",
              "          const docLink = document.createElement('div');\n",
              "          docLink.innerHTML = docLinkHtml;\n",
              "          element.appendChild(docLink);\n",
              "        }\n",
              "      </script>\n",
              "    </div>\n",
              "  </div>\n",
              "  "
            ]
          },
          "metadata": {},
          "execution_count": 13
        }
      ],
      "source": [
        "dfo = pd.read_csv('/content/cancer_orofaringe.csv', index_col='Unnamed: 0')\n",
        "dfo.head()"
      ]
    },
    {
      "cell_type": "markdown",
      "metadata": {
        "id": "rfO7gQ5BJz5V"
      },
      "source": [
        "## **União**"
      ]
    },
    {
      "cell_type": "code",
      "execution_count": null,
      "metadata": {
        "colab": {
          "base_uri": "https://localhost:8080/"
        },
        "id": "8fI-WErKJ5KW",
        "outputId": "fc0a29ad-a052-4498-fd28-c9260f998ad4"
      },
      "outputs": [
        {
          "output_type": "execute_result",
          "data": {
            "text/plain": [
              "(12542, 60)"
            ]
          },
          "metadata": {},
          "execution_count": 48
        }
      ],
      "source": [
        "df = pd.concat([dfb, dfo], ignore_index=True)\n",
        "df.shape"
      ]
    },
    {
      "cell_type": "markdown",
      "metadata": {
        "id": "ZheaeDLZUWJh"
      },
      "source": [
        "# **Análise das informações básicas dos dados**"
      ]
    },
    {
      "cell_type": "code",
      "execution_count": null,
      "metadata": {
        "id": "mAIfJCyzrviY"
      },
      "outputs": [],
      "source": [
        "data = df.copy() "
      ]
    },
    {
      "cell_type": "code",
      "execution_count": null,
      "metadata": {
        "colab": {
          "base_uri": "https://localhost:8080/",
          "height": 321
        },
        "id": "PMOcL1AwsLnB",
        "outputId": "b6f6c05a-79fa-4544-9c56-e0d63f79e083"
      },
      "outputs": [
        {
          "output_type": "execute_result",
          "data": {
            "text/plain": [
              "   ESCOLARI  IDADE  SEXO UFNASC UFRESID     IBGE           CIDADE  CATEATEND  \\\n",
              "0         9     74     2     PE      SP  3546900      SANTA LUCIA          2   \n",
              "1         2     69     2     MG      SP  3556503  VARZEA PAULISTA          2   \n",
              "2         2     65     1     BA      SP  3550308        SAO PAULO          2   \n",
              "\n",
              "    DTCONSULT  DIAGPREV  ... RECDIST  REC01 REC02 REC03 REC04  IBGEATEN  \\\n",
              "0  2000-02-08         1  ...       0    NaN   NaN   NaN   NaN   3503208   \n",
              "1  2018-03-13         2  ...       0    NaN   NaN   NaN   NaN   3525904   \n",
              "2  2013-06-24         1  ...       0    NaN   NaN   NaN   NaN   3550308   \n",
              "\n",
              "    CIDO                      DSCCIDO HABILIT2     CIDADEH  \n",
              "0  80703  CARCINOMA ESCAMOCELULAR SOE        1  Araraquara  \n",
              "1  80703  CARCINOMA ESCAMOCELULAR SOE        1     Jundiai  \n",
              "2  80703  CARCINOMA ESCAMOCELULAR SOE        1   São Paulo  \n",
              "\n",
              "[3 rows x 60 columns]"
            ],
            "text/html": [
              "\n",
              "  <div id=\"df-74752224-4073-4a39-934d-fe5e8862056e\">\n",
              "    <div class=\"colab-df-container\">\n",
              "      <div>\n",
              "<style scoped>\n",
              "    .dataframe tbody tr th:only-of-type {\n",
              "        vertical-align: middle;\n",
              "    }\n",
              "\n",
              "    .dataframe tbody tr th {\n",
              "        vertical-align: top;\n",
              "    }\n",
              "\n",
              "    .dataframe thead th {\n",
              "        text-align: right;\n",
              "    }\n",
              "</style>\n",
              "<table border=\"1\" class=\"dataframe\">\n",
              "  <thead>\n",
              "    <tr style=\"text-align: right;\">\n",
              "      <th></th>\n",
              "      <th>ESCOLARI</th>\n",
              "      <th>IDADE</th>\n",
              "      <th>SEXO</th>\n",
              "      <th>UFNASC</th>\n",
              "      <th>UFRESID</th>\n",
              "      <th>IBGE</th>\n",
              "      <th>CIDADE</th>\n",
              "      <th>CATEATEND</th>\n",
              "      <th>DTCONSULT</th>\n",
              "      <th>DIAGPREV</th>\n",
              "      <th>...</th>\n",
              "      <th>RECDIST</th>\n",
              "      <th>REC01</th>\n",
              "      <th>REC02</th>\n",
              "      <th>REC03</th>\n",
              "      <th>REC04</th>\n",
              "      <th>IBGEATEN</th>\n",
              "      <th>CIDO</th>\n",
              "      <th>DSCCIDO</th>\n",
              "      <th>HABILIT2</th>\n",
              "      <th>CIDADEH</th>\n",
              "    </tr>\n",
              "  </thead>\n",
              "  <tbody>\n",
              "    <tr>\n",
              "      <th>0</th>\n",
              "      <td>9</td>\n",
              "      <td>74</td>\n",
              "      <td>2</td>\n",
              "      <td>PE</td>\n",
              "      <td>SP</td>\n",
              "      <td>3546900</td>\n",
              "      <td>SANTA LUCIA</td>\n",
              "      <td>2</td>\n",
              "      <td>2000-02-08</td>\n",
              "      <td>1</td>\n",
              "      <td>...</td>\n",
              "      <td>0</td>\n",
              "      <td>NaN</td>\n",
              "      <td>NaN</td>\n",
              "      <td>NaN</td>\n",
              "      <td>NaN</td>\n",
              "      <td>3503208</td>\n",
              "      <td>80703</td>\n",
              "      <td>CARCINOMA ESCAMOCELULAR SOE</td>\n",
              "      <td>1</td>\n",
              "      <td>Araraquara</td>\n",
              "    </tr>\n",
              "    <tr>\n",
              "      <th>1</th>\n",
              "      <td>2</td>\n",
              "      <td>69</td>\n",
              "      <td>2</td>\n",
              "      <td>MG</td>\n",
              "      <td>SP</td>\n",
              "      <td>3556503</td>\n",
              "      <td>VARZEA PAULISTA</td>\n",
              "      <td>2</td>\n",
              "      <td>2018-03-13</td>\n",
              "      <td>2</td>\n",
              "      <td>...</td>\n",
              "      <td>0</td>\n",
              "      <td>NaN</td>\n",
              "      <td>NaN</td>\n",
              "      <td>NaN</td>\n",
              "      <td>NaN</td>\n",
              "      <td>3525904</td>\n",
              "      <td>80703</td>\n",
              "      <td>CARCINOMA ESCAMOCELULAR SOE</td>\n",
              "      <td>1</td>\n",
              "      <td>Jundiai</td>\n",
              "    </tr>\n",
              "    <tr>\n",
              "      <th>2</th>\n",
              "      <td>2</td>\n",
              "      <td>65</td>\n",
              "      <td>1</td>\n",
              "      <td>BA</td>\n",
              "      <td>SP</td>\n",
              "      <td>3550308</td>\n",
              "      <td>SAO PAULO</td>\n",
              "      <td>2</td>\n",
              "      <td>2013-06-24</td>\n",
              "      <td>1</td>\n",
              "      <td>...</td>\n",
              "      <td>0</td>\n",
              "      <td>NaN</td>\n",
              "      <td>NaN</td>\n",
              "      <td>NaN</td>\n",
              "      <td>NaN</td>\n",
              "      <td>3550308</td>\n",
              "      <td>80703</td>\n",
              "      <td>CARCINOMA ESCAMOCELULAR SOE</td>\n",
              "      <td>1</td>\n",
              "      <td>São Paulo</td>\n",
              "    </tr>\n",
              "  </tbody>\n",
              "</table>\n",
              "<p>3 rows × 60 columns</p>\n",
              "</div>\n",
              "      <button class=\"colab-df-convert\" onclick=\"convertToInteractive('df-74752224-4073-4a39-934d-fe5e8862056e')\"\n",
              "              title=\"Convert this dataframe to an interactive table.\"\n",
              "              style=\"display:none;\">\n",
              "        \n",
              "  <svg xmlns=\"http://www.w3.org/2000/svg\" height=\"24px\"viewBox=\"0 0 24 24\"\n",
              "       width=\"24px\">\n",
              "    <path d=\"M0 0h24v24H0V0z\" fill=\"none\"/>\n",
              "    <path d=\"M18.56 5.44l.94 2.06.94-2.06 2.06-.94-2.06-.94-.94-2.06-.94 2.06-2.06.94zm-11 1L8.5 8.5l.94-2.06 2.06-.94-2.06-.94L8.5 2.5l-.94 2.06-2.06.94zm10 10l.94 2.06.94-2.06 2.06-.94-2.06-.94-.94-2.06-.94 2.06-2.06.94z\"/><path d=\"M17.41 7.96l-1.37-1.37c-.4-.4-.92-.59-1.43-.59-.52 0-1.04.2-1.43.59L10.3 9.45l-7.72 7.72c-.78.78-.78 2.05 0 2.83L4 21.41c.39.39.9.59 1.41.59.51 0 1.02-.2 1.41-.59l7.78-7.78 2.81-2.81c.8-.78.8-2.07 0-2.86zM5.41 20L4 18.59l7.72-7.72 1.47 1.35L5.41 20z\"/>\n",
              "  </svg>\n",
              "      </button>\n",
              "      \n",
              "  <style>\n",
              "    .colab-df-container {\n",
              "      display:flex;\n",
              "      flex-wrap:wrap;\n",
              "      gap: 12px;\n",
              "    }\n",
              "\n",
              "    .colab-df-convert {\n",
              "      background-color: #E8F0FE;\n",
              "      border: none;\n",
              "      border-radius: 50%;\n",
              "      cursor: pointer;\n",
              "      display: none;\n",
              "      fill: #1967D2;\n",
              "      height: 32px;\n",
              "      padding: 0 0 0 0;\n",
              "      width: 32px;\n",
              "    }\n",
              "\n",
              "    .colab-df-convert:hover {\n",
              "      background-color: #E2EBFA;\n",
              "      box-shadow: 0px 1px 2px rgba(60, 64, 67, 0.3), 0px 1px 3px 1px rgba(60, 64, 67, 0.15);\n",
              "      fill: #174EA6;\n",
              "    }\n",
              "\n",
              "    [theme=dark] .colab-df-convert {\n",
              "      background-color: #3B4455;\n",
              "      fill: #D2E3FC;\n",
              "    }\n",
              "\n",
              "    [theme=dark] .colab-df-convert:hover {\n",
              "      background-color: #434B5C;\n",
              "      box-shadow: 0px 1px 3px 1px rgba(0, 0, 0, 0.15);\n",
              "      filter: drop-shadow(0px 1px 2px rgba(0, 0, 0, 0.3));\n",
              "      fill: #FFFFFF;\n",
              "    }\n",
              "  </style>\n",
              "\n",
              "      <script>\n",
              "        const buttonEl =\n",
              "          document.querySelector('#df-74752224-4073-4a39-934d-fe5e8862056e button.colab-df-convert');\n",
              "        buttonEl.style.display =\n",
              "          google.colab.kernel.accessAllowed ? 'block' : 'none';\n",
              "\n",
              "        async function convertToInteractive(key) {\n",
              "          const element = document.querySelector('#df-74752224-4073-4a39-934d-fe5e8862056e');\n",
              "          const dataTable =\n",
              "            await google.colab.kernel.invokeFunction('convertToInteractive',\n",
              "                                                     [key], {});\n",
              "          if (!dataTable) return;\n",
              "\n",
              "          const docLinkHtml = 'Like what you see? Visit the ' +\n",
              "            '<a target=\"_blank\" href=https://colab.research.google.com/notebooks/data_table.ipynb>data table notebook</a>'\n",
              "            + ' to learn more about interactive tables.';\n",
              "          element.innerHTML = '';\n",
              "          dataTable['output_type'] = 'display_data';\n",
              "          await google.colab.output.renderOutput(dataTable, element);\n",
              "          const docLink = document.createElement('div');\n",
              "          docLink.innerHTML = docLinkHtml;\n",
              "          element.appendChild(docLink);\n",
              "        }\n",
              "      </script>\n",
              "    </div>\n",
              "  </div>\n",
              "  "
            ]
          },
          "metadata": {},
          "execution_count": 51
        }
      ],
      "source": [
        "data.head(3)"
      ]
    },
    {
      "cell_type": "code",
      "execution_count": null,
      "metadata": {
        "colab": {
          "base_uri": "https://localhost:8080/"
        },
        "id": "ulkifRCyukGY",
        "outputId": "5617fef4-dd03-4640-e3d5-ed7c88318854"
      },
      "outputs": [
        {
          "output_type": "execute_result",
          "data": {
            "text/plain": [
              "(12542, 60)"
            ]
          },
          "metadata": {},
          "execution_count": 52
        }
      ],
      "source": [
        "data.shape"
      ]
    },
    {
      "cell_type": "code",
      "execution_count": null,
      "metadata": {
        "colab": {
          "base_uri": "https://localhost:8080/"
        },
        "id": "fvs6UO3sVQs0",
        "outputId": "c5ecbab4-1d00-4804-9b63-d699bd375c9f"
      },
      "outputs": [
        {
          "output_type": "stream",
          "name": "stdout",
          "text": [
            "<class 'pandas.core.frame.DataFrame'>\n",
            "RangeIndex: 12542 entries, 0 to 12541\n",
            "Data columns (total 60 columns):\n",
            " #   Column      Non-Null Count  Dtype  \n",
            "---  ------      --------------  -----  \n",
            " 0   ESCOLARI    12542 non-null  int64  \n",
            " 1   IDADE       12542 non-null  int64  \n",
            " 2   SEXO        12542 non-null  int64  \n",
            " 3   UFNASC      12542 non-null  object \n",
            " 4   UFRESID     12542 non-null  object \n",
            " 5   IBGE        12542 non-null  int64  \n",
            " 6   CIDADE      12542 non-null  object \n",
            " 7   CATEATEND   12542 non-null  int64  \n",
            " 8   DTCONSULT   12542 non-null  object \n",
            " 9   DIAGPREV    12542 non-null  int64  \n",
            " 10  DTDIAG      12542 non-null  object \n",
            " 11  BASEDIAG    12542 non-null  int64  \n",
            " 12  TOPO        12542 non-null  object \n",
            " 13  TOPOGRUP    12542 non-null  object \n",
            " 14  DESCTOPO    12542 non-null  object \n",
            " 15  MORFO       12542 non-null  int64  \n",
            " 16  DESCMORFO   12542 non-null  object \n",
            " 17  EC          12542 non-null  object \n",
            " 18  ECGRUP      12542 non-null  object \n",
            " 19  DTTRAT      12542 non-null  object \n",
            " 20  NAOTRAT     12542 non-null  int64  \n",
            " 21  TRATAMENTO  12542 non-null  object \n",
            " 22  TRATHOSP    12542 non-null  object \n",
            " 23  TRATFAPOS   12542 non-null  object \n",
            " 24  CIRURGIA    12542 non-null  int64  \n",
            " 25  RADIO       12542 non-null  int64  \n",
            " 26  QUIMIO      12542 non-null  int64  \n",
            " 27  TMO         12542 non-null  int64  \n",
            " 28  OUTROS      12542 non-null  int64  \n",
            " 29  NENHUMAPOS  12542 non-null  int64  \n",
            " 30  CIRURAPOS   12542 non-null  int64  \n",
            " 31  RADIOAPOS   12542 non-null  int64  \n",
            " 32  QUIMIOAPOS  12542 non-null  int64  \n",
            " 33  HORMOAPOS   12542 non-null  int64  \n",
            " 34  TMOAPOS     12542 non-null  int64  \n",
            " 35  IMUNOAPOS   12542 non-null  int64  \n",
            " 36  OUTROAPOS   12542 non-null  int64  \n",
            " 37  DTULTINFO   12542 non-null  object \n",
            " 38  ULTINFO     12542 non-null  int64  \n",
            " 39  CONSDIAG    12521 non-null  float64\n",
            " 40  TRATCONS    11425 non-null  float64\n",
            " 41  DIAGTRAT    11421 non-null  float64\n",
            " 42  ANODIAG     12542 non-null  int64  \n",
            " 43  FAIXAETAR   12542 non-null  object \n",
            " 44  DRS         12025 non-null  object \n",
            " 45  RRAS        12542 non-null  int64  \n",
            " 46  DTRECIDIVA  12542 non-null  object \n",
            " 47  RECNENHUM   12542 non-null  int64  \n",
            " 48  RECLOCAL    12542 non-null  int64  \n",
            " 49  RECREGIO    12542 non-null  int64  \n",
            " 50  RECDIST     12542 non-null  int64  \n",
            " 51  REC01       864 non-null    object \n",
            " 52  REC02       182 non-null    object \n",
            " 53  REC03       48 non-null     object \n",
            " 54  REC04       8 non-null      object \n",
            " 55  IBGEATEN    12542 non-null  int64  \n",
            " 56  CIDO        12542 non-null  int64  \n",
            " 57  DSCCIDO     12542 non-null  object \n",
            " 58  HABILIT2    12542 non-null  int64  \n",
            " 59  CIDADEH     12542 non-null  object \n",
            "dtypes: float64(3), int64(32), object(25)\n",
            "memory usage: 5.7+ MB\n"
          ]
        }
      ],
      "source": [
        "data.info()"
      ]
    },
    {
      "cell_type": "code",
      "execution_count": null,
      "metadata": {
        "colab": {
          "base_uri": "https://localhost:8080/",
          "height": 1000
        },
        "id": "aF83qPSNykCm",
        "outputId": "5d0143ec-78ee-486a-834f-b4c0917a8181"
      },
      "outputs": [
        {
          "output_type": "execute_result",
          "data": {
            "text/plain": [
              "              count          mean            std        min        25%  \\\n",
              "ESCOLARI    12542.0  4.100781e+00       2.866548        1.0        2.0   \n",
              "IDADE       12542.0  5.907886e+01      10.740812       11.0       52.0   \n",
              "SEXO        12542.0  1.159943e+00       0.366567        1.0        1.0   \n",
              "IBGE        12542.0  3.551667e+06  261966.976259  1100015.0  3519303.0   \n",
              "CATEATEND   12542.0  2.000000e+00       0.000000        2.0        2.0   \n",
              "DIAGPREV    12542.0  1.517940e+00       0.499698        1.0        1.0   \n",
              "BASEDIAG    12542.0  2.996811e+00       0.213915        1.0        3.0   \n",
              "MORFO       12542.0  8.070308e+04       1.625024    80703.0    80703.0   \n",
              "NAOTRAT     12542.0  7.661776e+00       1.238720        1.0        8.0   \n",
              "CIRURGIA    12542.0  4.149258e-01       0.492729        0.0        0.0   \n",
              "RADIO       12542.0  5.622708e-01       0.496127        0.0        0.0   \n",
              "QUIMIO      12542.0  5.019136e-01       0.500016        0.0        0.0   \n",
              "TMO         12542.0  7.973210e-05       0.008929        0.0        0.0   \n",
              "OUTROS      12542.0  4.138096e-02       0.199178        0.0        0.0   \n",
              "NENHUMAPOS  12542.0  8.914846e-01       0.311043        0.0        1.0   \n",
              "CIRURAPOS   12542.0  4.943390e-03       0.070138        0.0        0.0   \n",
              "RADIOAPOS   12542.0  9.974486e-02       0.299671        0.0        0.0   \n",
              "QUIMIOAPOS  12542.0  8.531335e-03       0.091974        0.0        0.0   \n",
              "HORMOAPOS   12542.0  0.000000e+00       0.000000        0.0        0.0   \n",
              "TMOAPOS     12542.0  0.000000e+00       0.000000        0.0        0.0   \n",
              "IMUNOAPOS   12542.0  0.000000e+00       0.000000        0.0        0.0   \n",
              "OUTROAPOS   12542.0  3.986605e-03       0.063016        0.0        0.0   \n",
              "ULTINFO     12542.0  2.853133e+00       0.730020        1.0        2.0   \n",
              "CONSDIAG    12521.0  3.490432e+01      55.538611        0.0        4.0   \n",
              "TRATCONS    11425.0  6.450591e+01      64.825247        0.0       24.0   \n",
              "DIAGTRAT    11421.0  8.059574e+01      75.694487        0.0       34.0   \n",
              "ANODIAG     12542.0  2.012524e+03       4.214983     2000.0     2011.0   \n",
              "RRAS        12542.0  1.219997e+01      18.449020        1.0        6.0   \n",
              "RECNENHUM   12542.0  8.284963e-01       0.376964        0.0        1.0   \n",
              "RECLOCAL    12542.0  9.687450e-02       0.295799        0.0        0.0   \n",
              "RECREGIO    12542.0  5.541381e-02       0.228795        0.0        0.0   \n",
              "RECDIST     12542.0  4.034444e-02       0.196774        0.0        0.0   \n",
              "IBGEATEN    12542.0  3.538448e+06   17499.851317  3502804.0  3525300.0   \n",
              "CIDO        12542.0  8.070308e+04       1.625024    80703.0    80703.0   \n",
              "HABILIT2    12542.0  1.667597e+00       0.509789        1.0        1.0   \n",
              "\n",
              "                  50%        75%        max  \n",
              "ESCOLARI          3.0        5.0        9.0  \n",
              "IDADE            58.0       66.0      100.0  \n",
              "SEXO              1.0        1.0        2.0  \n",
              "IBGE        3543402.0  3550308.0  5300108.0  \n",
              "CATEATEND         2.0        2.0        2.0  \n",
              "DIAGPREV          2.0        2.0        2.0  \n",
              "BASEDIAG          3.0        3.0        9.0  \n",
              "MORFO         80703.0    80703.0    80743.0  \n",
              "NAOTRAT           8.0        8.0        8.0  \n",
              "CIRURGIA          0.0        1.0        1.0  \n",
              "RADIO             1.0        1.0        1.0  \n",
              "QUIMIO            1.0        1.0        1.0  \n",
              "TMO               0.0        0.0        1.0  \n",
              "OUTROS            0.0        0.0        1.0  \n",
              "NENHUMAPOS        1.0        1.0        1.0  \n",
              "CIRURAPOS         0.0        0.0        1.0  \n",
              "RADIOAPOS         0.0        0.0        1.0  \n",
              "QUIMIOAPOS        0.0        0.0        1.0  \n",
              "HORMOAPOS         0.0        0.0        0.0  \n",
              "TMOAPOS           0.0        0.0        0.0  \n",
              "IMUNOAPOS         0.0        0.0        0.0  \n",
              "OUTROAPOS         0.0        0.0        1.0  \n",
              "ULTINFO           3.0        3.0        4.0  \n",
              "CONSDIAG         21.0       45.0      998.0  \n",
              "TRATCONS         50.0       85.0      830.0  \n",
              "DIAGTRAT         66.0      109.0      999.0  \n",
              "ANODIAG        2014.0     2016.0     2017.0  \n",
              "RRAS              8.0       12.0       99.0  \n",
              "RECNENHUM         1.0        1.0        1.0  \n",
              "RECLOCAL          0.0        0.0        1.0  \n",
              "RECREGIO          0.0        0.0        1.0  \n",
              "RECDIST           0.0        0.0        1.0  \n",
              "IBGEATEN    3550308.0  3550308.0  3555000.0  \n",
              "CIDO          80703.0    80703.0    80743.0  \n",
              "HABILIT2          2.0        2.0        5.0  "
            ],
            "text/html": [
              "\n",
              "  <div id=\"df-22438e3f-5aec-4f6a-b6cf-9d085b6133ae\">\n",
              "    <div class=\"colab-df-container\">\n",
              "      <div>\n",
              "<style scoped>\n",
              "    .dataframe tbody tr th:only-of-type {\n",
              "        vertical-align: middle;\n",
              "    }\n",
              "\n",
              "    .dataframe tbody tr th {\n",
              "        vertical-align: top;\n",
              "    }\n",
              "\n",
              "    .dataframe thead th {\n",
              "        text-align: right;\n",
              "    }\n",
              "</style>\n",
              "<table border=\"1\" class=\"dataframe\">\n",
              "  <thead>\n",
              "    <tr style=\"text-align: right;\">\n",
              "      <th></th>\n",
              "      <th>count</th>\n",
              "      <th>mean</th>\n",
              "      <th>std</th>\n",
              "      <th>min</th>\n",
              "      <th>25%</th>\n",
              "      <th>50%</th>\n",
              "      <th>75%</th>\n",
              "      <th>max</th>\n",
              "    </tr>\n",
              "  </thead>\n",
              "  <tbody>\n",
              "    <tr>\n",
              "      <th>ESCOLARI</th>\n",
              "      <td>12542.0</td>\n",
              "      <td>4.100781e+00</td>\n",
              "      <td>2.866548</td>\n",
              "      <td>1.0</td>\n",
              "      <td>2.0</td>\n",
              "      <td>3.0</td>\n",
              "      <td>5.0</td>\n",
              "      <td>9.0</td>\n",
              "    </tr>\n",
              "    <tr>\n",
              "      <th>IDADE</th>\n",
              "      <td>12542.0</td>\n",
              "      <td>5.907886e+01</td>\n",
              "      <td>10.740812</td>\n",
              "      <td>11.0</td>\n",
              "      <td>52.0</td>\n",
              "      <td>58.0</td>\n",
              "      <td>66.0</td>\n",
              "      <td>100.0</td>\n",
              "    </tr>\n",
              "    <tr>\n",
              "      <th>SEXO</th>\n",
              "      <td>12542.0</td>\n",
              "      <td>1.159943e+00</td>\n",
              "      <td>0.366567</td>\n",
              "      <td>1.0</td>\n",
              "      <td>1.0</td>\n",
              "      <td>1.0</td>\n",
              "      <td>1.0</td>\n",
              "      <td>2.0</td>\n",
              "    </tr>\n",
              "    <tr>\n",
              "      <th>IBGE</th>\n",
              "      <td>12542.0</td>\n",
              "      <td>3.551667e+06</td>\n",
              "      <td>261966.976259</td>\n",
              "      <td>1100015.0</td>\n",
              "      <td>3519303.0</td>\n",
              "      <td>3543402.0</td>\n",
              "      <td>3550308.0</td>\n",
              "      <td>5300108.0</td>\n",
              "    </tr>\n",
              "    <tr>\n",
              "      <th>CATEATEND</th>\n",
              "      <td>12542.0</td>\n",
              "      <td>2.000000e+00</td>\n",
              "      <td>0.000000</td>\n",
              "      <td>2.0</td>\n",
              "      <td>2.0</td>\n",
              "      <td>2.0</td>\n",
              "      <td>2.0</td>\n",
              "      <td>2.0</td>\n",
              "    </tr>\n",
              "    <tr>\n",
              "      <th>DIAGPREV</th>\n",
              "      <td>12542.0</td>\n",
              "      <td>1.517940e+00</td>\n",
              "      <td>0.499698</td>\n",
              "      <td>1.0</td>\n",
              "      <td>1.0</td>\n",
              "      <td>2.0</td>\n",
              "      <td>2.0</td>\n",
              "      <td>2.0</td>\n",
              "    </tr>\n",
              "    <tr>\n",
              "      <th>BASEDIAG</th>\n",
              "      <td>12542.0</td>\n",
              "      <td>2.996811e+00</td>\n",
              "      <td>0.213915</td>\n",
              "      <td>1.0</td>\n",
              "      <td>3.0</td>\n",
              "      <td>3.0</td>\n",
              "      <td>3.0</td>\n",
              "      <td>9.0</td>\n",
              "    </tr>\n",
              "    <tr>\n",
              "      <th>MORFO</th>\n",
              "      <td>12542.0</td>\n",
              "      <td>8.070308e+04</td>\n",
              "      <td>1.625024</td>\n",
              "      <td>80703.0</td>\n",
              "      <td>80703.0</td>\n",
              "      <td>80703.0</td>\n",
              "      <td>80703.0</td>\n",
              "      <td>80743.0</td>\n",
              "    </tr>\n",
              "    <tr>\n",
              "      <th>NAOTRAT</th>\n",
              "      <td>12542.0</td>\n",
              "      <td>7.661776e+00</td>\n",
              "      <td>1.238720</td>\n",
              "      <td>1.0</td>\n",
              "      <td>8.0</td>\n",
              "      <td>8.0</td>\n",
              "      <td>8.0</td>\n",
              "      <td>8.0</td>\n",
              "    </tr>\n",
              "    <tr>\n",
              "      <th>CIRURGIA</th>\n",
              "      <td>12542.0</td>\n",
              "      <td>4.149258e-01</td>\n",
              "      <td>0.492729</td>\n",
              "      <td>0.0</td>\n",
              "      <td>0.0</td>\n",
              "      <td>0.0</td>\n",
              "      <td>1.0</td>\n",
              "      <td>1.0</td>\n",
              "    </tr>\n",
              "    <tr>\n",
              "      <th>RADIO</th>\n",
              "      <td>12542.0</td>\n",
              "      <td>5.622708e-01</td>\n",
              "      <td>0.496127</td>\n",
              "      <td>0.0</td>\n",
              "      <td>0.0</td>\n",
              "      <td>1.0</td>\n",
              "      <td>1.0</td>\n",
              "      <td>1.0</td>\n",
              "    </tr>\n",
              "    <tr>\n",
              "      <th>QUIMIO</th>\n",
              "      <td>12542.0</td>\n",
              "      <td>5.019136e-01</td>\n",
              "      <td>0.500016</td>\n",
              "      <td>0.0</td>\n",
              "      <td>0.0</td>\n",
              "      <td>1.0</td>\n",
              "      <td>1.0</td>\n",
              "      <td>1.0</td>\n",
              "    </tr>\n",
              "    <tr>\n",
              "      <th>TMO</th>\n",
              "      <td>12542.0</td>\n",
              "      <td>7.973210e-05</td>\n",
              "      <td>0.008929</td>\n",
              "      <td>0.0</td>\n",
              "      <td>0.0</td>\n",
              "      <td>0.0</td>\n",
              "      <td>0.0</td>\n",
              "      <td>1.0</td>\n",
              "    </tr>\n",
              "    <tr>\n",
              "      <th>OUTROS</th>\n",
              "      <td>12542.0</td>\n",
              "      <td>4.138096e-02</td>\n",
              "      <td>0.199178</td>\n",
              "      <td>0.0</td>\n",
              "      <td>0.0</td>\n",
              "      <td>0.0</td>\n",
              "      <td>0.0</td>\n",
              "      <td>1.0</td>\n",
              "    </tr>\n",
              "    <tr>\n",
              "      <th>NENHUMAPOS</th>\n",
              "      <td>12542.0</td>\n",
              "      <td>8.914846e-01</td>\n",
              "      <td>0.311043</td>\n",
              "      <td>0.0</td>\n",
              "      <td>1.0</td>\n",
              "      <td>1.0</td>\n",
              "      <td>1.0</td>\n",
              "      <td>1.0</td>\n",
              "    </tr>\n",
              "    <tr>\n",
              "      <th>CIRURAPOS</th>\n",
              "      <td>12542.0</td>\n",
              "      <td>4.943390e-03</td>\n",
              "      <td>0.070138</td>\n",
              "      <td>0.0</td>\n",
              "      <td>0.0</td>\n",
              "      <td>0.0</td>\n",
              "      <td>0.0</td>\n",
              "      <td>1.0</td>\n",
              "    </tr>\n",
              "    <tr>\n",
              "      <th>RADIOAPOS</th>\n",
              "      <td>12542.0</td>\n",
              "      <td>9.974486e-02</td>\n",
              "      <td>0.299671</td>\n",
              "      <td>0.0</td>\n",
              "      <td>0.0</td>\n",
              "      <td>0.0</td>\n",
              "      <td>0.0</td>\n",
              "      <td>1.0</td>\n",
              "    </tr>\n",
              "    <tr>\n",
              "      <th>QUIMIOAPOS</th>\n",
              "      <td>12542.0</td>\n",
              "      <td>8.531335e-03</td>\n",
              "      <td>0.091974</td>\n",
              "      <td>0.0</td>\n",
              "      <td>0.0</td>\n",
              "      <td>0.0</td>\n",
              "      <td>0.0</td>\n",
              "      <td>1.0</td>\n",
              "    </tr>\n",
              "    <tr>\n",
              "      <th>HORMOAPOS</th>\n",
              "      <td>12542.0</td>\n",
              "      <td>0.000000e+00</td>\n",
              "      <td>0.000000</td>\n",
              "      <td>0.0</td>\n",
              "      <td>0.0</td>\n",
              "      <td>0.0</td>\n",
              "      <td>0.0</td>\n",
              "      <td>0.0</td>\n",
              "    </tr>\n",
              "    <tr>\n",
              "      <th>TMOAPOS</th>\n",
              "      <td>12542.0</td>\n",
              "      <td>0.000000e+00</td>\n",
              "      <td>0.000000</td>\n",
              "      <td>0.0</td>\n",
              "      <td>0.0</td>\n",
              "      <td>0.0</td>\n",
              "      <td>0.0</td>\n",
              "      <td>0.0</td>\n",
              "    </tr>\n",
              "    <tr>\n",
              "      <th>IMUNOAPOS</th>\n",
              "      <td>12542.0</td>\n",
              "      <td>0.000000e+00</td>\n",
              "      <td>0.000000</td>\n",
              "      <td>0.0</td>\n",
              "      <td>0.0</td>\n",
              "      <td>0.0</td>\n",
              "      <td>0.0</td>\n",
              "      <td>0.0</td>\n",
              "    </tr>\n",
              "    <tr>\n",
              "      <th>OUTROAPOS</th>\n",
              "      <td>12542.0</td>\n",
              "      <td>3.986605e-03</td>\n",
              "      <td>0.063016</td>\n",
              "      <td>0.0</td>\n",
              "      <td>0.0</td>\n",
              "      <td>0.0</td>\n",
              "      <td>0.0</td>\n",
              "      <td>1.0</td>\n",
              "    </tr>\n",
              "    <tr>\n",
              "      <th>ULTINFO</th>\n",
              "      <td>12542.0</td>\n",
              "      <td>2.853133e+00</td>\n",
              "      <td>0.730020</td>\n",
              "      <td>1.0</td>\n",
              "      <td>2.0</td>\n",
              "      <td>3.0</td>\n",
              "      <td>3.0</td>\n",
              "      <td>4.0</td>\n",
              "    </tr>\n",
              "    <tr>\n",
              "      <th>CONSDIAG</th>\n",
              "      <td>12521.0</td>\n",
              "      <td>3.490432e+01</td>\n",
              "      <td>55.538611</td>\n",
              "      <td>0.0</td>\n",
              "      <td>4.0</td>\n",
              "      <td>21.0</td>\n",
              "      <td>45.0</td>\n",
              "      <td>998.0</td>\n",
              "    </tr>\n",
              "    <tr>\n",
              "      <th>TRATCONS</th>\n",
              "      <td>11425.0</td>\n",
              "      <td>6.450591e+01</td>\n",
              "      <td>64.825247</td>\n",
              "      <td>0.0</td>\n",
              "      <td>24.0</td>\n",
              "      <td>50.0</td>\n",
              "      <td>85.0</td>\n",
              "      <td>830.0</td>\n",
              "    </tr>\n",
              "    <tr>\n",
              "      <th>DIAGTRAT</th>\n",
              "      <td>11421.0</td>\n",
              "      <td>8.059574e+01</td>\n",
              "      <td>75.694487</td>\n",
              "      <td>0.0</td>\n",
              "      <td>34.0</td>\n",
              "      <td>66.0</td>\n",
              "      <td>109.0</td>\n",
              "      <td>999.0</td>\n",
              "    </tr>\n",
              "    <tr>\n",
              "      <th>ANODIAG</th>\n",
              "      <td>12542.0</td>\n",
              "      <td>2.012524e+03</td>\n",
              "      <td>4.214983</td>\n",
              "      <td>2000.0</td>\n",
              "      <td>2011.0</td>\n",
              "      <td>2014.0</td>\n",
              "      <td>2016.0</td>\n",
              "      <td>2017.0</td>\n",
              "    </tr>\n",
              "    <tr>\n",
              "      <th>RRAS</th>\n",
              "      <td>12542.0</td>\n",
              "      <td>1.219997e+01</td>\n",
              "      <td>18.449020</td>\n",
              "      <td>1.0</td>\n",
              "      <td>6.0</td>\n",
              "      <td>8.0</td>\n",
              "      <td>12.0</td>\n",
              "      <td>99.0</td>\n",
              "    </tr>\n",
              "    <tr>\n",
              "      <th>RECNENHUM</th>\n",
              "      <td>12542.0</td>\n",
              "      <td>8.284963e-01</td>\n",
              "      <td>0.376964</td>\n",
              "      <td>0.0</td>\n",
              "      <td>1.0</td>\n",
              "      <td>1.0</td>\n",
              "      <td>1.0</td>\n",
              "      <td>1.0</td>\n",
              "    </tr>\n",
              "    <tr>\n",
              "      <th>RECLOCAL</th>\n",
              "      <td>12542.0</td>\n",
              "      <td>9.687450e-02</td>\n",
              "      <td>0.295799</td>\n",
              "      <td>0.0</td>\n",
              "      <td>0.0</td>\n",
              "      <td>0.0</td>\n",
              "      <td>0.0</td>\n",
              "      <td>1.0</td>\n",
              "    </tr>\n",
              "    <tr>\n",
              "      <th>RECREGIO</th>\n",
              "      <td>12542.0</td>\n",
              "      <td>5.541381e-02</td>\n",
              "      <td>0.228795</td>\n",
              "      <td>0.0</td>\n",
              "      <td>0.0</td>\n",
              "      <td>0.0</td>\n",
              "      <td>0.0</td>\n",
              "      <td>1.0</td>\n",
              "    </tr>\n",
              "    <tr>\n",
              "      <th>RECDIST</th>\n",
              "      <td>12542.0</td>\n",
              "      <td>4.034444e-02</td>\n",
              "      <td>0.196774</td>\n",
              "      <td>0.0</td>\n",
              "      <td>0.0</td>\n",
              "      <td>0.0</td>\n",
              "      <td>0.0</td>\n",
              "      <td>1.0</td>\n",
              "    </tr>\n",
              "    <tr>\n",
              "      <th>IBGEATEN</th>\n",
              "      <td>12542.0</td>\n",
              "      <td>3.538448e+06</td>\n",
              "      <td>17499.851317</td>\n",
              "      <td>3502804.0</td>\n",
              "      <td>3525300.0</td>\n",
              "      <td>3550308.0</td>\n",
              "      <td>3550308.0</td>\n",
              "      <td>3555000.0</td>\n",
              "    </tr>\n",
              "    <tr>\n",
              "      <th>CIDO</th>\n",
              "      <td>12542.0</td>\n",
              "      <td>8.070308e+04</td>\n",
              "      <td>1.625024</td>\n",
              "      <td>80703.0</td>\n",
              "      <td>80703.0</td>\n",
              "      <td>80703.0</td>\n",
              "      <td>80703.0</td>\n",
              "      <td>80743.0</td>\n",
              "    </tr>\n",
              "    <tr>\n",
              "      <th>HABILIT2</th>\n",
              "      <td>12542.0</td>\n",
              "      <td>1.667597e+00</td>\n",
              "      <td>0.509789</td>\n",
              "      <td>1.0</td>\n",
              "      <td>1.0</td>\n",
              "      <td>2.0</td>\n",
              "      <td>2.0</td>\n",
              "      <td>5.0</td>\n",
              "    </tr>\n",
              "  </tbody>\n",
              "</table>\n",
              "</div>\n",
              "      <button class=\"colab-df-convert\" onclick=\"convertToInteractive('df-22438e3f-5aec-4f6a-b6cf-9d085b6133ae')\"\n",
              "              title=\"Convert this dataframe to an interactive table.\"\n",
              "              style=\"display:none;\">\n",
              "        \n",
              "  <svg xmlns=\"http://www.w3.org/2000/svg\" height=\"24px\"viewBox=\"0 0 24 24\"\n",
              "       width=\"24px\">\n",
              "    <path d=\"M0 0h24v24H0V0z\" fill=\"none\"/>\n",
              "    <path d=\"M18.56 5.44l.94 2.06.94-2.06 2.06-.94-2.06-.94-.94-2.06-.94 2.06-2.06.94zm-11 1L8.5 8.5l.94-2.06 2.06-.94-2.06-.94L8.5 2.5l-.94 2.06-2.06.94zm10 10l.94 2.06.94-2.06 2.06-.94-2.06-.94-.94-2.06-.94 2.06-2.06.94z\"/><path d=\"M17.41 7.96l-1.37-1.37c-.4-.4-.92-.59-1.43-.59-.52 0-1.04.2-1.43.59L10.3 9.45l-7.72 7.72c-.78.78-.78 2.05 0 2.83L4 21.41c.39.39.9.59 1.41.59.51 0 1.02-.2 1.41-.59l7.78-7.78 2.81-2.81c.8-.78.8-2.07 0-2.86zM5.41 20L4 18.59l7.72-7.72 1.47 1.35L5.41 20z\"/>\n",
              "  </svg>\n",
              "      </button>\n",
              "      \n",
              "  <style>\n",
              "    .colab-df-container {\n",
              "      display:flex;\n",
              "      flex-wrap:wrap;\n",
              "      gap: 12px;\n",
              "    }\n",
              "\n",
              "    .colab-df-convert {\n",
              "      background-color: #E8F0FE;\n",
              "      border: none;\n",
              "      border-radius: 50%;\n",
              "      cursor: pointer;\n",
              "      display: none;\n",
              "      fill: #1967D2;\n",
              "      height: 32px;\n",
              "      padding: 0 0 0 0;\n",
              "      width: 32px;\n",
              "    }\n",
              "\n",
              "    .colab-df-convert:hover {\n",
              "      background-color: #E2EBFA;\n",
              "      box-shadow: 0px 1px 2px rgba(60, 64, 67, 0.3), 0px 1px 3px 1px rgba(60, 64, 67, 0.15);\n",
              "      fill: #174EA6;\n",
              "    }\n",
              "\n",
              "    [theme=dark] .colab-df-convert {\n",
              "      background-color: #3B4455;\n",
              "      fill: #D2E3FC;\n",
              "    }\n",
              "\n",
              "    [theme=dark] .colab-df-convert:hover {\n",
              "      background-color: #434B5C;\n",
              "      box-shadow: 0px 1px 3px 1px rgba(0, 0, 0, 0.15);\n",
              "      filter: drop-shadow(0px 1px 2px rgba(0, 0, 0, 0.3));\n",
              "      fill: #FFFFFF;\n",
              "    }\n",
              "  </style>\n",
              "\n",
              "      <script>\n",
              "        const buttonEl =\n",
              "          document.querySelector('#df-22438e3f-5aec-4f6a-b6cf-9d085b6133ae button.colab-df-convert');\n",
              "        buttonEl.style.display =\n",
              "          google.colab.kernel.accessAllowed ? 'block' : 'none';\n",
              "\n",
              "        async function convertToInteractive(key) {\n",
              "          const element = document.querySelector('#df-22438e3f-5aec-4f6a-b6cf-9d085b6133ae');\n",
              "          const dataTable =\n",
              "            await google.colab.kernel.invokeFunction('convertToInteractive',\n",
              "                                                     [key], {});\n",
              "          if (!dataTable) return;\n",
              "\n",
              "          const docLinkHtml = 'Like what you see? Visit the ' +\n",
              "            '<a target=\"_blank\" href=https://colab.research.google.com/notebooks/data_table.ipynb>data table notebook</a>'\n",
              "            + ' to learn more about interactive tables.';\n",
              "          element.innerHTML = '';\n",
              "          dataTable['output_type'] = 'display_data';\n",
              "          await google.colab.output.renderOutput(dataTable, element);\n",
              "          const docLink = document.createElement('div');\n",
              "          docLink.innerHTML = docLinkHtml;\n",
              "          element.appendChild(docLink);\n",
              "        }\n",
              "      </script>\n",
              "    </div>\n",
              "  </div>\n",
              "  "
            ]
          },
          "metadata": {},
          "execution_count": 54
        }
      ],
      "source": [
        "data.describe().T"
      ]
    },
    {
      "cell_type": "markdown",
      "source": [
        "# **Análise da distribuição dos dados por meio de:**"
      ],
      "metadata": {
        "id": "TqTkS24FQyge"
      }
    },
    {
      "cell_type": "markdown",
      "metadata": {
        "id": "7vcqYVidnKcJ"
      },
      "source": [
        "## **Anos**"
      ]
    },
    {
      "cell_type": "markdown",
      "source": [
        "### **Geral**"
      ],
      "metadata": {
        "id": "G-7AJxiqAfK0"
      }
    },
    {
      "cell_type": "code",
      "source": [
        "import plotly.graph_objects as go\n",
        "\n",
        "years = np.sort(data.ANODIAG.unique())\n",
        "\n",
        "fig = go.Figure()\n",
        "fig.add_trace(go.Bar(x=years,\n",
        "                y=data.ANODIAG.value_counts().sort_index(),\n",
        "                marker_color='rgb(0,0,0)'\n",
        "                ))\n",
        "\n",
        "fig.update_layout(title = dict(text = 'Quantidade de pessoas ao longo dos anos'),\n",
        "                  xaxis = dict(title='Ano', titlefont_size=16, tickfont_size=14),\n",
        "                  yaxis = dict(title='Quantidade de pessoas', titlefont_size=16, tickfont_size=14),\n",
        "                  barmode='group',\n",
        "                  bargap=0.15, # gap between bars of adjacent location coordinates.\n",
        "                  plot_bgcolor='lightgrey'\n",
        "                  )\n",
        "fig.show()"
      ],
      "metadata": {
        "colab": {
          "base_uri": "https://localhost:8080/",
          "height": 542
        },
        "id": "nvJAoQcLPOB9",
        "outputId": "c6a01709-ab58-4179-856e-3b3861767b39"
      },
      "execution_count": null,
      "outputs": [
        {
          "output_type": "display_data",
          "data": {
            "text/html": [
              "<html>\n",
              "<head><meta charset=\"utf-8\" /></head>\n",
              "<body>\n",
              "    <div>            <script src=\"https://cdnjs.cloudflare.com/ajax/libs/mathjax/2.7.5/MathJax.js?config=TeX-AMS-MML_SVG\"></script><script type=\"text/javascript\">if (window.MathJax) {MathJax.Hub.Config({SVG: {font: \"STIX-Web\"}});}</script>                <script type=\"text/javascript\">window.PlotlyConfig = {MathJaxConfig: 'local'};</script>\n",
              "        <script src=\"https://cdn.plot.ly/plotly-2.8.3.min.js\"></script>                <div id=\"aa6804ba-599c-4b60-8405-f79d4ed1bba3\" class=\"plotly-graph-div\" style=\"height:525px; width:100%;\"></div>            <script type=\"text/javascript\">                                    window.PLOTLYENV=window.PLOTLYENV || {};                                    if (document.getElementById(\"aa6804ba-599c-4b60-8405-f79d4ed1bba3\")) {                    Plotly.newPlot(                        \"aa6804ba-599c-4b60-8405-f79d4ed1bba3\",                        [{\"marker\":{\"color\":\"rgb(0,0,0)\"},\"x\":[2000,2001,2002,2003,2004,2005,2006,2007,2008,2009,2010,2011,2012,2013,2014,2015,2016,2017],\"y\":[194,152,180,207,231,266,255,267,342,315,377,682,1041,1523,1526,1606,1728,1650],\"type\":\"bar\"}],                        {\"template\":{\"data\":{\"bar\":[{\"error_x\":{\"color\":\"#2a3f5f\"},\"error_y\":{\"color\":\"#2a3f5f\"},\"marker\":{\"line\":{\"color\":\"#E5ECF6\",\"width\":0.5},\"pattern\":{\"fillmode\":\"overlay\",\"size\":10,\"solidity\":0.2}},\"type\":\"bar\"}],\"barpolar\":[{\"marker\":{\"line\":{\"color\":\"#E5ECF6\",\"width\":0.5},\"pattern\":{\"fillmode\":\"overlay\",\"size\":10,\"solidity\":0.2}},\"type\":\"barpolar\"}],\"carpet\":[{\"aaxis\":{\"endlinecolor\":\"#2a3f5f\",\"gridcolor\":\"white\",\"linecolor\":\"white\",\"minorgridcolor\":\"white\",\"startlinecolor\":\"#2a3f5f\"},\"baxis\":{\"endlinecolor\":\"#2a3f5f\",\"gridcolor\":\"white\",\"linecolor\":\"white\",\"minorgridcolor\":\"white\",\"startlinecolor\":\"#2a3f5f\"},\"type\":\"carpet\"}],\"choropleth\":[{\"colorbar\":{\"outlinewidth\":0,\"ticks\":\"\"},\"type\":\"choropleth\"}],\"contour\":[{\"colorbar\":{\"outlinewidth\":0,\"ticks\":\"\"},\"colorscale\":[[0.0,\"#0d0887\"],[0.1111111111111111,\"#46039f\"],[0.2222222222222222,\"#7201a8\"],[0.3333333333333333,\"#9c179e\"],[0.4444444444444444,\"#bd3786\"],[0.5555555555555556,\"#d8576b\"],[0.6666666666666666,\"#ed7953\"],[0.7777777777777778,\"#fb9f3a\"],[0.8888888888888888,\"#fdca26\"],[1.0,\"#f0f921\"]],\"type\":\"contour\"}],\"contourcarpet\":[{\"colorbar\":{\"outlinewidth\":0,\"ticks\":\"\"},\"type\":\"contourcarpet\"}],\"heatmap\":[{\"colorbar\":{\"outlinewidth\":0,\"ticks\":\"\"},\"colorscale\":[[0.0,\"#0d0887\"],[0.1111111111111111,\"#46039f\"],[0.2222222222222222,\"#7201a8\"],[0.3333333333333333,\"#9c179e\"],[0.4444444444444444,\"#bd3786\"],[0.5555555555555556,\"#d8576b\"],[0.6666666666666666,\"#ed7953\"],[0.7777777777777778,\"#fb9f3a\"],[0.8888888888888888,\"#fdca26\"],[1.0,\"#f0f921\"]],\"type\":\"heatmap\"}],\"heatmapgl\":[{\"colorbar\":{\"outlinewidth\":0,\"ticks\":\"\"},\"colorscale\":[[0.0,\"#0d0887\"],[0.1111111111111111,\"#46039f\"],[0.2222222222222222,\"#7201a8\"],[0.3333333333333333,\"#9c179e\"],[0.4444444444444444,\"#bd3786\"],[0.5555555555555556,\"#d8576b\"],[0.6666666666666666,\"#ed7953\"],[0.7777777777777778,\"#fb9f3a\"],[0.8888888888888888,\"#fdca26\"],[1.0,\"#f0f921\"]],\"type\":\"heatmapgl\"}],\"histogram\":[{\"marker\":{\"pattern\":{\"fillmode\":\"overlay\",\"size\":10,\"solidity\":0.2}},\"type\":\"histogram\"}],\"histogram2d\":[{\"colorbar\":{\"outlinewidth\":0,\"ticks\":\"\"},\"colorscale\":[[0.0,\"#0d0887\"],[0.1111111111111111,\"#46039f\"],[0.2222222222222222,\"#7201a8\"],[0.3333333333333333,\"#9c179e\"],[0.4444444444444444,\"#bd3786\"],[0.5555555555555556,\"#d8576b\"],[0.6666666666666666,\"#ed7953\"],[0.7777777777777778,\"#fb9f3a\"],[0.8888888888888888,\"#fdca26\"],[1.0,\"#f0f921\"]],\"type\":\"histogram2d\"}],\"histogram2dcontour\":[{\"colorbar\":{\"outlinewidth\":0,\"ticks\":\"\"},\"colorscale\":[[0.0,\"#0d0887\"],[0.1111111111111111,\"#46039f\"],[0.2222222222222222,\"#7201a8\"],[0.3333333333333333,\"#9c179e\"],[0.4444444444444444,\"#bd3786\"],[0.5555555555555556,\"#d8576b\"],[0.6666666666666666,\"#ed7953\"],[0.7777777777777778,\"#fb9f3a\"],[0.8888888888888888,\"#fdca26\"],[1.0,\"#f0f921\"]],\"type\":\"histogram2dcontour\"}],\"mesh3d\":[{\"colorbar\":{\"outlinewidth\":0,\"ticks\":\"\"},\"type\":\"mesh3d\"}],\"parcoords\":[{\"line\":{\"colorbar\":{\"outlinewidth\":0,\"ticks\":\"\"}},\"type\":\"parcoords\"}],\"pie\":[{\"automargin\":true,\"type\":\"pie\"}],\"scatter\":[{\"marker\":{\"colorbar\":{\"outlinewidth\":0,\"ticks\":\"\"}},\"type\":\"scatter\"}],\"scatter3d\":[{\"line\":{\"colorbar\":{\"outlinewidth\":0,\"ticks\":\"\"}},\"marker\":{\"colorbar\":{\"outlinewidth\":0,\"ticks\":\"\"}},\"type\":\"scatter3d\"}],\"scattercarpet\":[{\"marker\":{\"colorbar\":{\"outlinewidth\":0,\"ticks\":\"\"}},\"type\":\"scattercarpet\"}],\"scattergeo\":[{\"marker\":{\"colorbar\":{\"outlinewidth\":0,\"ticks\":\"\"}},\"type\":\"scattergeo\"}],\"scattergl\":[{\"marker\":{\"colorbar\":{\"outlinewidth\":0,\"ticks\":\"\"}},\"type\":\"scattergl\"}],\"scattermapbox\":[{\"marker\":{\"colorbar\":{\"outlinewidth\":0,\"ticks\":\"\"}},\"type\":\"scattermapbox\"}],\"scatterpolar\":[{\"marker\":{\"colorbar\":{\"outlinewidth\":0,\"ticks\":\"\"}},\"type\":\"scatterpolar\"}],\"scatterpolargl\":[{\"marker\":{\"colorbar\":{\"outlinewidth\":0,\"ticks\":\"\"}},\"type\":\"scatterpolargl\"}],\"scatterternary\":[{\"marker\":{\"colorbar\":{\"outlinewidth\":0,\"ticks\":\"\"}},\"type\":\"scatterternary\"}],\"surface\":[{\"colorbar\":{\"outlinewidth\":0,\"ticks\":\"\"},\"colorscale\":[[0.0,\"#0d0887\"],[0.1111111111111111,\"#46039f\"],[0.2222222222222222,\"#7201a8\"],[0.3333333333333333,\"#9c179e\"],[0.4444444444444444,\"#bd3786\"],[0.5555555555555556,\"#d8576b\"],[0.6666666666666666,\"#ed7953\"],[0.7777777777777778,\"#fb9f3a\"],[0.8888888888888888,\"#fdca26\"],[1.0,\"#f0f921\"]],\"type\":\"surface\"}],\"table\":[{\"cells\":{\"fill\":{\"color\":\"#EBF0F8\"},\"line\":{\"color\":\"white\"}},\"header\":{\"fill\":{\"color\":\"#C8D4E3\"},\"line\":{\"color\":\"white\"}},\"type\":\"table\"}]},\"layout\":{\"annotationdefaults\":{\"arrowcolor\":\"#2a3f5f\",\"arrowhead\":0,\"arrowwidth\":1},\"autotypenumbers\":\"strict\",\"coloraxis\":{\"colorbar\":{\"outlinewidth\":0,\"ticks\":\"\"}},\"colorscale\":{\"diverging\":[[0,\"#8e0152\"],[0.1,\"#c51b7d\"],[0.2,\"#de77ae\"],[0.3,\"#f1b6da\"],[0.4,\"#fde0ef\"],[0.5,\"#f7f7f7\"],[0.6,\"#e6f5d0\"],[0.7,\"#b8e186\"],[0.8,\"#7fbc41\"],[0.9,\"#4d9221\"],[1,\"#276419\"]],\"sequential\":[[0.0,\"#0d0887\"],[0.1111111111111111,\"#46039f\"],[0.2222222222222222,\"#7201a8\"],[0.3333333333333333,\"#9c179e\"],[0.4444444444444444,\"#bd3786\"],[0.5555555555555556,\"#d8576b\"],[0.6666666666666666,\"#ed7953\"],[0.7777777777777778,\"#fb9f3a\"],[0.8888888888888888,\"#fdca26\"],[1.0,\"#f0f921\"]],\"sequentialminus\":[[0.0,\"#0d0887\"],[0.1111111111111111,\"#46039f\"],[0.2222222222222222,\"#7201a8\"],[0.3333333333333333,\"#9c179e\"],[0.4444444444444444,\"#bd3786\"],[0.5555555555555556,\"#d8576b\"],[0.6666666666666666,\"#ed7953\"],[0.7777777777777778,\"#fb9f3a\"],[0.8888888888888888,\"#fdca26\"],[1.0,\"#f0f921\"]]},\"colorway\":[\"#636efa\",\"#EF553B\",\"#00cc96\",\"#ab63fa\",\"#FFA15A\",\"#19d3f3\",\"#FF6692\",\"#B6E880\",\"#FF97FF\",\"#FECB52\"],\"font\":{\"color\":\"#2a3f5f\"},\"geo\":{\"bgcolor\":\"white\",\"lakecolor\":\"white\",\"landcolor\":\"#E5ECF6\",\"showlakes\":true,\"showland\":true,\"subunitcolor\":\"white\"},\"hoverlabel\":{\"align\":\"left\"},\"hovermode\":\"closest\",\"mapbox\":{\"style\":\"light\"},\"paper_bgcolor\":\"white\",\"plot_bgcolor\":\"#E5ECF6\",\"polar\":{\"angularaxis\":{\"gridcolor\":\"white\",\"linecolor\":\"white\",\"ticks\":\"\"},\"bgcolor\":\"#E5ECF6\",\"radialaxis\":{\"gridcolor\":\"white\",\"linecolor\":\"white\",\"ticks\":\"\"}},\"scene\":{\"xaxis\":{\"backgroundcolor\":\"#E5ECF6\",\"gridcolor\":\"white\",\"gridwidth\":2,\"linecolor\":\"white\",\"showbackground\":true,\"ticks\":\"\",\"zerolinecolor\":\"white\"},\"yaxis\":{\"backgroundcolor\":\"#E5ECF6\",\"gridcolor\":\"white\",\"gridwidth\":2,\"linecolor\":\"white\",\"showbackground\":true,\"ticks\":\"\",\"zerolinecolor\":\"white\"},\"zaxis\":{\"backgroundcolor\":\"#E5ECF6\",\"gridcolor\":\"white\",\"gridwidth\":2,\"linecolor\":\"white\",\"showbackground\":true,\"ticks\":\"\",\"zerolinecolor\":\"white\"}},\"shapedefaults\":{\"line\":{\"color\":\"#2a3f5f\"}},\"ternary\":{\"aaxis\":{\"gridcolor\":\"white\",\"linecolor\":\"white\",\"ticks\":\"\"},\"baxis\":{\"gridcolor\":\"white\",\"linecolor\":\"white\",\"ticks\":\"\"},\"bgcolor\":\"#E5ECF6\",\"caxis\":{\"gridcolor\":\"white\",\"linecolor\":\"white\",\"ticks\":\"\"}},\"title\":{\"x\":0.05},\"xaxis\":{\"automargin\":true,\"gridcolor\":\"white\",\"linecolor\":\"white\",\"ticks\":\"\",\"title\":{\"standoff\":15},\"zerolinecolor\":\"white\",\"zerolinewidth\":2},\"yaxis\":{\"automargin\":true,\"gridcolor\":\"white\",\"linecolor\":\"white\",\"ticks\":\"\",\"title\":{\"standoff\":15},\"zerolinecolor\":\"white\",\"zerolinewidth\":2}}},\"title\":{\"text\":\"Quantidade de pessoas ao longo dos anos\"},\"xaxis\":{\"title\":{\"text\":\"Ano\",\"font\":{\"size\":16}},\"tickfont\":{\"size\":14}},\"yaxis\":{\"title\":{\"text\":\"Quantidade de pessoas\",\"font\":{\"size\":16}},\"tickfont\":{\"size\":14}},\"barmode\":\"group\",\"bargap\":0.15,\"plot_bgcolor\":\"lightgrey\"},                        {\"responsive\": true}                    ).then(function(){\n",
              "                            \n",
              "var gd = document.getElementById('aa6804ba-599c-4b60-8405-f79d4ed1bba3');\n",
              "var x = new MutationObserver(function (mutations, observer) {{\n",
              "        var display = window.getComputedStyle(gd).display;\n",
              "        if (!display || display === 'none') {{\n",
              "            console.log([gd, 'removed!']);\n",
              "            Plotly.purge(gd);\n",
              "            observer.disconnect();\n",
              "        }}\n",
              "}});\n",
              "\n",
              "// Listen for the removal of the full notebook cells\n",
              "var notebookContainer = gd.closest('#notebook-container');\n",
              "if (notebookContainer) {{\n",
              "    x.observe(notebookContainer, {childList: true});\n",
              "}}\n",
              "\n",
              "// Listen for the clearing of the current output cell\n",
              "var outputEl = gd.closest('.output');\n",
              "if (outputEl) {{\n",
              "    x.observe(outputEl, {childList: true});\n",
              "}}\n",
              "\n",
              "                        })                };                            </script>        </div>\n",
              "</body>\n",
              "</html>"
            ]
          },
          "metadata": {}
        }
      ]
    },
    {
      "cell_type": "markdown",
      "source": [
        "### **Sexo**"
      ],
      "metadata": {
        "id": "nAswfUChAaCI"
      }
    },
    {
      "cell_type": "code",
      "source": [
        "import plotly.graph_objects as go\n",
        "\n",
        "years = np.sort(data.ANODIAG.unique())\n",
        "\n",
        "contagens_1 = data.query('SEXO == 1').ANODIAG.value_counts().sort_index()\n",
        "contagens_2 = data.query('SEXO == 2').ANODIAG.value_counts().sort_index()\n",
        "\n",
        "\n",
        "fig = go.Figure()\n",
        "fig.add_trace(go.Bar(x=years,\n",
        "                y=contagens_1,\n",
        "                name='Homem',\n",
        "                marker_color='rgb(0, 0, 255)'\n",
        "                ))\n",
        "fig.add_trace(go.Bar(x=years,\n",
        "                y=contagens_2,\n",
        "                name='Mulher',\n",
        "                marker_color='rgb(255, 0, 255)'\n",
        "                ))\n",
        "\n",
        "fig.update_layout(title = dict(text = 'Quantidade de pessoas ao longo dos anos'),\n",
        "                  xaxis = dict(title='Ano', titlefont_size=16, tickfont_size=14),\n",
        "                  yaxis = dict(title='Quantidade de pessoas', titlefont_size=16, tickfont_size=14),\n",
        "                  legend=dict(x=1, y=1, bgcolor='rgba(255, 255, 255, 0)', bordercolor='rgba(255, 255, 255, 0)'),\n",
        "                  barmode='group',\n",
        "                  bargap=0.15, # gap between bars of adjacent location coordinates.\n",
        "                  bargroupgap=0.1, # gap between bars of the same location coordinate.\n",
        "                  plot_bgcolor='lightgrey'\n",
        "                  )\n",
        "fig.show()"
      ],
      "metadata": {
        "colab": {
          "base_uri": "https://localhost:8080/",
          "height": 542
        },
        "id": "c2hnn7lrN_lE",
        "outputId": "ff38fd39-fdd1-4c9d-867b-4d6e4dc2244a"
      },
      "execution_count": 258,
      "outputs": [
        {
          "output_type": "display_data",
          "data": {
            "text/html": [
              "<html>\n",
              "<head><meta charset=\"utf-8\" /></head>\n",
              "<body>\n",
              "    <div>            <script src=\"https://cdnjs.cloudflare.com/ajax/libs/mathjax/2.7.5/MathJax.js?config=TeX-AMS-MML_SVG\"></script><script type=\"text/javascript\">if (window.MathJax) {MathJax.Hub.Config({SVG: {font: \"STIX-Web\"}});}</script>                <script type=\"text/javascript\">window.PlotlyConfig = {MathJaxConfig: 'local'};</script>\n",
              "        <script src=\"https://cdn.plot.ly/plotly-2.8.3.min.js\"></script>                <div id=\"22f5da94-da20-4a72-9f36-21b5abf81067\" class=\"plotly-graph-div\" style=\"height:525px; width:100%;\"></div>            <script type=\"text/javascript\">                                    window.PLOTLYENV=window.PLOTLYENV || {};                                    if (document.getElementById(\"22f5da94-da20-4a72-9f36-21b5abf81067\")) {                    Plotly.newPlot(                        \"22f5da94-da20-4a72-9f36-21b5abf81067\",                        [{\"marker\":{\"color\":\"rgb(0, 0, 255)\"},\"name\":\"Homem\",\"x\":[2000,2001,2002,2003,2004,2005,2006,2007,2008,2009,2010,2011,2012,2013,2014,2015,2016,2017],\"y\":[167,134,153,175,182,235,226,230,290,258,310,569,865,1294,1291,1358,1419,1380],\"type\":\"bar\"},{\"marker\":{\"color\":\"rgb(255, 0, 255)\"},\"name\":\"Mulher\",\"x\":[2000,2001,2002,2003,2004,2005,2006,2007,2008,2009,2010,2011,2012,2013,2014,2015,2016,2017],\"y\":[27,18,27,32,49,31,29,37,52,57,67,113,176,229,235,248,309,270],\"type\":\"bar\"}],                        {\"template\":{\"data\":{\"bar\":[{\"error_x\":{\"color\":\"#2a3f5f\"},\"error_y\":{\"color\":\"#2a3f5f\"},\"marker\":{\"line\":{\"color\":\"#E5ECF6\",\"width\":0.5},\"pattern\":{\"fillmode\":\"overlay\",\"size\":10,\"solidity\":0.2}},\"type\":\"bar\"}],\"barpolar\":[{\"marker\":{\"line\":{\"color\":\"#E5ECF6\",\"width\":0.5},\"pattern\":{\"fillmode\":\"overlay\",\"size\":10,\"solidity\":0.2}},\"type\":\"barpolar\"}],\"carpet\":[{\"aaxis\":{\"endlinecolor\":\"#2a3f5f\",\"gridcolor\":\"white\",\"linecolor\":\"white\",\"minorgridcolor\":\"white\",\"startlinecolor\":\"#2a3f5f\"},\"baxis\":{\"endlinecolor\":\"#2a3f5f\",\"gridcolor\":\"white\",\"linecolor\":\"white\",\"minorgridcolor\":\"white\",\"startlinecolor\":\"#2a3f5f\"},\"type\":\"carpet\"}],\"choropleth\":[{\"colorbar\":{\"outlinewidth\":0,\"ticks\":\"\"},\"type\":\"choropleth\"}],\"contour\":[{\"colorbar\":{\"outlinewidth\":0,\"ticks\":\"\"},\"colorscale\":[[0.0,\"#0d0887\"],[0.1111111111111111,\"#46039f\"],[0.2222222222222222,\"#7201a8\"],[0.3333333333333333,\"#9c179e\"],[0.4444444444444444,\"#bd3786\"],[0.5555555555555556,\"#d8576b\"],[0.6666666666666666,\"#ed7953\"],[0.7777777777777778,\"#fb9f3a\"],[0.8888888888888888,\"#fdca26\"],[1.0,\"#f0f921\"]],\"type\":\"contour\"}],\"contourcarpet\":[{\"colorbar\":{\"outlinewidth\":0,\"ticks\":\"\"},\"type\":\"contourcarpet\"}],\"heatmap\":[{\"colorbar\":{\"outlinewidth\":0,\"ticks\":\"\"},\"colorscale\":[[0.0,\"#0d0887\"],[0.1111111111111111,\"#46039f\"],[0.2222222222222222,\"#7201a8\"],[0.3333333333333333,\"#9c179e\"],[0.4444444444444444,\"#bd3786\"],[0.5555555555555556,\"#d8576b\"],[0.6666666666666666,\"#ed7953\"],[0.7777777777777778,\"#fb9f3a\"],[0.8888888888888888,\"#fdca26\"],[1.0,\"#f0f921\"]],\"type\":\"heatmap\"}],\"heatmapgl\":[{\"colorbar\":{\"outlinewidth\":0,\"ticks\":\"\"},\"colorscale\":[[0.0,\"#0d0887\"],[0.1111111111111111,\"#46039f\"],[0.2222222222222222,\"#7201a8\"],[0.3333333333333333,\"#9c179e\"],[0.4444444444444444,\"#bd3786\"],[0.5555555555555556,\"#d8576b\"],[0.6666666666666666,\"#ed7953\"],[0.7777777777777778,\"#fb9f3a\"],[0.8888888888888888,\"#fdca26\"],[1.0,\"#f0f921\"]],\"type\":\"heatmapgl\"}],\"histogram\":[{\"marker\":{\"pattern\":{\"fillmode\":\"overlay\",\"size\":10,\"solidity\":0.2}},\"type\":\"histogram\"}],\"histogram2d\":[{\"colorbar\":{\"outlinewidth\":0,\"ticks\":\"\"},\"colorscale\":[[0.0,\"#0d0887\"],[0.1111111111111111,\"#46039f\"],[0.2222222222222222,\"#7201a8\"],[0.3333333333333333,\"#9c179e\"],[0.4444444444444444,\"#bd3786\"],[0.5555555555555556,\"#d8576b\"],[0.6666666666666666,\"#ed7953\"],[0.7777777777777778,\"#fb9f3a\"],[0.8888888888888888,\"#fdca26\"],[1.0,\"#f0f921\"]],\"type\":\"histogram2d\"}],\"histogram2dcontour\":[{\"colorbar\":{\"outlinewidth\":0,\"ticks\":\"\"},\"colorscale\":[[0.0,\"#0d0887\"],[0.1111111111111111,\"#46039f\"],[0.2222222222222222,\"#7201a8\"],[0.3333333333333333,\"#9c179e\"],[0.4444444444444444,\"#bd3786\"],[0.5555555555555556,\"#d8576b\"],[0.6666666666666666,\"#ed7953\"],[0.7777777777777778,\"#fb9f3a\"],[0.8888888888888888,\"#fdca26\"],[1.0,\"#f0f921\"]],\"type\":\"histogram2dcontour\"}],\"mesh3d\":[{\"colorbar\":{\"outlinewidth\":0,\"ticks\":\"\"},\"type\":\"mesh3d\"}],\"parcoords\":[{\"line\":{\"colorbar\":{\"outlinewidth\":0,\"ticks\":\"\"}},\"type\":\"parcoords\"}],\"pie\":[{\"automargin\":true,\"type\":\"pie\"}],\"scatter\":[{\"marker\":{\"colorbar\":{\"outlinewidth\":0,\"ticks\":\"\"}},\"type\":\"scatter\"}],\"scatter3d\":[{\"line\":{\"colorbar\":{\"outlinewidth\":0,\"ticks\":\"\"}},\"marker\":{\"colorbar\":{\"outlinewidth\":0,\"ticks\":\"\"}},\"type\":\"scatter3d\"}],\"scattercarpet\":[{\"marker\":{\"colorbar\":{\"outlinewidth\":0,\"ticks\":\"\"}},\"type\":\"scattercarpet\"}],\"scattergeo\":[{\"marker\":{\"colorbar\":{\"outlinewidth\":0,\"ticks\":\"\"}},\"type\":\"scattergeo\"}],\"scattergl\":[{\"marker\":{\"colorbar\":{\"outlinewidth\":0,\"ticks\":\"\"}},\"type\":\"scattergl\"}],\"scattermapbox\":[{\"marker\":{\"colorbar\":{\"outlinewidth\":0,\"ticks\":\"\"}},\"type\":\"scattermapbox\"}],\"scatterpolar\":[{\"marker\":{\"colorbar\":{\"outlinewidth\":0,\"ticks\":\"\"}},\"type\":\"scatterpolar\"}],\"scatterpolargl\":[{\"marker\":{\"colorbar\":{\"outlinewidth\":0,\"ticks\":\"\"}},\"type\":\"scatterpolargl\"}],\"scatterternary\":[{\"marker\":{\"colorbar\":{\"outlinewidth\":0,\"ticks\":\"\"}},\"type\":\"scatterternary\"}],\"surface\":[{\"colorbar\":{\"outlinewidth\":0,\"ticks\":\"\"},\"colorscale\":[[0.0,\"#0d0887\"],[0.1111111111111111,\"#46039f\"],[0.2222222222222222,\"#7201a8\"],[0.3333333333333333,\"#9c179e\"],[0.4444444444444444,\"#bd3786\"],[0.5555555555555556,\"#d8576b\"],[0.6666666666666666,\"#ed7953\"],[0.7777777777777778,\"#fb9f3a\"],[0.8888888888888888,\"#fdca26\"],[1.0,\"#f0f921\"]],\"type\":\"surface\"}],\"table\":[{\"cells\":{\"fill\":{\"color\":\"#EBF0F8\"},\"line\":{\"color\":\"white\"}},\"header\":{\"fill\":{\"color\":\"#C8D4E3\"},\"line\":{\"color\":\"white\"}},\"type\":\"table\"}]},\"layout\":{\"annotationdefaults\":{\"arrowcolor\":\"#2a3f5f\",\"arrowhead\":0,\"arrowwidth\":1},\"autotypenumbers\":\"strict\",\"coloraxis\":{\"colorbar\":{\"outlinewidth\":0,\"ticks\":\"\"}},\"colorscale\":{\"diverging\":[[0,\"#8e0152\"],[0.1,\"#c51b7d\"],[0.2,\"#de77ae\"],[0.3,\"#f1b6da\"],[0.4,\"#fde0ef\"],[0.5,\"#f7f7f7\"],[0.6,\"#e6f5d0\"],[0.7,\"#b8e186\"],[0.8,\"#7fbc41\"],[0.9,\"#4d9221\"],[1,\"#276419\"]],\"sequential\":[[0.0,\"#0d0887\"],[0.1111111111111111,\"#46039f\"],[0.2222222222222222,\"#7201a8\"],[0.3333333333333333,\"#9c179e\"],[0.4444444444444444,\"#bd3786\"],[0.5555555555555556,\"#d8576b\"],[0.6666666666666666,\"#ed7953\"],[0.7777777777777778,\"#fb9f3a\"],[0.8888888888888888,\"#fdca26\"],[1.0,\"#f0f921\"]],\"sequentialminus\":[[0.0,\"#0d0887\"],[0.1111111111111111,\"#46039f\"],[0.2222222222222222,\"#7201a8\"],[0.3333333333333333,\"#9c179e\"],[0.4444444444444444,\"#bd3786\"],[0.5555555555555556,\"#d8576b\"],[0.6666666666666666,\"#ed7953\"],[0.7777777777777778,\"#fb9f3a\"],[0.8888888888888888,\"#fdca26\"],[1.0,\"#f0f921\"]]},\"colorway\":[\"#636efa\",\"#EF553B\",\"#00cc96\",\"#ab63fa\",\"#FFA15A\",\"#19d3f3\",\"#FF6692\",\"#B6E880\",\"#FF97FF\",\"#FECB52\"],\"font\":{\"color\":\"#2a3f5f\"},\"geo\":{\"bgcolor\":\"white\",\"lakecolor\":\"white\",\"landcolor\":\"#E5ECF6\",\"showlakes\":true,\"showland\":true,\"subunitcolor\":\"white\"},\"hoverlabel\":{\"align\":\"left\"},\"hovermode\":\"closest\",\"mapbox\":{\"style\":\"light\"},\"paper_bgcolor\":\"white\",\"plot_bgcolor\":\"#E5ECF6\",\"polar\":{\"angularaxis\":{\"gridcolor\":\"white\",\"linecolor\":\"white\",\"ticks\":\"\"},\"bgcolor\":\"#E5ECF6\",\"radialaxis\":{\"gridcolor\":\"white\",\"linecolor\":\"white\",\"ticks\":\"\"}},\"scene\":{\"xaxis\":{\"backgroundcolor\":\"#E5ECF6\",\"gridcolor\":\"white\",\"gridwidth\":2,\"linecolor\":\"white\",\"showbackground\":true,\"ticks\":\"\",\"zerolinecolor\":\"white\"},\"yaxis\":{\"backgroundcolor\":\"#E5ECF6\",\"gridcolor\":\"white\",\"gridwidth\":2,\"linecolor\":\"white\",\"showbackground\":true,\"ticks\":\"\",\"zerolinecolor\":\"white\"},\"zaxis\":{\"backgroundcolor\":\"#E5ECF6\",\"gridcolor\":\"white\",\"gridwidth\":2,\"linecolor\":\"white\",\"showbackground\":true,\"ticks\":\"\",\"zerolinecolor\":\"white\"}},\"shapedefaults\":{\"line\":{\"color\":\"#2a3f5f\"}},\"ternary\":{\"aaxis\":{\"gridcolor\":\"white\",\"linecolor\":\"white\",\"ticks\":\"\"},\"baxis\":{\"gridcolor\":\"white\",\"linecolor\":\"white\",\"ticks\":\"\"},\"bgcolor\":\"#E5ECF6\",\"caxis\":{\"gridcolor\":\"white\",\"linecolor\":\"white\",\"ticks\":\"\"}},\"title\":{\"x\":0.05},\"xaxis\":{\"automargin\":true,\"gridcolor\":\"white\",\"linecolor\":\"white\",\"ticks\":\"\",\"title\":{\"standoff\":15},\"zerolinecolor\":\"white\",\"zerolinewidth\":2},\"yaxis\":{\"automargin\":true,\"gridcolor\":\"white\",\"linecolor\":\"white\",\"ticks\":\"\",\"title\":{\"standoff\":15},\"zerolinecolor\":\"white\",\"zerolinewidth\":2}}},\"title\":{\"text\":\"Quantidade de pessoas ao longo dos anos\"},\"xaxis\":{\"title\":{\"text\":\"Ano\",\"font\":{\"size\":16}},\"tickfont\":{\"size\":14}},\"yaxis\":{\"title\":{\"text\":\"Quantidade de pessoas\",\"font\":{\"size\":16}},\"tickfont\":{\"size\":14}},\"legend\":{\"x\":1,\"y\":1,\"bgcolor\":\"rgba(255, 255, 255, 0)\",\"bordercolor\":\"rgba(255, 255, 255, 0)\"},\"barmode\":\"group\",\"bargap\":0.15,\"bargroupgap\":0.1,\"plot_bgcolor\":\"lightgrey\"},                        {\"responsive\": true}                    ).then(function(){\n",
              "                            \n",
              "var gd = document.getElementById('22f5da94-da20-4a72-9f36-21b5abf81067');\n",
              "var x = new MutationObserver(function (mutations, observer) {{\n",
              "        var display = window.getComputedStyle(gd).display;\n",
              "        if (!display || display === 'none') {{\n",
              "            console.log([gd, 'removed!']);\n",
              "            Plotly.purge(gd);\n",
              "            observer.disconnect();\n",
              "        }}\n",
              "}});\n",
              "\n",
              "// Listen for the removal of the full notebook cells\n",
              "var notebookContainer = gd.closest('#notebook-container');\n",
              "if (notebookContainer) {{\n",
              "    x.observe(notebookContainer, {childList: true});\n",
              "}}\n",
              "\n",
              "// Listen for the clearing of the current output cell\n",
              "var outputEl = gd.closest('.output');\n",
              "if (outputEl) {{\n",
              "    x.observe(outputEl, {childList: true});\n",
              "}}\n",
              "\n",
              "                        })                };                            </script>        </div>\n",
              "</body>\n",
              "</html>"
            ]
          },
          "metadata": {}
        }
      ]
    },
    {
      "cell_type": "markdown",
      "source": [
        "### **Tempo em dias entre a consulta e o diagnóstico**"
      ],
      "metadata": {
        "id": "10pDSFI9RS1g"
      }
    },
    {
      "cell_type": "markdown",
      "source": [
        "**Geral**"
      ],
      "metadata": {
        "id": "SZnx7PeVYAup"
      }
    },
    {
      "cell_type": "code",
      "source": [
        "import plotly.graph_objects as go\n",
        "\n",
        "years = np.sort(data.ANODIAG.unique())\n",
        "#Pessoas sem dignóstico prévio e sem tratamento\n",
        "media = data[data.DIAGPREV == 1].groupby('ANODIAG').median()['CONSDIAG'].values\n",
        "\n",
        "fig = go.Figure()\n",
        "fig.add_trace(go.Scatter(x=years,\n",
        "                y=media,\n",
        "                marker_color='rgb(0,0,0)'\n",
        "                ))\n",
        "\n",
        "fig.update_layout(title = dict(text = 'Tempos médio entre a consulta e o diagnótico ao longo dos anos [Dias/Ano]'),\n",
        "                  xaxis = dict(title='Ano', titlefont_size=16, tickfont_size=14),\n",
        "                  yaxis = dict(title='Média em dias', titlefont_size=16, tickfont_size=14),\n",
        "                  barmode='group',\n",
        "                  bargap=0.15, # gap between bars of adjacent location coordinates.\n",
        "                  plot_bgcolor='lightgrey'\n",
        "                  )\n",
        "fig.show()"
      ],
      "metadata": {
        "colab": {
          "base_uri": "https://localhost:8080/",
          "height": 542
        },
        "id": "di5qIOExTIo4",
        "outputId": "41ad02a8-d7cc-4b84-f5a4-8cebded0b530"
      },
      "execution_count": null,
      "outputs": [
        {
          "output_type": "display_data",
          "data": {
            "text/html": [
              "<html>\n",
              "<head><meta charset=\"utf-8\" /></head>\n",
              "<body>\n",
              "    <div>            <script src=\"https://cdnjs.cloudflare.com/ajax/libs/mathjax/2.7.5/MathJax.js?config=TeX-AMS-MML_SVG\"></script><script type=\"text/javascript\">if (window.MathJax) {MathJax.Hub.Config({SVG: {font: \"STIX-Web\"}});}</script>                <script type=\"text/javascript\">window.PlotlyConfig = {MathJaxConfig: 'local'};</script>\n",
              "        <script src=\"https://cdn.plot.ly/plotly-2.8.3.min.js\"></script>                <div id=\"6d4ac16c-fab3-476b-bd4e-ca2c5ff4b535\" class=\"plotly-graph-div\" style=\"height:525px; width:100%;\"></div>            <script type=\"text/javascript\">                                    window.PLOTLYENV=window.PLOTLYENV || {};                                    if (document.getElementById(\"6d4ac16c-fab3-476b-bd4e-ca2c5ff4b535\")) {                    Plotly.newPlot(                        \"6d4ac16c-fab3-476b-bd4e-ca2c5ff4b535\",                        [{\"marker\":{\"color\":\"rgb(0,0,0)\"},\"x\":[2000,2001,2002,2003,2004,2005,2006,2007,2008,2009,2010,2011,2012,2013,2014,2015,2016,2017],\"y\":[10.0,12.0,7.0,8.0,8.0,6.0,6.0,6.0,4.0,4.5,4.0,6.0,8.0,7.0,6.0,5.0,6.0,6.0],\"type\":\"scatter\"}],                        {\"template\":{\"data\":{\"bar\":[{\"error_x\":{\"color\":\"#2a3f5f\"},\"error_y\":{\"color\":\"#2a3f5f\"},\"marker\":{\"line\":{\"color\":\"#E5ECF6\",\"width\":0.5},\"pattern\":{\"fillmode\":\"overlay\",\"size\":10,\"solidity\":0.2}},\"type\":\"bar\"}],\"barpolar\":[{\"marker\":{\"line\":{\"color\":\"#E5ECF6\",\"width\":0.5},\"pattern\":{\"fillmode\":\"overlay\",\"size\":10,\"solidity\":0.2}},\"type\":\"barpolar\"}],\"carpet\":[{\"aaxis\":{\"endlinecolor\":\"#2a3f5f\",\"gridcolor\":\"white\",\"linecolor\":\"white\",\"minorgridcolor\":\"white\",\"startlinecolor\":\"#2a3f5f\"},\"baxis\":{\"endlinecolor\":\"#2a3f5f\",\"gridcolor\":\"white\",\"linecolor\":\"white\",\"minorgridcolor\":\"white\",\"startlinecolor\":\"#2a3f5f\"},\"type\":\"carpet\"}],\"choropleth\":[{\"colorbar\":{\"outlinewidth\":0,\"ticks\":\"\"},\"type\":\"choropleth\"}],\"contour\":[{\"colorbar\":{\"outlinewidth\":0,\"ticks\":\"\"},\"colorscale\":[[0.0,\"#0d0887\"],[0.1111111111111111,\"#46039f\"],[0.2222222222222222,\"#7201a8\"],[0.3333333333333333,\"#9c179e\"],[0.4444444444444444,\"#bd3786\"],[0.5555555555555556,\"#d8576b\"],[0.6666666666666666,\"#ed7953\"],[0.7777777777777778,\"#fb9f3a\"],[0.8888888888888888,\"#fdca26\"],[1.0,\"#f0f921\"]],\"type\":\"contour\"}],\"contourcarpet\":[{\"colorbar\":{\"outlinewidth\":0,\"ticks\":\"\"},\"type\":\"contourcarpet\"}],\"heatmap\":[{\"colorbar\":{\"outlinewidth\":0,\"ticks\":\"\"},\"colorscale\":[[0.0,\"#0d0887\"],[0.1111111111111111,\"#46039f\"],[0.2222222222222222,\"#7201a8\"],[0.3333333333333333,\"#9c179e\"],[0.4444444444444444,\"#bd3786\"],[0.5555555555555556,\"#d8576b\"],[0.6666666666666666,\"#ed7953\"],[0.7777777777777778,\"#fb9f3a\"],[0.8888888888888888,\"#fdca26\"],[1.0,\"#f0f921\"]],\"type\":\"heatmap\"}],\"heatmapgl\":[{\"colorbar\":{\"outlinewidth\":0,\"ticks\":\"\"},\"colorscale\":[[0.0,\"#0d0887\"],[0.1111111111111111,\"#46039f\"],[0.2222222222222222,\"#7201a8\"],[0.3333333333333333,\"#9c179e\"],[0.4444444444444444,\"#bd3786\"],[0.5555555555555556,\"#d8576b\"],[0.6666666666666666,\"#ed7953\"],[0.7777777777777778,\"#fb9f3a\"],[0.8888888888888888,\"#fdca26\"],[1.0,\"#f0f921\"]],\"type\":\"heatmapgl\"}],\"histogram\":[{\"marker\":{\"pattern\":{\"fillmode\":\"overlay\",\"size\":10,\"solidity\":0.2}},\"type\":\"histogram\"}],\"histogram2d\":[{\"colorbar\":{\"outlinewidth\":0,\"ticks\":\"\"},\"colorscale\":[[0.0,\"#0d0887\"],[0.1111111111111111,\"#46039f\"],[0.2222222222222222,\"#7201a8\"],[0.3333333333333333,\"#9c179e\"],[0.4444444444444444,\"#bd3786\"],[0.5555555555555556,\"#d8576b\"],[0.6666666666666666,\"#ed7953\"],[0.7777777777777778,\"#fb9f3a\"],[0.8888888888888888,\"#fdca26\"],[1.0,\"#f0f921\"]],\"type\":\"histogram2d\"}],\"histogram2dcontour\":[{\"colorbar\":{\"outlinewidth\":0,\"ticks\":\"\"},\"colorscale\":[[0.0,\"#0d0887\"],[0.1111111111111111,\"#46039f\"],[0.2222222222222222,\"#7201a8\"],[0.3333333333333333,\"#9c179e\"],[0.4444444444444444,\"#bd3786\"],[0.5555555555555556,\"#d8576b\"],[0.6666666666666666,\"#ed7953\"],[0.7777777777777778,\"#fb9f3a\"],[0.8888888888888888,\"#fdca26\"],[1.0,\"#f0f921\"]],\"type\":\"histogram2dcontour\"}],\"mesh3d\":[{\"colorbar\":{\"outlinewidth\":0,\"ticks\":\"\"},\"type\":\"mesh3d\"}],\"parcoords\":[{\"line\":{\"colorbar\":{\"outlinewidth\":0,\"ticks\":\"\"}},\"type\":\"parcoords\"}],\"pie\":[{\"automargin\":true,\"type\":\"pie\"}],\"scatter\":[{\"marker\":{\"colorbar\":{\"outlinewidth\":0,\"ticks\":\"\"}},\"type\":\"scatter\"}],\"scatter3d\":[{\"line\":{\"colorbar\":{\"outlinewidth\":0,\"ticks\":\"\"}},\"marker\":{\"colorbar\":{\"outlinewidth\":0,\"ticks\":\"\"}},\"type\":\"scatter3d\"}],\"scattercarpet\":[{\"marker\":{\"colorbar\":{\"outlinewidth\":0,\"ticks\":\"\"}},\"type\":\"scattercarpet\"}],\"scattergeo\":[{\"marker\":{\"colorbar\":{\"outlinewidth\":0,\"ticks\":\"\"}},\"type\":\"scattergeo\"}],\"scattergl\":[{\"marker\":{\"colorbar\":{\"outlinewidth\":0,\"ticks\":\"\"}},\"type\":\"scattergl\"}],\"scattermapbox\":[{\"marker\":{\"colorbar\":{\"outlinewidth\":0,\"ticks\":\"\"}},\"type\":\"scattermapbox\"}],\"scatterpolar\":[{\"marker\":{\"colorbar\":{\"outlinewidth\":0,\"ticks\":\"\"}},\"type\":\"scatterpolar\"}],\"scatterpolargl\":[{\"marker\":{\"colorbar\":{\"outlinewidth\":0,\"ticks\":\"\"}},\"type\":\"scatterpolargl\"}],\"scatterternary\":[{\"marker\":{\"colorbar\":{\"outlinewidth\":0,\"ticks\":\"\"}},\"type\":\"scatterternary\"}],\"surface\":[{\"colorbar\":{\"outlinewidth\":0,\"ticks\":\"\"},\"colorscale\":[[0.0,\"#0d0887\"],[0.1111111111111111,\"#46039f\"],[0.2222222222222222,\"#7201a8\"],[0.3333333333333333,\"#9c179e\"],[0.4444444444444444,\"#bd3786\"],[0.5555555555555556,\"#d8576b\"],[0.6666666666666666,\"#ed7953\"],[0.7777777777777778,\"#fb9f3a\"],[0.8888888888888888,\"#fdca26\"],[1.0,\"#f0f921\"]],\"type\":\"surface\"}],\"table\":[{\"cells\":{\"fill\":{\"color\":\"#EBF0F8\"},\"line\":{\"color\":\"white\"}},\"header\":{\"fill\":{\"color\":\"#C8D4E3\"},\"line\":{\"color\":\"white\"}},\"type\":\"table\"}]},\"layout\":{\"annotationdefaults\":{\"arrowcolor\":\"#2a3f5f\",\"arrowhead\":0,\"arrowwidth\":1},\"autotypenumbers\":\"strict\",\"coloraxis\":{\"colorbar\":{\"outlinewidth\":0,\"ticks\":\"\"}},\"colorscale\":{\"diverging\":[[0,\"#8e0152\"],[0.1,\"#c51b7d\"],[0.2,\"#de77ae\"],[0.3,\"#f1b6da\"],[0.4,\"#fde0ef\"],[0.5,\"#f7f7f7\"],[0.6,\"#e6f5d0\"],[0.7,\"#b8e186\"],[0.8,\"#7fbc41\"],[0.9,\"#4d9221\"],[1,\"#276419\"]],\"sequential\":[[0.0,\"#0d0887\"],[0.1111111111111111,\"#46039f\"],[0.2222222222222222,\"#7201a8\"],[0.3333333333333333,\"#9c179e\"],[0.4444444444444444,\"#bd3786\"],[0.5555555555555556,\"#d8576b\"],[0.6666666666666666,\"#ed7953\"],[0.7777777777777778,\"#fb9f3a\"],[0.8888888888888888,\"#fdca26\"],[1.0,\"#f0f921\"]],\"sequentialminus\":[[0.0,\"#0d0887\"],[0.1111111111111111,\"#46039f\"],[0.2222222222222222,\"#7201a8\"],[0.3333333333333333,\"#9c179e\"],[0.4444444444444444,\"#bd3786\"],[0.5555555555555556,\"#d8576b\"],[0.6666666666666666,\"#ed7953\"],[0.7777777777777778,\"#fb9f3a\"],[0.8888888888888888,\"#fdca26\"],[1.0,\"#f0f921\"]]},\"colorway\":[\"#636efa\",\"#EF553B\",\"#00cc96\",\"#ab63fa\",\"#FFA15A\",\"#19d3f3\",\"#FF6692\",\"#B6E880\",\"#FF97FF\",\"#FECB52\"],\"font\":{\"color\":\"#2a3f5f\"},\"geo\":{\"bgcolor\":\"white\",\"lakecolor\":\"white\",\"landcolor\":\"#E5ECF6\",\"showlakes\":true,\"showland\":true,\"subunitcolor\":\"white\"},\"hoverlabel\":{\"align\":\"left\"},\"hovermode\":\"closest\",\"mapbox\":{\"style\":\"light\"},\"paper_bgcolor\":\"white\",\"plot_bgcolor\":\"#E5ECF6\",\"polar\":{\"angularaxis\":{\"gridcolor\":\"white\",\"linecolor\":\"white\",\"ticks\":\"\"},\"bgcolor\":\"#E5ECF6\",\"radialaxis\":{\"gridcolor\":\"white\",\"linecolor\":\"white\",\"ticks\":\"\"}},\"scene\":{\"xaxis\":{\"backgroundcolor\":\"#E5ECF6\",\"gridcolor\":\"white\",\"gridwidth\":2,\"linecolor\":\"white\",\"showbackground\":true,\"ticks\":\"\",\"zerolinecolor\":\"white\"},\"yaxis\":{\"backgroundcolor\":\"#E5ECF6\",\"gridcolor\":\"white\",\"gridwidth\":2,\"linecolor\":\"white\",\"showbackground\":true,\"ticks\":\"\",\"zerolinecolor\":\"white\"},\"zaxis\":{\"backgroundcolor\":\"#E5ECF6\",\"gridcolor\":\"white\",\"gridwidth\":2,\"linecolor\":\"white\",\"showbackground\":true,\"ticks\":\"\",\"zerolinecolor\":\"white\"}},\"shapedefaults\":{\"line\":{\"color\":\"#2a3f5f\"}},\"ternary\":{\"aaxis\":{\"gridcolor\":\"white\",\"linecolor\":\"white\",\"ticks\":\"\"},\"baxis\":{\"gridcolor\":\"white\",\"linecolor\":\"white\",\"ticks\":\"\"},\"bgcolor\":\"#E5ECF6\",\"caxis\":{\"gridcolor\":\"white\",\"linecolor\":\"white\",\"ticks\":\"\"}},\"title\":{\"x\":0.05},\"xaxis\":{\"automargin\":true,\"gridcolor\":\"white\",\"linecolor\":\"white\",\"ticks\":\"\",\"title\":{\"standoff\":15},\"zerolinecolor\":\"white\",\"zerolinewidth\":2},\"yaxis\":{\"automargin\":true,\"gridcolor\":\"white\",\"linecolor\":\"white\",\"ticks\":\"\",\"title\":{\"standoff\":15},\"zerolinecolor\":\"white\",\"zerolinewidth\":2}}},\"title\":{\"text\":\"Tempos m\\u00e9dio entre a consulta e o diagn\\u00f3tico ao longo dos anos [Dias/Ano]\"},\"xaxis\":{\"title\":{\"text\":\"Ano\",\"font\":{\"size\":16}},\"tickfont\":{\"size\":14}},\"yaxis\":{\"title\":{\"text\":\"M\\u00e9dia em dias\",\"font\":{\"size\":16}},\"tickfont\":{\"size\":14}},\"barmode\":\"group\",\"bargap\":0.15,\"plot_bgcolor\":\"lightgrey\"},                        {\"responsive\": true}                    ).then(function(){\n",
              "                            \n",
              "var gd = document.getElementById('6d4ac16c-fab3-476b-bd4e-ca2c5ff4b535');\n",
              "var x = new MutationObserver(function (mutations, observer) {{\n",
              "        var display = window.getComputedStyle(gd).display;\n",
              "        if (!display || display === 'none') {{\n",
              "            console.log([gd, 'removed!']);\n",
              "            Plotly.purge(gd);\n",
              "            observer.disconnect();\n",
              "        }}\n",
              "}});\n",
              "\n",
              "// Listen for the removal of the full notebook cells\n",
              "var notebookContainer = gd.closest('#notebook-container');\n",
              "if (notebookContainer) {{\n",
              "    x.observe(notebookContainer, {childList: true});\n",
              "}}\n",
              "\n",
              "// Listen for the clearing of the current output cell\n",
              "var outputEl = gd.closest('.output');\n",
              "if (outputEl) {{\n",
              "    x.observe(outputEl, {childList: true});\n",
              "}}\n",
              "\n",
              "                        })                };                            </script>        </div>\n",
              "</body>\n",
              "</html>"
            ]
          },
          "metadata": {}
        }
      ]
    },
    {
      "cell_type": "markdown",
      "source": [
        "**Cidades**"
      ],
      "metadata": {
        "id": "31B0texYYDPC"
      }
    },
    {
      "cell_type": "code",
      "source": [
        "import plotly.graph_objects as go\n",
        "\n",
        "years = np.sort(data.ANODIAG.unique())\n",
        "\n",
        "#Pessoas sem dignóstico prévio e sem tratamento\n",
        "dfdiag = data[data.DIAGPREV == 1]\n",
        "sao = dfdiag.loc[dfdiag.CIDADEH == 'São Paulo'].groupby('ANODIAG').median()['CONSDIAG'].values\n",
        "bar = dfdiag.loc[dfdiag.CIDADEH == 'Barretos'].groupby('ANODIAG').median()['CONSDIAG'].values\n",
        "jau = dfdiag.loc[dfdiag.CIDADEH == 'Jau'].groupby('ANODIAG').median()['CONSDIAG'].values\n",
        "sjr = dfdiag.loc[dfdiag.CIDADEH == 'São José do Rio Preto'].groupby('ANODIAG').median()['CONSDIAG'].values\n",
        "rbp = dfdiag.loc[dfdiag.CIDADEH == 'Ribeirão Preto'].groupby('ANODIAG').median()['CONSDIAG'].values\n",
        "\n",
        "\n",
        "fig = go.Figure()\n",
        "fig.add_trace(go.Scatter(x=years,\n",
        "                y=sao,\n",
        "                name='São Paulo',\n",
        "                marker_color='rgb(0, 0, 255)'\n",
        "                ))\n",
        "\n",
        "fig.add_trace(go.Scatter(x=years,\n",
        "                y=sjr,\n",
        "                name='São José do Rio Preto',\n",
        "                marker_color='rgb(0, 255, 255)'\n",
        "                ))\n",
        "\n",
        "fig.add_trace(go.Scatter(x=years,\n",
        "                y=rbp,\n",
        "                name='Ribeirão Preto',\n",
        "                marker_color='rgb(255, 0, 255)'\n",
        "                ))\n",
        "\n",
        "\n",
        "fig.update_layout(title = dict(text = 'Tempo médio entre consulta e diagnóstico nas 5 cidades com mais dados'),\n",
        "                  xaxis = dict(title='Ano', titlefont_size=16, tickfont_size=14),\n",
        "                  yaxis = dict(title='Tempo médio em dias', titlefont_size=16, tickfont_size=14),\n",
        "                  legend=dict(x=1, y=1, bgcolor='rgba(255, 255, 255, 0)', \n",
        "                  bordercolor='rgba(255, 255, 255, 0)'),\n",
        "                  height = 800,\n",
        "                  plot_bgcolor='darkgray'\n",
        "                  )\n",
        "fig.show()"
      ],
      "metadata": {
        "colab": {
          "base_uri": "https://localhost:8080/",
          "height": 817
        },
        "id": "clgGhW9bYH4c",
        "outputId": "d64b7f8d-cd47-4342-a547-5bff857e8c90"
      },
      "execution_count": 257,
      "outputs": [
        {
          "output_type": "display_data",
          "data": {
            "text/html": [
              "<html>\n",
              "<head><meta charset=\"utf-8\" /></head>\n",
              "<body>\n",
              "    <div>            <script src=\"https://cdnjs.cloudflare.com/ajax/libs/mathjax/2.7.5/MathJax.js?config=TeX-AMS-MML_SVG\"></script><script type=\"text/javascript\">if (window.MathJax) {MathJax.Hub.Config({SVG: {font: \"STIX-Web\"}});}</script>                <script type=\"text/javascript\">window.PlotlyConfig = {MathJaxConfig: 'local'};</script>\n",
              "        <script src=\"https://cdn.plot.ly/plotly-2.8.3.min.js\"></script>                <div id=\"bb330382-01ba-4abe-8933-1fefb1c91a6c\" class=\"plotly-graph-div\" style=\"height:800px; width:100%;\"></div>            <script type=\"text/javascript\">                                    window.PLOTLYENV=window.PLOTLYENV || {};                                    if (document.getElementById(\"bb330382-01ba-4abe-8933-1fefb1c91a6c\")) {                    Plotly.newPlot(                        \"bb330382-01ba-4abe-8933-1fefb1c91a6c\",                        [{\"marker\":{\"color\":\"rgb(0, 0, 255)\"},\"name\":\"S\\u00e3o Paulo\",\"x\":[2000,2001,2002,2003,2004,2005,2006,2007,2008,2009,2010,2011,2012,2013,2014,2015,2016,2017],\"y\":[19.5,17.0,8.0,8.5,11.0,8.0,7.0,8.0,6.0,5.0,7.0,8.0,14.0,12.0,8.0,7.0,7.0,10.0],\"type\":\"scatter\"},{\"marker\":{\"color\":\"rgb(0, 255, 255)\"},\"name\":\"S\\u00e3o Jos\\u00e9 do Rio Preto\",\"x\":[2000,2001,2002,2003,2004,2005,2006,2007,2008,2009,2010,2011,2012,2013,2014,2015,2016,2017],\"y\":[6.5,8.0,7.0,10.5,7.0,1.0,1.0,1.0,1.0,1.0,1.0,0.0,1.0,1.0,2.5,1.0,1.0,1.0],\"type\":\"scatter\"},{\"marker\":{\"color\":\"rgb(255, 0, 255)\"},\"name\":\"Ribeir\\u00e3o Preto\",\"x\":[2000,2001,2002,2003,2004,2005,2006,2007,2008,2009,2010,2011,2012,2013,2014,2015,2016,2017],\"y\":[22.0,12.5,7.0,3.5,1.0,5.5,4.0,0.0,0.0,42.5,1.5,0.0,9.0,0.0,0.0,0.0,0.0,0.0],\"type\":\"scatter\"}],                        {\"template\":{\"data\":{\"bar\":[{\"error_x\":{\"color\":\"#2a3f5f\"},\"error_y\":{\"color\":\"#2a3f5f\"},\"marker\":{\"line\":{\"color\":\"#E5ECF6\",\"width\":0.5},\"pattern\":{\"fillmode\":\"overlay\",\"size\":10,\"solidity\":0.2}},\"type\":\"bar\"}],\"barpolar\":[{\"marker\":{\"line\":{\"color\":\"#E5ECF6\",\"width\":0.5},\"pattern\":{\"fillmode\":\"overlay\",\"size\":10,\"solidity\":0.2}},\"type\":\"barpolar\"}],\"carpet\":[{\"aaxis\":{\"endlinecolor\":\"#2a3f5f\",\"gridcolor\":\"white\",\"linecolor\":\"white\",\"minorgridcolor\":\"white\",\"startlinecolor\":\"#2a3f5f\"},\"baxis\":{\"endlinecolor\":\"#2a3f5f\",\"gridcolor\":\"white\",\"linecolor\":\"white\",\"minorgridcolor\":\"white\",\"startlinecolor\":\"#2a3f5f\"},\"type\":\"carpet\"}],\"choropleth\":[{\"colorbar\":{\"outlinewidth\":0,\"ticks\":\"\"},\"type\":\"choropleth\"}],\"contour\":[{\"colorbar\":{\"outlinewidth\":0,\"ticks\":\"\"},\"colorscale\":[[0.0,\"#0d0887\"],[0.1111111111111111,\"#46039f\"],[0.2222222222222222,\"#7201a8\"],[0.3333333333333333,\"#9c179e\"],[0.4444444444444444,\"#bd3786\"],[0.5555555555555556,\"#d8576b\"],[0.6666666666666666,\"#ed7953\"],[0.7777777777777778,\"#fb9f3a\"],[0.8888888888888888,\"#fdca26\"],[1.0,\"#f0f921\"]],\"type\":\"contour\"}],\"contourcarpet\":[{\"colorbar\":{\"outlinewidth\":0,\"ticks\":\"\"},\"type\":\"contourcarpet\"}],\"heatmap\":[{\"colorbar\":{\"outlinewidth\":0,\"ticks\":\"\"},\"colorscale\":[[0.0,\"#0d0887\"],[0.1111111111111111,\"#46039f\"],[0.2222222222222222,\"#7201a8\"],[0.3333333333333333,\"#9c179e\"],[0.4444444444444444,\"#bd3786\"],[0.5555555555555556,\"#d8576b\"],[0.6666666666666666,\"#ed7953\"],[0.7777777777777778,\"#fb9f3a\"],[0.8888888888888888,\"#fdca26\"],[1.0,\"#f0f921\"]],\"type\":\"heatmap\"}],\"heatmapgl\":[{\"colorbar\":{\"outlinewidth\":0,\"ticks\":\"\"},\"colorscale\":[[0.0,\"#0d0887\"],[0.1111111111111111,\"#46039f\"],[0.2222222222222222,\"#7201a8\"],[0.3333333333333333,\"#9c179e\"],[0.4444444444444444,\"#bd3786\"],[0.5555555555555556,\"#d8576b\"],[0.6666666666666666,\"#ed7953\"],[0.7777777777777778,\"#fb9f3a\"],[0.8888888888888888,\"#fdca26\"],[1.0,\"#f0f921\"]],\"type\":\"heatmapgl\"}],\"histogram\":[{\"marker\":{\"pattern\":{\"fillmode\":\"overlay\",\"size\":10,\"solidity\":0.2}},\"type\":\"histogram\"}],\"histogram2d\":[{\"colorbar\":{\"outlinewidth\":0,\"ticks\":\"\"},\"colorscale\":[[0.0,\"#0d0887\"],[0.1111111111111111,\"#46039f\"],[0.2222222222222222,\"#7201a8\"],[0.3333333333333333,\"#9c179e\"],[0.4444444444444444,\"#bd3786\"],[0.5555555555555556,\"#d8576b\"],[0.6666666666666666,\"#ed7953\"],[0.7777777777777778,\"#fb9f3a\"],[0.8888888888888888,\"#fdca26\"],[1.0,\"#f0f921\"]],\"type\":\"histogram2d\"}],\"histogram2dcontour\":[{\"colorbar\":{\"outlinewidth\":0,\"ticks\":\"\"},\"colorscale\":[[0.0,\"#0d0887\"],[0.1111111111111111,\"#46039f\"],[0.2222222222222222,\"#7201a8\"],[0.3333333333333333,\"#9c179e\"],[0.4444444444444444,\"#bd3786\"],[0.5555555555555556,\"#d8576b\"],[0.6666666666666666,\"#ed7953\"],[0.7777777777777778,\"#fb9f3a\"],[0.8888888888888888,\"#fdca26\"],[1.0,\"#f0f921\"]],\"type\":\"histogram2dcontour\"}],\"mesh3d\":[{\"colorbar\":{\"outlinewidth\":0,\"ticks\":\"\"},\"type\":\"mesh3d\"}],\"parcoords\":[{\"line\":{\"colorbar\":{\"outlinewidth\":0,\"ticks\":\"\"}},\"type\":\"parcoords\"}],\"pie\":[{\"automargin\":true,\"type\":\"pie\"}],\"scatter\":[{\"marker\":{\"colorbar\":{\"outlinewidth\":0,\"ticks\":\"\"}},\"type\":\"scatter\"}],\"scatter3d\":[{\"line\":{\"colorbar\":{\"outlinewidth\":0,\"ticks\":\"\"}},\"marker\":{\"colorbar\":{\"outlinewidth\":0,\"ticks\":\"\"}},\"type\":\"scatter3d\"}],\"scattercarpet\":[{\"marker\":{\"colorbar\":{\"outlinewidth\":0,\"ticks\":\"\"}},\"type\":\"scattercarpet\"}],\"scattergeo\":[{\"marker\":{\"colorbar\":{\"outlinewidth\":0,\"ticks\":\"\"}},\"type\":\"scattergeo\"}],\"scattergl\":[{\"marker\":{\"colorbar\":{\"outlinewidth\":0,\"ticks\":\"\"}},\"type\":\"scattergl\"}],\"scattermapbox\":[{\"marker\":{\"colorbar\":{\"outlinewidth\":0,\"ticks\":\"\"}},\"type\":\"scattermapbox\"}],\"scatterpolar\":[{\"marker\":{\"colorbar\":{\"outlinewidth\":0,\"ticks\":\"\"}},\"type\":\"scatterpolar\"}],\"scatterpolargl\":[{\"marker\":{\"colorbar\":{\"outlinewidth\":0,\"ticks\":\"\"}},\"type\":\"scatterpolargl\"}],\"scatterternary\":[{\"marker\":{\"colorbar\":{\"outlinewidth\":0,\"ticks\":\"\"}},\"type\":\"scatterternary\"}],\"surface\":[{\"colorbar\":{\"outlinewidth\":0,\"ticks\":\"\"},\"colorscale\":[[0.0,\"#0d0887\"],[0.1111111111111111,\"#46039f\"],[0.2222222222222222,\"#7201a8\"],[0.3333333333333333,\"#9c179e\"],[0.4444444444444444,\"#bd3786\"],[0.5555555555555556,\"#d8576b\"],[0.6666666666666666,\"#ed7953\"],[0.7777777777777778,\"#fb9f3a\"],[0.8888888888888888,\"#fdca26\"],[1.0,\"#f0f921\"]],\"type\":\"surface\"}],\"table\":[{\"cells\":{\"fill\":{\"color\":\"#EBF0F8\"},\"line\":{\"color\":\"white\"}},\"header\":{\"fill\":{\"color\":\"#C8D4E3\"},\"line\":{\"color\":\"white\"}},\"type\":\"table\"}]},\"layout\":{\"annotationdefaults\":{\"arrowcolor\":\"#2a3f5f\",\"arrowhead\":0,\"arrowwidth\":1},\"autotypenumbers\":\"strict\",\"coloraxis\":{\"colorbar\":{\"outlinewidth\":0,\"ticks\":\"\"}},\"colorscale\":{\"diverging\":[[0,\"#8e0152\"],[0.1,\"#c51b7d\"],[0.2,\"#de77ae\"],[0.3,\"#f1b6da\"],[0.4,\"#fde0ef\"],[0.5,\"#f7f7f7\"],[0.6,\"#e6f5d0\"],[0.7,\"#b8e186\"],[0.8,\"#7fbc41\"],[0.9,\"#4d9221\"],[1,\"#276419\"]],\"sequential\":[[0.0,\"#0d0887\"],[0.1111111111111111,\"#46039f\"],[0.2222222222222222,\"#7201a8\"],[0.3333333333333333,\"#9c179e\"],[0.4444444444444444,\"#bd3786\"],[0.5555555555555556,\"#d8576b\"],[0.6666666666666666,\"#ed7953\"],[0.7777777777777778,\"#fb9f3a\"],[0.8888888888888888,\"#fdca26\"],[1.0,\"#f0f921\"]],\"sequentialminus\":[[0.0,\"#0d0887\"],[0.1111111111111111,\"#46039f\"],[0.2222222222222222,\"#7201a8\"],[0.3333333333333333,\"#9c179e\"],[0.4444444444444444,\"#bd3786\"],[0.5555555555555556,\"#d8576b\"],[0.6666666666666666,\"#ed7953\"],[0.7777777777777778,\"#fb9f3a\"],[0.8888888888888888,\"#fdca26\"],[1.0,\"#f0f921\"]]},\"colorway\":[\"#636efa\",\"#EF553B\",\"#00cc96\",\"#ab63fa\",\"#FFA15A\",\"#19d3f3\",\"#FF6692\",\"#B6E880\",\"#FF97FF\",\"#FECB52\"],\"font\":{\"color\":\"#2a3f5f\"},\"geo\":{\"bgcolor\":\"white\",\"lakecolor\":\"white\",\"landcolor\":\"#E5ECF6\",\"showlakes\":true,\"showland\":true,\"subunitcolor\":\"white\"},\"hoverlabel\":{\"align\":\"left\"},\"hovermode\":\"closest\",\"mapbox\":{\"style\":\"light\"},\"paper_bgcolor\":\"white\",\"plot_bgcolor\":\"#E5ECF6\",\"polar\":{\"angularaxis\":{\"gridcolor\":\"white\",\"linecolor\":\"white\",\"ticks\":\"\"},\"bgcolor\":\"#E5ECF6\",\"radialaxis\":{\"gridcolor\":\"white\",\"linecolor\":\"white\",\"ticks\":\"\"}},\"scene\":{\"xaxis\":{\"backgroundcolor\":\"#E5ECF6\",\"gridcolor\":\"white\",\"gridwidth\":2,\"linecolor\":\"white\",\"showbackground\":true,\"ticks\":\"\",\"zerolinecolor\":\"white\"},\"yaxis\":{\"backgroundcolor\":\"#E5ECF6\",\"gridcolor\":\"white\",\"gridwidth\":2,\"linecolor\":\"white\",\"showbackground\":true,\"ticks\":\"\",\"zerolinecolor\":\"white\"},\"zaxis\":{\"backgroundcolor\":\"#E5ECF6\",\"gridcolor\":\"white\",\"gridwidth\":2,\"linecolor\":\"white\",\"showbackground\":true,\"ticks\":\"\",\"zerolinecolor\":\"white\"}},\"shapedefaults\":{\"line\":{\"color\":\"#2a3f5f\"}},\"ternary\":{\"aaxis\":{\"gridcolor\":\"white\",\"linecolor\":\"white\",\"ticks\":\"\"},\"baxis\":{\"gridcolor\":\"white\",\"linecolor\":\"white\",\"ticks\":\"\"},\"bgcolor\":\"#E5ECF6\",\"caxis\":{\"gridcolor\":\"white\",\"linecolor\":\"white\",\"ticks\":\"\"}},\"title\":{\"x\":0.05},\"xaxis\":{\"automargin\":true,\"gridcolor\":\"white\",\"linecolor\":\"white\",\"ticks\":\"\",\"title\":{\"standoff\":15},\"zerolinecolor\":\"white\",\"zerolinewidth\":2},\"yaxis\":{\"automargin\":true,\"gridcolor\":\"white\",\"linecolor\":\"white\",\"ticks\":\"\",\"title\":{\"standoff\":15},\"zerolinecolor\":\"white\",\"zerolinewidth\":2}}},\"title\":{\"text\":\"Tempo m\\u00e9dio entre consulta e diagn\\u00f3stico nas 5 cidades com mais dados\"},\"xaxis\":{\"title\":{\"text\":\"Ano\",\"font\":{\"size\":16}},\"tickfont\":{\"size\":14}},\"yaxis\":{\"title\":{\"text\":\"Tempo m\\u00e9dio em dias\",\"font\":{\"size\":16}},\"tickfont\":{\"size\":14}},\"legend\":{\"x\":1,\"y\":1,\"bgcolor\":\"rgba(255, 255, 255, 0)\",\"bordercolor\":\"rgba(255, 255, 255, 0)\"},\"height\":800,\"plot_bgcolor\":\"darkgray\"},                        {\"responsive\": true}                    ).then(function(){\n",
              "                            \n",
              "var gd = document.getElementById('bb330382-01ba-4abe-8933-1fefb1c91a6c');\n",
              "var x = new MutationObserver(function (mutations, observer) {{\n",
              "        var display = window.getComputedStyle(gd).display;\n",
              "        if (!display || display === 'none') {{\n",
              "            console.log([gd, 'removed!']);\n",
              "            Plotly.purge(gd);\n",
              "            observer.disconnect();\n",
              "        }}\n",
              "}});\n",
              "\n",
              "// Listen for the removal of the full notebook cells\n",
              "var notebookContainer = gd.closest('#notebook-container');\n",
              "if (notebookContainer) {{\n",
              "    x.observe(notebookContainer, {childList: true});\n",
              "}}\n",
              "\n",
              "// Listen for the clearing of the current output cell\n",
              "var outputEl = gd.closest('.output');\n",
              "if (outputEl) {{\n",
              "    x.observe(outputEl, {childList: true});\n",
              "}}\n",
              "\n",
              "                        })                };                            </script>        </div>\n",
              "</body>\n",
              "</html>"
            ]
          },
          "metadata": {}
        }
      ]
    },
    {
      "cell_type": "markdown",
      "source": [
        "### **Tempo em dias entre a consulta e o início do tratamento**"
      ],
      "metadata": {
        "id": "kpOqDcPiRdSr"
      }
    },
    {
      "cell_type": "markdown",
      "source": [
        "**Geral**"
      ],
      "metadata": {
        "id": "bmYUE2OEfZP1"
      }
    },
    {
      "cell_type": "code",
      "source": [
        "import plotly.graph_objects as go\n",
        "\n",
        "years = np.sort(data.ANODIAG.unique())\n",
        "#Pessoas sem dignóstico prévio e sem tratamento\n",
        "media = data[data.DIAGPREV == 1].groupby('ANODIAG').median()['TRATCONS'].values\n",
        "\n",
        "fig = go.Figure()\n",
        "fig.add_trace(go.Scatter(x=years,\n",
        "                y=media,\n",
        "                marker_color='rgb(0,0,0)'\n",
        "                ))\n",
        "\n",
        "fig.update_layout(title = dict(text = 'Tempos médio entre a consulta e o diagnótico ao longo dos anos [Dias/Ano]'),\n",
        "                  xaxis = dict(title='Ano', titlefont_size=16, tickfont_size=14),\n",
        "                  yaxis = dict(title='Média em dias', titlefont_size=16, tickfont_size=14),\n",
        "                  barmode='group',\n",
        "                  bargap=0.15, # gap between bars of adjacent location coordinates.\n",
        "                  plot_bgcolor='lightgrey'\n",
        "                  )\n",
        "fig.show()"
      ],
      "metadata": {
        "colab": {
          "base_uri": "https://localhost:8080/",
          "height": 542
        },
        "outputId": "44fef47b-3673-4b54-dd73-423f6553aa2a",
        "id": "Rv0SdtkBfZP3"
      },
      "execution_count": 217,
      "outputs": [
        {
          "output_type": "display_data",
          "data": {
            "text/html": [
              "<html>\n",
              "<head><meta charset=\"utf-8\" /></head>\n",
              "<body>\n",
              "    <div>            <script src=\"https://cdnjs.cloudflare.com/ajax/libs/mathjax/2.7.5/MathJax.js?config=TeX-AMS-MML_SVG\"></script><script type=\"text/javascript\">if (window.MathJax) {MathJax.Hub.Config({SVG: {font: \"STIX-Web\"}});}</script>                <script type=\"text/javascript\">window.PlotlyConfig = {MathJaxConfig: 'local'};</script>\n",
              "        <script src=\"https://cdn.plot.ly/plotly-2.8.3.min.js\"></script>                <div id=\"6600ca14-ad58-4eed-899b-b65f1d488761\" class=\"plotly-graph-div\" style=\"height:525px; width:100%;\"></div>            <script type=\"text/javascript\">                                    window.PLOTLYENV=window.PLOTLYENV || {};                                    if (document.getElementById(\"6600ca14-ad58-4eed-899b-b65f1d488761\")) {                    Plotly.newPlot(                        \"6600ca14-ad58-4eed-899b-b65f1d488761\",                        [{\"marker\":{\"color\":\"rgb(0,0,0)\"},\"x\":[2000,2001,2002,2003,2004,2005,2006,2007,2008,2009,2010,2011,2012,2013,2014,2015,2016,2017],\"y\":[46.5,46.0,42.0,47.0,41.5,38.5,40.0,52.0,37.0,57.0,50.0,73.0,63.0,55.0,59.0,64.0,63.0,76.0],\"type\":\"scatter\"}],                        {\"template\":{\"data\":{\"bar\":[{\"error_x\":{\"color\":\"#2a3f5f\"},\"error_y\":{\"color\":\"#2a3f5f\"},\"marker\":{\"line\":{\"color\":\"#E5ECF6\",\"width\":0.5},\"pattern\":{\"fillmode\":\"overlay\",\"size\":10,\"solidity\":0.2}},\"type\":\"bar\"}],\"barpolar\":[{\"marker\":{\"line\":{\"color\":\"#E5ECF6\",\"width\":0.5},\"pattern\":{\"fillmode\":\"overlay\",\"size\":10,\"solidity\":0.2}},\"type\":\"barpolar\"}],\"carpet\":[{\"aaxis\":{\"endlinecolor\":\"#2a3f5f\",\"gridcolor\":\"white\",\"linecolor\":\"white\",\"minorgridcolor\":\"white\",\"startlinecolor\":\"#2a3f5f\"},\"baxis\":{\"endlinecolor\":\"#2a3f5f\",\"gridcolor\":\"white\",\"linecolor\":\"white\",\"minorgridcolor\":\"white\",\"startlinecolor\":\"#2a3f5f\"},\"type\":\"carpet\"}],\"choropleth\":[{\"colorbar\":{\"outlinewidth\":0,\"ticks\":\"\"},\"type\":\"choropleth\"}],\"contour\":[{\"colorbar\":{\"outlinewidth\":0,\"ticks\":\"\"},\"colorscale\":[[0.0,\"#0d0887\"],[0.1111111111111111,\"#46039f\"],[0.2222222222222222,\"#7201a8\"],[0.3333333333333333,\"#9c179e\"],[0.4444444444444444,\"#bd3786\"],[0.5555555555555556,\"#d8576b\"],[0.6666666666666666,\"#ed7953\"],[0.7777777777777778,\"#fb9f3a\"],[0.8888888888888888,\"#fdca26\"],[1.0,\"#f0f921\"]],\"type\":\"contour\"}],\"contourcarpet\":[{\"colorbar\":{\"outlinewidth\":0,\"ticks\":\"\"},\"type\":\"contourcarpet\"}],\"heatmap\":[{\"colorbar\":{\"outlinewidth\":0,\"ticks\":\"\"},\"colorscale\":[[0.0,\"#0d0887\"],[0.1111111111111111,\"#46039f\"],[0.2222222222222222,\"#7201a8\"],[0.3333333333333333,\"#9c179e\"],[0.4444444444444444,\"#bd3786\"],[0.5555555555555556,\"#d8576b\"],[0.6666666666666666,\"#ed7953\"],[0.7777777777777778,\"#fb9f3a\"],[0.8888888888888888,\"#fdca26\"],[1.0,\"#f0f921\"]],\"type\":\"heatmap\"}],\"heatmapgl\":[{\"colorbar\":{\"outlinewidth\":0,\"ticks\":\"\"},\"colorscale\":[[0.0,\"#0d0887\"],[0.1111111111111111,\"#46039f\"],[0.2222222222222222,\"#7201a8\"],[0.3333333333333333,\"#9c179e\"],[0.4444444444444444,\"#bd3786\"],[0.5555555555555556,\"#d8576b\"],[0.6666666666666666,\"#ed7953\"],[0.7777777777777778,\"#fb9f3a\"],[0.8888888888888888,\"#fdca26\"],[1.0,\"#f0f921\"]],\"type\":\"heatmapgl\"}],\"histogram\":[{\"marker\":{\"pattern\":{\"fillmode\":\"overlay\",\"size\":10,\"solidity\":0.2}},\"type\":\"histogram\"}],\"histogram2d\":[{\"colorbar\":{\"outlinewidth\":0,\"ticks\":\"\"},\"colorscale\":[[0.0,\"#0d0887\"],[0.1111111111111111,\"#46039f\"],[0.2222222222222222,\"#7201a8\"],[0.3333333333333333,\"#9c179e\"],[0.4444444444444444,\"#bd3786\"],[0.5555555555555556,\"#d8576b\"],[0.6666666666666666,\"#ed7953\"],[0.7777777777777778,\"#fb9f3a\"],[0.8888888888888888,\"#fdca26\"],[1.0,\"#f0f921\"]],\"type\":\"histogram2d\"}],\"histogram2dcontour\":[{\"colorbar\":{\"outlinewidth\":0,\"ticks\":\"\"},\"colorscale\":[[0.0,\"#0d0887\"],[0.1111111111111111,\"#46039f\"],[0.2222222222222222,\"#7201a8\"],[0.3333333333333333,\"#9c179e\"],[0.4444444444444444,\"#bd3786\"],[0.5555555555555556,\"#d8576b\"],[0.6666666666666666,\"#ed7953\"],[0.7777777777777778,\"#fb9f3a\"],[0.8888888888888888,\"#fdca26\"],[1.0,\"#f0f921\"]],\"type\":\"histogram2dcontour\"}],\"mesh3d\":[{\"colorbar\":{\"outlinewidth\":0,\"ticks\":\"\"},\"type\":\"mesh3d\"}],\"parcoords\":[{\"line\":{\"colorbar\":{\"outlinewidth\":0,\"ticks\":\"\"}},\"type\":\"parcoords\"}],\"pie\":[{\"automargin\":true,\"type\":\"pie\"}],\"scatter\":[{\"marker\":{\"colorbar\":{\"outlinewidth\":0,\"ticks\":\"\"}},\"type\":\"scatter\"}],\"scatter3d\":[{\"line\":{\"colorbar\":{\"outlinewidth\":0,\"ticks\":\"\"}},\"marker\":{\"colorbar\":{\"outlinewidth\":0,\"ticks\":\"\"}},\"type\":\"scatter3d\"}],\"scattercarpet\":[{\"marker\":{\"colorbar\":{\"outlinewidth\":0,\"ticks\":\"\"}},\"type\":\"scattercarpet\"}],\"scattergeo\":[{\"marker\":{\"colorbar\":{\"outlinewidth\":0,\"ticks\":\"\"}},\"type\":\"scattergeo\"}],\"scattergl\":[{\"marker\":{\"colorbar\":{\"outlinewidth\":0,\"ticks\":\"\"}},\"type\":\"scattergl\"}],\"scattermapbox\":[{\"marker\":{\"colorbar\":{\"outlinewidth\":0,\"ticks\":\"\"}},\"type\":\"scattermapbox\"}],\"scatterpolar\":[{\"marker\":{\"colorbar\":{\"outlinewidth\":0,\"ticks\":\"\"}},\"type\":\"scatterpolar\"}],\"scatterpolargl\":[{\"marker\":{\"colorbar\":{\"outlinewidth\":0,\"ticks\":\"\"}},\"type\":\"scatterpolargl\"}],\"scatterternary\":[{\"marker\":{\"colorbar\":{\"outlinewidth\":0,\"ticks\":\"\"}},\"type\":\"scatterternary\"}],\"surface\":[{\"colorbar\":{\"outlinewidth\":0,\"ticks\":\"\"},\"colorscale\":[[0.0,\"#0d0887\"],[0.1111111111111111,\"#46039f\"],[0.2222222222222222,\"#7201a8\"],[0.3333333333333333,\"#9c179e\"],[0.4444444444444444,\"#bd3786\"],[0.5555555555555556,\"#d8576b\"],[0.6666666666666666,\"#ed7953\"],[0.7777777777777778,\"#fb9f3a\"],[0.8888888888888888,\"#fdca26\"],[1.0,\"#f0f921\"]],\"type\":\"surface\"}],\"table\":[{\"cells\":{\"fill\":{\"color\":\"#EBF0F8\"},\"line\":{\"color\":\"white\"}},\"header\":{\"fill\":{\"color\":\"#C8D4E3\"},\"line\":{\"color\":\"white\"}},\"type\":\"table\"}]},\"layout\":{\"annotationdefaults\":{\"arrowcolor\":\"#2a3f5f\",\"arrowhead\":0,\"arrowwidth\":1},\"autotypenumbers\":\"strict\",\"coloraxis\":{\"colorbar\":{\"outlinewidth\":0,\"ticks\":\"\"}},\"colorscale\":{\"diverging\":[[0,\"#8e0152\"],[0.1,\"#c51b7d\"],[0.2,\"#de77ae\"],[0.3,\"#f1b6da\"],[0.4,\"#fde0ef\"],[0.5,\"#f7f7f7\"],[0.6,\"#e6f5d0\"],[0.7,\"#b8e186\"],[0.8,\"#7fbc41\"],[0.9,\"#4d9221\"],[1,\"#276419\"]],\"sequential\":[[0.0,\"#0d0887\"],[0.1111111111111111,\"#46039f\"],[0.2222222222222222,\"#7201a8\"],[0.3333333333333333,\"#9c179e\"],[0.4444444444444444,\"#bd3786\"],[0.5555555555555556,\"#d8576b\"],[0.6666666666666666,\"#ed7953\"],[0.7777777777777778,\"#fb9f3a\"],[0.8888888888888888,\"#fdca26\"],[1.0,\"#f0f921\"]],\"sequentialminus\":[[0.0,\"#0d0887\"],[0.1111111111111111,\"#46039f\"],[0.2222222222222222,\"#7201a8\"],[0.3333333333333333,\"#9c179e\"],[0.4444444444444444,\"#bd3786\"],[0.5555555555555556,\"#d8576b\"],[0.6666666666666666,\"#ed7953\"],[0.7777777777777778,\"#fb9f3a\"],[0.8888888888888888,\"#fdca26\"],[1.0,\"#f0f921\"]]},\"colorway\":[\"#636efa\",\"#EF553B\",\"#00cc96\",\"#ab63fa\",\"#FFA15A\",\"#19d3f3\",\"#FF6692\",\"#B6E880\",\"#FF97FF\",\"#FECB52\"],\"font\":{\"color\":\"#2a3f5f\"},\"geo\":{\"bgcolor\":\"white\",\"lakecolor\":\"white\",\"landcolor\":\"#E5ECF6\",\"showlakes\":true,\"showland\":true,\"subunitcolor\":\"white\"},\"hoverlabel\":{\"align\":\"left\"},\"hovermode\":\"closest\",\"mapbox\":{\"style\":\"light\"},\"paper_bgcolor\":\"white\",\"plot_bgcolor\":\"#E5ECF6\",\"polar\":{\"angularaxis\":{\"gridcolor\":\"white\",\"linecolor\":\"white\",\"ticks\":\"\"},\"bgcolor\":\"#E5ECF6\",\"radialaxis\":{\"gridcolor\":\"white\",\"linecolor\":\"white\",\"ticks\":\"\"}},\"scene\":{\"xaxis\":{\"backgroundcolor\":\"#E5ECF6\",\"gridcolor\":\"white\",\"gridwidth\":2,\"linecolor\":\"white\",\"showbackground\":true,\"ticks\":\"\",\"zerolinecolor\":\"white\"},\"yaxis\":{\"backgroundcolor\":\"#E5ECF6\",\"gridcolor\":\"white\",\"gridwidth\":2,\"linecolor\":\"white\",\"showbackground\":true,\"ticks\":\"\",\"zerolinecolor\":\"white\"},\"zaxis\":{\"backgroundcolor\":\"#E5ECF6\",\"gridcolor\":\"white\",\"gridwidth\":2,\"linecolor\":\"white\",\"showbackground\":true,\"ticks\":\"\",\"zerolinecolor\":\"white\"}},\"shapedefaults\":{\"line\":{\"color\":\"#2a3f5f\"}},\"ternary\":{\"aaxis\":{\"gridcolor\":\"white\",\"linecolor\":\"white\",\"ticks\":\"\"},\"baxis\":{\"gridcolor\":\"white\",\"linecolor\":\"white\",\"ticks\":\"\"},\"bgcolor\":\"#E5ECF6\",\"caxis\":{\"gridcolor\":\"white\",\"linecolor\":\"white\",\"ticks\":\"\"}},\"title\":{\"x\":0.05},\"xaxis\":{\"automargin\":true,\"gridcolor\":\"white\",\"linecolor\":\"white\",\"ticks\":\"\",\"title\":{\"standoff\":15},\"zerolinecolor\":\"white\",\"zerolinewidth\":2},\"yaxis\":{\"automargin\":true,\"gridcolor\":\"white\",\"linecolor\":\"white\",\"ticks\":\"\",\"title\":{\"standoff\":15},\"zerolinecolor\":\"white\",\"zerolinewidth\":2}}},\"title\":{\"text\":\"Tempos m\\u00e9dio entre a consulta e o diagn\\u00f3tico ao longo dos anos [Dias/Ano]\"},\"xaxis\":{\"title\":{\"text\":\"Ano\",\"font\":{\"size\":16}},\"tickfont\":{\"size\":14}},\"yaxis\":{\"title\":{\"text\":\"M\\u00e9dia em dias\",\"font\":{\"size\":16}},\"tickfont\":{\"size\":14}},\"barmode\":\"group\",\"bargap\":0.15,\"plot_bgcolor\":\"lightgrey\"},                        {\"responsive\": true}                    ).then(function(){\n",
              "                            \n",
              "var gd = document.getElementById('6600ca14-ad58-4eed-899b-b65f1d488761');\n",
              "var x = new MutationObserver(function (mutations, observer) {{\n",
              "        var display = window.getComputedStyle(gd).display;\n",
              "        if (!display || display === 'none') {{\n",
              "            console.log([gd, 'removed!']);\n",
              "            Plotly.purge(gd);\n",
              "            observer.disconnect();\n",
              "        }}\n",
              "}});\n",
              "\n",
              "// Listen for the removal of the full notebook cells\n",
              "var notebookContainer = gd.closest('#notebook-container');\n",
              "if (notebookContainer) {{\n",
              "    x.observe(notebookContainer, {childList: true});\n",
              "}}\n",
              "\n",
              "// Listen for the clearing of the current output cell\n",
              "var outputEl = gd.closest('.output');\n",
              "if (outputEl) {{\n",
              "    x.observe(outputEl, {childList: true});\n",
              "}}\n",
              "\n",
              "                        })                };                            </script>        </div>\n",
              "</body>\n",
              "</html>"
            ]
          },
          "metadata": {}
        }
      ]
    },
    {
      "cell_type": "markdown",
      "source": [
        "**Cidades**"
      ],
      "metadata": {
        "id": "hPqZGqM4fZP5"
      }
    },
    {
      "cell_type": "code",
      "source": [
        "import plotly.graph_objects as go\n",
        "\n",
        "years = np.sort(data.ANODIAG.unique())\n",
        "\n",
        "#Pessoas sem dignóstico prévio e sem tratamento\n",
        "dfdiag = data[data.DIAGPREV == 1]\n",
        "sao = dfdiag.loc[dfdiag.CIDADEH == 'São Paulo'].groupby('ANODIAG').median()['TRATCONS'].values\n",
        "bar = dfdiag.loc[dfdiag.CIDADEH == 'Barretos'].groupby('ANODIAG').median()['TRATCONS'].values\n",
        "sjr = dfdiag.loc[dfdiag.CIDADEH == 'São José do Rio Preto'].groupby('ANODIAG').median()['TRATCONS'].values\n",
        "rbp = dfdiag.loc[dfdiag.CIDADEH == 'Ribeirão Preto'].groupby('ANODIAG').median()['TRATCONS'].values\n",
        "\n",
        "\n",
        "fig = go.Figure()\n",
        "fig.add_trace(go.Scatter(x=years,\n",
        "                y=sao,\n",
        "                name='São Paulo',\n",
        "                marker_color='rgb(0, 0, 255)'\n",
        "                ))\n",
        "\n",
        "fig.add_trace(go.Scatter(x=years,\n",
        "                y=bar,\n",
        "                name='Barretos',\n",
        "                marker_color='rgb(0, 255, 0)'\n",
        "                ))\n",
        "\n",
        "fig.add_trace(go.Scatter(x=years,\n",
        "                y=sjr,\n",
        "                name='São José do Rio Preto',\n",
        "                marker_color='rgb(0, 255, 255)'\n",
        "                ))\n",
        "\n",
        "fig.add_trace(go.Scatter(x=years,\n",
        "                y=rbp,\n",
        "                name='Ribeirão Preto',\n",
        "                marker_color='rgb(255, 0, 255)'\n",
        "                ))\n",
        "\n",
        "\n",
        "fig.update_layout(title = dict(text = 'Tempo médio entre consulta e diagnóstico nas 5 cidades com mais dados'),\n",
        "                  xaxis = dict(title='Ano', titlefont_size=16, tickfont_size=14),\n",
        "                  yaxis = dict(title='Tempo médio em dias', titlefont_size=16, tickfont_size=14),\n",
        "                  legend=dict(x=1, y=1, bgcolor='rgba(255, 255, 255, 0)', \n",
        "                  bordercolor='rgba(255, 255, 255, 0)'),\n",
        "                  plot_bgcolor='darkgray',\n",
        "                  height = 800\n",
        "                  )\n",
        "fig.show()"
      ],
      "metadata": {
        "colab": {
          "base_uri": "https://localhost:8080/",
          "height": 817
        },
        "outputId": "b4937cea-2ee4-4b26-e425-7a6cd6a553aa",
        "id": "-mDN270WfZP5"
      },
      "execution_count": 256,
      "outputs": [
        {
          "output_type": "display_data",
          "data": {
            "text/html": [
              "<html>\n",
              "<head><meta charset=\"utf-8\" /></head>\n",
              "<body>\n",
              "    <div>            <script src=\"https://cdnjs.cloudflare.com/ajax/libs/mathjax/2.7.5/MathJax.js?config=TeX-AMS-MML_SVG\"></script><script type=\"text/javascript\">if (window.MathJax) {MathJax.Hub.Config({SVG: {font: \"STIX-Web\"}});}</script>                <script type=\"text/javascript\">window.PlotlyConfig = {MathJaxConfig: 'local'};</script>\n",
              "        <script src=\"https://cdn.plot.ly/plotly-2.8.3.min.js\"></script>                <div id=\"81991309-4463-44c3-a41c-4af7152325c2\" class=\"plotly-graph-div\" style=\"height:800px; width:100%;\"></div>            <script type=\"text/javascript\">                                    window.PLOTLYENV=window.PLOTLYENV || {};                                    if (document.getElementById(\"81991309-4463-44c3-a41c-4af7152325c2\")) {                    Plotly.newPlot(                        \"81991309-4463-44c3-a41c-4af7152325c2\",                        [{\"marker\":{\"color\":\"rgb(0, 0, 255)\"},\"name\":\"S\\u00e3o Paulo\",\"x\":[2000,2001,2002,2003,2004,2005,2006,2007,2008,2009,2010,2011,2012,2013,2014,2015,2016,2017],\"y\":[59.0,66.0,67.0,72.5,50.5,50.0,48.0,69.0,36.5,64.0,64.0,85.5,84.0,68.5,79.5,69.0,65.0,82.0],\"type\":\"scatter\"},{\"marker\":{\"color\":\"rgb(0, 255, 0)\"},\"name\":\"Barretos\",\"x\":[2000,2001,2002,2003,2004,2005,2006,2007,2008,2009,2010,2011,2012,2013,2014,2015,2016,2017],\"y\":[31.0,127.0,77.0,60.0,45.0,59.0,44.0,84.0,79.5,67.0,56.5,61.0,56.5,48.0,59.0,71.5,63.0,75.0],\"type\":\"scatter\"},{\"marker\":{\"color\":\"rgb(0, 255, 255)\"},\"name\":\"S\\u00e3o Jos\\u00e9 do Rio Preto\",\"x\":[2000,2001,2002,2003,2004,2005,2006,2007,2008,2009,2010,2011,2012,2013,2014,2015,2016,2017],\"y\":[27.0,25.0,26.5,26.0,27.5,27.0,21.0,29.0,33.0,43.0,39.0,46.0,54.0,54.0,48.5,53.0,53.5,79.0],\"type\":\"scatter\"},{\"marker\":{\"color\":\"rgb(255, 0, 255)\"},\"name\":\"Ribeir\\u00e3o Preto\",\"x\":[2000,2001,2002,2003,2004,2005,2006,2007,2008,2009,2010,2011,2012,2013,2014,2015,2016,2017],\"y\":[52.0,37.0,42.5,29.5,21.0,62.0,42.0,58.0,35.0,79.5,49.5,99.0,80.0,89.5,71.0,86.0,82.0,112.5],\"type\":\"scatter\"}],                        {\"template\":{\"data\":{\"bar\":[{\"error_x\":{\"color\":\"#2a3f5f\"},\"error_y\":{\"color\":\"#2a3f5f\"},\"marker\":{\"line\":{\"color\":\"#E5ECF6\",\"width\":0.5},\"pattern\":{\"fillmode\":\"overlay\",\"size\":10,\"solidity\":0.2}},\"type\":\"bar\"}],\"barpolar\":[{\"marker\":{\"line\":{\"color\":\"#E5ECF6\",\"width\":0.5},\"pattern\":{\"fillmode\":\"overlay\",\"size\":10,\"solidity\":0.2}},\"type\":\"barpolar\"}],\"carpet\":[{\"aaxis\":{\"endlinecolor\":\"#2a3f5f\",\"gridcolor\":\"white\",\"linecolor\":\"white\",\"minorgridcolor\":\"white\",\"startlinecolor\":\"#2a3f5f\"},\"baxis\":{\"endlinecolor\":\"#2a3f5f\",\"gridcolor\":\"white\",\"linecolor\":\"white\",\"minorgridcolor\":\"white\",\"startlinecolor\":\"#2a3f5f\"},\"type\":\"carpet\"}],\"choropleth\":[{\"colorbar\":{\"outlinewidth\":0,\"ticks\":\"\"},\"type\":\"choropleth\"}],\"contour\":[{\"colorbar\":{\"outlinewidth\":0,\"ticks\":\"\"},\"colorscale\":[[0.0,\"#0d0887\"],[0.1111111111111111,\"#46039f\"],[0.2222222222222222,\"#7201a8\"],[0.3333333333333333,\"#9c179e\"],[0.4444444444444444,\"#bd3786\"],[0.5555555555555556,\"#d8576b\"],[0.6666666666666666,\"#ed7953\"],[0.7777777777777778,\"#fb9f3a\"],[0.8888888888888888,\"#fdca26\"],[1.0,\"#f0f921\"]],\"type\":\"contour\"}],\"contourcarpet\":[{\"colorbar\":{\"outlinewidth\":0,\"ticks\":\"\"},\"type\":\"contourcarpet\"}],\"heatmap\":[{\"colorbar\":{\"outlinewidth\":0,\"ticks\":\"\"},\"colorscale\":[[0.0,\"#0d0887\"],[0.1111111111111111,\"#46039f\"],[0.2222222222222222,\"#7201a8\"],[0.3333333333333333,\"#9c179e\"],[0.4444444444444444,\"#bd3786\"],[0.5555555555555556,\"#d8576b\"],[0.6666666666666666,\"#ed7953\"],[0.7777777777777778,\"#fb9f3a\"],[0.8888888888888888,\"#fdca26\"],[1.0,\"#f0f921\"]],\"type\":\"heatmap\"}],\"heatmapgl\":[{\"colorbar\":{\"outlinewidth\":0,\"ticks\":\"\"},\"colorscale\":[[0.0,\"#0d0887\"],[0.1111111111111111,\"#46039f\"],[0.2222222222222222,\"#7201a8\"],[0.3333333333333333,\"#9c179e\"],[0.4444444444444444,\"#bd3786\"],[0.5555555555555556,\"#d8576b\"],[0.6666666666666666,\"#ed7953\"],[0.7777777777777778,\"#fb9f3a\"],[0.8888888888888888,\"#fdca26\"],[1.0,\"#f0f921\"]],\"type\":\"heatmapgl\"}],\"histogram\":[{\"marker\":{\"pattern\":{\"fillmode\":\"overlay\",\"size\":10,\"solidity\":0.2}},\"type\":\"histogram\"}],\"histogram2d\":[{\"colorbar\":{\"outlinewidth\":0,\"ticks\":\"\"},\"colorscale\":[[0.0,\"#0d0887\"],[0.1111111111111111,\"#46039f\"],[0.2222222222222222,\"#7201a8\"],[0.3333333333333333,\"#9c179e\"],[0.4444444444444444,\"#bd3786\"],[0.5555555555555556,\"#d8576b\"],[0.6666666666666666,\"#ed7953\"],[0.7777777777777778,\"#fb9f3a\"],[0.8888888888888888,\"#fdca26\"],[1.0,\"#f0f921\"]],\"type\":\"histogram2d\"}],\"histogram2dcontour\":[{\"colorbar\":{\"outlinewidth\":0,\"ticks\":\"\"},\"colorscale\":[[0.0,\"#0d0887\"],[0.1111111111111111,\"#46039f\"],[0.2222222222222222,\"#7201a8\"],[0.3333333333333333,\"#9c179e\"],[0.4444444444444444,\"#bd3786\"],[0.5555555555555556,\"#d8576b\"],[0.6666666666666666,\"#ed7953\"],[0.7777777777777778,\"#fb9f3a\"],[0.8888888888888888,\"#fdca26\"],[1.0,\"#f0f921\"]],\"type\":\"histogram2dcontour\"}],\"mesh3d\":[{\"colorbar\":{\"outlinewidth\":0,\"ticks\":\"\"},\"type\":\"mesh3d\"}],\"parcoords\":[{\"line\":{\"colorbar\":{\"outlinewidth\":0,\"ticks\":\"\"}},\"type\":\"parcoords\"}],\"pie\":[{\"automargin\":true,\"type\":\"pie\"}],\"scatter\":[{\"marker\":{\"colorbar\":{\"outlinewidth\":0,\"ticks\":\"\"}},\"type\":\"scatter\"}],\"scatter3d\":[{\"line\":{\"colorbar\":{\"outlinewidth\":0,\"ticks\":\"\"}},\"marker\":{\"colorbar\":{\"outlinewidth\":0,\"ticks\":\"\"}},\"type\":\"scatter3d\"}],\"scattercarpet\":[{\"marker\":{\"colorbar\":{\"outlinewidth\":0,\"ticks\":\"\"}},\"type\":\"scattercarpet\"}],\"scattergeo\":[{\"marker\":{\"colorbar\":{\"outlinewidth\":0,\"ticks\":\"\"}},\"type\":\"scattergeo\"}],\"scattergl\":[{\"marker\":{\"colorbar\":{\"outlinewidth\":0,\"ticks\":\"\"}},\"type\":\"scattergl\"}],\"scattermapbox\":[{\"marker\":{\"colorbar\":{\"outlinewidth\":0,\"ticks\":\"\"}},\"type\":\"scattermapbox\"}],\"scatterpolar\":[{\"marker\":{\"colorbar\":{\"outlinewidth\":0,\"ticks\":\"\"}},\"type\":\"scatterpolar\"}],\"scatterpolargl\":[{\"marker\":{\"colorbar\":{\"outlinewidth\":0,\"ticks\":\"\"}},\"type\":\"scatterpolargl\"}],\"scatterternary\":[{\"marker\":{\"colorbar\":{\"outlinewidth\":0,\"ticks\":\"\"}},\"type\":\"scatterternary\"}],\"surface\":[{\"colorbar\":{\"outlinewidth\":0,\"ticks\":\"\"},\"colorscale\":[[0.0,\"#0d0887\"],[0.1111111111111111,\"#46039f\"],[0.2222222222222222,\"#7201a8\"],[0.3333333333333333,\"#9c179e\"],[0.4444444444444444,\"#bd3786\"],[0.5555555555555556,\"#d8576b\"],[0.6666666666666666,\"#ed7953\"],[0.7777777777777778,\"#fb9f3a\"],[0.8888888888888888,\"#fdca26\"],[1.0,\"#f0f921\"]],\"type\":\"surface\"}],\"table\":[{\"cells\":{\"fill\":{\"color\":\"#EBF0F8\"},\"line\":{\"color\":\"white\"}},\"header\":{\"fill\":{\"color\":\"#C8D4E3\"},\"line\":{\"color\":\"white\"}},\"type\":\"table\"}]},\"layout\":{\"annotationdefaults\":{\"arrowcolor\":\"#2a3f5f\",\"arrowhead\":0,\"arrowwidth\":1},\"autotypenumbers\":\"strict\",\"coloraxis\":{\"colorbar\":{\"outlinewidth\":0,\"ticks\":\"\"}},\"colorscale\":{\"diverging\":[[0,\"#8e0152\"],[0.1,\"#c51b7d\"],[0.2,\"#de77ae\"],[0.3,\"#f1b6da\"],[0.4,\"#fde0ef\"],[0.5,\"#f7f7f7\"],[0.6,\"#e6f5d0\"],[0.7,\"#b8e186\"],[0.8,\"#7fbc41\"],[0.9,\"#4d9221\"],[1,\"#276419\"]],\"sequential\":[[0.0,\"#0d0887\"],[0.1111111111111111,\"#46039f\"],[0.2222222222222222,\"#7201a8\"],[0.3333333333333333,\"#9c179e\"],[0.4444444444444444,\"#bd3786\"],[0.5555555555555556,\"#d8576b\"],[0.6666666666666666,\"#ed7953\"],[0.7777777777777778,\"#fb9f3a\"],[0.8888888888888888,\"#fdca26\"],[1.0,\"#f0f921\"]],\"sequentialminus\":[[0.0,\"#0d0887\"],[0.1111111111111111,\"#46039f\"],[0.2222222222222222,\"#7201a8\"],[0.3333333333333333,\"#9c179e\"],[0.4444444444444444,\"#bd3786\"],[0.5555555555555556,\"#d8576b\"],[0.6666666666666666,\"#ed7953\"],[0.7777777777777778,\"#fb9f3a\"],[0.8888888888888888,\"#fdca26\"],[1.0,\"#f0f921\"]]},\"colorway\":[\"#636efa\",\"#EF553B\",\"#00cc96\",\"#ab63fa\",\"#FFA15A\",\"#19d3f3\",\"#FF6692\",\"#B6E880\",\"#FF97FF\",\"#FECB52\"],\"font\":{\"color\":\"#2a3f5f\"},\"geo\":{\"bgcolor\":\"white\",\"lakecolor\":\"white\",\"landcolor\":\"#E5ECF6\",\"showlakes\":true,\"showland\":true,\"subunitcolor\":\"white\"},\"hoverlabel\":{\"align\":\"left\"},\"hovermode\":\"closest\",\"mapbox\":{\"style\":\"light\"},\"paper_bgcolor\":\"white\",\"plot_bgcolor\":\"#E5ECF6\",\"polar\":{\"angularaxis\":{\"gridcolor\":\"white\",\"linecolor\":\"white\",\"ticks\":\"\"},\"bgcolor\":\"#E5ECF6\",\"radialaxis\":{\"gridcolor\":\"white\",\"linecolor\":\"white\",\"ticks\":\"\"}},\"scene\":{\"xaxis\":{\"backgroundcolor\":\"#E5ECF6\",\"gridcolor\":\"white\",\"gridwidth\":2,\"linecolor\":\"white\",\"showbackground\":true,\"ticks\":\"\",\"zerolinecolor\":\"white\"},\"yaxis\":{\"backgroundcolor\":\"#E5ECF6\",\"gridcolor\":\"white\",\"gridwidth\":2,\"linecolor\":\"white\",\"showbackground\":true,\"ticks\":\"\",\"zerolinecolor\":\"white\"},\"zaxis\":{\"backgroundcolor\":\"#E5ECF6\",\"gridcolor\":\"white\",\"gridwidth\":2,\"linecolor\":\"white\",\"showbackground\":true,\"ticks\":\"\",\"zerolinecolor\":\"white\"}},\"shapedefaults\":{\"line\":{\"color\":\"#2a3f5f\"}},\"ternary\":{\"aaxis\":{\"gridcolor\":\"white\",\"linecolor\":\"white\",\"ticks\":\"\"},\"baxis\":{\"gridcolor\":\"white\",\"linecolor\":\"white\",\"ticks\":\"\"},\"bgcolor\":\"#E5ECF6\",\"caxis\":{\"gridcolor\":\"white\",\"linecolor\":\"white\",\"ticks\":\"\"}},\"title\":{\"x\":0.05},\"xaxis\":{\"automargin\":true,\"gridcolor\":\"white\",\"linecolor\":\"white\",\"ticks\":\"\",\"title\":{\"standoff\":15},\"zerolinecolor\":\"white\",\"zerolinewidth\":2},\"yaxis\":{\"automargin\":true,\"gridcolor\":\"white\",\"linecolor\":\"white\",\"ticks\":\"\",\"title\":{\"standoff\":15},\"zerolinecolor\":\"white\",\"zerolinewidth\":2}}},\"title\":{\"text\":\"Tempo m\\u00e9dio entre consulta e diagn\\u00f3stico nas 5 cidades com mais dados\"},\"xaxis\":{\"title\":{\"text\":\"Ano\",\"font\":{\"size\":16}},\"tickfont\":{\"size\":14}},\"yaxis\":{\"title\":{\"text\":\"Tempo m\\u00e9dio em dias\",\"font\":{\"size\":16}},\"tickfont\":{\"size\":14}},\"legend\":{\"x\":1,\"y\":1,\"bgcolor\":\"rgba(255, 255, 255, 0)\",\"bordercolor\":\"rgba(255, 255, 255, 0)\"},\"plot_bgcolor\":\"darkgray\",\"height\":800},                        {\"responsive\": true}                    ).then(function(){\n",
              "                            \n",
              "var gd = document.getElementById('81991309-4463-44c3-a41c-4af7152325c2');\n",
              "var x = new MutationObserver(function (mutations, observer) {{\n",
              "        var display = window.getComputedStyle(gd).display;\n",
              "        if (!display || display === 'none') {{\n",
              "            console.log([gd, 'removed!']);\n",
              "            Plotly.purge(gd);\n",
              "            observer.disconnect();\n",
              "        }}\n",
              "}});\n",
              "\n",
              "// Listen for the removal of the full notebook cells\n",
              "var notebookContainer = gd.closest('#notebook-container');\n",
              "if (notebookContainer) {{\n",
              "    x.observe(notebookContainer, {childList: true});\n",
              "}}\n",
              "\n",
              "// Listen for the clearing of the current output cell\n",
              "var outputEl = gd.closest('.output');\n",
              "if (outputEl) {{\n",
              "    x.observe(outputEl, {childList: true});\n",
              "}}\n",
              "\n",
              "                        })                };                            </script>        </div>\n",
              "</body>\n",
              "</html>"
            ]
          },
          "metadata": {}
        }
      ]
    },
    {
      "cell_type": "markdown",
      "source": [
        "## **Faixas etárias**"
      ],
      "metadata": {
        "id": "FymjKaCQQTO4"
      }
    },
    {
      "cell_type": "code",
      "source": [
        "data.query('SEXO == 2').FAIXAETAR.value_counts().sort_index()"
      ],
      "metadata": {
        "colab": {
          "base_uri": "https://localhost:8080/"
        },
        "id": "nfRXIBCoi1Z8",
        "outputId": "48e5c54f-665d-4188-dcb2-333e08cd4cd0"
      },
      "execution_count": 238,
      "outputs": [
        {
          "output_type": "execute_result",
          "data": {
            "text/plain": [
              "10-19      1\n",
              "20-29     16\n",
              "30-39     48\n",
              "40-49    249\n",
              "50-59    536\n",
              "60-69    565\n",
              "70+      591\n",
              "Name: FAIXAETAR, dtype: int64"
            ]
          },
          "metadata": {},
          "execution_count": 238
        }
      ]
    },
    {
      "cell_type": "code",
      "source": [
        "import plotly.graph_objects as go\n",
        "\n",
        "years = np.sort(data.FAIXAETAR.unique())\n",
        "\n",
        "contagens_1 = data.query('SEXO == 1').FAIXAETAR.value_counts().sort_index()\n",
        "contagens_2 = data.query('SEXO == 2').FAIXAETAR.value_counts().sort_index()\n",
        "\n",
        "\n",
        "fig = go.Figure()\n",
        "fig.add_trace(go.Scatter(x=years,\n",
        "                y=100*(contagens_1/data.query('SEXO == 1').shape[0]),\n",
        "                name='Homem',\n",
        "                marker_color='rgb(0, 0, 255)'\n",
        "                ))\n",
        "fig.add_trace(go.Scatter(x=years,\n",
        "                y=100*(contagens_2/data.query('SEXO == 2').shape[0]),\n",
        "                name='Mulher',\n",
        "                marker_color='rgb(255, 0, 255)'\n",
        "                ))\n",
        "\n",
        "\n",
        "fig.update_layout(title = dict(text = 'Porcentagem de pessoas por faixa etaria'),\n",
        "                  xaxis = dict(title='Ano', titlefont_size=16, tickfont_size=14),\n",
        "                  yaxis = dict(title='Porcentagem de pessoas', titlefont_size=16, tickfont_size=14),\n",
        "                  legend=dict(x=1, y=1, bgcolor='rgba(255, 255, 255, 0)', \n",
        "                  bordercolor='rgba(255, 255, 255, 0)'),\n",
        "                  plot_bgcolor='darkgray',\n",
        "                  height = 800\n",
        "                  )\n",
        "fig.show()\n"
      ],
      "metadata": {
        "colab": {
          "base_uri": "https://localhost:8080/",
          "height": 817
        },
        "id": "e4oIZq20hgbj",
        "outputId": "97469433-b8fd-4ebf-b24c-e6034ac2663a"
      },
      "execution_count": 254,
      "outputs": [
        {
          "output_type": "display_data",
          "data": {
            "text/html": [
              "<html>\n",
              "<head><meta charset=\"utf-8\" /></head>\n",
              "<body>\n",
              "    <div>            <script src=\"https://cdnjs.cloudflare.com/ajax/libs/mathjax/2.7.5/MathJax.js?config=TeX-AMS-MML_SVG\"></script><script type=\"text/javascript\">if (window.MathJax) {MathJax.Hub.Config({SVG: {font: \"STIX-Web\"}});}</script>                <script type=\"text/javascript\">window.PlotlyConfig = {MathJaxConfig: 'local'};</script>\n",
              "        <script src=\"https://cdn.plot.ly/plotly-2.8.3.min.js\"></script>                <div id=\"37f18994-4553-4100-8fc3-8348d1460a40\" class=\"plotly-graph-div\" style=\"height:800px; width:100%;\"></div>            <script type=\"text/javascript\">                                    window.PLOTLYENV=window.PLOTLYENV || {};                                    if (document.getElementById(\"37f18994-4553-4100-8fc3-8348d1460a40\")) {                    Plotly.newPlot(                        \"37f18994-4553-4100-8fc3-8348d1460a40\",                        [{\"marker\":{\"color\":\"rgb(0, 0, 255)\"},\"name\":\"Homem\",\"x\":[\"10-19\",\"20-29\",\"30-39\",\"40-49\",\"50-59\",\"60-69\",\"70+\"],\"y\":[0.037965072133637055,0.24677296886864084,1.8887623386484433,15.85990888382688,38.50607441154138,29.565299924069855,13.895216400911162],\"type\":\"scatter\"},{\"marker\":{\"color\":\"rgb(255, 0, 255)\"},\"name\":\"Mulher\",\"x\":[\"10-19\",\"20-29\",\"30-39\",\"40-49\",\"50-59\",\"60-69\",\"70+\"],\"y\":[0.049850448654037885,0.7976071784646062,2.3928215353938187,12.412761714855433,26.719840478564304,28.165503489531407,29.461615154536393],\"type\":\"scatter\"}],                        {\"template\":{\"data\":{\"bar\":[{\"error_x\":{\"color\":\"#2a3f5f\"},\"error_y\":{\"color\":\"#2a3f5f\"},\"marker\":{\"line\":{\"color\":\"#E5ECF6\",\"width\":0.5},\"pattern\":{\"fillmode\":\"overlay\",\"size\":10,\"solidity\":0.2}},\"type\":\"bar\"}],\"barpolar\":[{\"marker\":{\"line\":{\"color\":\"#E5ECF6\",\"width\":0.5},\"pattern\":{\"fillmode\":\"overlay\",\"size\":10,\"solidity\":0.2}},\"type\":\"barpolar\"}],\"carpet\":[{\"aaxis\":{\"endlinecolor\":\"#2a3f5f\",\"gridcolor\":\"white\",\"linecolor\":\"white\",\"minorgridcolor\":\"white\",\"startlinecolor\":\"#2a3f5f\"},\"baxis\":{\"endlinecolor\":\"#2a3f5f\",\"gridcolor\":\"white\",\"linecolor\":\"white\",\"minorgridcolor\":\"white\",\"startlinecolor\":\"#2a3f5f\"},\"type\":\"carpet\"}],\"choropleth\":[{\"colorbar\":{\"outlinewidth\":0,\"ticks\":\"\"},\"type\":\"choropleth\"}],\"contour\":[{\"colorbar\":{\"outlinewidth\":0,\"ticks\":\"\"},\"colorscale\":[[0.0,\"#0d0887\"],[0.1111111111111111,\"#46039f\"],[0.2222222222222222,\"#7201a8\"],[0.3333333333333333,\"#9c179e\"],[0.4444444444444444,\"#bd3786\"],[0.5555555555555556,\"#d8576b\"],[0.6666666666666666,\"#ed7953\"],[0.7777777777777778,\"#fb9f3a\"],[0.8888888888888888,\"#fdca26\"],[1.0,\"#f0f921\"]],\"type\":\"contour\"}],\"contourcarpet\":[{\"colorbar\":{\"outlinewidth\":0,\"ticks\":\"\"},\"type\":\"contourcarpet\"}],\"heatmap\":[{\"colorbar\":{\"outlinewidth\":0,\"ticks\":\"\"},\"colorscale\":[[0.0,\"#0d0887\"],[0.1111111111111111,\"#46039f\"],[0.2222222222222222,\"#7201a8\"],[0.3333333333333333,\"#9c179e\"],[0.4444444444444444,\"#bd3786\"],[0.5555555555555556,\"#d8576b\"],[0.6666666666666666,\"#ed7953\"],[0.7777777777777778,\"#fb9f3a\"],[0.8888888888888888,\"#fdca26\"],[1.0,\"#f0f921\"]],\"type\":\"heatmap\"}],\"heatmapgl\":[{\"colorbar\":{\"outlinewidth\":0,\"ticks\":\"\"},\"colorscale\":[[0.0,\"#0d0887\"],[0.1111111111111111,\"#46039f\"],[0.2222222222222222,\"#7201a8\"],[0.3333333333333333,\"#9c179e\"],[0.4444444444444444,\"#bd3786\"],[0.5555555555555556,\"#d8576b\"],[0.6666666666666666,\"#ed7953\"],[0.7777777777777778,\"#fb9f3a\"],[0.8888888888888888,\"#fdca26\"],[1.0,\"#f0f921\"]],\"type\":\"heatmapgl\"}],\"histogram\":[{\"marker\":{\"pattern\":{\"fillmode\":\"overlay\",\"size\":10,\"solidity\":0.2}},\"type\":\"histogram\"}],\"histogram2d\":[{\"colorbar\":{\"outlinewidth\":0,\"ticks\":\"\"},\"colorscale\":[[0.0,\"#0d0887\"],[0.1111111111111111,\"#46039f\"],[0.2222222222222222,\"#7201a8\"],[0.3333333333333333,\"#9c179e\"],[0.4444444444444444,\"#bd3786\"],[0.5555555555555556,\"#d8576b\"],[0.6666666666666666,\"#ed7953\"],[0.7777777777777778,\"#fb9f3a\"],[0.8888888888888888,\"#fdca26\"],[1.0,\"#f0f921\"]],\"type\":\"histogram2d\"}],\"histogram2dcontour\":[{\"colorbar\":{\"outlinewidth\":0,\"ticks\":\"\"},\"colorscale\":[[0.0,\"#0d0887\"],[0.1111111111111111,\"#46039f\"],[0.2222222222222222,\"#7201a8\"],[0.3333333333333333,\"#9c179e\"],[0.4444444444444444,\"#bd3786\"],[0.5555555555555556,\"#d8576b\"],[0.6666666666666666,\"#ed7953\"],[0.7777777777777778,\"#fb9f3a\"],[0.8888888888888888,\"#fdca26\"],[1.0,\"#f0f921\"]],\"type\":\"histogram2dcontour\"}],\"mesh3d\":[{\"colorbar\":{\"outlinewidth\":0,\"ticks\":\"\"},\"type\":\"mesh3d\"}],\"parcoords\":[{\"line\":{\"colorbar\":{\"outlinewidth\":0,\"ticks\":\"\"}},\"type\":\"parcoords\"}],\"pie\":[{\"automargin\":true,\"type\":\"pie\"}],\"scatter\":[{\"marker\":{\"colorbar\":{\"outlinewidth\":0,\"ticks\":\"\"}},\"type\":\"scatter\"}],\"scatter3d\":[{\"line\":{\"colorbar\":{\"outlinewidth\":0,\"ticks\":\"\"}},\"marker\":{\"colorbar\":{\"outlinewidth\":0,\"ticks\":\"\"}},\"type\":\"scatter3d\"}],\"scattercarpet\":[{\"marker\":{\"colorbar\":{\"outlinewidth\":0,\"ticks\":\"\"}},\"type\":\"scattercarpet\"}],\"scattergeo\":[{\"marker\":{\"colorbar\":{\"outlinewidth\":0,\"ticks\":\"\"}},\"type\":\"scattergeo\"}],\"scattergl\":[{\"marker\":{\"colorbar\":{\"outlinewidth\":0,\"ticks\":\"\"}},\"type\":\"scattergl\"}],\"scattermapbox\":[{\"marker\":{\"colorbar\":{\"outlinewidth\":0,\"ticks\":\"\"}},\"type\":\"scattermapbox\"}],\"scatterpolar\":[{\"marker\":{\"colorbar\":{\"outlinewidth\":0,\"ticks\":\"\"}},\"type\":\"scatterpolar\"}],\"scatterpolargl\":[{\"marker\":{\"colorbar\":{\"outlinewidth\":0,\"ticks\":\"\"}},\"type\":\"scatterpolargl\"}],\"scatterternary\":[{\"marker\":{\"colorbar\":{\"outlinewidth\":0,\"ticks\":\"\"}},\"type\":\"scatterternary\"}],\"surface\":[{\"colorbar\":{\"outlinewidth\":0,\"ticks\":\"\"},\"colorscale\":[[0.0,\"#0d0887\"],[0.1111111111111111,\"#46039f\"],[0.2222222222222222,\"#7201a8\"],[0.3333333333333333,\"#9c179e\"],[0.4444444444444444,\"#bd3786\"],[0.5555555555555556,\"#d8576b\"],[0.6666666666666666,\"#ed7953\"],[0.7777777777777778,\"#fb9f3a\"],[0.8888888888888888,\"#fdca26\"],[1.0,\"#f0f921\"]],\"type\":\"surface\"}],\"table\":[{\"cells\":{\"fill\":{\"color\":\"#EBF0F8\"},\"line\":{\"color\":\"white\"}},\"header\":{\"fill\":{\"color\":\"#C8D4E3\"},\"line\":{\"color\":\"white\"}},\"type\":\"table\"}]},\"layout\":{\"annotationdefaults\":{\"arrowcolor\":\"#2a3f5f\",\"arrowhead\":0,\"arrowwidth\":1},\"autotypenumbers\":\"strict\",\"coloraxis\":{\"colorbar\":{\"outlinewidth\":0,\"ticks\":\"\"}},\"colorscale\":{\"diverging\":[[0,\"#8e0152\"],[0.1,\"#c51b7d\"],[0.2,\"#de77ae\"],[0.3,\"#f1b6da\"],[0.4,\"#fde0ef\"],[0.5,\"#f7f7f7\"],[0.6,\"#e6f5d0\"],[0.7,\"#b8e186\"],[0.8,\"#7fbc41\"],[0.9,\"#4d9221\"],[1,\"#276419\"]],\"sequential\":[[0.0,\"#0d0887\"],[0.1111111111111111,\"#46039f\"],[0.2222222222222222,\"#7201a8\"],[0.3333333333333333,\"#9c179e\"],[0.4444444444444444,\"#bd3786\"],[0.5555555555555556,\"#d8576b\"],[0.6666666666666666,\"#ed7953\"],[0.7777777777777778,\"#fb9f3a\"],[0.8888888888888888,\"#fdca26\"],[1.0,\"#f0f921\"]],\"sequentialminus\":[[0.0,\"#0d0887\"],[0.1111111111111111,\"#46039f\"],[0.2222222222222222,\"#7201a8\"],[0.3333333333333333,\"#9c179e\"],[0.4444444444444444,\"#bd3786\"],[0.5555555555555556,\"#d8576b\"],[0.6666666666666666,\"#ed7953\"],[0.7777777777777778,\"#fb9f3a\"],[0.8888888888888888,\"#fdca26\"],[1.0,\"#f0f921\"]]},\"colorway\":[\"#636efa\",\"#EF553B\",\"#00cc96\",\"#ab63fa\",\"#FFA15A\",\"#19d3f3\",\"#FF6692\",\"#B6E880\",\"#FF97FF\",\"#FECB52\"],\"font\":{\"color\":\"#2a3f5f\"},\"geo\":{\"bgcolor\":\"white\",\"lakecolor\":\"white\",\"landcolor\":\"#E5ECF6\",\"showlakes\":true,\"showland\":true,\"subunitcolor\":\"white\"},\"hoverlabel\":{\"align\":\"left\"},\"hovermode\":\"closest\",\"mapbox\":{\"style\":\"light\"},\"paper_bgcolor\":\"white\",\"plot_bgcolor\":\"#E5ECF6\",\"polar\":{\"angularaxis\":{\"gridcolor\":\"white\",\"linecolor\":\"white\",\"ticks\":\"\"},\"bgcolor\":\"#E5ECF6\",\"radialaxis\":{\"gridcolor\":\"white\",\"linecolor\":\"white\",\"ticks\":\"\"}},\"scene\":{\"xaxis\":{\"backgroundcolor\":\"#E5ECF6\",\"gridcolor\":\"white\",\"gridwidth\":2,\"linecolor\":\"white\",\"showbackground\":true,\"ticks\":\"\",\"zerolinecolor\":\"white\"},\"yaxis\":{\"backgroundcolor\":\"#E5ECF6\",\"gridcolor\":\"white\",\"gridwidth\":2,\"linecolor\":\"white\",\"showbackground\":true,\"ticks\":\"\",\"zerolinecolor\":\"white\"},\"zaxis\":{\"backgroundcolor\":\"#E5ECF6\",\"gridcolor\":\"white\",\"gridwidth\":2,\"linecolor\":\"white\",\"showbackground\":true,\"ticks\":\"\",\"zerolinecolor\":\"white\"}},\"shapedefaults\":{\"line\":{\"color\":\"#2a3f5f\"}},\"ternary\":{\"aaxis\":{\"gridcolor\":\"white\",\"linecolor\":\"white\",\"ticks\":\"\"},\"baxis\":{\"gridcolor\":\"white\",\"linecolor\":\"white\",\"ticks\":\"\"},\"bgcolor\":\"#E5ECF6\",\"caxis\":{\"gridcolor\":\"white\",\"linecolor\":\"white\",\"ticks\":\"\"}},\"title\":{\"x\":0.05},\"xaxis\":{\"automargin\":true,\"gridcolor\":\"white\",\"linecolor\":\"white\",\"ticks\":\"\",\"title\":{\"standoff\":15},\"zerolinecolor\":\"white\",\"zerolinewidth\":2},\"yaxis\":{\"automargin\":true,\"gridcolor\":\"white\",\"linecolor\":\"white\",\"ticks\":\"\",\"title\":{\"standoff\":15},\"zerolinecolor\":\"white\",\"zerolinewidth\":2}}},\"title\":{\"text\":\"Porcentagem de pessoas por faixa etaria\"},\"xaxis\":{\"title\":{\"text\":\"Ano\",\"font\":{\"size\":16}},\"tickfont\":{\"size\":14}},\"yaxis\":{\"title\":{\"text\":\"Porcentagem de pessoas\",\"font\":{\"size\":16}},\"tickfont\":{\"size\":14}},\"legend\":{\"x\":1,\"y\":1,\"bgcolor\":\"rgba(255, 255, 255, 0)\",\"bordercolor\":\"rgba(255, 255, 255, 0)\"},\"plot_bgcolor\":\"darkgray\",\"height\":800},                        {\"responsive\": true}                    ).then(function(){\n",
              "                            \n",
              "var gd = document.getElementById('37f18994-4553-4100-8fc3-8348d1460a40');\n",
              "var x = new MutationObserver(function (mutations, observer) {{\n",
              "        var display = window.getComputedStyle(gd).display;\n",
              "        if (!display || display === 'none') {{\n",
              "            console.log([gd, 'removed!']);\n",
              "            Plotly.purge(gd);\n",
              "            observer.disconnect();\n",
              "        }}\n",
              "}});\n",
              "\n",
              "// Listen for the removal of the full notebook cells\n",
              "var notebookContainer = gd.closest('#notebook-container');\n",
              "if (notebookContainer) {{\n",
              "    x.observe(notebookContainer, {childList: true});\n",
              "}}\n",
              "\n",
              "// Listen for the clearing of the current output cell\n",
              "var outputEl = gd.closest('.output');\n",
              "if (outputEl) {{\n",
              "    x.observe(outputEl, {childList: true});\n",
              "}}\n",
              "\n",
              "                        })                };                            </script>        </div>\n",
              "</body>\n",
              "</html>"
            ]
          },
          "metadata": {}
        }
      ]
    },
    {
      "cell_type": "markdown",
      "source": [
        "## **Cidades do país**"
      ],
      "metadata": {
        "id": "R3XOLjoLI6KK"
      }
    },
    {
      "cell_type": "code",
      "source": [
        "import plotly.graph_objects as go\n",
        "\n",
        "years = data.CIDADEH.value_counts().index\n",
        "\n",
        "contagens_1 = data.query('SEXO == 1').CIDADEH.value_counts().values\n",
        "contagens_2 = data.query('SEXO == 2').CIDADEH.value_counts().values\n",
        "\n",
        "\n",
        "fig = go.Figure()\n",
        "fig.add_trace(go.Bar(x=years,\n",
        "                y=100*(contagens_1/data.query('SEXO == 1').shape[0]),\n",
        "                name='Homem',\n",
        "                marker_color='rgb(0, 0, 255)'\n",
        "                ))\n",
        "fig.add_trace(go.Bar(x=years,\n",
        "                y=100*(contagens_2/data.query('SEXO == 2').shape[0]),\n",
        "                name='Mulher',\n",
        "                marker_color='rgb(255, 0, 255)'\n",
        "                ))\n",
        "\n",
        "\n",
        "fig.update_layout(title = dict(text = 'Porcentagem de pessoas por cidade em que foi tratada'),\n",
        "                  xaxis = dict(title='Cidade do hospital', titlefont_size=16, tickfont_size=14),\n",
        "                  yaxis = dict(title='Porcentagem de pessoas', titlefont_size=16, tickfont_size=14),\n",
        "                  legend=dict(x=1, y=1, bgcolor='rgba(255, 255, 255, 0)', \n",
        "                  bordercolor='rgba(255, 255, 255, 0)'),\n",
        "                  plot_bgcolor='darkgray',\n",
        "                  height = 800\n",
        "                  )\n",
        "fig.show()"
      ],
      "metadata": {
        "id": "uPQe1LG-QcQX",
        "colab": {
          "base_uri": "https://localhost:8080/",
          "height": 817
        },
        "outputId": "fdfc3555-34f8-45f0-8e47-00b66c2b0678"
      },
      "execution_count": 276,
      "outputs": [
        {
          "output_type": "display_data",
          "data": {
            "text/html": [
              "<html>\n",
              "<head><meta charset=\"utf-8\" /></head>\n",
              "<body>\n",
              "    <div>            <script src=\"https://cdnjs.cloudflare.com/ajax/libs/mathjax/2.7.5/MathJax.js?config=TeX-AMS-MML_SVG\"></script><script type=\"text/javascript\">if (window.MathJax) {MathJax.Hub.Config({SVG: {font: \"STIX-Web\"}});}</script>                <script type=\"text/javascript\">window.PlotlyConfig = {MathJaxConfig: 'local'};</script>\n",
              "        <script src=\"https://cdn.plot.ly/plotly-2.8.3.min.js\"></script>                <div id=\"7aca78b7-d59d-4048-a318-10dc6b98a19c\" class=\"plotly-graph-div\" style=\"height:800px; width:100%;\"></div>            <script type=\"text/javascript\">                                    window.PLOTLYENV=window.PLOTLYENV || {};                                    if (document.getElementById(\"7aca78b7-d59d-4048-a318-10dc6b98a19c\")) {                    Plotly.newPlot(                        \"7aca78b7-d59d-4048-a318-10dc6b98a19c\",                        [{\"marker\":{\"color\":\"rgb(0, 0, 255)\"},\"name\":\"Homem\",\"x\":[\"S\\u00e3o Paulo\",\"Barretos\",\"Jau\",\"S\\u00e3o Jos\\u00e9 do Rio Preto\",\"Ribeir\\u00e3o Preto\",\"Jundiai\",\"Campinas\",\"Botucatu\",\"Taubate\",\"Sorocaba\",\"Bauru\",\"Marilia\",\"Santos\",\"Araraquara\",\"Ara\\u00e7atuba\",\"Pres. Prudente\",\"Piracicaba\",\"Tab\\u00e3o da Serra\",\"Rio Claro\",\"Franca\",\"Diadema\",\"Tup\\u00e3\",\"Araras\",\"S\\u00e3o Bernardo do Campos\",\"Mogi-Gua\\u00e7u\",\"Limeira\",\"Santo Andr\\u00e9\",\"Guaratingueta\",\"S\\u00e3o Carlos\",\"S\\u00e3o Jose dos Campos\",\"Periquera-a\\u00e7u\",\"Guaruj\\u00e1\",\"Jales\",\"Assis\",\"S\\u00e3o Caetano do Sul\",\"Mogi das Cruzes\",\"Avar\\u00e9\",\"Itapeva\",\"Ourinhos\",\"Taubat\\u00e9\",\"Catanduva\",\"Bragan\\u00e7a Paulista\"],\"y\":[47.52277904328018,10.079726651480637,8.513667425968109,7.602505694760819,4.328018223234624,2.6385725132877753,1.917236142748671,1.8887623386484433,1.7463933181473046,1.7179195140470769,1.4996203492786635,1.1579347000759301,1.1389521640091116,1.119969627942293,1.0155656795747914,0.8826879271070615,0.6738800303720577,0.5599848139711465,0.5504935459377372,0.49354593773728167,0.43659832953682615,0.322703113135915,0.29422930903568717,0.2847380410022779,0.25626423690205014,0.2372817008352316,0.22779043280182232,0.19931662870159456,0.13287775246772968,0.12338648443432042,0.11389521640091116,0.09491268033409263,0.05694760820045558,0.05694760820045558,0.037965072133637055,0.037965072133637055,0.009491268033409264,0.009491268033409264,0.009491268033409264,0.009491268033409264],\"type\":\"bar\"},{\"marker\":{\"color\":\"rgb(255, 0, 255)\"},\"name\":\"Mulher\",\"x\":[\"S\\u00e3o Paulo\",\"Barretos\",\"Jau\",\"S\\u00e3o Jos\\u00e9 do Rio Preto\",\"Ribeir\\u00e3o Preto\",\"Jundiai\",\"Campinas\",\"Botucatu\",\"Taubate\",\"Sorocaba\",\"Bauru\",\"Marilia\",\"Santos\",\"Araraquara\",\"Ara\\u00e7atuba\",\"Pres. Prudente\",\"Piracicaba\",\"Tab\\u00e3o da Serra\",\"Rio Claro\",\"Franca\",\"Diadema\",\"Tup\\u00e3\",\"Araras\",\"S\\u00e3o Bernardo do Campos\",\"Mogi-Gua\\u00e7u\",\"Limeira\",\"Santo Andr\\u00e9\",\"Guaratingueta\",\"S\\u00e3o Carlos\",\"S\\u00e3o Jose dos Campos\",\"Periquera-a\\u00e7u\",\"Guaruj\\u00e1\",\"Jales\",\"Assis\",\"S\\u00e3o Caetano do Sul\",\"Mogi das Cruzes\",\"Avar\\u00e9\",\"Itapeva\",\"Ourinhos\",\"Taubat\\u00e9\",\"Catanduva\",\"Bragan\\u00e7a Paulista\"],\"y\":[53.040877367896314,10.717846460618146,7.178464606181456,6.0817547357926225,3.53938185443669,2.143569292123629,1.9441674975074776,1.844466600199402,1.694915254237288,1.5952143569292123,1.1964107676969093,1.1465603190428715,0.9970089730807578,0.6979062811565304,0.5982053838484547,0.5982053838484547,0.5982053838484547,0.5483549351944167,0.5483549351944167,0.448654037886341,0.3489531405782652,0.3489531405782652,0.29910269192422734,0.29910269192422734,0.19940179461615154,0.19940179461615154,0.19940179461615154,0.14955134596211367,0.14955134596211367,0.14955134596211367,0.09970089730807577,0.09970089730807577,0.09970089730807577,0.09970089730807577,0.049850448654037885,0.049850448654037885],\"type\":\"bar\"}],                        {\"template\":{\"data\":{\"bar\":[{\"error_x\":{\"color\":\"#2a3f5f\"},\"error_y\":{\"color\":\"#2a3f5f\"},\"marker\":{\"line\":{\"color\":\"#E5ECF6\",\"width\":0.5},\"pattern\":{\"fillmode\":\"overlay\",\"size\":10,\"solidity\":0.2}},\"type\":\"bar\"}],\"barpolar\":[{\"marker\":{\"line\":{\"color\":\"#E5ECF6\",\"width\":0.5},\"pattern\":{\"fillmode\":\"overlay\",\"size\":10,\"solidity\":0.2}},\"type\":\"barpolar\"}],\"carpet\":[{\"aaxis\":{\"endlinecolor\":\"#2a3f5f\",\"gridcolor\":\"white\",\"linecolor\":\"white\",\"minorgridcolor\":\"white\",\"startlinecolor\":\"#2a3f5f\"},\"baxis\":{\"endlinecolor\":\"#2a3f5f\",\"gridcolor\":\"white\",\"linecolor\":\"white\",\"minorgridcolor\":\"white\",\"startlinecolor\":\"#2a3f5f\"},\"type\":\"carpet\"}],\"choropleth\":[{\"colorbar\":{\"outlinewidth\":0,\"ticks\":\"\"},\"type\":\"choropleth\"}],\"contour\":[{\"colorbar\":{\"outlinewidth\":0,\"ticks\":\"\"},\"colorscale\":[[0.0,\"#0d0887\"],[0.1111111111111111,\"#46039f\"],[0.2222222222222222,\"#7201a8\"],[0.3333333333333333,\"#9c179e\"],[0.4444444444444444,\"#bd3786\"],[0.5555555555555556,\"#d8576b\"],[0.6666666666666666,\"#ed7953\"],[0.7777777777777778,\"#fb9f3a\"],[0.8888888888888888,\"#fdca26\"],[1.0,\"#f0f921\"]],\"type\":\"contour\"}],\"contourcarpet\":[{\"colorbar\":{\"outlinewidth\":0,\"ticks\":\"\"},\"type\":\"contourcarpet\"}],\"heatmap\":[{\"colorbar\":{\"outlinewidth\":0,\"ticks\":\"\"},\"colorscale\":[[0.0,\"#0d0887\"],[0.1111111111111111,\"#46039f\"],[0.2222222222222222,\"#7201a8\"],[0.3333333333333333,\"#9c179e\"],[0.4444444444444444,\"#bd3786\"],[0.5555555555555556,\"#d8576b\"],[0.6666666666666666,\"#ed7953\"],[0.7777777777777778,\"#fb9f3a\"],[0.8888888888888888,\"#fdca26\"],[1.0,\"#f0f921\"]],\"type\":\"heatmap\"}],\"heatmapgl\":[{\"colorbar\":{\"outlinewidth\":0,\"ticks\":\"\"},\"colorscale\":[[0.0,\"#0d0887\"],[0.1111111111111111,\"#46039f\"],[0.2222222222222222,\"#7201a8\"],[0.3333333333333333,\"#9c179e\"],[0.4444444444444444,\"#bd3786\"],[0.5555555555555556,\"#d8576b\"],[0.6666666666666666,\"#ed7953\"],[0.7777777777777778,\"#fb9f3a\"],[0.8888888888888888,\"#fdca26\"],[1.0,\"#f0f921\"]],\"type\":\"heatmapgl\"}],\"histogram\":[{\"marker\":{\"pattern\":{\"fillmode\":\"overlay\",\"size\":10,\"solidity\":0.2}},\"type\":\"histogram\"}],\"histogram2d\":[{\"colorbar\":{\"outlinewidth\":0,\"ticks\":\"\"},\"colorscale\":[[0.0,\"#0d0887\"],[0.1111111111111111,\"#46039f\"],[0.2222222222222222,\"#7201a8\"],[0.3333333333333333,\"#9c179e\"],[0.4444444444444444,\"#bd3786\"],[0.5555555555555556,\"#d8576b\"],[0.6666666666666666,\"#ed7953\"],[0.7777777777777778,\"#fb9f3a\"],[0.8888888888888888,\"#fdca26\"],[1.0,\"#f0f921\"]],\"type\":\"histogram2d\"}],\"histogram2dcontour\":[{\"colorbar\":{\"outlinewidth\":0,\"ticks\":\"\"},\"colorscale\":[[0.0,\"#0d0887\"],[0.1111111111111111,\"#46039f\"],[0.2222222222222222,\"#7201a8\"],[0.3333333333333333,\"#9c179e\"],[0.4444444444444444,\"#bd3786\"],[0.5555555555555556,\"#d8576b\"],[0.6666666666666666,\"#ed7953\"],[0.7777777777777778,\"#fb9f3a\"],[0.8888888888888888,\"#fdca26\"],[1.0,\"#f0f921\"]],\"type\":\"histogram2dcontour\"}],\"mesh3d\":[{\"colorbar\":{\"outlinewidth\":0,\"ticks\":\"\"},\"type\":\"mesh3d\"}],\"parcoords\":[{\"line\":{\"colorbar\":{\"outlinewidth\":0,\"ticks\":\"\"}},\"type\":\"parcoords\"}],\"pie\":[{\"automargin\":true,\"type\":\"pie\"}],\"scatter\":[{\"marker\":{\"colorbar\":{\"outlinewidth\":0,\"ticks\":\"\"}},\"type\":\"scatter\"}],\"scatter3d\":[{\"line\":{\"colorbar\":{\"outlinewidth\":0,\"ticks\":\"\"}},\"marker\":{\"colorbar\":{\"outlinewidth\":0,\"ticks\":\"\"}},\"type\":\"scatter3d\"}],\"scattercarpet\":[{\"marker\":{\"colorbar\":{\"outlinewidth\":0,\"ticks\":\"\"}},\"type\":\"scattercarpet\"}],\"scattergeo\":[{\"marker\":{\"colorbar\":{\"outlinewidth\":0,\"ticks\":\"\"}},\"type\":\"scattergeo\"}],\"scattergl\":[{\"marker\":{\"colorbar\":{\"outlinewidth\":0,\"ticks\":\"\"}},\"type\":\"scattergl\"}],\"scattermapbox\":[{\"marker\":{\"colorbar\":{\"outlinewidth\":0,\"ticks\":\"\"}},\"type\":\"scattermapbox\"}],\"scatterpolar\":[{\"marker\":{\"colorbar\":{\"outlinewidth\":0,\"ticks\":\"\"}},\"type\":\"scatterpolar\"}],\"scatterpolargl\":[{\"marker\":{\"colorbar\":{\"outlinewidth\":0,\"ticks\":\"\"}},\"type\":\"scatterpolargl\"}],\"scatterternary\":[{\"marker\":{\"colorbar\":{\"outlinewidth\":0,\"ticks\":\"\"}},\"type\":\"scatterternary\"}],\"surface\":[{\"colorbar\":{\"outlinewidth\":0,\"ticks\":\"\"},\"colorscale\":[[0.0,\"#0d0887\"],[0.1111111111111111,\"#46039f\"],[0.2222222222222222,\"#7201a8\"],[0.3333333333333333,\"#9c179e\"],[0.4444444444444444,\"#bd3786\"],[0.5555555555555556,\"#d8576b\"],[0.6666666666666666,\"#ed7953\"],[0.7777777777777778,\"#fb9f3a\"],[0.8888888888888888,\"#fdca26\"],[1.0,\"#f0f921\"]],\"type\":\"surface\"}],\"table\":[{\"cells\":{\"fill\":{\"color\":\"#EBF0F8\"},\"line\":{\"color\":\"white\"}},\"header\":{\"fill\":{\"color\":\"#C8D4E3\"},\"line\":{\"color\":\"white\"}},\"type\":\"table\"}]},\"layout\":{\"annotationdefaults\":{\"arrowcolor\":\"#2a3f5f\",\"arrowhead\":0,\"arrowwidth\":1},\"autotypenumbers\":\"strict\",\"coloraxis\":{\"colorbar\":{\"outlinewidth\":0,\"ticks\":\"\"}},\"colorscale\":{\"diverging\":[[0,\"#8e0152\"],[0.1,\"#c51b7d\"],[0.2,\"#de77ae\"],[0.3,\"#f1b6da\"],[0.4,\"#fde0ef\"],[0.5,\"#f7f7f7\"],[0.6,\"#e6f5d0\"],[0.7,\"#b8e186\"],[0.8,\"#7fbc41\"],[0.9,\"#4d9221\"],[1,\"#276419\"]],\"sequential\":[[0.0,\"#0d0887\"],[0.1111111111111111,\"#46039f\"],[0.2222222222222222,\"#7201a8\"],[0.3333333333333333,\"#9c179e\"],[0.4444444444444444,\"#bd3786\"],[0.5555555555555556,\"#d8576b\"],[0.6666666666666666,\"#ed7953\"],[0.7777777777777778,\"#fb9f3a\"],[0.8888888888888888,\"#fdca26\"],[1.0,\"#f0f921\"]],\"sequentialminus\":[[0.0,\"#0d0887\"],[0.1111111111111111,\"#46039f\"],[0.2222222222222222,\"#7201a8\"],[0.3333333333333333,\"#9c179e\"],[0.4444444444444444,\"#bd3786\"],[0.5555555555555556,\"#d8576b\"],[0.6666666666666666,\"#ed7953\"],[0.7777777777777778,\"#fb9f3a\"],[0.8888888888888888,\"#fdca26\"],[1.0,\"#f0f921\"]]},\"colorway\":[\"#636efa\",\"#EF553B\",\"#00cc96\",\"#ab63fa\",\"#FFA15A\",\"#19d3f3\",\"#FF6692\",\"#B6E880\",\"#FF97FF\",\"#FECB52\"],\"font\":{\"color\":\"#2a3f5f\"},\"geo\":{\"bgcolor\":\"white\",\"lakecolor\":\"white\",\"landcolor\":\"#E5ECF6\",\"showlakes\":true,\"showland\":true,\"subunitcolor\":\"white\"},\"hoverlabel\":{\"align\":\"left\"},\"hovermode\":\"closest\",\"mapbox\":{\"style\":\"light\"},\"paper_bgcolor\":\"white\",\"plot_bgcolor\":\"#E5ECF6\",\"polar\":{\"angularaxis\":{\"gridcolor\":\"white\",\"linecolor\":\"white\",\"ticks\":\"\"},\"bgcolor\":\"#E5ECF6\",\"radialaxis\":{\"gridcolor\":\"white\",\"linecolor\":\"white\",\"ticks\":\"\"}},\"scene\":{\"xaxis\":{\"backgroundcolor\":\"#E5ECF6\",\"gridcolor\":\"white\",\"gridwidth\":2,\"linecolor\":\"white\",\"showbackground\":true,\"ticks\":\"\",\"zerolinecolor\":\"white\"},\"yaxis\":{\"backgroundcolor\":\"#E5ECF6\",\"gridcolor\":\"white\",\"gridwidth\":2,\"linecolor\":\"white\",\"showbackground\":true,\"ticks\":\"\",\"zerolinecolor\":\"white\"},\"zaxis\":{\"backgroundcolor\":\"#E5ECF6\",\"gridcolor\":\"white\",\"gridwidth\":2,\"linecolor\":\"white\",\"showbackground\":true,\"ticks\":\"\",\"zerolinecolor\":\"white\"}},\"shapedefaults\":{\"line\":{\"color\":\"#2a3f5f\"}},\"ternary\":{\"aaxis\":{\"gridcolor\":\"white\",\"linecolor\":\"white\",\"ticks\":\"\"},\"baxis\":{\"gridcolor\":\"white\",\"linecolor\":\"white\",\"ticks\":\"\"},\"bgcolor\":\"#E5ECF6\",\"caxis\":{\"gridcolor\":\"white\",\"linecolor\":\"white\",\"ticks\":\"\"}},\"title\":{\"x\":0.05},\"xaxis\":{\"automargin\":true,\"gridcolor\":\"white\",\"linecolor\":\"white\",\"ticks\":\"\",\"title\":{\"standoff\":15},\"zerolinecolor\":\"white\",\"zerolinewidth\":2},\"yaxis\":{\"automargin\":true,\"gridcolor\":\"white\",\"linecolor\":\"white\",\"ticks\":\"\",\"title\":{\"standoff\":15},\"zerolinecolor\":\"white\",\"zerolinewidth\":2}}},\"title\":{\"text\":\"Porcentagem de pessoas por cidade em que foi tratada\"},\"xaxis\":{\"title\":{\"text\":\"Cidade do hospital\",\"font\":{\"size\":16}},\"tickfont\":{\"size\":14}},\"yaxis\":{\"title\":{\"text\":\"Porcentagem de pessoas\",\"font\":{\"size\":16}},\"tickfont\":{\"size\":14}},\"legend\":{\"x\":1,\"y\":1,\"bgcolor\":\"rgba(255, 255, 255, 0)\",\"bordercolor\":\"rgba(255, 255, 255, 0)\"},\"plot_bgcolor\":\"darkgray\",\"height\":800},                        {\"responsive\": true}                    ).then(function(){\n",
              "                            \n",
              "var gd = document.getElementById('7aca78b7-d59d-4048-a318-10dc6b98a19c');\n",
              "var x = new MutationObserver(function (mutations, observer) {{\n",
              "        var display = window.getComputedStyle(gd).display;\n",
              "        if (!display || display === 'none') {{\n",
              "            console.log([gd, 'removed!']);\n",
              "            Plotly.purge(gd);\n",
              "            observer.disconnect();\n",
              "        }}\n",
              "}});\n",
              "\n",
              "// Listen for the removal of the full notebook cells\n",
              "var notebookContainer = gd.closest('#notebook-container');\n",
              "if (notebookContainer) {{\n",
              "    x.observe(notebookContainer, {childList: true});\n",
              "}}\n",
              "\n",
              "// Listen for the clearing of the current output cell\n",
              "var outputEl = gd.closest('.output');\n",
              "if (outputEl) {{\n",
              "    x.observe(outputEl, {childList: true});\n",
              "}}\n",
              "\n",
              "                        })                };                            </script>        </div>\n",
              "</body>\n",
              "</html>"
            ]
          },
          "metadata": {}
        }
      ]
    },
    {
      "cell_type": "markdown",
      "source": [
        "## **Estadiamento clínico**"
      ],
      "metadata": {
        "id": "uCaln4yDQg9l"
      }
    },
    {
      "cell_type": "code",
      "source": [
        "import plotly.graph_objects as go\n",
        "\n",
        "years = data.ECGRUP.value_counts().index\n",
        "\n",
        "contagens_1 = data.query('SEXO == 1').ECGRUP.value_counts().values\n",
        "contagens_2 = data.query('SEXO == 2').ECGRUP.value_counts().values\n",
        "\n",
        "\n",
        "fig = go.Figure()\n",
        "fig.add_trace(go.Bar(x=years,\n",
        "                y=100*(contagens_1/data.query('SEXO == 1').shape[0]),\n",
        "                name='Homem',\n",
        "                marker_color='rgb(0, 0, 255)'\n",
        "                ))\n",
        "fig.add_trace(go.Bar(x=years,\n",
        "                y=100*(contagens_2/data.query('SEXO == 2').shape[0]),\n",
        "                name='Mulher',\n",
        "                marker_color='rgb(255, 0, 255)'\n",
        "                ))\n",
        "\n",
        "\n",
        "fig.update_layout(title = dict(text = 'Porcentagem de pessoas por estadiamento clínico'),\n",
        "                  xaxis = dict(title='Grupo de estadiamento clínico', titlefont_size=16, tickfont_size=14),\n",
        "                  yaxis = dict(title='Porcentagem de pessoas', titlefont_size=16, tickfont_size=14),\n",
        "                  legend=dict(x=1, y=1, bgcolor='rgba(255, 255, 255, 0)', \n",
        "                  bordercolor='rgba(255, 255, 255, 0)'),\n",
        "                  plot_bgcolor='darkgray',\n",
        "                  height = 800\n",
        "                  )\n",
        "fig.show()"
      ],
      "metadata": {
        "colab": {
          "base_uri": "https://localhost:8080/",
          "height": 817
        },
        "id": "A_03BLvHlkDu",
        "outputId": "954d8f91-05ac-451e-acf0-84af1f973d98"
      },
      "execution_count": 277,
      "outputs": [
        {
          "output_type": "display_data",
          "data": {
            "text/html": [
              "<html>\n",
              "<head><meta charset=\"utf-8\" /></head>\n",
              "<body>\n",
              "    <div>            <script src=\"https://cdnjs.cloudflare.com/ajax/libs/mathjax/2.7.5/MathJax.js?config=TeX-AMS-MML_SVG\"></script><script type=\"text/javascript\">if (window.MathJax) {MathJax.Hub.Config({SVG: {font: \"STIX-Web\"}});}</script>                <script type=\"text/javascript\">window.PlotlyConfig = {MathJaxConfig: 'local'};</script>\n",
              "        <script src=\"https://cdn.plot.ly/plotly-2.8.3.min.js\"></script>                <div id=\"85360fb3-7f3a-4f32-8214-ac61d0a316e1\" class=\"plotly-graph-div\" style=\"height:800px; width:100%;\"></div>            <script type=\"text/javascript\">                                    window.PLOTLYENV=window.PLOTLYENV || {};                                    if (document.getElementById(\"85360fb3-7f3a-4f32-8214-ac61d0a316e1\")) {                    Plotly.newPlot(                        \"85360fb3-7f3a-4f32-8214-ac61d0a316e1\",                        [{\"marker\":{\"color\":\"rgb(0, 0, 255)\"},\"name\":\"Homem\",\"x\":[\"IV\",\"III\",\"II\",\"I\"],\"y\":[66.4009111617312,13.895216400911162,10.69665907365224,9.007213363705391],\"type\":\"bar\"},{\"marker\":{\"color\":\"rgb(255, 0, 255)\"},\"name\":\"Mulher\",\"x\":[\"IV\",\"III\",\"II\",\"I\"],\"y\":[56.67996011964108,15.304087736789631,15.104685942173479,12.911266201395813],\"type\":\"bar\"}],                        {\"template\":{\"data\":{\"bar\":[{\"error_x\":{\"color\":\"#2a3f5f\"},\"error_y\":{\"color\":\"#2a3f5f\"},\"marker\":{\"line\":{\"color\":\"#E5ECF6\",\"width\":0.5},\"pattern\":{\"fillmode\":\"overlay\",\"size\":10,\"solidity\":0.2}},\"type\":\"bar\"}],\"barpolar\":[{\"marker\":{\"line\":{\"color\":\"#E5ECF6\",\"width\":0.5},\"pattern\":{\"fillmode\":\"overlay\",\"size\":10,\"solidity\":0.2}},\"type\":\"barpolar\"}],\"carpet\":[{\"aaxis\":{\"endlinecolor\":\"#2a3f5f\",\"gridcolor\":\"white\",\"linecolor\":\"white\",\"minorgridcolor\":\"white\",\"startlinecolor\":\"#2a3f5f\"},\"baxis\":{\"endlinecolor\":\"#2a3f5f\",\"gridcolor\":\"white\",\"linecolor\":\"white\",\"minorgridcolor\":\"white\",\"startlinecolor\":\"#2a3f5f\"},\"type\":\"carpet\"}],\"choropleth\":[{\"colorbar\":{\"outlinewidth\":0,\"ticks\":\"\"},\"type\":\"choropleth\"}],\"contour\":[{\"colorbar\":{\"outlinewidth\":0,\"ticks\":\"\"},\"colorscale\":[[0.0,\"#0d0887\"],[0.1111111111111111,\"#46039f\"],[0.2222222222222222,\"#7201a8\"],[0.3333333333333333,\"#9c179e\"],[0.4444444444444444,\"#bd3786\"],[0.5555555555555556,\"#d8576b\"],[0.6666666666666666,\"#ed7953\"],[0.7777777777777778,\"#fb9f3a\"],[0.8888888888888888,\"#fdca26\"],[1.0,\"#f0f921\"]],\"type\":\"contour\"}],\"contourcarpet\":[{\"colorbar\":{\"outlinewidth\":0,\"ticks\":\"\"},\"type\":\"contourcarpet\"}],\"heatmap\":[{\"colorbar\":{\"outlinewidth\":0,\"ticks\":\"\"},\"colorscale\":[[0.0,\"#0d0887\"],[0.1111111111111111,\"#46039f\"],[0.2222222222222222,\"#7201a8\"],[0.3333333333333333,\"#9c179e\"],[0.4444444444444444,\"#bd3786\"],[0.5555555555555556,\"#d8576b\"],[0.6666666666666666,\"#ed7953\"],[0.7777777777777778,\"#fb9f3a\"],[0.8888888888888888,\"#fdca26\"],[1.0,\"#f0f921\"]],\"type\":\"heatmap\"}],\"heatmapgl\":[{\"colorbar\":{\"outlinewidth\":0,\"ticks\":\"\"},\"colorscale\":[[0.0,\"#0d0887\"],[0.1111111111111111,\"#46039f\"],[0.2222222222222222,\"#7201a8\"],[0.3333333333333333,\"#9c179e\"],[0.4444444444444444,\"#bd3786\"],[0.5555555555555556,\"#d8576b\"],[0.6666666666666666,\"#ed7953\"],[0.7777777777777778,\"#fb9f3a\"],[0.8888888888888888,\"#fdca26\"],[1.0,\"#f0f921\"]],\"type\":\"heatmapgl\"}],\"histogram\":[{\"marker\":{\"pattern\":{\"fillmode\":\"overlay\",\"size\":10,\"solidity\":0.2}},\"type\":\"histogram\"}],\"histogram2d\":[{\"colorbar\":{\"outlinewidth\":0,\"ticks\":\"\"},\"colorscale\":[[0.0,\"#0d0887\"],[0.1111111111111111,\"#46039f\"],[0.2222222222222222,\"#7201a8\"],[0.3333333333333333,\"#9c179e\"],[0.4444444444444444,\"#bd3786\"],[0.5555555555555556,\"#d8576b\"],[0.6666666666666666,\"#ed7953\"],[0.7777777777777778,\"#fb9f3a\"],[0.8888888888888888,\"#fdca26\"],[1.0,\"#f0f921\"]],\"type\":\"histogram2d\"}],\"histogram2dcontour\":[{\"colorbar\":{\"outlinewidth\":0,\"ticks\":\"\"},\"colorscale\":[[0.0,\"#0d0887\"],[0.1111111111111111,\"#46039f\"],[0.2222222222222222,\"#7201a8\"],[0.3333333333333333,\"#9c179e\"],[0.4444444444444444,\"#bd3786\"],[0.5555555555555556,\"#d8576b\"],[0.6666666666666666,\"#ed7953\"],[0.7777777777777778,\"#fb9f3a\"],[0.8888888888888888,\"#fdca26\"],[1.0,\"#f0f921\"]],\"type\":\"histogram2dcontour\"}],\"mesh3d\":[{\"colorbar\":{\"outlinewidth\":0,\"ticks\":\"\"},\"type\":\"mesh3d\"}],\"parcoords\":[{\"line\":{\"colorbar\":{\"outlinewidth\":0,\"ticks\":\"\"}},\"type\":\"parcoords\"}],\"pie\":[{\"automargin\":true,\"type\":\"pie\"}],\"scatter\":[{\"marker\":{\"colorbar\":{\"outlinewidth\":0,\"ticks\":\"\"}},\"type\":\"scatter\"}],\"scatter3d\":[{\"line\":{\"colorbar\":{\"outlinewidth\":0,\"ticks\":\"\"}},\"marker\":{\"colorbar\":{\"outlinewidth\":0,\"ticks\":\"\"}},\"type\":\"scatter3d\"}],\"scattercarpet\":[{\"marker\":{\"colorbar\":{\"outlinewidth\":0,\"ticks\":\"\"}},\"type\":\"scattercarpet\"}],\"scattergeo\":[{\"marker\":{\"colorbar\":{\"outlinewidth\":0,\"ticks\":\"\"}},\"type\":\"scattergeo\"}],\"scattergl\":[{\"marker\":{\"colorbar\":{\"outlinewidth\":0,\"ticks\":\"\"}},\"type\":\"scattergl\"}],\"scattermapbox\":[{\"marker\":{\"colorbar\":{\"outlinewidth\":0,\"ticks\":\"\"}},\"type\":\"scattermapbox\"}],\"scatterpolar\":[{\"marker\":{\"colorbar\":{\"outlinewidth\":0,\"ticks\":\"\"}},\"type\":\"scatterpolar\"}],\"scatterpolargl\":[{\"marker\":{\"colorbar\":{\"outlinewidth\":0,\"ticks\":\"\"}},\"type\":\"scatterpolargl\"}],\"scatterternary\":[{\"marker\":{\"colorbar\":{\"outlinewidth\":0,\"ticks\":\"\"}},\"type\":\"scatterternary\"}],\"surface\":[{\"colorbar\":{\"outlinewidth\":0,\"ticks\":\"\"},\"colorscale\":[[0.0,\"#0d0887\"],[0.1111111111111111,\"#46039f\"],[0.2222222222222222,\"#7201a8\"],[0.3333333333333333,\"#9c179e\"],[0.4444444444444444,\"#bd3786\"],[0.5555555555555556,\"#d8576b\"],[0.6666666666666666,\"#ed7953\"],[0.7777777777777778,\"#fb9f3a\"],[0.8888888888888888,\"#fdca26\"],[1.0,\"#f0f921\"]],\"type\":\"surface\"}],\"table\":[{\"cells\":{\"fill\":{\"color\":\"#EBF0F8\"},\"line\":{\"color\":\"white\"}},\"header\":{\"fill\":{\"color\":\"#C8D4E3\"},\"line\":{\"color\":\"white\"}},\"type\":\"table\"}]},\"layout\":{\"annotationdefaults\":{\"arrowcolor\":\"#2a3f5f\",\"arrowhead\":0,\"arrowwidth\":1},\"autotypenumbers\":\"strict\",\"coloraxis\":{\"colorbar\":{\"outlinewidth\":0,\"ticks\":\"\"}},\"colorscale\":{\"diverging\":[[0,\"#8e0152\"],[0.1,\"#c51b7d\"],[0.2,\"#de77ae\"],[0.3,\"#f1b6da\"],[0.4,\"#fde0ef\"],[0.5,\"#f7f7f7\"],[0.6,\"#e6f5d0\"],[0.7,\"#b8e186\"],[0.8,\"#7fbc41\"],[0.9,\"#4d9221\"],[1,\"#276419\"]],\"sequential\":[[0.0,\"#0d0887\"],[0.1111111111111111,\"#46039f\"],[0.2222222222222222,\"#7201a8\"],[0.3333333333333333,\"#9c179e\"],[0.4444444444444444,\"#bd3786\"],[0.5555555555555556,\"#d8576b\"],[0.6666666666666666,\"#ed7953\"],[0.7777777777777778,\"#fb9f3a\"],[0.8888888888888888,\"#fdca26\"],[1.0,\"#f0f921\"]],\"sequentialminus\":[[0.0,\"#0d0887\"],[0.1111111111111111,\"#46039f\"],[0.2222222222222222,\"#7201a8\"],[0.3333333333333333,\"#9c179e\"],[0.4444444444444444,\"#bd3786\"],[0.5555555555555556,\"#d8576b\"],[0.6666666666666666,\"#ed7953\"],[0.7777777777777778,\"#fb9f3a\"],[0.8888888888888888,\"#fdca26\"],[1.0,\"#f0f921\"]]},\"colorway\":[\"#636efa\",\"#EF553B\",\"#00cc96\",\"#ab63fa\",\"#FFA15A\",\"#19d3f3\",\"#FF6692\",\"#B6E880\",\"#FF97FF\",\"#FECB52\"],\"font\":{\"color\":\"#2a3f5f\"},\"geo\":{\"bgcolor\":\"white\",\"lakecolor\":\"white\",\"landcolor\":\"#E5ECF6\",\"showlakes\":true,\"showland\":true,\"subunitcolor\":\"white\"},\"hoverlabel\":{\"align\":\"left\"},\"hovermode\":\"closest\",\"mapbox\":{\"style\":\"light\"},\"paper_bgcolor\":\"white\",\"plot_bgcolor\":\"#E5ECF6\",\"polar\":{\"angularaxis\":{\"gridcolor\":\"white\",\"linecolor\":\"white\",\"ticks\":\"\"},\"bgcolor\":\"#E5ECF6\",\"radialaxis\":{\"gridcolor\":\"white\",\"linecolor\":\"white\",\"ticks\":\"\"}},\"scene\":{\"xaxis\":{\"backgroundcolor\":\"#E5ECF6\",\"gridcolor\":\"white\",\"gridwidth\":2,\"linecolor\":\"white\",\"showbackground\":true,\"ticks\":\"\",\"zerolinecolor\":\"white\"},\"yaxis\":{\"backgroundcolor\":\"#E5ECF6\",\"gridcolor\":\"white\",\"gridwidth\":2,\"linecolor\":\"white\",\"showbackground\":true,\"ticks\":\"\",\"zerolinecolor\":\"white\"},\"zaxis\":{\"backgroundcolor\":\"#E5ECF6\",\"gridcolor\":\"white\",\"gridwidth\":2,\"linecolor\":\"white\",\"showbackground\":true,\"ticks\":\"\",\"zerolinecolor\":\"white\"}},\"shapedefaults\":{\"line\":{\"color\":\"#2a3f5f\"}},\"ternary\":{\"aaxis\":{\"gridcolor\":\"white\",\"linecolor\":\"white\",\"ticks\":\"\"},\"baxis\":{\"gridcolor\":\"white\",\"linecolor\":\"white\",\"ticks\":\"\"},\"bgcolor\":\"#E5ECF6\",\"caxis\":{\"gridcolor\":\"white\",\"linecolor\":\"white\",\"ticks\":\"\"}},\"title\":{\"x\":0.05},\"xaxis\":{\"automargin\":true,\"gridcolor\":\"white\",\"linecolor\":\"white\",\"ticks\":\"\",\"title\":{\"standoff\":15},\"zerolinecolor\":\"white\",\"zerolinewidth\":2},\"yaxis\":{\"automargin\":true,\"gridcolor\":\"white\",\"linecolor\":\"white\",\"ticks\":\"\",\"title\":{\"standoff\":15},\"zerolinecolor\":\"white\",\"zerolinewidth\":2}}},\"title\":{\"text\":\"Porcentagem de pessoas por estadiamento cl\\u00ednico\"},\"xaxis\":{\"title\":{\"text\":\"Grupo de estadiamento cl\\u00ednico\",\"font\":{\"size\":16}},\"tickfont\":{\"size\":14}},\"yaxis\":{\"title\":{\"text\":\"Porcentagem de pessoas\",\"font\":{\"size\":16}},\"tickfont\":{\"size\":14}},\"legend\":{\"x\":1,\"y\":1,\"bgcolor\":\"rgba(255, 255, 255, 0)\",\"bordercolor\":\"rgba(255, 255, 255, 0)\"},\"plot_bgcolor\":\"darkgray\",\"height\":800},                        {\"responsive\": true}                    ).then(function(){\n",
              "                            \n",
              "var gd = document.getElementById('85360fb3-7f3a-4f32-8214-ac61d0a316e1');\n",
              "var x = new MutationObserver(function (mutations, observer) {{\n",
              "        var display = window.getComputedStyle(gd).display;\n",
              "        if (!display || display === 'none') {{\n",
              "            console.log([gd, 'removed!']);\n",
              "            Plotly.purge(gd);\n",
              "            observer.disconnect();\n",
              "        }}\n",
              "}});\n",
              "\n",
              "// Listen for the removal of the full notebook cells\n",
              "var notebookContainer = gd.closest('#notebook-container');\n",
              "if (notebookContainer) {{\n",
              "    x.observe(notebookContainer, {childList: true});\n",
              "}}\n",
              "\n",
              "// Listen for the clearing of the current output cell\n",
              "var outputEl = gd.closest('.output');\n",
              "if (outputEl) {{\n",
              "    x.observe(outputEl, {childList: true});\n",
              "}}\n",
              "\n",
              "                        })                };                            </script>        </div>\n",
              "</body>\n",
              "</html>"
            ]
          },
          "metadata": {}
        }
      ]
    },
    {
      "cell_type": "markdown",
      "source": [
        "### **Última informação**"
      ],
      "metadata": {
        "id": "TxBQj1tuR1zz"
      }
    },
    {
      "cell_type": "code",
      "source": [
        "data.query('SEXO == 1').ULTINFO.value_counts().sort_index().values"
      ],
      "metadata": {
        "colab": {
          "base_uri": "https://localhost:8080/"
        },
        "id": "p53USZFQmyws",
        "outputId": "9148f7f9-4127-4f6e-81ef-df00623dd4cd"
      },
      "execution_count": 270,
      "outputs": [
        {
          "output_type": "execute_result",
          "data": {
            "text/plain": [
              "array([ 434, 2118, 6254, 1730])"
            ]
          },
          "metadata": {},
          "execution_count": 270
        }
      ]
    },
    {
      "cell_type": "code",
      "source": [
        "import plotly.graph_objects as go\n",
        "\n",
        "# 1 – Alive with cancer; 2 – Alive, without other specifications;\n",
        "# 3 – Death by cancer; 4 – Death by other causes, without other specifications\n",
        "years = ['1-Alive with cancer', '2-Alive, without other specifications', '3-Death by cancer', '4-Death by other causes, without other specifications']\n",
        "\n",
        "contagens_1 = data.query('SEXO == 1').ULTINFO.value_counts().sort_index().values\n",
        "contagens_2 = data.query('SEXO == 2').ULTINFO.value_counts().sort_index().values\n",
        "\n",
        "\n",
        "fig = go.Figure()\n",
        "fig.add_trace(go.Bar(x=years,\n",
        "                y=100*(contagens_1/data.query('SEXO == 1').shape[0]),\n",
        "                name='Homem',\n",
        "                marker_color='rgb(0, 0, 255)'\n",
        "                ))\n",
        "fig.add_trace(go.Bar(x=years,\n",
        "                y=100*(contagens_2/data.query('SEXO == 2').shape[0]),\n",
        "                name='Mulher',\n",
        "                marker_color='rgb(255, 0, 255)'\n",
        "                ))\n",
        "\n",
        "\n",
        "fig.update_layout(title = dict(text = 'Porcentagem de pessoas de cada sexo por última informação'),\n",
        "                  xaxis = dict(title='Última informação', titlefont_size=16, tickfont_size=14),\n",
        "                  yaxis = dict(title='Porcentagem de pessoas', titlefont_size=16, tickfont_size=14),\n",
        "                  legend=dict(x=1, y=1, bgcolor='rgba(255, 255, 255, 0)', \n",
        "                  bordercolor='rgba(255, 255, 255, 0)'),\n",
        "                  plot_bgcolor='darkgray',\n",
        "                  height = 800\n",
        "                  )\n",
        "fig.show()"
      ],
      "metadata": {
        "colab": {
          "base_uri": "https://localhost:8080/",
          "height": 817
        },
        "id": "ry4I_d9ZmDtj",
        "outputId": "e587ca40-5530-4304-c6a9-4365040d6934"
      },
      "execution_count": 279,
      "outputs": [
        {
          "output_type": "display_data",
          "data": {
            "text/html": [
              "<html>\n",
              "<head><meta charset=\"utf-8\" /></head>\n",
              "<body>\n",
              "    <div>            <script src=\"https://cdnjs.cloudflare.com/ajax/libs/mathjax/2.7.5/MathJax.js?config=TeX-AMS-MML_SVG\"></script><script type=\"text/javascript\">if (window.MathJax) {MathJax.Hub.Config({SVG: {font: \"STIX-Web\"}});}</script>                <script type=\"text/javascript\">window.PlotlyConfig = {MathJaxConfig: 'local'};</script>\n",
              "        <script src=\"https://cdn.plot.ly/plotly-2.8.3.min.js\"></script>                <div id=\"c715d96e-8ad6-47ff-abc1-6f6b86cb6d8b\" class=\"plotly-graph-div\" style=\"height:800px; width:100%;\"></div>            <script type=\"text/javascript\">                                    window.PLOTLYENV=window.PLOTLYENV || {};                                    if (document.getElementById(\"c715d96e-8ad6-47ff-abc1-6f6b86cb6d8b\")) {                    Plotly.newPlot(                        \"c715d96e-8ad6-47ff-abc1-6f6b86cb6d8b\",                        [{\"marker\":{\"color\":\"rgb(0, 0, 255)\"},\"name\":\"Homem\",\"x\":[\"1-Alive with cancer\",\"2-Alive, without other specifications\",\"3-Death by cancer\",\"4-Death by other causes, without other specifications\"],\"y\":[4.119210326499621,20.10250569476082,59.35839028094153,16.419893697798027],\"type\":\"bar\"},{\"marker\":{\"color\":\"rgb(255, 0, 255)\"},\"name\":\"Mulher\",\"x\":[\"1-Alive with cancer\",\"2-Alive, without other specifications\",\"3-Death by cancer\",\"4-Death by other causes, without other specifications\"],\"y\":[5.682951146560319,31.704885343968098,48.753738783649055,13.858424725822532],\"type\":\"bar\"}],                        {\"template\":{\"data\":{\"bar\":[{\"error_x\":{\"color\":\"#2a3f5f\"},\"error_y\":{\"color\":\"#2a3f5f\"},\"marker\":{\"line\":{\"color\":\"#E5ECF6\",\"width\":0.5},\"pattern\":{\"fillmode\":\"overlay\",\"size\":10,\"solidity\":0.2}},\"type\":\"bar\"}],\"barpolar\":[{\"marker\":{\"line\":{\"color\":\"#E5ECF6\",\"width\":0.5},\"pattern\":{\"fillmode\":\"overlay\",\"size\":10,\"solidity\":0.2}},\"type\":\"barpolar\"}],\"carpet\":[{\"aaxis\":{\"endlinecolor\":\"#2a3f5f\",\"gridcolor\":\"white\",\"linecolor\":\"white\",\"minorgridcolor\":\"white\",\"startlinecolor\":\"#2a3f5f\"},\"baxis\":{\"endlinecolor\":\"#2a3f5f\",\"gridcolor\":\"white\",\"linecolor\":\"white\",\"minorgridcolor\":\"white\",\"startlinecolor\":\"#2a3f5f\"},\"type\":\"carpet\"}],\"choropleth\":[{\"colorbar\":{\"outlinewidth\":0,\"ticks\":\"\"},\"type\":\"choropleth\"}],\"contour\":[{\"colorbar\":{\"outlinewidth\":0,\"ticks\":\"\"},\"colorscale\":[[0.0,\"#0d0887\"],[0.1111111111111111,\"#46039f\"],[0.2222222222222222,\"#7201a8\"],[0.3333333333333333,\"#9c179e\"],[0.4444444444444444,\"#bd3786\"],[0.5555555555555556,\"#d8576b\"],[0.6666666666666666,\"#ed7953\"],[0.7777777777777778,\"#fb9f3a\"],[0.8888888888888888,\"#fdca26\"],[1.0,\"#f0f921\"]],\"type\":\"contour\"}],\"contourcarpet\":[{\"colorbar\":{\"outlinewidth\":0,\"ticks\":\"\"},\"type\":\"contourcarpet\"}],\"heatmap\":[{\"colorbar\":{\"outlinewidth\":0,\"ticks\":\"\"},\"colorscale\":[[0.0,\"#0d0887\"],[0.1111111111111111,\"#46039f\"],[0.2222222222222222,\"#7201a8\"],[0.3333333333333333,\"#9c179e\"],[0.4444444444444444,\"#bd3786\"],[0.5555555555555556,\"#d8576b\"],[0.6666666666666666,\"#ed7953\"],[0.7777777777777778,\"#fb9f3a\"],[0.8888888888888888,\"#fdca26\"],[1.0,\"#f0f921\"]],\"type\":\"heatmap\"}],\"heatmapgl\":[{\"colorbar\":{\"outlinewidth\":0,\"ticks\":\"\"},\"colorscale\":[[0.0,\"#0d0887\"],[0.1111111111111111,\"#46039f\"],[0.2222222222222222,\"#7201a8\"],[0.3333333333333333,\"#9c179e\"],[0.4444444444444444,\"#bd3786\"],[0.5555555555555556,\"#d8576b\"],[0.6666666666666666,\"#ed7953\"],[0.7777777777777778,\"#fb9f3a\"],[0.8888888888888888,\"#fdca26\"],[1.0,\"#f0f921\"]],\"type\":\"heatmapgl\"}],\"histogram\":[{\"marker\":{\"pattern\":{\"fillmode\":\"overlay\",\"size\":10,\"solidity\":0.2}},\"type\":\"histogram\"}],\"histogram2d\":[{\"colorbar\":{\"outlinewidth\":0,\"ticks\":\"\"},\"colorscale\":[[0.0,\"#0d0887\"],[0.1111111111111111,\"#46039f\"],[0.2222222222222222,\"#7201a8\"],[0.3333333333333333,\"#9c179e\"],[0.4444444444444444,\"#bd3786\"],[0.5555555555555556,\"#d8576b\"],[0.6666666666666666,\"#ed7953\"],[0.7777777777777778,\"#fb9f3a\"],[0.8888888888888888,\"#fdca26\"],[1.0,\"#f0f921\"]],\"type\":\"histogram2d\"}],\"histogram2dcontour\":[{\"colorbar\":{\"outlinewidth\":0,\"ticks\":\"\"},\"colorscale\":[[0.0,\"#0d0887\"],[0.1111111111111111,\"#46039f\"],[0.2222222222222222,\"#7201a8\"],[0.3333333333333333,\"#9c179e\"],[0.4444444444444444,\"#bd3786\"],[0.5555555555555556,\"#d8576b\"],[0.6666666666666666,\"#ed7953\"],[0.7777777777777778,\"#fb9f3a\"],[0.8888888888888888,\"#fdca26\"],[1.0,\"#f0f921\"]],\"type\":\"histogram2dcontour\"}],\"mesh3d\":[{\"colorbar\":{\"outlinewidth\":0,\"ticks\":\"\"},\"type\":\"mesh3d\"}],\"parcoords\":[{\"line\":{\"colorbar\":{\"outlinewidth\":0,\"ticks\":\"\"}},\"type\":\"parcoords\"}],\"pie\":[{\"automargin\":true,\"type\":\"pie\"}],\"scatter\":[{\"marker\":{\"colorbar\":{\"outlinewidth\":0,\"ticks\":\"\"}},\"type\":\"scatter\"}],\"scatter3d\":[{\"line\":{\"colorbar\":{\"outlinewidth\":0,\"ticks\":\"\"}},\"marker\":{\"colorbar\":{\"outlinewidth\":0,\"ticks\":\"\"}},\"type\":\"scatter3d\"}],\"scattercarpet\":[{\"marker\":{\"colorbar\":{\"outlinewidth\":0,\"ticks\":\"\"}},\"type\":\"scattercarpet\"}],\"scattergeo\":[{\"marker\":{\"colorbar\":{\"outlinewidth\":0,\"ticks\":\"\"}},\"type\":\"scattergeo\"}],\"scattergl\":[{\"marker\":{\"colorbar\":{\"outlinewidth\":0,\"ticks\":\"\"}},\"type\":\"scattergl\"}],\"scattermapbox\":[{\"marker\":{\"colorbar\":{\"outlinewidth\":0,\"ticks\":\"\"}},\"type\":\"scattermapbox\"}],\"scatterpolar\":[{\"marker\":{\"colorbar\":{\"outlinewidth\":0,\"ticks\":\"\"}},\"type\":\"scatterpolar\"}],\"scatterpolargl\":[{\"marker\":{\"colorbar\":{\"outlinewidth\":0,\"ticks\":\"\"}},\"type\":\"scatterpolargl\"}],\"scatterternary\":[{\"marker\":{\"colorbar\":{\"outlinewidth\":0,\"ticks\":\"\"}},\"type\":\"scatterternary\"}],\"surface\":[{\"colorbar\":{\"outlinewidth\":0,\"ticks\":\"\"},\"colorscale\":[[0.0,\"#0d0887\"],[0.1111111111111111,\"#46039f\"],[0.2222222222222222,\"#7201a8\"],[0.3333333333333333,\"#9c179e\"],[0.4444444444444444,\"#bd3786\"],[0.5555555555555556,\"#d8576b\"],[0.6666666666666666,\"#ed7953\"],[0.7777777777777778,\"#fb9f3a\"],[0.8888888888888888,\"#fdca26\"],[1.0,\"#f0f921\"]],\"type\":\"surface\"}],\"table\":[{\"cells\":{\"fill\":{\"color\":\"#EBF0F8\"},\"line\":{\"color\":\"white\"}},\"header\":{\"fill\":{\"color\":\"#C8D4E3\"},\"line\":{\"color\":\"white\"}},\"type\":\"table\"}]},\"layout\":{\"annotationdefaults\":{\"arrowcolor\":\"#2a3f5f\",\"arrowhead\":0,\"arrowwidth\":1},\"autotypenumbers\":\"strict\",\"coloraxis\":{\"colorbar\":{\"outlinewidth\":0,\"ticks\":\"\"}},\"colorscale\":{\"diverging\":[[0,\"#8e0152\"],[0.1,\"#c51b7d\"],[0.2,\"#de77ae\"],[0.3,\"#f1b6da\"],[0.4,\"#fde0ef\"],[0.5,\"#f7f7f7\"],[0.6,\"#e6f5d0\"],[0.7,\"#b8e186\"],[0.8,\"#7fbc41\"],[0.9,\"#4d9221\"],[1,\"#276419\"]],\"sequential\":[[0.0,\"#0d0887\"],[0.1111111111111111,\"#46039f\"],[0.2222222222222222,\"#7201a8\"],[0.3333333333333333,\"#9c179e\"],[0.4444444444444444,\"#bd3786\"],[0.5555555555555556,\"#d8576b\"],[0.6666666666666666,\"#ed7953\"],[0.7777777777777778,\"#fb9f3a\"],[0.8888888888888888,\"#fdca26\"],[1.0,\"#f0f921\"]],\"sequentialminus\":[[0.0,\"#0d0887\"],[0.1111111111111111,\"#46039f\"],[0.2222222222222222,\"#7201a8\"],[0.3333333333333333,\"#9c179e\"],[0.4444444444444444,\"#bd3786\"],[0.5555555555555556,\"#d8576b\"],[0.6666666666666666,\"#ed7953\"],[0.7777777777777778,\"#fb9f3a\"],[0.8888888888888888,\"#fdca26\"],[1.0,\"#f0f921\"]]},\"colorway\":[\"#636efa\",\"#EF553B\",\"#00cc96\",\"#ab63fa\",\"#FFA15A\",\"#19d3f3\",\"#FF6692\",\"#B6E880\",\"#FF97FF\",\"#FECB52\"],\"font\":{\"color\":\"#2a3f5f\"},\"geo\":{\"bgcolor\":\"white\",\"lakecolor\":\"white\",\"landcolor\":\"#E5ECF6\",\"showlakes\":true,\"showland\":true,\"subunitcolor\":\"white\"},\"hoverlabel\":{\"align\":\"left\"},\"hovermode\":\"closest\",\"mapbox\":{\"style\":\"light\"},\"paper_bgcolor\":\"white\",\"plot_bgcolor\":\"#E5ECF6\",\"polar\":{\"angularaxis\":{\"gridcolor\":\"white\",\"linecolor\":\"white\",\"ticks\":\"\"},\"bgcolor\":\"#E5ECF6\",\"radialaxis\":{\"gridcolor\":\"white\",\"linecolor\":\"white\",\"ticks\":\"\"}},\"scene\":{\"xaxis\":{\"backgroundcolor\":\"#E5ECF6\",\"gridcolor\":\"white\",\"gridwidth\":2,\"linecolor\":\"white\",\"showbackground\":true,\"ticks\":\"\",\"zerolinecolor\":\"white\"},\"yaxis\":{\"backgroundcolor\":\"#E5ECF6\",\"gridcolor\":\"white\",\"gridwidth\":2,\"linecolor\":\"white\",\"showbackground\":true,\"ticks\":\"\",\"zerolinecolor\":\"white\"},\"zaxis\":{\"backgroundcolor\":\"#E5ECF6\",\"gridcolor\":\"white\",\"gridwidth\":2,\"linecolor\":\"white\",\"showbackground\":true,\"ticks\":\"\",\"zerolinecolor\":\"white\"}},\"shapedefaults\":{\"line\":{\"color\":\"#2a3f5f\"}},\"ternary\":{\"aaxis\":{\"gridcolor\":\"white\",\"linecolor\":\"white\",\"ticks\":\"\"},\"baxis\":{\"gridcolor\":\"white\",\"linecolor\":\"white\",\"ticks\":\"\"},\"bgcolor\":\"#E5ECF6\",\"caxis\":{\"gridcolor\":\"white\",\"linecolor\":\"white\",\"ticks\":\"\"}},\"title\":{\"x\":0.05},\"xaxis\":{\"automargin\":true,\"gridcolor\":\"white\",\"linecolor\":\"white\",\"ticks\":\"\",\"title\":{\"standoff\":15},\"zerolinecolor\":\"white\",\"zerolinewidth\":2},\"yaxis\":{\"automargin\":true,\"gridcolor\":\"white\",\"linecolor\":\"white\",\"ticks\":\"\",\"title\":{\"standoff\":15},\"zerolinecolor\":\"white\",\"zerolinewidth\":2}}},\"title\":{\"text\":\"Porcentagem de pessoas de cada sexo por \\u00faltima informa\\u00e7\\u00e3o\"},\"xaxis\":{\"title\":{\"text\":\"\\u00daltima informa\\u00e7\\u00e3o\",\"font\":{\"size\":16}},\"tickfont\":{\"size\":14}},\"yaxis\":{\"title\":{\"text\":\"Porcentagem de pessoas\",\"font\":{\"size\":16}},\"tickfont\":{\"size\":14}},\"legend\":{\"x\":1,\"y\":1,\"bgcolor\":\"rgba(255, 255, 255, 0)\",\"bordercolor\":\"rgba(255, 255, 255, 0)\"},\"plot_bgcolor\":\"darkgray\",\"height\":800},                        {\"responsive\": true}                    ).then(function(){\n",
              "                            \n",
              "var gd = document.getElementById('c715d96e-8ad6-47ff-abc1-6f6b86cb6d8b');\n",
              "var x = new MutationObserver(function (mutations, observer) {{\n",
              "        var display = window.getComputedStyle(gd).display;\n",
              "        if (!display || display === 'none') {{\n",
              "            console.log([gd, 'removed!']);\n",
              "            Plotly.purge(gd);\n",
              "            observer.disconnect();\n",
              "        }}\n",
              "}});\n",
              "\n",
              "// Listen for the removal of the full notebook cells\n",
              "var notebookContainer = gd.closest('#notebook-container');\n",
              "if (notebookContainer) {{\n",
              "    x.observe(notebookContainer, {childList: true});\n",
              "}}\n",
              "\n",
              "// Listen for the clearing of the current output cell\n",
              "var outputEl = gd.closest('.output');\n",
              "if (outputEl) {{\n",
              "    x.observe(outputEl, {childList: true});\n",
              "}}\n",
              "\n",
              "                        })                };                            </script>        </div>\n",
              "</body>\n",
              "</html>"
            ]
          },
          "metadata": {}
        }
      ]
    },
    {
      "cell_type": "markdown",
      "source": [
        "## **Análise da correlação das informações**"
      ],
      "metadata": {
        "id": "r1RxntQrR-L5"
      }
    },
    {
      "cell_type": "markdown",
      "source": [
        "### **Última informação vs outras variáveis**"
      ],
      "metadata": {
        "id": "VxHstXz5oACm"
      }
    },
    {
      "cell_type": "code",
      "source": [
        "df_corr = data.copy()\n",
        "df_corr.drop(columns=['CATEATEND', 'HORMOAPOS', 'TMOAPOS', 'IMUNOAPOS'], inplace=True)\n",
        "abs(df_corr.corr().ULTINFO).sort_values(ascending=False)"
      ],
      "metadata": {
        "colab": {
          "base_uri": "https://localhost:8080/"
        },
        "id": "OsxnMGrToLA9",
        "outputId": "d4415edb-d6cc-47a8-e7e3-89e3a624e1e6"
      },
      "execution_count": 286,
      "outputs": [
        {
          "output_type": "execute_result",
          "data": {
            "text/plain": [
              "ULTINFO       1.000000\n",
              "ANODIAG       0.149068\n",
              "CIRURGIA      0.109888\n",
              "SEXO          0.086825\n",
              "IDADE         0.084937\n",
              "NAOTRAT       0.058727\n",
              "HABILIT2      0.052127\n",
              "DIAGPREV      0.049610\n",
              "RECNENHUM     0.033586\n",
              "RRAS          0.029790\n",
              "ESCOLARI      0.024743\n",
              "OUTROAPOS     0.023672\n",
              "RADIOAPOS     0.023594\n",
              "TMO           0.022669\n",
              "RECREGIO      0.022472\n",
              "RECLOCAL      0.021950\n",
              "RADIO         0.021421\n",
              "DIAGTRAT      0.020617\n",
              "OUTROS        0.017426\n",
              "IBGEATEN      0.016692\n",
              "NENHUMAPOS    0.016465\n",
              "CIRURAPOS     0.015409\n",
              "MORFO         0.012086\n",
              "CIDO          0.012086\n",
              "CONSDIAG      0.011372\n",
              "QUIMIO        0.009071\n",
              "RECDIST       0.007391\n",
              "QUIMIOAPOS    0.006277\n",
              "BASEDIAG      0.005681\n",
              "IBGE          0.004924\n",
              "TRATCONS      0.001278\n",
              "Name: ULTINFO, dtype: float64"
            ]
          },
          "metadata": {},
          "execution_count": 286
        }
      ]
    },
    {
      "cell_type": "markdown",
      "source": [
        "### **Todas vs Todas**"
      ],
      "metadata": {
        "id": "-O8qZqMNpb0o"
      }
    },
    {
      "cell_type": "code",
      "execution_count": 287,
      "metadata": {
        "colab": {
          "base_uri": "https://localhost:8080/",
          "height": 1000
        },
        "id": "Vcwn_HrUIDgz",
        "outputId": "612b57c4-fe78-4374-aff4-3014daf5864d"
      },
      "outputs": [
        {
          "output_type": "display_data",
          "data": {
            "text/plain": [
              "<Figure size 1800x1440 with 2 Axes>"
            ],
            "image/png": "[encoded data removed]"
          },
          "metadata": {
            "needs_background": "light"
          }
        }
      ],
      "source": [
        "fig, ax = plt.subplots(figsize = (25, 20))\n",
        "colormap = sns.diverging_palette(220, 10, as_cmap = True)\n",
        " \n",
        "sns.heatmap(df_corr.corr(), cmap = colormap, annot = True, fmt = '.2f')\n",
        "fig.show()"
      ]
    },
    {
      "cell_type": "markdown",
      "metadata": {
        "id": "LEvrA6yIpaX7"
      },
      "source": [
        "# **Análise de dados ausentes** RETOMAR AQUI"
      ]
    },
    {
      "cell_type": "markdown",
      "metadata": {
        "id": "YW4QN2ScCrHx"
      },
      "source": [
        "Now let's see the amount of missing values per column, we have 17 columns with more than 50% of missing data, being 6 with all missing values, if we want to use any of these for the machine learning models, it will be necessary to treat the missing values, placing 0 or some string that indicates that the value is missing, for example. \n",
        "\n",
        "Another option is not using the columns in the analysis, we will see later in this project the proposed solutions to solve this problem."
      ]
    },
    {
      "cell_type": "code",
      "execution_count": null,
      "metadata": {
        "id": "y4IZN1rG6NgS",
        "colab": {
          "base_uri": "https://localhost:8080/"
        },
        "outputId": "c65b5910-778a-453a-f7af-1f73c58c0f4a"
      },
      "outputs": [
        {
          "output_type": "execute_result",
          "data": {
            "text/plain": [
              "REC04       0.999362\n",
              "REC03       0.996173\n",
              "REC02       0.985489\n",
              "REC01       0.931111\n",
              "DIAGTRAT    0.089380\n",
              "TRATCONS    0.089061\n",
              "DRS         0.041221\n",
              "CONSDIAG    0.001674\n",
              "dtype: float64"
            ]
          },
          "metadata": {},
          "execution_count": 37
        }
      ],
      "source": [
        "missing = data.isna().sum().sort_values(ascending=False)\n",
        "prop = missing[missing > 0]/data.shape[0]\n",
        "prop"
      ]
    },
    {
      "cell_type": "code",
      "execution_count": null,
      "metadata": {
        "id": "s-nqY-RIXAu2",
        "colab": {
          "base_uri": "https://localhost:8080/",
          "height": 381
        },
        "outputId": "df52c1de-d638-4abb-c61e-519eb427b81e"
      },
      "outputs": [
        {
          "output_type": "display_data",
          "data": {
            "text/plain": [
              "<Figure size 864x360 with 1 Axes>"
            ],
            "image/png": "[encoded data removed]"
          },
          "metadata": {
            "needs_background": "light"
          }
        }
      ],
      "source": [
        "plt.figure(figsize=(12, 5))\n",
        "plt.bar(height = prop*100, x=prop.index)\n",
        "plt.xlabel('Variable', size=14)\n",
        "plt.ylabel('%', size=14)\n",
        "plt.title('Percentage of missing data per column', size=16)\n",
        "plt.xticks(rotation=30)\n",
        "plt.gca().spines['top'].set_visible(False)\n",
        "plt.gca().spines['right'].set_visible(False)\n",
        "plt.show()"
      ]
    },
    {
      "cell_type": "code",
      "execution_count": null,
      "metadata": {
        "id": "RQrnZvsEmAQH",
        "colab": {
          "base_uri": "https://localhost:8080/"
        },
        "outputId": "7f4d365a-901b-42b6-ded9-62c838f9dd66"
      },
      "outputs": [
        {
          "output_type": "execute_result",
          "data": {
            "text/plain": [
              "(8,)"
            ]
          },
          "metadata": {},
          "execution_count": 39
        }
      ],
      "source": [
        "# REC04 - Local da recidiva/metástase. Formato: C99\n",
        "data[data['REC04'].isna() == False]['REC04'].shape"
      ]
    },
    {
      "cell_type": "code",
      "execution_count": null,
      "metadata": {
        "id": "03JLtZSRmhVd",
        "colab": {
          "base_uri": "https://localhost:8080/"
        },
        "outputId": "3d2f3459-35f2-43bb-c741-db3b7fa5ec25"
      },
      "outputs": [
        {
          "output_type": "execute_result",
          "data": {
            "text/plain": [
              "(48,)"
            ]
          },
          "metadata": {},
          "execution_count": 40
        }
      ],
      "source": [
        "# META04 - Metástase. Formato: C99\n",
        "data[data['REC03'].isna() == False]['REC03'].shape"
      ]
    },
    {
      "cell_type": "code",
      "execution_count": null,
      "metadata": {
        "id": "5CsTDwk3mpYA",
        "colab": {
          "base_uri": "https://localhost:8080/"
        },
        "outputId": "42358fc7-3f9a-4563-ca97-f8ed307d2b0a"
      },
      "outputs": [
        {
          "output_type": "execute_result",
          "data": {
            "text/plain": [
              "(182,)"
            ]
          },
          "metadata": {},
          "execution_count": 41
        }
      ],
      "source": [
        "# REC02 - Local da recidiva/metástase. Formato: C99\n",
        "data[data['REC02'].isna() == False]['REC02'].shape"
      ]
    },
    {
      "cell_type": "code",
      "execution_count": null,
      "metadata": {
        "id": "B_kNGD4QoQAl",
        "colab": {
          "base_uri": "https://localhost:8080/"
        },
        "outputId": "5c91fe2a-d0e3-4591-af1b-75e651442fce"
      },
      "outputs": [
        {
          "output_type": "execute_result",
          "data": {
            "text/plain": [
              "(864,)"
            ]
          },
          "metadata": {},
          "execution_count": 42
        }
      ],
      "source": [
        "# REC01 - Local da recidiva/metástase. Formato: C99\n",
        "data[data['REC01'].isna() == False]['REC01'].shape"
      ]
    },
    {
      "cell_type": "code",
      "execution_count": null,
      "metadata": {
        "id": "awN5cTnW5-o-",
        "colab": {
          "base_uri": "https://localhost:8080/"
        },
        "outputId": "46b23809-661e-4e48-de0f-5dd4744e768f"
      },
      "outputs": [
        {
          "output_type": "execute_result",
          "data": {
            "text/plain": [
              "(11421,)"
            ]
          },
          "metadata": {},
          "execution_count": 43
        }
      ],
      "source": [
        "# DIAGTRAT - Diferença em dias entre as datas de tratamento e diagnóstico\n",
        "data[data['DIAGTRAT'].isna() == False]['DIAGTRAT'].shape"
      ]
    },
    {
      "cell_type": "code",
      "execution_count": null,
      "metadata": {
        "id": "b9D2Zb6U6B0T",
        "colab": {
          "base_uri": "https://localhost:8080/"
        },
        "outputId": "86103063-ec0e-471b-d962-f87662af0efd"
      },
      "outputs": [
        {
          "output_type": "execute_result",
          "data": {
            "text/plain": [
              "(11425,)"
            ]
          },
          "metadata": {},
          "execution_count": 44
        }
      ],
      "source": [
        "# TRATCONS - Diferença em dias entre as datas de consulta e tratamento\n",
        "data[data['TRATCONS'].isna() == False]['TRATCONS'].shape"
      ]
    },
    {
      "cell_type": "code",
      "execution_count": null,
      "metadata": {
        "id": "qfjMAV1K7kn7",
        "colab": {
          "base_uri": "https://localhost:8080/"
        },
        "outputId": "b443e34a-20e0-44ca-80f1-057b9e7cd961"
      },
      "outputs": [
        {
          "output_type": "execute_result",
          "data": {
            "text/plain": [
              "(12025,)"
            ]
          },
          "metadata": {},
          "execution_count": 45
        }
      ],
      "source": [
        "# DRS - DRS \n",
        "data[data['DRS'].isna() == False]['DRS'].shape"
      ]
    },
    {
      "cell_type": "code",
      "execution_count": null,
      "metadata": {
        "id": "cOogHLir8ots",
        "colab": {
          "base_uri": "https://localhost:8080/"
        },
        "outputId": "2bffb945-544a-407b-f964-3f459e27ec98"
      },
      "outputs": [
        {
          "output_type": "execute_result",
          "data": {
            "text/plain": [
              "(12521,)"
            ]
          },
          "metadata": {},
          "execution_count": 46
        }
      ],
      "source": [
        "# ULTINFO - Última informação do paciente\n",
        "data[data['CONSDIAG'].isna() == False]['CONSDIAG'].shape "
      ]
    },
    {
      "cell_type": "markdown",
      "metadata": {
        "id": "gFGUYhdDLQRk"
      },
      "source": [
        "## **Columns analysis**"
      ]
    },
    {
      "cell_type": "markdown",
      "metadata": {
        "id": "5gWcW39LFEVI"
      },
      "source": [
        "In this section, the columns will be analyzed individually, with the aim of examining each one of them and obtaining a function that will be used in the data before starting the study with the machine learning models.\n",
        "\n",
        "The columns were divided according to the type of each one, resulting in the categories: dates, numeric categories, letters categories, numbers, strings, letters and numbers categories.\n",
        "\n",
        "Columns with unique values will be dropped from the dataset in the function called `variables_preprocessing`. Another treatment that will be done in the columns is the filling of string columns with missing values with ** Sem informação **, being the columns:\n",
        "\n",
        "* `META01`;\n",
        "\n",
        "* `META02`;\n",
        "\n",
        "* `META03`;\n",
        "\n",
        "* `META04`;\n",
        "\n",
        "* `REC01`;\n",
        "\n",
        "* `REC02`;\n",
        "\n",
        "* `REC03`.\n",
        "\n",
        "The `DRS` column will have the missing values filled with 0, after using the split method to obtain only the numbers in this column.\n",
        "\n",
        "We also excluded from the data `ECGRUP` with X and Y values and only selected morphologies 81403 and `comportamento` 3.\n",
        "\n",
        "From the column `UFRESID` will be selected the data for SP state. Finally, the columns that were dropped from the dataset, because they have unique values, only NaN values or because they are descriptions of the disease, are the following:\n",
        "\n",
        "* `UFNASC`;\n",
        "\n",
        "* `CIDADE`;\n",
        "\n",
        "* `DESCTOPO`;\n",
        "\n",
        "* `DESCMORFO`;\n",
        "\n",
        "* `REC04`."
      ]
    },
    {
      "cell_type": "markdown",
      "metadata": {
        "id": "fm8hoTsMrVAv"
      },
      "source": [
        "> Check the [functions section](https://cancer-project.readthedocs.io/en/latest/Cancer%20Libraries%20and%20functions.html#Models) to see the complete function."
      ]
    },
    {
      "cell_type": "code",
      "execution_count": null,
      "metadata": {
        "colab": {
          "base_uri": "https://localhost:8080/",
          "height": 165
        },
        "id": "Jq_Ob9fq6-x8",
        "outputId": "8ed14db3-3d7b-4d4a-a71a-977e811af26a"
      },
      "outputs": [
        {
          "output_type": "error",
          "ename": "NameError",
          "evalue": "ignored",
          "traceback": [
            "\u001b[0;31m---------------------------------------------------------------------------\u001b[0m",
            "\u001b[0;31mNameError\u001b[0m                                 Traceback (most recent call last)",
            "\u001b[0;32m<ipython-input-47-17e04574e04f>\u001b[0m in \u001b[0;36m<module>\u001b[0;34m()\u001b[0m\n\u001b[0;32m----> 1\u001b[0;31m \u001b[0mdf_aux\u001b[0m \u001b[0;34m=\u001b[0m \u001b[0mread_csv\u001b[0m\u001b[0;34m(\u001b[0m\u001b[0mpath\u001b[0m\u001b[0;34m,\u001b[0m \u001b[0mdrop_id\u001b[0m\u001b[0;34m=\u001b[0m\u001b[0;32mTrue\u001b[0m\u001b[0;34m)\u001b[0m\u001b[0;34m\u001b[0m\u001b[0;34m\u001b[0m\u001b[0m\n\u001b[0m",
            "\u001b[0;31mNameError\u001b[0m: name 'path' is not defined"
          ]
        }
      ],
      "source": [
        "df_aux = read_csv(path, drop_id=True)"
      ]
    },
    {
      "cell_type": "markdown",
      "metadata": {
        "id": "6kMEltD5kqXx"
      },
      "source": [
        "### **Dates**"
      ]
    },
    {
      "cell_type": "code",
      "execution_count": null,
      "metadata": {
        "id": "6G7APcmlujAs"
      },
      "outputs": [],
      "source": [
        "# #NULL! to NaN\n",
        "df_aux.loc[df_aux.DTRECIDIVA == '#NULL!', 'DTRECIDIVA'] = np.nan\n",
        "df_aux.loc[df_aux.DTULTINFO == '#NULL!', 'DTULTINFO'] = np.nan\n",
        "df_aux.loc[df_aux.DTTRAT == '#NULL!', 'DTTRAT'] = np.nan"
      ]
    },
    {
      "cell_type": "markdown",
      "metadata": {
        "id": "WAmQaNBYkqYY"
      },
      "source": [
        "*   **DTCONSULT**: Data da 1ª consulta (date = 10). Formato: DD/MM/YYYY\t\n",
        "*   **DTDIAG**: Data do diagnóstico (date = 10). Formato: DD/MM/YYYY\n",
        "*   **DTTRAT**: Data de inicio do tratamento (date = 10). Formato: DD/MM/YYYY\t\n",
        "*   **DTULTINFO**: Data da última informação do paciente (date = 10). Formato: DD/MM/YYYY\n",
        "*   **DTRECIDIVA**: Data da última ocorrência de recidiva (date = 10). Formato: DD/MM/YYYY"
      ]
    },
    {
      "cell_type": "code",
      "execution_count": null,
      "metadata": {
        "id": "32wpbM6WkqYa"
      },
      "outputs": [],
      "source": [
        "# Data - DTCONSULT, DTDIAG, DTTRAT, DTULTINFO, DTRECIDIVA\n",
        "dates = ['DTCONSULT', 'DTDIAG', 'DTTRAT', 'DTULTINFO', 'DTRECIDIVA']\n",
        "df_aux[dates].isna().sum()"
      ]
    },
    {
      "cell_type": "code",
      "execution_count": null,
      "metadata": {
        "id": "DJkZ3GSTkqYc"
      },
      "outputs": [],
      "source": [
        "(df_aux[dates].isna().sum()/df_aux.shape[0])*100"
      ]
    },
    {
      "cell_type": "code",
      "execution_count": null,
      "metadata": {
        "id": "eW5eCAoAvhfM"
      },
      "outputs": [],
      "source": [
        "df_aux[dates].head(3)"
      ]
    },
    {
      "cell_type": "markdown",
      "metadata": {
        "id": "szGQwL8iVN8V"
      },
      "source": [
        "### **Numerical categories**"
      ]
    },
    {
      "cell_type": "markdown",
      "metadata": {
        "id": "o28Pep3g4sjz"
      },
      "source": [
        "*   **SEXO**: Sexo do paciente (int = 1). \n",
        "\n",
        "      1 – MASCULINO\n",
        "\n",
        "      2 – FEMININO"
      ]
    },
    {
      "cell_type": "code",
      "execution_count": null,
      "metadata": {
        "id": "gn_we7JV6LHw"
      },
      "outputs": [],
      "source": [
        "df_aux.SEXO.value_counts()"
      ]
    },
    {
      "cell_type": "markdown",
      "metadata": {
        "id": "qQRcY5dv4qBT"
      },
      "source": [
        "*   **ESCOLARI**: Código para escolaridade do paciente (int = 1).\n",
        "\n",
        "      1 – ANALFABETO\n",
        "\n",
        "      2 – ENS. FUND. INCOMPLETO\n",
        "\n",
        "      3 – ENS. FUND. COMPLETO\n",
        "\n",
        "      4 – ENSINO MÉDIO\n",
        "\n",
        "      5 – SUPERIOR\n",
        "\n",
        "      9 – IGNORADA"
      ]
    },
    {
      "cell_type": "code",
      "execution_count": null,
      "metadata": {
        "id": "c-OweEm36HiC"
      },
      "outputs": [],
      "source": [
        "df_aux.ESCOLARI.value_counts()"
      ]
    },
    {
      "cell_type": "markdown",
      "metadata": {
        "id": "id1s25y-4u9d"
      },
      "source": [
        "*   **CATEATEND**: Categoria de atendimento ao diagnóstico (int = 1). \n",
        "\n",
        "      1 - CONVENIO\n",
        "\n",
        "      2 - SUS\n",
        "\n",
        "      3 – PARTICULAR\n",
        "\n",
        "      9 – SEM INFORMAÇÃO"
      ]
    },
    {
      "cell_type": "code",
      "execution_count": null,
      "metadata": {
        "id": "TSjwI2Cy6O_V"
      },
      "outputs": [],
      "source": [
        "df_aux.CATEATEND.value_counts()"
      ]
    },
    {
      "cell_type": "markdown",
      "metadata": {
        "id": "pLlXb8J6443A"
      },
      "source": [
        "*   **DIAGPREV**: Diagnóstico e tratamento anterior (int = 1).\n",
        "\n",
        "      1 – SEM DIAGNÓSTICO / SEM TRATAMENTO\n",
        "      \n",
        "      2 – COM DIAGNÓSTICO / SEM TRATAMENTO"
      ]
    },
    {
      "cell_type": "code",
      "execution_count": null,
      "metadata": {
        "id": "QetQv3x66UMY"
      },
      "outputs": [],
      "source": [
        "df_aux.DIAGPREV.value_counts()"
      ]
    },
    {
      "cell_type": "markdown",
      "metadata": {
        "id": "RU5zwKw85IEA"
      },
      "source": [
        "*   **NAOTRAT**: Código da razão para não realização do tratamento (int = 1).\n",
        "      \n",
        "      1 – RECUSA DO TRATAMENTO\n",
        "      \n",
        "      2 – DOENÇA AVANÇADA, FALTA DE CONDIÇÕES CLINICAS\n",
        "      \n",
        "      3 – OUTRAS DOENÇAS ASSOCIADAS\n",
        "      \n",
        "      4 – ABANDONO DE TRATAMENTO\n",
        "      \n",
        "      5 – OBITO POR CANCER\n",
        "      \n",
        "      6 – OBITO POR OUTRAS CAUSAS, SOE\n",
        "      \n",
        "      7 – OUTRAS\n",
        "      \n",
        "      8 – NÃO SE APLICA (CASO TENHA TRATAMENTO)\n",
        "      \n",
        "      9 – SEM INFORMAÇÃO"
      ]
    },
    {
      "cell_type": "code",
      "execution_count": null,
      "metadata": {
        "id": "qtr0bFSyXF4d"
      },
      "outputs": [],
      "source": [
        "df_aux.NAOTRAT.value_counts()"
      ]
    },
    {
      "cell_type": "markdown",
      "metadata": {
        "id": "R4QaNBzfEK3o"
      },
      "source": [
        "*   **NENHUM**: Tratamento recebido no hospital = nenhum (int = 1). 0 – NÃO; 1 – SIM\n",
        "*   **CIRURGIA**: Tratamento recebido no hospital = cirurgia (int = 1). 0 – NÃO; 1 – SIM\n",
        "*   **RADIO**: Tratamento recebido no hospital = radioterapia (int = 1). 0 – NÃO; 1 – SIM\n",
        "*   **QUIMIO**: Tratamento recebido no hospital = quimioterapia (int = 1). 0 – NÃO; 1 – SIM\n",
        "*   **HORMONIO**: Tratamento recebido no hospital = hormonioterapia (int = 1). 0 – NÃO; 1 – SIM\n",
        "*   **TMO**: Tratamento recebido no hospital = tmo (int = 1). 0 – NÃO; 1 – SIM\n",
        "*   **IMUNO**: Tratamento recebido no hospital = imunoterapia (int = 1). 0 – NÃO; 1 – SIM\n",
        "*   **OUTROS**: Tratamento recebido no hospital = outros (int = 1). 0 – NÃO; 1 – SIM"
      ]
    },
    {
      "cell_type": "code",
      "execution_count": null,
      "metadata": {
        "id": "BBfyqEdB6eta"
      },
      "outputs": [],
      "source": [
        "df_aux.NENHUM.unique()"
      ]
    },
    {
      "cell_type": "code",
      "execution_count": null,
      "metadata": {
        "id": "rHkAVzzp6i1T"
      },
      "outputs": [],
      "source": [
        "df_aux.CIRURGIA.unique()"
      ]
    },
    {
      "cell_type": "code",
      "execution_count": null,
      "metadata": {
        "id": "jfFY5md66nRb"
      },
      "outputs": [],
      "source": [
        "df_aux.RADIO.unique()"
      ]
    },
    {
      "cell_type": "code",
      "execution_count": null,
      "metadata": {
        "id": "GydnMZHG6qZh"
      },
      "outputs": [],
      "source": [
        "df_aux.QUIMIO.unique()"
      ]
    },
    {
      "cell_type": "code",
      "execution_count": null,
      "metadata": {
        "id": "94MOzXcs6tkB"
      },
      "outputs": [],
      "source": [
        "df_aux.HORMONIO.unique()"
      ]
    },
    {
      "cell_type": "code",
      "execution_count": null,
      "metadata": {
        "id": "3Vz4XnS06w5A"
      },
      "outputs": [],
      "source": [
        "df_aux.TMO.unique()"
      ]
    },
    {
      "cell_type": "code",
      "execution_count": null,
      "metadata": {
        "id": "sRlRr-6x60s9"
      },
      "outputs": [],
      "source": [
        "df_aux.IMUNO.unique()"
      ]
    },
    {
      "cell_type": "code",
      "execution_count": null,
      "metadata": {
        "id": "lgmjmf9m64_k"
      },
      "outputs": [],
      "source": [
        "df_aux.OUTROS.unique()"
      ]
    },
    {
      "cell_type": "markdown",
      "metadata": {
        "id": "NfzZxcaG7jCS"
      },
      "source": [
        "*   **NENHUMANT**: Tratamento recebido fora do hospital e antes da admissão = nenhum (int = 1). 0 – NÃO; 1 – SIM"
      ]
    },
    {
      "cell_type": "code",
      "execution_count": null,
      "metadata": {
        "id": "kEk-ia8d67he"
      },
      "outputs": [],
      "source": [
        "df_aux.NENHUMANT.unique()"
      ]
    },
    {
      "cell_type": "markdown",
      "metadata": {
        "id": "OQ4Cyp0S7dLC"
      },
      "source": [
        "*   **NENHUMAPOS**: Tratamento recebido fora do hospital e durante/após admissão = nenhum\t(int = 1). 0 – NÃO; 1 – SIM\t\n",
        "*   **CIRURAPOS**: Tratamento recebido fora do hospital e durante/após admissão = cirurgia\t(int = 1). 0 – NÃO; 1 – SIM\t\n",
        "*   **RADIOAPOS**: Tratamento recebido fora do hospital e durante/após admissão = radioterapia\t(int = 1). 0 – NÃO; 1 – SIM\t\n",
        "*   **QUIMIOAPOS**: Tratamento recebido fora do hospital e durante/após admissão = quimioterapia\t(int = 1). 0 – NÃO; 1 – SIM\t\t\n",
        "*   **HORMOAPOS**: Tratamento recebido fora do hospital e durante/após admissão = hormonioterapia\t(int = 1). 0 – NÃO; 1 – SIM\t\t\n",
        "*   **TMOAPOS**: Tratamento recebido fora do hospital e durante/após admissão = tmo\t(int = 1). 0 – NÃO; 1 – SIM\t\t\n",
        "*   **IMUNOAPOS**: Tratamento recebido fora do hospital e durante/após admissão = imunoterapia\t(int = 1). 0 – NÃO; 1 – SIM\t\n",
        "*   **OUTROAPOS**: Tratamento recebido fora do hospital e durante/após admissão = outros\t(int = 1). 0 – NÃO; 1 – SIM\t"
      ]
    },
    {
      "cell_type": "code",
      "execution_count": null,
      "metadata": {
        "id": "7jED4YUe7UR0"
      },
      "outputs": [],
      "source": [
        "df_aux.NENHUMAPOS.unique()"
      ]
    },
    {
      "cell_type": "code",
      "execution_count": null,
      "metadata": {
        "id": "VhkYoW7q7muS"
      },
      "outputs": [],
      "source": [
        "df_aux.CIRURAPOS.unique()"
      ]
    },
    {
      "cell_type": "code",
      "execution_count": null,
      "metadata": {
        "id": "R8soyxCM7pya"
      },
      "outputs": [],
      "source": [
        "df_aux.RADIOAPOS.unique()"
      ]
    },
    {
      "cell_type": "code",
      "execution_count": null,
      "metadata": {
        "id": "7wWCruA-7uLr"
      },
      "outputs": [],
      "source": [
        "df_aux.QUIMIOAPOS.unique()"
      ]
    },
    {
      "cell_type": "code",
      "execution_count": null,
      "metadata": {
        "id": "z3NJrxkk7xx5"
      },
      "outputs": [],
      "source": [
        "df_aux.HORMOAPOS.unique()"
      ]
    },
    {
      "cell_type": "code",
      "execution_count": null,
      "metadata": {
        "id": "1vaMYa3z70Sg"
      },
      "outputs": [],
      "source": [
        "df_aux.TMOAPOS.unique() ### drop"
      ]
    },
    {
      "cell_type": "code",
      "execution_count": null,
      "metadata": {
        "id": "IIlWTOTm73lH"
      },
      "outputs": [],
      "source": [
        "df_aux.IMUNOAPOS.unique()"
      ]
    },
    {
      "cell_type": "code",
      "execution_count": null,
      "metadata": {
        "id": "7bJ5GMfr75-9"
      },
      "outputs": [],
      "source": [
        "df_aux.OUTROAPOS.unique()"
      ]
    },
    {
      "cell_type": "markdown",
      "metadata": {
        "id": "iz1wkxe65TcW"
      },
      "source": [
        "*   **ULTINFO**: Última informação sobre o paciente (int = 1).\n",
        "      \n",
        "      1 – VIVO, COM CÂNCER\n",
        "      \n",
        "      2 – VIVO, SOE\n",
        "      \n",
        "      3 – OBITO POR CANCER\n",
        "      \n",
        "      4 – OBITO POR OUTRAS CAUSAS, SOE"
      ]
    },
    {
      "cell_type": "code",
      "execution_count": null,
      "metadata": {
        "id": "i6qwVG927xew"
      },
      "outputs": [],
      "source": [
        "df_aux.ULTINFO.value_counts()"
      ]
    },
    {
      "cell_type": "markdown",
      "metadata": {
        "id": "Cf-ig7oP5Q1w"
      },
      "source": [
        "*   **RECNENHUM**: Sem recidiva (int = 1). 0 - Não; 1 - Sim\n",
        "*   **RECLOCAL**: Recidiva local (int = 1). 0 - Não; 1 - Sim\t\n",
        "*   **RECREGIO**: Recidiva regional (int = 1). 0 - Não; 1 - Sim\t\n",
        "*   **RECDIST**: Recidiva a distância / metástase (int = 1). 0 - Não; 1 - Sim"
      ]
    },
    {
      "cell_type": "code",
      "execution_count": null,
      "metadata": {
        "id": "1wcR7ACpi3gO"
      },
      "outputs": [],
      "source": [
        "df_aux.RECNENHUM.value_counts()"
      ]
    },
    {
      "cell_type": "code",
      "execution_count": null,
      "metadata": {
        "id": "K4Kvwo6gi3Yd"
      },
      "outputs": [],
      "source": [
        "df_aux.RECLOCAL.value_counts()"
      ]
    },
    {
      "cell_type": "code",
      "execution_count": null,
      "metadata": {
        "id": "j8xeHVZ2i3RJ"
      },
      "outputs": [],
      "source": [
        "df_aux.RECREGIO.value_counts()"
      ]
    },
    {
      "cell_type": "code",
      "execution_count": null,
      "metadata": {
        "id": "JAcUlhKbipq9"
      },
      "outputs": [],
      "source": [
        "df_aux.RECDIST.value_counts()"
      ]
    },
    {
      "cell_type": "markdown",
      "metadata": {
        "id": "BYXCXeSclD9W"
      },
      "source": [
        "### **Letter categories**"
      ]
    },
    {
      "cell_type": "markdown",
      "metadata": {
        "id": "1R-zJzxhlD9Y"
      },
      "source": [
        "*   **TRATAMENTO**: Código de combinação dos tratamentos realizados (char = 1).\n",
        "      \n",
        "      A – Cirurgia\n",
        "      \n",
        "      B – Radioterapia\n",
        "      \n",
        "      C – Quimioterapia\n",
        "      \n",
        "      D – Cirurgia + Radioterapia\n",
        "      \n",
        "      E – Cirurgia + Quimioterapia\n",
        "      \n",
        "      F – Radioterapia + Quimioterapia\n",
        "      \n",
        "      G – Cirurgia + Radio + Quimio\n",
        "      \n",
        "      H – Cirurgia + Radio + Quimio + Hormonio\n",
        "      \n",
        "      I – Outras combinações de tratamento\n",
        "      \n",
        "      J – Nenhum tratamento realizado\t\n",
        "*   **TRATHOSP**: Código de combinação dos tratamentos realizados no hospital (char = 1).\n",
        "      \n",
        "      A – Cirurgia\n",
        "      \n",
        "      B – Radioterapia\n",
        "      \n",
        "      C – Quimioterapia\n",
        "      \n",
        "      D – Cirurgia + Radioterapia\n",
        "      \n",
        "      E – Cirurgia + Quimioterapia\n",
        "      \n",
        "      F – Radioterapia + Quimioterapia\n",
        "      \n",
        "      G – Cirurgia + Radio + Quimio\n",
        "      \n",
        "      H – Cirurgia + Radio + Quimio + Hormonio\n",
        "      \n",
        "      I – Outras combinações de tratamento\n",
        "\n",
        "      J – Nenhum tratamento realizado\n",
        "*   **TRATFAPOS**: Código de combinação dos tratamentos realizados após admissão fora do hospital (char = 1).\n",
        "      \n",
        "      A – Cirurgia\n",
        "      \n",
        "      B – Radioterapia\n",
        "      \n",
        "      C – Quimioterapia\n",
        "      \n",
        "      D – Cirurgia + Radioterapia\n",
        "      \n",
        "      E – Cirurgia + Quimioterapia\n",
        "      \n",
        "      F – Radioterapia + Quimioterapia\n",
        "      \n",
        "      G – Cirurgia + Radio + Quimio\n",
        "      \n",
        "      H – Cirurgia + Radio + Quimio + Hormonio\n",
        "      \n",
        "      I – Outras combinações de tratamento\n",
        "      \n",
        "      J – Nenhum tratamento realizado\n",
        "      \n",
        "      K – Sem informação"
      ]
    },
    {
      "cell_type": "code",
      "execution_count": null,
      "metadata": {
        "id": "4jPNJSvolD9Z"
      },
      "outputs": [],
      "source": [
        "np.sort(df_aux.TRATAMENTO.unique())"
      ]
    },
    {
      "cell_type": "code",
      "execution_count": null,
      "metadata": {
        "id": "i4YOwDbflD9b"
      },
      "outputs": [],
      "source": [
        "np.sort(df_aux.TRATHOSP.unique())"
      ]
    },
    {
      "cell_type": "code",
      "execution_count": null,
      "metadata": {
        "id": "ZOEcpWbUlD9d"
      },
      "outputs": [],
      "source": [
        "np.sort(df_aux.TRATFAPOS.unique())"
      ]
    },
    {
      "cell_type": "markdown",
      "metadata": {
        "id": "6syIujtClMep"
      },
      "source": [
        "### **Numbers**"
      ]
    },
    {
      "cell_type": "markdown",
      "metadata": {
        "id": "MfS7ggfUlMeq"
      },
      "source": [
        "*   **IDADE**: Idade do paciente (int = 3).\n"
      ]
    },
    {
      "cell_type": "code",
      "execution_count": null,
      "metadata": {
        "id": "KsgZkqXRlMe6"
      },
      "outputs": [],
      "source": [
        "df_aux.IDADE.nunique()"
      ]
    },
    {
      "cell_type": "markdown",
      "metadata": {
        "id": "4b7ucub_lMe7"
      },
      "source": [
        "*   **CONSDIAG**: Diferença em dias entre as datas de consulta o diagnóstico (num = dias).\n",
        "*   **TRATCONS**: Diferença em dias entre as datas de consulta e tratamento (num = dias).\t\n",
        "*   **DIAGTRAT**: Diferença em dias entre as datas de tratamento e diagnóstico (num = dias).\n"
      ]
    },
    {
      "cell_type": "code",
      "execution_count": null,
      "metadata": {
        "id": "uZv_WeQ8lMe8"
      },
      "outputs": [],
      "source": [
        "df_aux.CONSDIAG.isna().sum()"
      ]
    },
    {
      "cell_type": "code",
      "execution_count": null,
      "metadata": {
        "id": "iKVvidtJlMfG"
      },
      "outputs": [],
      "source": [
        "df_aux.TRATCONS.isna().sum()"
      ]
    },
    {
      "cell_type": "code",
      "execution_count": null,
      "metadata": {
        "id": "JlgjaupzlMfI"
      },
      "outputs": [],
      "source": [
        "df_aux.DIAGTRAT.isna().sum()"
      ]
    },
    {
      "cell_type": "markdown",
      "metadata": {
        "id": "V02B3da4lMfM"
      },
      "source": [
        "*   **ANODIAG**: Ano de diagnóstico (int = 4). Formato: 9999\n"
      ]
    },
    {
      "cell_type": "code",
      "execution_count": null,
      "metadata": {
        "id": "BZlxv2rQlMfM"
      },
      "outputs": [],
      "source": [
        "np.sort(df_aux.ANODIAG.unique())"
      ]
    },
    {
      "cell_type": "markdown",
      "metadata": {
        "id": "qelTAwc7lMfP"
      },
      "source": [
        "*   **IBGE**: Código da cidade de residência do paciente segundo IBGE com digito verificador (int = 7)."
      ]
    },
    {
      "cell_type": "code",
      "execution_count": null,
      "metadata": {
        "id": "g7jK0RFhlMfQ"
      },
      "outputs": [],
      "source": [
        "df_aux.IBGE.nunique()"
      ]
    },
    {
      "cell_type": "markdown",
      "metadata": {
        "id": "CZo3C18o1Hn1"
      },
      "source": [
        "* **IBGEATEN**"
      ]
    },
    {
      "cell_type": "code",
      "execution_count": null,
      "metadata": {
        "id": "0Hj3PxLz00p3"
      },
      "outputs": [],
      "source": [
        "df_aux.IBGEATEN.isna().sum()"
      ]
    },
    {
      "cell_type": "markdown",
      "metadata": {
        "id": "Gel9Si2llMfV"
      },
      "source": [
        "*   **MORFO**: Código da morfologia (char = 5). Formato: 99999\n"
      ]
    },
    {
      "cell_type": "code",
      "execution_count": null,
      "metadata": {
        "id": "b2dxOMB9lMfa"
      },
      "outputs": [],
      "source": [
        "df_aux.MORFO.unique()"
      ]
    },
    {
      "cell_type": "markdown",
      "metadata": {
        "id": "ztG2qDlClMfb"
      },
      "source": [
        "*   **RRAS**: RRAS (int = 200). [1,2,3, ... ,16,17,99]"
      ]
    },
    {
      "cell_type": "code",
      "execution_count": null,
      "metadata": {
        "id": "XeIT_n29lMfe"
      },
      "outputs": [],
      "source": [
        "np.sort(df_aux.RRAS.unique())"
      ]
    },
    {
      "cell_type": "code",
      "execution_count": null,
      "metadata": {
        "id": "S1S-jfa3lMff"
      },
      "outputs": [],
      "source": [
        "df_aux.RRAS.value_counts()"
      ]
    },
    {
      "cell_type": "markdown",
      "metadata": {
        "id": "qrRawRtzyb5j"
      },
      "source": [
        "* **comportamento**"
      ]
    },
    {
      "cell_type": "code",
      "execution_count": null,
      "metadata": {
        "id": "hJvxDxSAyXeU"
      },
      "outputs": [],
      "source": [
        "df_aux.comportamento.unique()"
      ]
    },
    {
      "cell_type": "markdown",
      "metadata": {
        "id": "QYlf_a6BlhMX"
      },
      "source": [
        "### **Strings**"
      ]
    },
    {
      "cell_type": "markdown",
      "metadata": {
        "id": "McZA9fAflhMo"
      },
      "source": [
        "*   **UFNASC**: UF de nascimento (char = 2). Outras opções: SI - Sem informação; OP - Outro país.\t\n",
        "*   **UFRESID**: UF de residência (char = 2). Outras opções: OP - Outro país.\n",
        "*   **CIDADE**: Cidade de residência do paciente (char = 200)."
      ]
    },
    {
      "cell_type": "code",
      "execution_count": null,
      "metadata": {
        "id": "KA3jiabvlhMq"
      },
      "outputs": [],
      "source": [
        "df_aux.UFNASC.unique()"
      ]
    },
    {
      "cell_type": "code",
      "execution_count": null,
      "metadata": {
        "id": "6I3HxVEClhMt"
      },
      "outputs": [],
      "source": [
        "df_aux.UFRESID.unique()"
      ]
    },
    {
      "cell_type": "code",
      "execution_count": null,
      "metadata": {
        "id": "mD0a77GYlhMv"
      },
      "outputs": [],
      "source": [
        "df_aux.CIDADE.value_counts().head(10)"
      ]
    },
    {
      "cell_type": "markdown",
      "metadata": {
        "id": "cWwo0h2SlhMw"
      },
      "source": [
        "*   **FAIXAETAR**: Faixa etária do paciente (char = 5).\n",
        "\n",
        "      00-09 \n",
        "\n",
        "      10-19\n",
        "\n",
        "      20-29\n",
        "\n",
        "      30-39\n",
        "\n",
        "      40-49\n",
        "\n",
        "      50-59\n",
        "\n",
        "      60-69\n",
        "\n",
        "      70+"
      ]
    },
    {
      "cell_type": "code",
      "execution_count": null,
      "metadata": {
        "id": "ajPs5jNZlhMy"
      },
      "outputs": [],
      "source": [
        "df_aux.FAIXAETAR.unique()"
      ]
    },
    {
      "cell_type": "markdown",
      "metadata": {
        "id": "8vIE9CT0lhMz"
      },
      "source": [
        "*   **DRS**: Departamentos Regionais de Saúde (char = 200).\n",
        "      \n",
        "      DRS 01  SĂO PAULO\n",
        "      \n",
        "      DRS 15  SĂO JOSÉ DO RIO PRETO\n",
        "      \n",
        "      DRS 06  BAURU\n",
        "      \n",
        "      DRS 07  CAMPINAS\n",
        "      \n",
        "      DRS 09  MARÍLIA\n",
        "      \n",
        "      DRS 13  RIBEIRĂO PRETO\n",
        "      \n",
        "      DRS 10  PIRACICABA\n",
        "      \n",
        "      DRS 17  TAUBATÉ\n",
        "      \n",
        "      DRS 16  SOROCABA\n",
        "      \n",
        "      DRS 05  BARRETOS\n",
        "      \n",
        "      DRS 03  ARARAQUARA\n",
        "      \n",
        "      DRS 02  ARAÇATUBA\n",
        "      \n",
        "      DRS 04  SANTOS\n",
        "      \n",
        "      DRS 14  SĂO JOĂO DA BOA VISTA\n",
        "      \n",
        "      DRS 08  FRANCA\n",
        "      \n",
        "      DRS 11  PRESIDENTE PRUDENTE\n",
        "      \n",
        "      DRS 12  REGISTRO"
      ]
    },
    {
      "cell_type": "code",
      "execution_count": null,
      "metadata": {
        "id": "j31J8AB_lhM0"
      },
      "outputs": [],
      "source": [
        "df_aux.DRS.unique()"
      ]
    },
    {
      "cell_type": "code",
      "execution_count": null,
      "metadata": {
        "id": "R48tvSgjH7eR"
      },
      "outputs": [],
      "source": [
        "df_aux.DRS.isna().sum()"
      ]
    },
    {
      "cell_type": "markdown",
      "metadata": {
        "id": "etn_OA-GlhM7"
      },
      "source": [
        "*   **DESCTOPO**: Descrição da Topografia (char = 80).\n",
        "*   **DESCMORFO**: Descrição da morfologia (char = 80)."
      ]
    },
    {
      "cell_type": "code",
      "execution_count": null,
      "metadata": {
        "id": "Tqz9Hc7blhM8"
      },
      "outputs": [],
      "source": [
        "df_aux.DESCTOPO.value_counts().head(10)"
      ]
    },
    {
      "cell_type": "code",
      "execution_count": null,
      "metadata": {
        "id": "SttvXbMXlhM9"
      },
      "outputs": [],
      "source": [
        "df_aux.DESCMORFO.value_counts().head(10)"
      ]
    },
    {
      "cell_type": "markdown",
      "metadata": {
        "id": "hmTffNgUzMbs"
      },
      "source": [
        "* **HABILIT**"
      ]
    },
    {
      "cell_type": "code",
      "execution_count": null,
      "metadata": {
        "id": "zV5srQPFzFtV"
      },
      "outputs": [],
      "source": [
        "df_aux.HABILIT.value_counts()"
      ]
    },
    {
      "cell_type": "markdown",
      "metadata": {
        "id": "NPUQy2jgdn15"
      },
      "source": [
        "### **Numbers and letters categories** "
      ]
    },
    {
      "cell_type": "markdown",
      "metadata": {
        "id": "1MdRkPzF_o4B"
      },
      "source": [
        "*   **TOPO**: Código da topografia (char = 4). Formato: C999 \t\n",
        "*   **TOPOGRUP**: Grupo da topografia\t(char = 3). Formato: C99"
      ]
    },
    {
      "cell_type": "code",
      "execution_count": null,
      "metadata": {
        "id": "T_BVJWYLkiOF"
      },
      "outputs": [],
      "source": [
        "df_aux.TOPO.nunique()"
      ]
    },
    {
      "cell_type": "code",
      "execution_count": null,
      "metadata": {
        "id": "sD6fTuiHknzV"
      },
      "outputs": [],
      "source": [
        "df_aux.TOPOGRUP.unique()"
      ]
    },
    {
      "cell_type": "markdown",
      "metadata": {
        "id": "92SXM2NOEiwF"
      },
      "source": [
        "*   **META01**: Metástase (char = 3).\tFormato: C99\n",
        "*   **META02**: Metástase (char = 3).\tFormato: C99\n",
        "*   **META03**: Metástase (char = 3).\tFormato: C99\n",
        "*   **META04**: Metástase (char = 3).\tFormato: C99"
      ]
    },
    {
      "cell_type": "code",
      "execution_count": null,
      "metadata": {
        "id": "1t4Kj8IAMMfc"
      },
      "outputs": [],
      "source": [
        "print(df_aux.META01.isna().sum())\n",
        "print(df_aux.META02.isna().sum())\n",
        "print(df_aux.META03.isna().sum())\n",
        "print(df_aux.META04.isna().sum())"
      ]
    },
    {
      "cell_type": "markdown",
      "metadata": {
        "id": "39W2ILumCtQM"
      },
      "source": [
        "*   **REC01**: Local da recidiva/metástase (char = 3). Formato: C99 \n",
        "*   **REC02**: Local da recidiva/metástase (char = 3). Formato: C99 \t\n",
        "*   **REC03**: Local da recidiva/metástase (char = 3). Formato: C99 \n",
        "*   **REC04**: Local da recidiva/metástase (char = 3). Formato: C99"
      ]
    },
    {
      "cell_type": "code",
      "execution_count": null,
      "metadata": {
        "id": "0QP8JhRuRSyp"
      },
      "outputs": [],
      "source": [
        "print(df_aux.REC01.isna().sum())\n",
        "print(df_aux.REC02.isna().sum())\n",
        "print(df_aux.REC03.isna().sum())\n",
        "print(df_aux.REC04.isna().sum())"
      ]
    },
    {
      "cell_type": "markdown",
      "metadata": {
        "id": "Y_GWLvfpDMVR"
      },
      "source": [
        "*   **EC**: Estadio clínico (char = 5). [0,IIIB,IA, ...]\n",
        "*   **ECGRUP**: Grupo do estadiamento clínico (char = 3). [0,I,II,III,IV,Y,X]"
      ]
    },
    {
      "cell_type": "code",
      "execution_count": null,
      "metadata": {
        "id": "eogVE8OIlUZx"
      },
      "outputs": [],
      "source": [
        "np.sort(df_aux.EC.unique())"
      ]
    },
    {
      "cell_type": "code",
      "execution_count": null,
      "metadata": {
        "id": "bBxqLJ4-lleF"
      },
      "outputs": [],
      "source": [
        "np.sort(df_aux.ECGRUP.unique())"
      ]
    },
    {
      "cell_type": "code",
      "execution_count": null,
      "metadata": {
        "id": "K_jx9N837LCy"
      },
      "outputs": [],
      "source": [
        "df_aux.ECGRUP.value_counts()"
      ]
    },
    {
      "cell_type": "markdown",
      "metadata": {
        "id": "sXoifzlFL3z0"
      },
      "source": [
        "*   **T**: Classificação TNM - T (char = 5).\n",
        "*   **N**: Classificação TNM - N (char = 5).\n",
        "*   **M**: Classificação TNM - M (char = 3).\n",
        "\t\n"
      ]
    },
    {
      "cell_type": "code",
      "execution_count": null,
      "metadata": {
        "id": "4tctz-8ultas"
      },
      "outputs": [],
      "source": [
        "np.sort(df_aux['T'].unique())"
      ]
    },
    {
      "cell_type": "code",
      "execution_count": null,
      "metadata": {
        "id": "NLe3vyJ7l48f"
      },
      "outputs": [],
      "source": [
        "np.sort(df_aux['N'].unique())"
      ]
    },
    {
      "cell_type": "code",
      "execution_count": null,
      "metadata": {
        "id": "DR7-Ezc0l-QN"
      },
      "outputs": [],
      "source": [
        "np.sort(df_aux['M'].unique())"
      ]
    },
    {
      "cell_type": "markdown",
      "metadata": {
        "id": "EXs-tiaiVO1l"
      },
      "source": [
        "### **First preprocessing**"
      ]
    },
    {
      "cell_type": "markdown",
      "metadata": {
        "id": "SZ58ACbZicT3"
      },
      "source": [
        "Here the `variables_preprocessing` function will be applied, obtaining a new dataset with 75 columns (the raw data has 93 columns). It appears that we still have columns with missing values (`DTRECIDIVA`, `TRATCONS`, `DTTRAT`, `DIAGTRAT`, `REGISTRADO` and `ULTINFO`), all will be dealt with later. \n",
        "\n",
        "After the function, the new dataset will be saved as a csv file, to be used in the sequence."
      ]
    },
    {
      "cell_type": "code",
      "execution_count": null,
      "metadata": {
        "id": "Dde12Q3qjkA6"
      },
      "outputs": [],
      "source": [
        "df = variables_preprocessing(df_aux)\n",
        "df.head(3)"
      ]
    },
    {
      "cell_type": "code",
      "execution_count": null,
      "metadata": {
        "id": "3_WGWf2UmjAn"
      },
      "outputs": [],
      "source": [
        "df.shape"
      ]
    },
    {
      "cell_type": "code",
      "execution_count": null,
      "metadata": {
        "id": "QPog2sJA8DuV"
      },
      "outputs": [],
      "source": [
        "df.isna().sum().sort_values(ascending=False).head(8)"
      ]
    },
    {
      "cell_type": "code",
      "execution_count": null,
      "metadata": {
        "id": "5sZS9o3aT9v8"
      },
      "outputs": [],
      "source": [
        "save_csv(df, '/content/drive/MyDrive/Trabalho/Cancer/Datasets/colorretal_first_pp.csv')"
      ]
    },
    {
      "cell_type": "markdown",
      "metadata": {
        "id": "TdRaJ910s1uJ"
      },
      "source": [
        "# **Creating new columns**"
      ]
    },
    {
      "cell_type": "markdown",
      "metadata": {
        "id": "DO1KVCjyakE6"
      },
      "source": [
        "In this section, new columns will be created based on the difference between the date columns, the last information column and the recurrence column.\n",
        "\n",
        "We will use one dataset, with `UFRESID` for São Paulo state, created in the previous section."
      ]
    },
    {
      "cell_type": "markdown",
      "metadata": {
        "id": "toy8Ia64sAPI"
      },
      "source": [
        "![Captura de tela 2021-04-08 151322.png](data:image/png;base64,iVBORw0KGgoAAAANSUhEUgAAAjgAAAI7CAYAAADh4eFYAAAAAXNSR0IArs4c6QAAAARnQU1BAACxjwv8YQUAAAAJcEhZcwAADsMAAA7DAcdvqGQAAP+lSURBVHhe7J0HmBTFFoWP5JxzzjmDZMkgICAgCgJKEAUlI1FBshIlKAgKJgQziqBiQCWJAhJEkSwoAirIQ8mC9e7p6t6dHQbYZWeX3dn7f9/d7a7q7unp6e46detW1S0AjFikyJMnD1KmTOmuKYqiKIqixC7nzp3D4cOH3bWrE2mBkzVrVjRu3Bh79+51U0KfokWL4t9//8XBgwfdlNCH3/nAgQO4fPmymxLa5MqVC6lTp05w9/XZs2fx22+/uSmhTaJEiVC4cOEE9Rvnz58fyZIlS3D39d9//43ff//dTQlt+Pvyd05IvzGfYz7PW7Zswa5du9zUa0OBc13LkSOHadCgQcC8ULVq1aqZQoUKBcwLVWvfvr2RGyhgXihanjx5zG233RYwL1Stdu3aJl++fAHzQtFuueUW06FDh4B5oWoFCxY01atXD5gXqla/fn2TM2fOgHmhaCJwTLt27QLmhaoVK1bMVKlSJWBeIEskfxRFURRFUUIKFTiKoiiKooQcKnAURVEURQk5VOAoiqIoihJyqMBRFEVRFCXkUIGjKIqiKErIoQJHURRFUZSQQwWOoiiKoighhwocRVEURVFCDhU4iqIoiqKEHCpwFEVRFEUJOVTgKIqiKIoScqjAURRFURQl5FCBoyiKoihKyKECR1EURVGUkEMFjqIoiqIoIYcKHEVRFEVRQg4VOIqiKIqihBwqcBRFURRFCTlU4CiKoiiKEnKowFEURVEUJeRQgaMoiqIoSsihAkdRFEVRlJBDBY6iKIqiKCGHChxFURRFUUIOFTiKoiiKooQcKnAURVEURQk5VOAoiqIoihJyqMBRFEVRFCXkUIGjKIqiKErIoQJHURTlJjKtg7ugJFgKFwYqVHBXlKChAkdRlFghSZIk+Oyzz5A0aVI3RSE1pHCrVMBdURIk+/YBW7e6K0rQUIGjKEqsUL16dTRq1Aj16tVzUxIW2dIB+TO7Kz489SEw8167fMstwAcDgM+G2HUl9qlVC+jXz12JBRo0AM6fl3sjv5ugBA0VOIqixApVq1bF6tWr8cUXX7gp8ZuGpdyFa0DB0qEa8M0oYIPYl8OBVhXdTJcV24CTZ4Fe9YELC4CmZYEpH7mZ8ZwaNYA8edyVANSuTc+euxIH6N4dWLcO2LTJTYhhcuUCXn0VqC+//S+/uIlK0FCBoyhKjJE4cWKkTJkS5cuXx6BBg9ChQwdcvnzZzbWkSJHCab6KT3wlQuXjR4Gkie16xtRA/ybA/K7AQ66Dis1OJ+cAXaQQf/QNoPAQ4PmvgNK5bb4v80TzTWkPvPktkOwB4LMf3Yx4zvLlwK+/uit+pEoFLF0KJE/uJtxkihUDFi4EevYUMbrBTYxBEknp+/rr8rtPEQH8jZuoBBUVOIqiBJ106dJh9OjR+Pnnn9GrVy+89NJLePbZZ9GwYUOkTi1qwIdTp07h33//dfLiAyNbATWLSsH9F/CvaLWuImC2jwfyZQJW7QQeawHcWtB6bTYeAJpNB9bvtfu2qACs22OXPUpJLf6Z+4DfTwHjP3ATQ4AqVYDMmYFt29wEP44eBXbK9Tpzxk24CZQqBdx7L/CBXPdFi6yw4XKdOsCYMcATTwBTpwLGWGPea68BTZu6B4gGjzwCnDsHzJ7tJgTgnnvs5956q5ugRAkVOIoSRFiwJ3SKFy/uiJYxUkKcPHkSI0eOROnSpdGiRQvUqlVLauzhVfYRI0YgWbJkzvLWeBBl+bQUhk/caZenfgRclBr/892AHOmtl+atjUCyJCJoRtptms+w/0nrSkDiW4C1PgKnbB5gxUCg/2JZln32HHMz4jkVKwLLltnA2VdecRN9YD4flQ43uQfZjz8CS5YALVsCleT3kdsU69dbYfPff1bQFClim4/69AFmzgTee8/ukzOne5Ao0E3ulQceAAYPBp58EvjpJ2DyZOvJ2isimOkeJUoAb75pl+fOtf+VqKECR1GCRI0aNZyCnU0yCRk2S3mcP3/eaX4qJVXl2rVrS631Efz1119OXp48eeQlL2954a233gpLj6uMaiWFXCNgqBQ6f/wNbPOJmTj+j/3P+JrvfZpkLrmtcdmlMKc4euBFu07aVAa+Gws8LALgw+1yrf51M+I5FC8rVgBduwLTplnhQKhjeWswLmn+/HDvBAv8F32uS2xSoIAIy7J2efRoIL0IVXbZbiS/87hx1vvUpo0NAJ4zx3p4RKc7wu2YnxjlviVLAnnzAhkzWoFC748vbInl8Zs1A7bLb07hdOiQbRpjsDGvF2HcEsWPx+nT7oISZeQWu77lyJHDNGjQIGBeqFq1atVMoUKFAuaFqrVv394kSpQoYF4omhSy5rbbbguY52+lS5c2kyZNMsOHD78ir1ixYubo0aPm4YcfviIvrpkIDZMvX76AecG2l156yYwaNSpg3t9//208kiZNGnCbYNgtt9xiOnToEDAvstaxOszFhTC9G8JMuQdm4l0w6VPCrHzUpjM/ZTKYnU/ClM8L824fmJGt7L5Z0sB8+wRMr/rhx6tUAObUczCDm4WnBdMKFixoqlevHjAvJq1aNZjffoNp0sSuS2FvpBB3lkXMOPb99zDHj9vt9u2DeeUVmHLlIh7H3xIlsscWcWHGjIGZPRtGRJR8z/Bt6tevb3LmzBlhv8hY1ar2nALl+Zroc7NrF8yzz8IkTx4xL21a+e13wmzaFP49PfPdzrODB2FECIat8/uJGHKW8+UL3/fWW+1/EU9h23qWLFky065duyvSQ9n4nq1SpUrAvECmHhwlUoS6V4I9fHwRkYeePXti8uTJeOONN6Sm9QvefvttDBs27IpxXApLlezTTz/F+++/L7VBtzqoONdCCh2pxYZXY6WS5PxnM1ZaKRV+k1KOsTqMwYnLvPwg8O5m2+OpQ3WpmX8sNfVMQLEcQLa+wHJJX9YPWPod8MNvQMuKwHNfABXzAWsfB5Z8A8z70h6LnhvG57SeLTV2Oc7VSBHPhgsSAeI0tXTsCHkebBoDjP/3P6B8edvU07+/9eBMn27jX5jWpQsgAiMMKdDRvLm74pIhg/Ww3HefXLfWHHLAducORmzK7bdDnm13RWDc0AsvWI8T4fmOH29jdNhMRbtwweZ5/POP/T48H27va4GgR4gxSB6PPmqDnMuUsR4dws+/+25g8WLGqdk0JepcoXoCmXpwEob5e3CSJ09unnvuOalFGDNv3rwI28ZFq1Gjhnn99ded8+3Xr1+EvDZt2hgRKWHrImDMkCFDpLbZxPz5559OTd/L81i1apVp27atyZUrl3P/79q1y7km3na8P37++WfHQ8BjES8vrlpseXAWLVpkevXqFbbevHlzx8vFZd5jnTt3Nh9//LGpU6dO2DYxYcHw4HhGb82bj9jlVx6E6Sa1+rolYLaPhxnXxqY3KGm3m95BavyTYJqWjXiMDKnsNr5pvtayAsz/5tpjBMqPjMW2B+fNN62noW7dK/NmzbJeGi6LmHC2o8fCfzvawIE2v1GjiOlJksDs2AHzwAMwXbvCiMgwC+X6rFsXvs2NenC+/toeL1s2vhOsx0nqMWH5InbkPg33oqRIEZ53o7Zypf2e9GStXw/z1lswIqyctP/+4z0Lky4dzO+/w2TNGvgY6sGJlAVMvMJU4CQM8xU4LBjeeecds337dnnwjLn11luv2D66liRJEnlpPWAKFy4cIT1FihRGavkR0hInThxhvWnTpqZkyZJh6wsXLjQ//fST6dKlizl8+LDJmzdvWN69997rfI/KlSuHpRE2n7DZafHixWHpNF4DX8GTMmVKs3v3bucl6qUVLVrUHDx40HTs2NFZp1BauXJlWH5ctdgQOLx+J0+eNKlSpXLWKWbIjBkzImy3b9++GyqUomLBEjhlclvR8c0T8v2kAFrcC+bQdJhNY2Aal75yu6HN5T5OGvEYkbFcGWBeZEEu4ilQfmQsNgUOC2Uam48C5VOUMJ/LffvCfPSRXU6dGuZBEYnedmPHhh+LzVFeuretl/frrzCTJ/OeErEo18rb5kYFzlwRk96xN29mIRqeR2HF9G3b7P+ffoJ5/vmI+9+oNW0K8+GHcu80Dpz/0ENs4g2cR1OBEykLmHiFqcAJTWNBxJiSb775xqRNmzaCwBk9erRTw27ZsqVTuG/bts15cUY2ZuV6xht1586d8uIwZv78+WHp3bp1cwTKsWPHwh5gntPx48elZtcobDty5MgRZ5kPO/Nvv/32sHzPWKDv3bvX8cJ4aRRPhCKFXM+L8MILL5gFCxaErXP/Q4cOmXvuuScsrUWLFlITeytsPa5abAgcernIiy++aD744ANn2deb4xmvYaZMma5ID6YFS+BsHWeFy+1l7HriRDA5fQrYuGSxJXCeftoW/G+/HZ7G+BR6I4oUgXnsMZj8+WHOnbN5jDPh9kxnDM6kSTb93Xdt+owZNv1qHp5r2Y0KnOtZv37Wo9O/v/1OgbaJCStfPmKMkb+pwImUBUy8wlTghJ7RK7F69WqWPQ4ZMmQIEzhFihRxREaWLFnMnDlznPyZM2c6nhAS6HhRsbp16zrHb9y4sXM81vRpFDxs8uF1Z9MYvTHcftq0ac5233//vbPOQotUqlQp7Jj8vehR4YPvpdHIHXfccUUaC1y+IIhvnr+VK1fO2YbXh+v01Hh8+OGH5plnnjFPPPFE2LWMyYDZYFhsNVENGDDAuSbNmjW74jfxjF5BX09ZTFiwBA4taeLA6XHNboYHh3bmDMwff1hPB5te2LTj5XFbekROnbLr48fbNDb5cL1VK0hFCmbo0IjHj6zFlMCJq6YCJ1IWMPEKU4ETWkZx43lPNmzYIC+j9U66J3DGjx/veC1Y+16xYoWZMmWKsy2ZO3fuFceLitWqVcsRN75NXmnSpHGPbpxrzkKJQodel1KlSrk5JuzmZvPU2rVrw/b3jOfqe5+yICe+hShjb7y033//3REnXl4gI127dnWWPY8PY3Y82Iw3bNgw89lnnzkCjKLQ/xhxyWJL4MQVC6bAiS8W2zE4V7NMmWzMDP8Hyve1woWt0GHsSaD865kKnNA37UWlXBd5MHDkyBGULFkSUsvGjz/+iNc4PKcP27dvd8Z1WbduHe68805nQLYePXo4Y5dwLJMbJXv27E6vJClwsMmd8IXjpvzDbggCP/fAgQO45557nFFw/5DqIM+P7NmzB5s3b3Z6OE2cONExsmDBAmTkwBPCqlWrwnrqEE7syHy+OYm8BPH4449DCgCUKVMG2bJlw1dffeXkBSKTvJnJYnZlEHgOhNdGCk7IwwYRik5vqx07dkDEDo4fP+5soygJHQ5t9PLL9v/14IzafNT//ttNUJQgcIXqCWTqwQkdY6wKYW8jenJERJjMmTM7ef69qIJt9LAMHjw4bJ3BxIyPIV5AKr0kv/32m+G4MwxUJewRNWvWLCd/4MCBTmyQd4yLFy+GNR/Rk8KgYS+P3ikvToe/56+//hrWrPXee+8ZEXYRYooCffdOnTqFLbOXlm8vKl8jS5YsCZgXl0w9OKFvccWDExW7dMkGJAfKi4ypByf0TT04yjV58MEHIWLG8X7ce++96Ny5Mz7//HOcOHHCyU+fPr0zGSLHMJGC35kgcenSpZjOgSuiCb0dBQoUCDuWiGZnZukiRYo43qGzZ886Q/qvXLnS8SyJEIEIF9x+++3OKLdSKKNPnz7O3EZdOHiGCz1AnBJA9AVE3GAhhwV1mTNnDuSlh927d+Obb76BiBVs2bLFyRMh5UwbwOtx33334YcffnC+Oz0zvnjeGyKCCRf8B8HwgSPyKooSdTjKr8+jqyjRRgVOAoNNUVKzc+YHIv369cNsn9ne/uMELAKbih577DGnieaVV17BqFGjnPTo0Lp1ayxatMgRIu3bt8e3336LN998Exs3bnSG8+/bty8+/PBDPPzww86gemzqoVjhIHoUDrt27XIEUJMmTZymKw8KnMaNGztNaWx+28tJXVz4fcuVK4fhw4c7QmbNmjVuDodgb4PcuXM73//VV1/FoUOH0KxZs7DmrKhCYcTB/hRFUZS4wRVunUCmTVShZw0bNmSrSoRuujHZRPXQQw+ZrVu3mh07dhgRGmFNRexJxaYdNkHRBem/X0xaVKZqCBXTJqrQt/jYRBVdiw9NVFIHY/0pYF5UTZuorm/qwUnAsGmKcILI2OD55593mp7YTFSnTp2wpqLPPvsMHTt2RP/+/cOCeBVFUeISs2bZiTZvlERS2tLBq0HUsYcKnATK66+/7vxnTyLGncQWq1evxve+E88oiqLEA/r1A5Yvd1dugG7d2MvTzjquxA4qcBIoDNwlXhdsRVEUJTD58jE+Ecid202IIpwsdMECO9moEnuowEmgMHjYv7eQoiiKciVTpgDDhgFHjrgJUYTenwMH7Dg/SuyhAkdRFOUmc2tBoEROd0W5qSRO7C641KoFVKoE+HQ2jRLZsgEPPwzUqeMmKLGGChxFUZQbYEQL4OJCaxXzuYnXgNuNbeOu+NCzPrB+JPDSA26CctPgEF2XLrkrAp3cM2cCQ4fK73fRTYwi9Pp8/DHw229uQjwgZUp3IZ6jAkdRlBiHzaHsH5syVN6cwjOfAz+6hda3o+1/kljeqp1rAJ8MlkJNCsft48MF0H/svOpD1UJynM7AI68CNSa4icpNIW1a4M47gfbt3QThvvtsr6cbHd6qfHnrEaJAii06dQJq1wbSpXMTrkGyZO6CCz1VHAbs7Fm5N6u6ifEYFTiKosQ4LVu2dP6fO3fO+R8KnD4vwuUJKSRcz0s2KVDurS7f8QVgfjdg11GgiBRs06T23rcxUG0s0FHyE7mhb4WzAW8+AjSYDCxYbdOUm8fzz1sh4w1GnioVMF7EqTsmagQohigEaO50dRFgsxR7TW3bZtfHjAHq1gXmzeMI6jbNI3lyG5vDY70qQjcQNUQwDxhgl/PmlXtqGnDhwkW8/fY7aNbMpntwWsG1a4GDB4FWrWwag6Mbyz3oUbo0cFTuz48+chMEBkAvW8bR7m2TWpYsbkY8ho+aX50iMBxWv0GDBjh9+rSbEvqkSZPG+Z/QvjOnTPBGNA51ovobc6LP+H5tYvu+5kjTM2fOdMZB4oSksQ29R6lTpw7q902X7AIa5j+EtMn+Ra3cvyFzyvM4fTEp0sj6xcuJcOpCcjy/vRy2/pEdt+Y4itp5fsOMzVWQJNFlXPovMVIkuYRJddbgnd3FsO63PO5Rg0dCfXeRG/nOU6eukfsEeOyxmqhW7ZgIlLOoX/8wsmc/i88/z4dLl27BHXf8jLZtrWIYPnyjiI5jIgQa4MgR+7m5cp1GvXq/on17O5L6jh2ZnbSvvsqDggX/EbGTBR077kaKFJflOC1wWe6TYsX+wsCBW2W7Mxg2rBb278+Af/9NLILkH/zxRyqUKXMcXbr85IifFSsKSvoZOa9f8ckn+fHPP2nw0EN2LLE772wlxzqJNm32YfLkW+WZ+w/Tp68RsVMCZcseR+vWB3D8eAo534bo0GG3nOdhZM58HlOmVMb69bnlODtQpMhJPPVUVdl2n7P9u+8WEcFVyjl+XMH7jTnq/Pr1653laxElgVO5cmVnHJOEQrVq1fDnn386s1snFFqJ5F+xYkWCETicHZ0zi69llec6DBw4UF5EuTBkyBA3JX5Su3Zt/PLLL47FJJxWg9NmcDqQW2+9Fb1793YGlfz333+dOcDSpUvneHRoMTkWEwUOPUgffPCBmxJ95t93HndXuYTXv02CzGkMMqQyuPPZlOjX8F/cU+VfvLg+KZ77yvr/lzx4Dsu3J8HrG5M66+TV7udw4HgijPlAqu8xAO9pztzP+dcSCvXr13emczlK10QU+OefKwXRRx8lRs2al6VSn1Lu4cSYM+c87r//EtKmtQVs0aL/yXvyHCpWTCUVQuuS4/Y1alzG118nxo8/3oJ1686J2EmBESMu4uOP5fd/PanciwZ//31G9k+FwYP/Rc+e/+Luu1OgePH/MGtWeHuRd047diTCo48mx6ZNifDee+dF9Nwi4ioZevT4V8TYv/IMZ5Dn7F8RKP/Kdv+iW7cUzucPH35RRNS/zjGOy31WufJlDBiQXD7zIjZsSIwJEzilzVmsWZNYLJEInssialI6nqmffz7j7Fe8eCoRb/z8iyhf/rJ8/5vfvFysWDHnvcFpfiLrDabAua7pVA0Jw2J6NvG4ZpGdquHhhx92prXImjVrwPz4ZLExVUPixImd6+UhNS5z8OBBZ3b4CRMmmLvvvtuZRf7YsWPuFsaZRT7QsaJrMT1Vw3v9YO6qYpeblIG5uBAm0S0wSRPDjG0Ds/JRnkP49i/3gPl6pN3GS/NdDobpVA2Rt2PHYNrI7ySa0KRIYdOefx7miSfscpYskLsTRjR6hP1efZXTz0RM82zqVPntx8JkzmyPL3reSR83DkZ0tuneHWbbNpiSJWFOn7bH9/bds8euT5kCkySJTSsj99Vvv8H072/zX3nFbsMZ2Plf6qTyLgs/xg8/wJw/D9O2LcyTT8JcuGD3a9IkfBvux6kBmT5S7sdnnoERbWiWLYN5912Yw4ftNrTjx8P3u5kW1akaxAImXmEqcBKGqcAJbMOGDTN33nlnwLzrWfr06QOm09KkSWNatGgRMC+mLDbnopo7d64ZM2ZMwDzPChQoIC9RY3r37h0wP7oWkwKnZQWYtY+Frz/Vzgqcxb1gDkghRzGTMXV4/pz7bH75vOFpaaRQ3T0Jpmj28LTomgqcG7cSJWB+/RUmtfu7sbAfNYpz98GMHx++3V13WaHhrXtGUUGBkSwZTKlSMDt2QN4xVth8/TXfBzB//cVnA2bfPisgOnWy+778sl0PJJyYNknukyqumJ48OZHZujW76dLlym3zyv2VKZNdpkCrUSOiyPa122+HmTkTpm9fmGzZAm8TV0wFThBNBU7oWzAm20yVKpVp1KiRGThwoHnqqadMrVq1wvIoYEiKFCki7EMrV66ck0f882g8N4qfvn37OscOtM2NWGwJHAqXI0eOmLRp0wbMp/CbNGmS1BqPmgcffDDgNsGwmBI4GVJZYeIrVmi9pSC8ozxM7owR02kUN6NbX5neuLQU0FKb90+/UVOBc+NGb0jPnnaZouabb+iRhClc2IqP+++3eRQyixdH3JceG3paKlUKT6PXhl4RChQeh2n9+okYfgqmbl3rHfE8Rzz+7Nnh+17LdLLNSFnAxCtMBU7CsJshcJIkSWKaNm1qpkyZYkqXLh1wG3/Lli2b1HZeDpjHAo0el9OnT5uuXbsG3MYzX4GTOnVqR2yMHj3aJE+e3MyYMcM5lu/29OJ4cGZ0nocHxc2AAQPM4cOHw7afM2eOk+d7DFrJkiWd7Vq2bOkIDi89d+7cZtq0aU6h/+OPP5pFixY514Wwacf3GDdqsSVw5s+fb4YPHx4wj01Uv/76q9QcZ0qhkDngNsGymBI40zrADG0eOO9mmwqcGzM201BkeEKE/z1PDo2ChPk0NgFx3cvzLEeOK9OuZh3kHnrjjfB1rykrMqYCJ1IWMPEKU4GTMCy2Bc6gQYNYdkut5zfzv//9z6nxZ8iQISyfhVOlSpUi7EPz8E/Pnj27WbVqlSMQGONBUqZMGWGb4sWLm86dOzvLvgLHI1euXObJJ59014yZPn162L7k8uXLzjnSQ8HzS5o0aVg+992zZ4+zTM8Ov49/bAnjeA4cOBChyYueHv4fOXKk06TjG+vjeYEaN24clhYdiw2Bw9+BBPLezJo1y2zbts3xYPnnxYTFlMC5mss/LpgKnKib56Fp0SJwvq+xCchX+NyovfmmFTmB8q5nKnCubzoOjnLTeOCBByDiAffffz9y584NEQ3YuJHdL2u4WwCtW7fGd999565ZmjRp4i5FRMQK1q1bh48//hjyooMIC2zYsAHpfabvZS+oL7/8Eh07dkT+/PndVEBeFM5/DkTXvXt35JU3mBSMSJEihXMOIgicfM6+zi6KzZs3x8GDB503InsFefTt2xevvPKKs/zaa68558GeRB4iHrFkyRLMnz8fyzjohDBt2jT8888/EEGECRMmQASO03uPJEmSBG/KW3Dy5Mn47LPPnLT4AHucEX6vbNmy4RmpGvMa9unTx7mGUvjG+1nlHXkdosgj6Xy/atXchATA/v3sccfu2G7CNfj1V+CM7Wx0w3CcmXr1gA8/dBOUoKMCR7lpSC3eESEUJhQK5NixY/Lgh48wRcFBQeHBvAULFuCLL77AmjVr3FQOvJXWETbs4j6VXRjkeCxEa9as6RyTULB8+umnjuhg3l133eWkU1jMmDEDFSpUcLan8Brgjqp14cIFpwsz9yWcfV1qis5n+I/Ky+P27NkTCxcudIRR1apVUbx4cTfX8uijj+LixYuYwtn7hKFDhzppFEYcf8gXipvFixc7XatHjBjhpsYPcuTI4fxftWqVI2Qo2I4cOYIOUl1t0KCB08Xzt99+c34vCroHH3wwTEQqN5esWSEiHejRA/j2WzdRCSpSz3EG/ZN6jlQC3EQl6KjAUa4Lx9NgQeT4b8U4cFswoGeGY7H4Ft4UDb7jG7CAZ+FH6P1YtGiR4/3wCk2P2bNnY+XKlTh8+LCbAsd7w3ExPOhV4Ngsw4YNc/J++uknJ71Lly5YunSp1OD2OwVyp06dcOLECSePYuaMVNV8RRaXN23a5AgYXzhG1KVLlxxB1UNKB67v2bPHzbUCaNCgQY6A4lgO9MzQk0Q4CJ4vFAgUcRRD9HB5AjC+0K1bNzz99NPOb0VP2bhx45xrU7t2bSlAszrijb8FhSWFXalSpZz7TLn5iN7G5s0Qoe4m+FG2LL2v7spVYB0lIXl/okK5ctZLxDrT2LFuohJjOG1V1zONwUkYxq66vvEZmTJlMiIEzKOPPho2tgn/++4THWOsi4iYsPUtW7aYMmXKOMu834iXN3bsWPPhhx86MRVSgDoBvEyvW7eus51vTyXer3Xq1HHSuS4FqLP8zjvvOPv/9ddfTowM9xWh5MTU9OvXzyxYsCDsGIzPEYHk9JDy0jx77LHHzOOPPx62zpiH48ePGxEuzjoDhCtWrBiWT+M+U6dOdQJsf/75ZycomQHWDLT95ptvzD333GPKli3rfDfmc+wd3/2DZbEVZBxXjL93THUTj6t2ozE4ojGdcVvYtThQPm3ePJimTe2y6FgnMNc3P1cumN27YaSeIs9YxLyYtGD1ogq28Xqyt9Ujj8BI/cm5NlJnM1JfC7h9ZE1jcCJlAROvMBU4oWsMkmUBsGbNGnPhwgV5AHeH5T333HOOCPHW+dIkHTt2DEuLqlFEEQYPsyeNF1TM3jQc+I0FEtc/+eQTJ+iZy23atHH28V5gDRs2NMuXL3eWx40b5wgjLtNYeLdu3dr06tXL2YdpHgygpkDjgHMMEuZ+48ePD9uG3Za5zAJi3759pkuXLqZq1apOTybvvGj33XefvOjnha2fPXvW6bXFZX6v7du3h+V59tBDDznbfPzxx6Zy5coR8ni+r732miN0Fi5caMqXLx8hP5imAif0LaoCx+s1NGGCHaTOP9/fcuaEVBbCnLph6RkzUtxzYEzI/Wz/++4XkxZXBY53jebMsWPORFfYeKYCJ1IWMPEKU4ETmuaxbNkyp8sye7ewi7WX//vvvzs3FHvwvPXWW+7WJkLPoajaM8884x7F4qWz99Czzz7rLNP7wd5IFCN58+Z1tmOPJBb89Gx89dVXUkM852zbvHlzJ/+7774zb775ptMjiwJk5cqVplWrVk6XbFKiRImwz2LvLR7/6aefDutFtXnzZme71atXOz2wKDqYTs/QRx99ZJYsWeI8B0zjuC3c1zsehQvPn8vsSXUjtefYMhU4oW+RFTj58lmh8vffMO+9Z0ey9R0Rd/58mC++iLhPo0Z2ILwhQyDPgC2806a1XZxXr4YZPdpux0HuGIcfla7P0bG4KnBiylTgRMoCJl5hKnBC0+iFYJMJC3GKHBbuvt3EhwwZ4ng56HXo3r27adu2rSMCeG18jxMVo4fjxIkTjlfG60ZMAcXh/L3u0eyazTFluHzp0iXnM8n333/vdDPmAHjsCu4dk4U2PTH07LBbNV929ERRIPH78Dt62/qabzdxGpuyWDBwHBzf7fgy4fg4vvBaePn8Hv77xFVTgRM/rHlziGiH2bo1cP61LDICp2xZmF9+oUeV97cVKhQ5zOMUAZ9+atNmzQrfp1YtK25atrTbMn/DBrs/PTYLF4ZvS+MAdxRQvmkxZSpwQt9U4ATRoiNwgj23TExaxowZzbp165xh9VkQ+AqcQMa4kUDpUbEVK1Y4TV8cj+b111833377bYRxUehJyp8/v7PM8wl0TmzOCnQujBvimDqRGaHYX+BczxhjQ+9PoLic+GIqcOK+cfj977+38yExZsNLpyjJkCF8/RZ5z3D6gAoVwtNq14b56aek8r6+ekHAOJlDh8JjaWgUK4MGcRBGGzfC9X//tXlsVhk8GOb992F27qRnF2b4cDutAbf980+YF19kczdMs2aMN+P0JvYYNO8zYtJU4IS+6Tg4cYBcGYCdTwHJkrgJcZgCBQo43a3ZA+kRRsHJ24h4byb2+GnRooUzGzN783C2cfaGiS48VuLEiSHiwvlsjn3jOy7K3fKW9XoucWZz/9nN2duK3bEDncvy5cudbuORmSE8qvz9999O76DPP//cTVGU4NKgge1dw5EEevZkjzSbLo+EPCNAqVJ2nb3qt24FRo7k82DT7r0Xct8DJUr8i/Pnr97b8fHH2XMP8uzZ9Zw57X8RMZgwgeNP2d5SSeQdxlcCJ3vnuggXTJzIWZ2BSZMAdlLMkwfgkFLduwMcEorbsodQ8uSACCJnP0W5WURQPFezUPTg5JSa0LdSQ6paKHD+jXhwEktN5yup2TxUL3B+XDL22mG8ioiNsDRvJGNfNm3aZN544w1n6P2YnDMoGHbrrbc6s1YHGkE3kEXVgxMKph6cuGkVK9oJEuk14QSNe/bwHWSbixj8yzoHY1q43qcPzJEjNo0xL5zLiE1JDPCtWdOm79yZ2pkokrNec9Zq389iPj047AXFZR6LM2hzhF7f7WiMyWFQsX96XDP14IS+qQcnkqRICiztA7ywGth4wE0MAs/eBxw+KbWjr9yEOAhH9uVbjeOw0Nvx0UcfOekFCxZ0Br0jUiiEmYgGZ4A2DmL3wgsvOPlxlVGjRjnj3XAEXUWJL1SuDGzZAnD4JXpN3nkH4IDeJUoAO3cChQtzrCfg9Gk74i69PCJkQCdnmjTWk0IvDsee+fprHi8fNm9O74y2y8d73z73g1w6d7YeoOrVgbffBkRc4aGH7Ai9/nBoqaNH3RVFiWcEVD7+FmoenNd62snyAuV5FlUPDmcD5mzBqWOp18CNmsdLL73k9EzyYEzLiBEjrhuDE5etXr16UTp/9eCEvsUXDw7Hk6HHhbNLb9xoezQtXWq9OMzn3EfsZsyeT94+derYWJjixcPTaFHtJh4Kph6c0Df14ESC4XcAmVIDQ990E4LE7E5Aq5nAmQtuQhyFI/DSM8PRZjk3U2p5czZr1kxqiyVw4EAQ3Vk3ga+++uqKeB0lbsDpKXiPKYHp2xfg7CFVqti5oBjb0rZt+HQJ9MZ88gnwyy92nXC2EsbC7N7tJiiKEkaCEziVCwA96gKd5gP/UeMFiYfqAcVzAit3uAkCA+1yhM/zGGfgNAO+cKh8Bvr+73//c1MUJbgwMHvIkCFo3769m6JcjYMHbZMTg3UVRblxEpTAYdzNhlFAn0XAyWjOBOsLhcwjDYH6UpPy6FYbuLAAeK6Lm6AoCZREiRI5cVGcd2usTr6jKEoskSAETpLEQGL5pk/cCZw5b9eTuj0os6cDxrQGKuW36x7ZJD1d8n/dtXAq5AM+HAj88QywaQxQJBvQtRZw+C9g/V4gSxrg4kJgfjdgyJtAm9nujoqSQLnnnnucbvWcif2ZZ57BZ599ZrvuiO3cudOZEJWB7hUZ6aooihIkQk7gpE8JFMvhrggUG2efB869AAxuBqzZA/SqDzwvAqT7bcDG0cBjLYFvnrDbU/Bwn8MzRMh02WITXZqXA97pA7y4VgRQXxExXwKjRRxRzMxdBZTJbT1Ek1YAqR4CZn0KFBYBpCgJBcZ2caykvn37Ytq0aY6gWbBgAcqVK4fXX38dBw8edGZr54zutWrVQtOmTdGoUSOnd96yZcvcoyiKokSfOC9wSuQETs4F2ld1E1xSJrNi44E6boJAgfHns8CUe9wEoaUIlWQPAM99AUz4ALhzltQo5wCdathYnNueFMHzMgeTAwpmAb4cbgVKnoHA2C8Ku0eRC3UL8H5/65F5d7NN2/aLnFc14IOtwLG/gS3jgH6LgSfesx6i/8l5b5U0RUkofPfdd45QmT17Nu69916kSJHCGcCRwcWlS5fG9OnT8ccffzgBx19//TV++eUXHD58GOfPn4/3XfvrlQCqFnJXboCyeWzlSlGU4BCnBU7q5MD3E+x/igmP/JmBn0SYtKooAsJNr1Iw3AvDpiFyX01gw36gtAifhxsAMz+16bM72/+MmfnlhPXIjBJRsnIwMF5E0DixNx4GRjfYj05VTuEeEVeLe9p9dh6x/zlK8aNN7fJ8EU9v9wZai3j6+Hugmuiib0YBqeS8G02x2yhKQqBSpUqOF4eWO3duZ4TqwYMH4+TJk+4W4XB8Jea9+uqrjqeHnp34At9JFDSsJNWV/3wffDoEWPc4kMEOJYVB8n6gYKHdVcVWktg8fn8t27Ttz3djpYKmwzcp1yGLVMQTJYjgkugTpy/T0r72f7tngd3H7DKbidY8BuTKCDz2DrDlINC4NPBuHxEz+4DpHwN7fwcm3gX0rG9fNvSizPwE+PsccPet9gWz+yhwwWeU/2ZlZd+V8pmbgbcesS8jMur2E4736CMRLlsP2aauNSOAA1PlJZUdOCLv7TsrAQtXA3/Iy+mVB0UwPSDra4Cf/wROnweKynYjW9kXnTZZKQmF2rVrO54ZemoCsXHjRkydOhV33XWXE3+zbds2NyfuwwoQe05Ouhv4TITNbzPs+4U9M78YZsUP8wjfSUt6AecXiMCRNy4rXB8MsO8KD3qdP/8RyDvQTVCUAGTNKiJYypXnnnMTlOsSYWCcq1lsD/Q3pJkdNK/7bXY9aWI7MN+OCTBz7oNZMdBONNevMcz+qTAV8sHIi8W83dvut/JRmDQpYO6saNc5hQKP06YyzNcjYaoUDP8sTtUgtSdTp7idZmFWJ3vsQAP9Fchijfle2nv9YE7Ph/lmFEyv+jBSm3PSx7Wxn/XzNHsOnw8N3yeumjdVQ6C8ULS4MNBf7ty5nZnVn3jiCfPyyy+bJUuWmDp16gTcNhgWWwP9zZw50/Tr189ZvvPOO80LL7xwxTacgX3Xrl2matWqV+QFy2JioD/vfeJryeW5l8qRGd4CpnUl+8x7eZnTwOybEnF7b0DQPZNhfpgY3AFCdaC/4Fty+X0aNAicFxuWWMrALVtgTp606zrQ3/UtTnpwRIRgYjtg3he2+ah+Sdtjid6Y6uOB7OntYHrrHgOalQNqTbBNWDsOW2/KJzuAptOt92TZVhuDc9kd++2974Casv3mn+06OXQc+EdqX+PbAjM+AfovlivDyxOAg7ItzTefcTnppUbHc5v3JXDR9QwxFoefVXCwPQdtrrpx6A3g5JrPP/885CXmpoYzcaKUEFf70a6CFL7OYIdRhc0vgT5LCnEn3bPIwMlM6blgTyNOHMreRO+++y4WLVrkbmGRl5kzGOMbb7zhTI762muvOetxmf79+zsxON27d3eaoETwoHLlyujTp4+7BXDhwgXMnTvXideJT3jvE1/oEX5qBdBW3l9sMn9iqZsh5MsE/OU3NAXfYfQ0S4UJjafG/QFCI0uGDNduQuGjEcnHI86QIwdwXsqTLjdx2I/Jk4GfpdzKJPeSEnl4q13XYtqDc1sxmIyppdbXEeb7CTALusMcmArz45PWC9KkTPi2RbLB9KwPU6toxGME225kss34bjfDg8MadqVKlYwUiGbGjBmmR48eEfJbt25t9u3bZ7p06eJM+Dlu3LgI+S1bthQ9YfFN54Sb9IT06tXLDBgwQGpAiZ10/j98+LC7hzFTp06NsN+1jDVjDy+N5z99+nTz7bffOjWqdOnSmfHjx4fllSpVyjlH1ri8fTzr3LmzWbBgQYS01KlTmz///NNZ5uShImbMH3/8YVasWGFeffVVM2fOHLN+/XrnHCZMmBBh38hYbHlweN4e+fPnd9LoVSD8fiLozOzZs8327dvNsGHDrtg/WBYTHpyrGbUvPTf0BFcuYNOypLGT+nZwp1ygpUhqvcz06tLT7KUHy26mB0eeDHP5cuC8dOls/oYNgfOjYzHlweE5//AD7+fA+bFhLVty8lS5V+Re8tKyZUuqHpzrW8DEKywmBU7p3PalQHuyXfgDn01urDwZr9w+tkwFjjWusynBNy2Y5kGh0bt3b3P69OmwvI8++sjJK1mypLP+3HPPmT59+oTlFylSxMn/4IMPzKlTp8LSPSgM2FRy9OhRU758+bD8pEmTulsYeXn9EJbuGV+Uvi9LiqVp06Y5c3d9+eWXTuG9ceNGJ/311183S5cuNSlSpAjbnteMzU5bt24NEyOkYcOGYdvQKL5mzZoVIa158+bO92Ghv3fvXvPWW285+/puQ+P50PzTr2c3ey4qXjN+x/fee88Rs1F8YUXZYkLgsKl7QBMRElnC0/jeWtzLvsc2SKVsegeYp+R9tnsSTI864duxMue979j07qUH026WwLn/fsjza+fRCpSfP7/Ny549cH50LKYEDgXZggVXpg8YAHlnwZQocWVeMIyfS9u2zf7/7js7R5mX/tlnt6jAub4FTLzCYtqD06mGfEb6wHk3y1TgwGTIkEEeJovvdsE0XmPPu9KzZ09HLHA5a9as7ifbz27UqJE5ePCgU0ByPWXKlE7ef/85k26Ys2fPOv9pY8eONd27d3eWixYtan799VeTJEmSsHxPdDA2ZPfu3WHptGbNmjl5zz//vLOeJk0ac+jQISft/PnzjqeGefRCLFu2zBFd3jXjA7hq1Spn+88++8w0adLE2c+Dha3vZ73xxhumY8eOEdLmzZvnCL3MmTOHCTjiuw2Nn3P77bdfkX49u9kCJ7YtJgROvsw2Vm/beCmwZ1mxcniGFTgV88HkzWTjA/s0sh5n330pjLidb5pnSYIkeGJb4DA+5euvYbZvh3niCZhLlwJv98ILUol9UgRiGwrdwNvcqAVT4GTIAFO2LMy4cZBKEuT+gXnoIStqUrgVcE9o0N5++8pjRNdq1rSTq1JcrVgBKdhhypSxliqVjcG5++67nPUcOQIfI9Qs3gqcuGgJReDwQalRo4a55557HFHgFdb8/8knn5hnnnmG5WuY8Igpy549u/ntt98cQcJ1DxZQgwcPdkQDm7K87T08cUQPjq+I8Wzx4sVO85e3zqYu0rZtW9O4cWOzc+dOpzBYt26dk07hwu/NfSpUqGAuXrzopK9evVpeOjWd89m8ebPjeWGaJ1o86DUqXLiwk/bXX385aWwSu//++8POgcbvyXQKNS8tffr05vfffzcZM2Z01imSunXrFpbvGUXYTz/9FPbdo2IqcIJrDC7OlDpwXlQsfUorlLrVDpwfFYtNgZNZxN7mzbagZ8GbRK7H77/zXrb5vkKATVd799rmnly5wvN/+QXm008hFQY2y0Y8fiBr21YEZD+YypXt5zEtWAJn5szw86U36uWX6S2FeeopmMcfDxc4nTtbj9V770HeA1ceJxiWKBHknWg9X77pXF+8OFHYedJSyv3ju00omgqcIFpCEDgea9askVrI22bHjh1hAocF69q1a83EiRPdrYy57777nDwWrPSw+B4rusYmi+HDhzvL9OR4/Pzzz+bDDz802bJlC9v2+PHjTl6WLFnC0n755ZcI6zQ+DNzfa2JjTA759NNPnViXhQsXOgKGHp+yZcs6eYxx8cf73jSKIoohNh+VKVMmLJ2fX6BAgbD1WrVqOftS2DB2aOjQoWF5FDD0InleJs8+//xzZx8us2Bmc52vAKIxnofCyFfsRcVU4MRdWz4gOM1WsSVwmjSxhetjj0VMpyh45BG73KgRzG23wfTpE7ipZ98+SOUKplUrEXgXrdfCfxtfY75XqP/vf1ZMVaoU/CYqb0aRQHm0Vats/htvsJIYeBvvPPfsgbwz7DKbtQJtG8gqVoT59tvw9Vq12LxuBVX//onl/dHCEV88F9/9QtVU4ATREoLAGTVqlFNgcpnBvIxH8QQO8/7991+nySRTpkyma9eujgAiJ06ccDw7vseKjnXq1MmJafE8Ev4wjTEubLp588033VTL/v37HWGzZcuWsFgdzwjFEpcZg+PBWBp6Wuip+fHHH518dtEmFENsBuP3pZjxF0383kOGDDEHDhyIkO5vHlzOmzevc378jq+88orz+by+gfbhZ3rrDLr2PEqLFi1y4n94nOLFi0fYLyqmAif0LTYEzgcf2AL7nXeuzCtVCubQIdt05aV98snVxUuRIpDnEGbYsMD5vkYPSp484etsTqIXJ9gC56efbDMVlxlo7J/PgN8aNWxMET0t/vm0V16B6dHDCrguXazAi0rTHJupeI15HvPmQd519vsyr23bJPIeSeN4wxKC94amAieIllCaqNgswvFK6BWgl8ETOFczFv7BDDpm4c8Cv0SJEs46X1SEn8MYFHoxKLwYa0NPCJdZYHl4vxFjUtjU5h337rvvdsQPl+lZ8YUigaKNwa4MBOZ4OISCwtv/auY1VZFrCYWKFSs6cTTeOgtajvfCuJlcuXJF2NYzcvny5QhpjIOi54lNaiy0AjXDRcVU4IS+xbTAcUdKMF99FTifRs/GkCHh63/+aUWB7xhitPvugzz/MB07Rky/mtGjwc/27MAB6yHZuze1+fTT4LyX2NTG5qmcOdkUBLNkScT8gQPZi8kus4dV4cIR84NpnueHli+fHQ9n/nyY77+/xTzxRN0rts+UKeJ6KJkKnCBaQhA47M5MGL/C73ozuomTESNGRFgn3joLeA4GRxHk21PJ3ygMKAK4zEKN34lChOv0fBDG1LRq1SrsO7IXAvFiZQJ15fY3elMoOBiHQzhAX7169Uzp0qXlxZjKeQiXL18ecN+4YCpwQt9iUuAw8JaFLQt2eiOyZoUpXtx6M9q3tx6dOXPCC2VvPy5zoLpdu6zHg0Lniy9s+vWapfyN8T0UHwyupdGjc9991eQcgtNszvPzzp/fl81Cvvle8xSb5vg/i09vupi2MWPsZzKWif8Z/8Smwp49rdhbvjzwfqFgKnCCaKEocCZPnuw0B3nr/E3ptdm2bZuz7gkcejf4kvS2iymjOCC+zUD06FDU+G4XGSMMvuWyNzaO12R1xx13BPw+7IrtwYLfPz+QEQZkc5mihtfv448/dtLPnDnj/I/LBaoKnNC3mBQ4bHZhwUpj8wwLVXpVWLCyl9Qdd8A0bAhz/nx4HA6Nwob7lCxp19nUxMDi99+36V5zVrVq1rz9ImvBbqK6ltF7w8BonneguKKYtOrVYQYNYtxREtOnT1OppMIsXWrPhfFM/gHJoWQqcIJooShwPHzTGPPB5h0uewKH393rGk3eeecdp3mIAcfBvCbsJUSiG7Ds4Xlm2OzGWBffJqJA5uF1PY+MEa+XVHw0FTihbzHdRBVMY5MLC2fPtm5lZ4DA217LYlPgxAWjt1nHwbm26ZykCYy2bdtiy5Yt7hogYgVTpkzBjBkz3BTLt1Ilk5ekY61atcKLL76IdevW4c8//8R//wUYp/4GEXHlTH3A40YHHoPmndupU6fQpUsXnDhxwlm/Gnnz5kUdeZv+80/kp3HmPvv373fXFEWJDpcv8/m1UxBkzgxUrAisWeNmKko0UIGTwOBcR2nSpMGKFSvw5ZdfOvMazZ4921n3h2Lh4MGDWL58ubPfokWLnPmEmJaQOXz4sLukKEqwOHkS+Osvd0VRgoAKnAQGJzesVKkSnn76aQwdOhRFixbFSy+95OYqiqIoSmigAicBcubMGXzxxRfYtGkTzp0756YqiqIoSuigAkdRFEVRlJBDBY6iKIqiBJm8eYHq1d2Vq5BISmD2aW3d2k1QgooKHEVRgg57xSRNCqRODWTMCGTPbl/4hQsDJUsCFSoAVasCtWsDDRoATZsCrVoB7doBHTsCXbsCDz0E9OkDPPooMGIEMHo0MHEiMHUqMGsW8NxzwMKFwKJFwJtvAu+/zyB64PPPbS+cnj3dk1GUGIT3NUVKvXpuglCwILB+PdCokZtwFd5+G7h0yd67SvCR15DTX/y65MiRA6VKlXJiNxIK1apVc7ovHzhwwE0Jfdq3by8P3dtB7Qoel8mTJ4/TFX7t2rVuStyGwiFJEiBZssCWPHngdF8rVaoI/vnnBM6ePRkw398ic0zPuC3Pjy/8f/8FLl68vl24EDjd3yK7HY3bsrPf8eN2CAHe12+88YZ7FUMf3tPZRVV+8803bkroU79+fezatQtHjx51U2IHdm3nfda3L/Dss26iwGeB9+HVkFcPfv3Venm+/dZNjALJ5IHjEB7vvPOOmxL6FCtWDOnSpcPmzZvdlGujAucaqMAJfTyBs27d2msKB1pkC/qoCoJA6f4WTOGQJUsunDjxj2Ncj6pwCJTuaxzXhOcZV1CBkzC4WQKnbl3gq6+sx5LemMiybJn1NE6f7iZEERU410cFzjVQgRN9rudxoN1M4ZAixS3O+f33nwm6x4EW2W1jUzjUrl0bv/zyi2MJARU4CYOYFDj0smzYACn/gIYN3UQhcWJg0ybgiSeAAEOJXZVOnYB+/YCaNe1zfSOowLk+KnCuQVwWOMEUDjRv2/LlS2L//p+uyPcsKsdkjSYmmipowRIOWbPmRr58bKJa517Z0EcFTuijAie4fPaZjaeRIhA//eQmCr172/ixli3dBIFNTzt32gDiIkWAY8fcDJcyZYAdO648VlRRgXN9VOBcg9gWOAyUzJnzSqHgb1EVDrTICoKSJStIjWS7bG8C5vva9Y4Z15oqAhHfYnCCgQqc0EcFTnCZNAlInx54+GE3QZCy1vHqMDieAcUe3juP46eOHw/8/LNdJ6yYcqYcziBzvQBkBud3727je155xU30wV/gMGDfe43xc3xhfNDs2cDGjUCLFpByzc24DqVLA++9BxQtCnToYMuom0lUBQ7hz3FdE4Gjk23GsJUvD3PrrTDlysGUKAH5bBgpf52ZazNkgEmVCiZJEk4eGHj/YJgUBGETViYEE4FjbrvttoB5oWo62WbomwiceDPZZrBMBE6MTLZZqRLMkSMwzzwDc+qUnQxURIv5+2+Y3bthKlfmMxW+vYgJs3+/fWdzXYSRyZwZplYtGBELRgSL2bQJpm1bGBFIzgSjf/wRvj+teXObTuvVKzw9dWqYcePs8YsWTepMtlm2LMyqVTDbt9uZ3blP584Rj5c2LcyYMTBvvw3Zx6aJeDJSSTb16tmZ3V980c7s7u3TsiXMr7/C9Oljz7Nu3fC8m2UicHSyzfiK3KBOe+7330NqIgAdR5z2SG5+/O9/wNmzNojNqyEoiqIoMQe9Nt99Zz3SHLKAzpJRo4A2bQARDY7XpGBBYOBAQISOgwghZ7iCe++172q+u/fsAZ5/3jZn0ZtSvz7w7rvW88PJRbNmtU1bbNaaOdN6jBifw8+fNw946y07PAKbthgm0KQJcOjQLWjY8Gd8/LH1FjGmJ1cuew4ivCAVYkyZYv9zLmEROChQADh9Gli82H4Owxw4ySm/Y7dutsxhXBHPk0MxNG5se4ZxeAcGUsc3VOAoAUmaNKnc/HL3u9DdPWfOHGeCTt/ZyBMCvtchKnhVMEVR4icUJ6R4cdvs88ADNpiYzTxLllhx8/rrwKpVgG+ryfLlQLNmQPPmths5BQJjbiiEDh0CTp0CZswAhg61TVEUJKzI0hi3Q3HEcZ441AHz774bGDyYnUCAYcOA/ft5Dv/J8fc68T81aliRw3RCEcXYH4Y0sGJMOncGqlSxgond01mJJk8+CQwaZJd5fjwGz23yZHveFGEUYE89ZY+bMqXdNr4Q5s65lmkTVcIwNlE1btxYymWLl+6xcuVK5z/dwb77BdN4r5UpU8YkTpw4YL6vlShRImB6ZI1NVNOmTTMi4ALm0x1KMmfOHDD/WrZ//35n37x58wbMv1mmTVShb9pEFRwTESPXMWIawwQOH4bTNMQ6zBtvwLRqZZdFIDjblC5tm6G8fXiciRPtMrcTUeQst24NIyLGVK0KI8LJyevXzzaJsQls5kyYy5dtutfk5dnQoYnN77+nMkeP2mOnSQMjgsZp7uIxu3WLuL0ILvPWWyzX7HrXrra5KnFiuy4iyoigc87lwQdh1q2zTWrcTwSUcw40EUkRjhubFtUmKrGAiVeYCpyEYS+99JL577//5EY2TuHPtAIFCjjrXG7durU8cJdN8uTJI+wXXUuXLp2ZO3euIwq2bdtmzp4963xm/vz5A27Pc9uxY4ezzbBhwyLk8dxmz57t5PkLMW5bqVKlsPW9e/eGfd9z585dIWSGDBni5HH5gQceMEWKFImQT0ubNq2zTZMmTSKkr1+/3knv06dPhPSbbSpwQt9U4MSMMf7xww9tQV+njv3v5VEIcJ3xOatXW1HD9PbtYb77DiZpUitCuM1LL8F89ZWN5ylY0G735Zc2j7Ew999vj8P4HQoq7zN8LVmyZKZ376bOMQPlh6KpwAmiJSSBw8DimTNnmn379plXXnnF/Pvvv2F5pUqVkgfPmLZt25o9e/Y4y9u3bzezZs2KcIzomEeGDBnC0jp27Gg++OCDCNvRcufO7WxLccIbngLMy/POlRw8eNAcOHAgLI8vP3L77bc76+nTp3fWR48e7XiLKHQWLVoUtj1t5MiR5qOPPnKWly1bZho1ahQhn8brRXzTOnXqZL799lvHO+Sfd7NNBU7omwqcmLECBawIadEicD4tXz4bkMvAXa7/+KPtOOLlFy5sRQ+9IokShad7RkHz/fc20Ng/z9cocBhkHCgvVE2DjJUow+6GS6S6UaRIEYwdOxbvv/9+hLEVdu7ciYEDBzpdbfn/3nvvdbZll8xgUJFRdoKIDJw8eRKl2TdR+E6qPSKsnWUPrjMOqFevXihatChEcEGEjJNXq1YtfPbZZ7jnnnucrsEifFCpUiUnjzz11FNO/NAnn3zirE+aNAnz5s1zhj64fPkyOnfujFNsHPdhyJAhOHLkiLP8+++/I1u2bM6yRzl5c4nwR2Y2tLtw/cknn3SuF///888/NxzHoyhK3IGvGsbiXGtQP46+sHo1cP68jYF59VXbccSDMS7sbs0u5oHGU+XcawxKZqCyEj1U4CRwUqdOjeXLl+PChQto3bo1Ll68iBpStdjE7lw+zJw50ymwP/zwQ2c8Ee73HKPgggBFU58+fZzxDYgnKCi23mL3ARcGPn/wwQdOsDNFSmFGwLkUL17c2fbuu+92RmL2+J8bJcjP6NKlizMGDOF3bNKkCab7jJNOgZXSJ4KOxz979iz6MrJOOHTokCOaPCiiKJCGDh2Kv/76y0krX768vNBeRZs2bRzhxfR9+/Y5YkxRlIQFe18xWDeysK7H1w17bCnBIaBrx9+0iSr0LEWKFGbt2rVmxowZjhufab169XJiYCpWrHjF9jFhDO49duyYEcFk5s+f75wLm8umTJlivvzySyOiJmzbp556ymnuIWxK69evX1jexo0bjYibsHVf4/ckXixMkiRJnPXOnTtHGAfn+++/d5rguMxzILwe3nG4HfHWuf8XX3wRts7msV9//dXce++9plu3bmbEiBHmxRdfNCKMzDfffOPE8Hjb3kzTJqrQN22iin8m9Tuzc6cdfyZQvr9pE9X1LUojGderVw/r1iWcIe3lBeGMZLzf63sXYsyaNQtnzpzBuHHjUKFCBccef/xxNxfImzevuxRzZMmSBXLDok6dOrjvvvvQtm1bPPbYYzhx4oTjdWHzDpEXl+O9YRNSp06dnOYij7vuusvxMPmfb82aNfH111+je/fujmelf//+TjqPX7duXdx+++3OPlIYYM2aNVi0aBHmzp2LDRs24NFHH3U+x7eJi4iAwYMPPoiVK1fi888/x+DBgyGC0DkGPVu5vIEohKefftq5d+gpoidIxFusTwQYCBFqjjcqoYxkLGLV8dzxN04oSMXMGdqB93JCge8Qeks9D3B8IkWK//DSSyewdWsyTJmS3k29NsmTJ3dG209I9zU99fT0r1+/Hn+wT/11iJLAYWwBX/AJBa/ADNXvzKYeUcROsxRjWX788UfnBmJTDZuHvHgUxplQ7DE2Jk+ePE5Tz2mOFhUkKApee+01HD582PnshQsXXjElCJueGP/Cc/anRYsWaNasGXpzYhiB8TAPP/ywsz0FCIULxRJffDw+Y3j4WR07dgz7jemYoQChqGncuDHuvPNODBo06IrvyYLj5ZdfdpqfeN169OjhnP+zzz6LFStWoGvXrmjYsCH+5TwaLjw3XleKsLhAqN/X/lDg5M6dW99dIQ6/86VLl+JEJeJapEp1Sd4FO/DQQzb2sGjR0xg1apdUxjJj3ryCTlpkYOwkRWxCvK9/+OEHfO8b2HQNIrh0rmbaRBX65jXd+HeFHjp0qBGBYGrUqGFSpkwZIS+6xqYp9sjyqFy5csDt3njjDaeLum9a4cKFnf/s2eTxzjvvOL2nRo0a5TRvtWzZ0rz99tth+/A7sulr3bp1zrrXRPX555+b7t27O2n8jtzO28ffuB0pX768qVmzprPMJrJA29KefPJJc+bMmYB5N8O0iSr0TZuo4q5xHBn2xJL6k5F6kTNmTZMmgbe9lmkTVaQsYOIVpgIn9I2D/BHGnwTKD7ax4CGnTp0yadKkcWJkGAPz2WefmTvuuCPCQH8eTZs2dWJtKGS+++67sNghUfZOF2///fgwtGrVKmydxjF3/vjjD2dfCpzp06c7Y9Z4x4qKeVxr3759+5pPP/00YN7NMBU4oW8qcOK2cRA/ipz+/WEyZQq8zfVMBU6kLGDiFaYCJ/SN47x4Qb6B8oNtX3/9tSMOfAOJ+dl8aOlROXz4sKlTp46TzvvP49dff3UKLD7g3n5RNV845k/GjBkDbnc9u96Ah7ly5XICkSmiAuXfDFOBE/qmAif0TQXO9U27iUeBNpWBYXe4K/GUBiWB2Z3cFR8YY8Wp96MyDX10YUwX4yN841X+++8/ZwyeRo0aOXE/DOAlx44dc7pl09gOy4BexsDcKGnTpnWOwdgcBgFz/J0bgd3rrwVjgeTF64wtpCiKEh+5tzrQo667Eo9QgRMFBjQBNh1wV+IhY1oDc+4HFn/jJvjAXkWEQXqxxfnz5x0/7dVgIPDff//trgUXBg9zwEKKqZj8zqNGjXJE2dq1a90URVGU+EOl/MArDwLJY3isUn5OsFGBE0mqFwbSpwK++MlNiGdMvgeoUQS4dSzwbYBe72+++SbSpEnjrimKosQvsqc+hxZlz7lroUGhrO7CTSKZiJpvngCmfyyV41VuYhRhxfqLYcDyAcD6x4FcGdwMIWtaIEd6a+/EwOCGKnAiyahWwFPL3ZV4yLFTQMuZwOnzbkIAOCaOoihKTFGlINC+qrsSRPJmAl5t8w1qFbrxZuu4RodqwNs3eUTjpzsAL64FRoTP3BMl8mcGHmsJVCskImkl0G0hcMQOLo+LsvyblElfjwQOTAVyZwRWPgqMbQPkC5/5JlokeIGTWK5AjzruylXoUgtoXAZ4K+LsBfGKGZ/IDRV7rU+KoihXwMJsUU93JUiw6WS/FJAf782JEcsiN0heXOe2YsCEu4BWN3HoLJZ7VQsDAxa7CTfAoRMiakcD3+wHHm4A7A0fnxVFhgJ5BspnjAVOnBYRJP8nLLdl8lfD3Y2iSYIXOEWyAXO7uCtXoWd9YOAS4BrhInESKmJODKcoinKzKZ3b/k8TZIEzuzOwcA0w89sSbkr8hk04jHnpPB/47cb6PkSbVhWBF7oDdz8LnA/vA4LMaSJfpnDbu28Fvj8MNJwCZExlhZvHLyJ+/vgb+HUGsEB+v9QpgDvKAXdVERH8tbtRNEnwAmf3MSDZA+5KAFqUPo0Ll8LbH9OlBD4U1Un3WlwlpzwgPL8Vcp45Q6NCoyhKPGd0a6D3ouB6klmAVioA9I+GlyEukSIpsGoYMPVj6/W4GvVLAk+0uoRXb38XzUUUEArIgllurFJbNg8wtDkwq5ON15x7P/CAlCH0wNQT3fj6w7ZMOTor8r2pVo8Aiud0V4TPd9qmqmqF7bFom8dYj83jLW2szm//AxqJGBr9nrtTNEnwAicQXrR4ssT/YVrrPzBoiV3nD/2d/CAMOI7LvN0b2LAPqPhEeHunoijKzYLvzuI5gBeDOG1SASnMF/cC7p8fXNF0M/n4UaBwNuCHw8DwO4DpHcKDcun9oCjYPQn4ZDDQptJ/SJLIYOJdNm3rOPk/2ca9RBb+Jsv6A288YsXVtkPAwNuBf84DWdLaz/t0iPWq7Psd6PkSsGC1u/N1KCbH9vX+MGD5P2M7uYx8F1iywX63hnLuKR8EGk8Fnv08uF6reCNwEokq7VgdGNIM+HK4FNwzgWny4zO4LCqwXbOEj6r0pWh2e+Mw8OnFB6R2UOYYVv6UGlt/AerKA/pSD6Dva8C8L+UmlB/dI0lioLydIuOm07shUFVUct2n3ARFiYNwfrP06SO6FwsXLuxMnHqjcA4wDjvgP/RA0aJFnTnGRo8e7cw3xvnElJjB61L8w0Rg1VCgZhFbQ3/6XmDwG8Dl/2yhyvc343F86d/EemMI39EsXMu4zVr+lJR8FswUAgzE3Se1/hbFZEXg5zmeEPl8z1Pw0w2+D1nZ7dfY9v7pXMNNDAKv9QT2iBg5NN2e36nngNMi1G51p6KiF4dlXl/57IOyjZdGWs+yrQ4NpiTF939mx8mztimpjJzjdz9bEREZePzP5Rptk/KtzpPAzE+BfCIaCUUWPTnPfSHXQMo9fl6px6QMXBf5UA16YZ5sZ5uqMqW2ImntHpu3dDNwR3mg2wJJ22vvi5iCp3tdu1kjGadNASPCw8hN4NiHA2GG3WGtRx2YnBnsdrkzwogoMQ83CN+3XB6YlhXC10e1sse4+9bwNF9bMwKmSy0YUZphn7ewVzrnOAenwfRtBCM3pflrDkyHauH7ta0M8/rDEY91s+zbJ2CkthQwLzLG6RpiayTjuGDeXFSB8kLVojqSMUcCzp8/vzNPGOfeKlmyZMDtImscIZzwXvNN9/BN84zn7ME5wPzzOeeYxwMPPOCMID127FhnfdeuXc5cYG+++aazfuLECWfKD/9jhJLdjJGMpfJp9sr7UYSA8z5uVRFmw0j73nynj93mTknz3q1SwDlpUkEMSxPx46RzWQr9sGMXyQYz6W6bLhVQ87O8j3+eCtOuijzD8lnVC8P8MiuFmd01tfl9dvjxGpSEEdFkRKCEHSuy1qg0zH75DO9YXA+03Y2YiDCTNS1MupR8vuw7W0Saube6/SzvejWWzzz+LIxUWp30HOnDj7Gs/y3m9eElTaGsMCNahJ+nZ+Pbwsy4F0YEWtg+/vZCN5jvxtrr+cczVx5jXBt7Dvkzyz2VxZ7n+/3sNQ90PH/rVjv8WH3kPmBaqmR2fd0N/CYhNVXDU+1gROmbR5vCNC8H8+pDMJvHXLkdHwrvItL4wFAA8Ybhw8CbYmhze6wTcrPwhvI/Bo37bh0Hs0V+cO9YVcrkNytEVO180oqbOsXtQ8w8PqyigI2ocCM1jYDHjE27rRiM1IoC5kXWVOBE3UqUKOFMxxAoL7Yse/bsTuGdIkUKM23aNFOvXj1ngtQnnnjCzJkzx5kL6/vvvze//PKL2bFjRwSBw4lFOZcXj+Gl5c6d25m09OTJk85UFmTt2rXOPGE//PCDmT17dti2/sZ5xUggIXTvvfc6eaNHj46QzuN6+E/o+uCDD5pDhw45ouT99983PXr0iJDPaTAIJ1H966+/zHPPPWeOHDnipFP4+E/VcPvtt5vly5dHOEaoWWwLnNaVYL6RylWGVOFpvu9lFmasGHL5m1Ew2dLZbfhe97ahSHmtpy1wvTRWaBdKxZXvZB7vsyEikN3CngU7j8H3Od/rTHv+wVSmrhTCXGdByvx3RSw8WC/8vK5lKd3C19eW9rUCK9D2wbBi8r0oMFi2HJ1lz7WNVJp5LVhhZdnCiry/wFrcK5H5e35i8/0EeQY6hIsOiktW9B9paJ0AkS2b+Blv94bJkgYmuVTyZ3a0ZZ53Hfj7Lu4VsXIfGUvkV956x/NNi6yFlMDhRSifN2Lap4Ptg+CtZ0xtxQdvCK5T3LzUwz4I/MEoavhDbx9vhdKzne12sztZZeodh+arNml31K/ozEXFh5fHoDeJ2/HH54P3jBxr1ySrrn2Pc7PseVHjvKED5UXWVOBENM6gzvm5evXqdUUer1OzZs0c0dCiRYsr8mPKWGD7p3lwTi1fPvjgA0cQ8Dty9vVMmTI583tR4JQqVcrZ5s8//zQ//vij+e2338xdd90V4XgUFv7Xh0Lj448/jpDma0uXLnX2nTt3blga5+x69913nXTipXM+nU2bNpnLly+bnj17Op4Wvmu8/Pvuu8/89NNPzu/EdYofb+4yXn/OWUaGDBliXnzxRWf5+PHjzsSr3vvKX+BQ9HCyVm89FC0YAofv0kDpgYyFn/euLi0Fquctp7GC2LQsHM/KhLusR6W3vE9ZmaTwYeF8eAbMr0/biik/l94Cvusphu6qYoWH91k8Jt/v3vqXw23ao/eWd+aiYgH8wQCYWkVtWbDy0atXagMZPfI83ryuMStsaCyjdksZwvKLLQdvicDgtaS4ub+W9fQE2o8WX+eiogim5ypQ3vUs5ARO99siplFN+zbB8Abmw8TlzKI8eTMzjQ8J92WtgW7GfJmti4wP1YLuMOdesELFO46vJZV9G5aKf5Nt1i8Z8UVwI+YrcFiz98+nlStXzinUWbMPlB9bVrRoUadAe+WVV5x1FoJPP/20463woPfCd58uXbo46V4hyX04i7nvNjQWiiw0Pfy9BjQ22RD/ppaYNBb4L7/88hXpTPvkk0+c5Yceesg5LxZy/tvReE3oxaF4ee+998I8N/y+EyZMcJb/97//mdWrV5thw4ZF2Ddr1qxm9+7dV23i6dy5s/PZHkzjM+TLmjVrnHRe4w8//NAcO3bMOYfUqVObv//+O2w2eDZLcWLVQN8jbdq0zmSshL+NBwUSPVjdunUzv//+uyOI/AXO1KlTzaOPPhrheKFmwRA4fP+ysA+U529sUtkmlUh6IOhtGdvGelwq5Avfhh7vVUNhvhhmm06qFAzPyyUFferk4evXMp5XGreySaOHgOZNtsmK6Nz7rbAaLoLpWiLhasbPoG0cDbNpjG0mqujzXYJh2dPB/CiV84ci6V3yN51sM1IWMPEKuxkCp7CoZ3pe6G2hkuZDQLXLG4P5KZLC/PmMdUU2K2ebjtgU5e1Pbw0FTtk8dj1vpvAbl+5Ab7urWUKbTZy1bLr3Wcj40rZt27BtKBBYMLLgIb77x4T5zw7M+AnGUnC5devWzjmMHz/eWWdTUe/evU2tWrWclx1r6StXrgzbl94LMnLkyLA0Ns2Qt99+21lnYdi1a9cwb8OlS5ec//TUePvQ6CmhZ4Ei76OPPoqQFyzbvHmz89neepEiRZx1/4KLvxtFB+Njqlatau644w6zdevWCNswJmXQoEHO9fOgWPHyM2fO7PyuFK98ca5bt848++yzEY5BMbht2zan6cs33TNeXzYRETaN+UNhQShgKKIXLlzoiNFUqVI5+zN2hnCZ1zeQ94jmXQfCpq0//vjD+a3nzZtnhg8fHrYdvTvc31fgpE+f3vFUFShQIGy7ULRgCRx6tQPl+RsFBpuMfIVHbFuwZxNn+VMpv21Cioo3KzLmNYX9MDFwfmRMBU6kLGDiFXYzBA6NapwKmjcDxQ3ddr75dOnR9clagW/TFY3KPTo3ZkISOP369XOLDGNOnz5tDhw44MQ7zJo1K+waMBZiz549TiFIEXTx4sUrjhNMYyHpeSVonidg/vz5YWnr16934k28dV9bsGCB4/Hw1lmgeh4Kz+j5uBr0bvAc3nrrrQj70PuzatUqM2bMGEf8bdmyJUJ+MIzig/iKMY8MGTJE2HbSpEkRvgebaF599VUzceJEp6lm48aNjligaKHnZvLkyWbEiBFh+/N49NY89thjznejV4XNPRQGzOf/Rx55xBEGvAe8/fyNAoPwOnOdooJQLDI26LvvvnM8P/QMvv7662bZsmWOOPP2Hzx4sHnqqaecZQptb9nXKlSo4BzTY8CAASZdunRO3vPPPx/h96ZAo3fHEzgUVm+88YZzvbxtQtWiK3DYpMN3LgNhA+XHRQu2wAmGUfjxOnoBtjR2mmFzHJvmfLeNqiUEgUOnBL2DbJ3hesgJnJtpCUngsPbfpk0bp1D3PCS+xuYYBp02bNjQKahYcJKOHTtesW0wjE0LhPESXlqnTp2cNDZlcJ2elq+//jqsIPY1Fpz0MtFDw3W+/IhvAKvXxMXCnR6FRo0aOeuEBSILex6DD5W3D43Czovh4H5sCqEHxHeb6BqDeykovPX//vvPOS8KT3owvHQ+k0yjSGH8DKGXhs00bHrj9StdurTz3bhdlixZIvSiYkHI+JtRo0Y5655njt+L3g567Ph7M+bmWj2v6DUjbNriZzCNIs07V94nFIW8ph779+93XtAMBqZniF6ou+++2/HosAmUzVC+n0GRRDHJmCGKMQoYPqNePj1p/J29dcZF8f7gZ/J78DdbvHixs+5tE6oWXYHDOAnGL3oFS3ywuChwWCGnwGFcEtcZe8T1G+nV5W8xLXAYwkGPHO8FBoUziJmxUWx6ZKsIm+wYT1VZ7NaCNha1WmHraKhRxK6ziZLhIVcLB7masVWGsa+8VjT20GN6VAUOxzzkwnURgYNSpUrhiy++cFNCH3l5Ql6mkILBTQl9pCDCwIEDIYUOpLbrpgIPPPCAk/b3339DCkO88sorkNo4XnjhBTzzzDOYMmWKu2VwGDRoECZPngwpjNwUQEQVtm/fDim8UbJkSUiBiTp16mDfvn3uFuH07dsXUuhChIqz/umnnzr704i8HHDhwgVn+fbbb3fyRaRg5cqVqFevnjPxKPeltW7d2tmOPPnkkxgxYgSk8EalSpWcZ2L8+PHYtWsXGjduDCng3S1vHI7nMmfOHFSoUAHnz593ru2QIUNQt25d57fhNZfCHPKwO8+jiAJs2LAB2bJlw7fffov7778fa9eudY8GiDCAiAdnu40bN0IEDkRAoHz58s7nDB8+HEuWLMGYMWOca8ZrxO9966234rPPPsP8+fMhItA92pXwN9q5cydEzDjj2CxdutTNsTCf1+fee+/FsmXLnHeJBz9LBJTzPb7//nuULVvWmdWe11nEm7uVHTeH33v9+vUYPHgwRPC5OeHs2bMHIuSc7+Yxe/ZsiHBHunTpnPuU965oKzc3dBGBg+zZs+Obb75xU6LOiBbAI/ITcIA2jlPilBjyxzF3mWOu0Jh/6bKY/OfgbucuAmfFzsgjduoccOIfO+johv3A5p9jZtwTETjOfXb06FE35ebDkYE5B5PvaPmJpNTlNZNC3JlUkmO5OSbLIiKcmbWzpAHSpwJSyjYiDpx9CK8vry3/8zdImzo1zpw9gySJ7Pg/hNf2X/kt/pbr/vvfwCYpvr6WVyQHf+Vv4g/HLmpfzQ5gy/FqMoqlTg5ckN+Rx+Fn8T8HU6Rx2TM+hjwP717w7g3Cc+a5Z5Lvki2t3Z4zB/z6l5302TsG9+EMAfy+2dPZGdT5+Wt2A8u2AO+J8T4ifOfxWd68ebNNiAQ8n+uaenBC29izhnEPDJiVQsapQfs2H9AYg+EFIHvGWoRXYw+W0ctC74Wvp6JmzZqOB4nnxBo+uyqztu+7n2dsAiEiOJx13rcijCKcO3sXEXpqrtaLik01jPPhMrs8Ezb1eNBjwGYgdp+ml4PXwv8YUTUeg82A/D247jX7sCmG62wSo7eD3hp6ZLwaHL1YvD4MFPaO5RmbhVasWBG2HXsrsVs7vSFebYhNUISeFsLtOfaN73GuZkOHDnX2eemllwLmM7bGtweVCLUrtmEa4TK9UR700hB6e7weXoGMwcUkkDeP9xO9f/7poWzBiMHxjL17GDPCWjUDgVmrZ+gAe8Kwdi+FolPDZ4wka+uMWWHNnbV4dtZgLygG0nJMFfZ4YiDysv4wvepHPrA4MhYXPTjssPLJYBuA/dEgOy4Qu16zGzuvw8bRths7u2Szl+89Ve1wH/T48Hry+vLa0wPieVRE/Di9rwpkS2oe7HSHE5PKNG5Lo9eNQ6Pwd2CXecalcuwa9lTj0Cte9/kCWWCW9LJxQAOa2HHjeNzodlS5mvF+oaeHPcbuqynvhTr2vuB90KmGHf+I+dfyGmoTVRAtIQkcxkPw9/V6UbFAulaBEpO2ZMmSCLE37GHDwtsrGBlr4d87ytc4xorUXMPWGUBMIeOts+s3YU8airZAAqd48eLOZ7I5wwtE9qCoYHOJty2b7xgL5Lv/jRqFBptRvHXy2muvRdiGhTVjbNjs5KWx2YYEKuA5ps2+ffucAe/YfMUmKQYce72VaB4UFzw24fc/d+6cs8yYq0C9zdhcSHhcL1jY13g+FGxe7MzVRCm7ljM2yFvn70KR9eSTTzoxM77XO5CdOnXKOX6gPJ6D7++fECyYAifYxgKUY7qwG/YvT9ueTlcrVBlDyWaPHnXtYHZP3wvzcg87HssrD9oesXPug5nWAebVgfnMpI5pzCARChzWg71oO1aHaS+igSKLPcJYmA92mzti0xh3w6abUrmsGLyRnl3+FtUmKgoH9i5jvCo77nDwWsYGBTuAOiZNBU4QLSEJHAZ1MqbFEziMX2A8jpfPeArGadAbwNgM332DbaRVq1bOMmvfDI5lgcx1ih3Gifh6l3hv+gYeE28MFgoU9rLx4nZoHIjOGw03kMBhgUjY3ZrrnveBMSheTI+vMZ34p9+I0WtyI/E8FADXulf5nXjuvJ6BRjLmdQ304qA3rEyZMk4PKHqMuJ1vPq8rxwm62jnzc2NzjKBApgIn7hoHpaPQYddyBpR66RQEFDD0cnDMm8n3WGHCXl0cnZ4DBHKkZAoXjpzM8b9mPVzEjGuf1hk25Ml2tis6C3SOD8bBAjlQrBfT4XsO8dWiKnA842j9HAgwmN6z2DIVOEG0hCRw7r//fqeQ9gQOu9Gypu/l0/XrC0WHb0BnsMzz1nCZTWZsBvL11rAgZ0HLpgvW7n3xtqEXJFu2bGHrHODOW/a3QALHgwWjb/rVzBtgLlBeXLRAAieUTQVO3DeO3ssB7tgcxsH+OLJvz/pRC06Ni01UMWk3KnDis0VV4MSbyTaVmOWtt95y/vfu3RvNmzd3grh8AxQZuCcFRZhNmDDBCbINNokTJ0bKlCkxdepUJ+iUQbF9+vRxc+EE3TL4e8uWLU4wKQNOpbB2zslj7ty5+OOPP9w1YP/+/e5S5GCQLINarWa5PiIE0blzZ3dNUZSo8sJXwO6jwN7JQI3CQJUxwPwvgQshMku4cvO4QvUEMvXghL4xhoJBtBcuXHC8KPSgBNoupu3OO+90xuWJbJBrdOxqMTihbOrBCX2Lbx4cGr017HYcKC8yph6c0Df14CQgqklNp3h4j9toc/bsWQwdOtTxoBQoUAAnT550c2IXdiVm914RW26KklARkYskSZK4a0ooQ2/NloPuiqIEARU48RSOefDSA0CaFG6CooQYbCI8ePAg8ubN66YoiqJEHhU48ZT7awI7DgPfaY1HCVEqVqyIkSNH4ueff3ZTFEVRIo8KnHhKh+rAvC/dFUUJQbZt24aJEye6a4qiKFFDBU48JHMaoH5JYO0eN0FRFEVRlAiowImHNCxl5+jg3C+KoiiKolyJCpx4SNOywHvfuSuKoiiKolyBCpx4SJ3iwJe73BVFURRFUa5ABU48I39mO8X80f+5CYqiKIqiXIEKnHgGvTdrdrsriqIoiqIERAVOPKN2MWCtChxFURRFuSYqcOIZ9OBo93BFURRFuTYqcOIRaVMA6VICh064CYqiKIqiBEQFTjwid0bg8F/uiqIoIUOSxO6CoihBQwVOPCJnBu09pSihxun5wNnngSxp3IQEStHsQOrk7oqiBAEVOPGIXBQ4p9wVRYnjJE1sZ71PiKRM5i5ch47VgWRJpPLSHzh+2k2MI/D3u7gQeL6bmxDD/PgksGGUu6IoQUAFTjziyP+AVT+6KwmMivmA28u4K0qc5/5awJnngSHN3IQERIZUwKnnrDhILuLlapTICTx1t/wfDpyIY+KG8Pf78x+g58tuQgzSooL9X22c/a8owUAFTjziy5+Adza7KwmMb0cDywe6K0qcpqQU3Au6A72kYJz0oZuYQMiWDvh8qHz/1Xa96232vz/02nw/ARj8BnDgTzcxDjHxLuD3U0DBwYAxbmIMQc/0M52BqmOBcxfdREUJAipwlDjPXVXs/+Q97H8l9jgwFSiew12JBCystkvB3e5Z4MW1bmICIV9m4IthwCvrgEdeBZ7/EuhSy830Y0AT4J9zwNub3ATh5Fzr9Zl7P9Chmpt4E2hfFWhWToTqY3I+l9xEP9rJM1k6t7sSTV6W53rax8C2X9wEP6oXBsa2iXyzn6J4qMBRbpi18gJ8sJ67EkMw8HJaB6DK6JivSSoR6VEXyJPJ/o8MqaQAWtoXeO4L4IOtbmICoVQuYNVQYPKHwDOf27QDx8NjkChcto6zYrFaIWDCXcAT71kh4bHvD2DlDmDjAWDOfUCtom6GHxQEeyYD7/Sx8TE89hN3upnRhOc3pb2IHBFbp8+7iT788rT9vCUPA6tHAAenWa9VVJjdyR7jt5n2f6FsQGExev34nR5p6G4osBlvjbxnRrS4ulhUlKuhAke5IW65RV7UUrNKEsN30Cmp5d71LPD9YTdBiRVY0I1sKYXPYGDIm27iNeD98FpPYN1eoP9iN1FgrZvNHSzIKABCEcaGfTQIGLAEWPS1myj8cSqi14Eej1cesiKQVMwP/P63XSYNJtmYHYqWv0VcfLPfzfDj9rLAhX+BS5fl+Elt2t7f7f8b4VU5J/4+o1sDOyYCv/5lvUjLB4hY7RKxZ1OO9MCJf4D6cq7lR1kvzx8+34Hfl/PlXYvTF+z/xXKtzsoyBfEP8nyv/N4uL9ti8wtltc14HvO/chcUJZKowAlR7igPTJWaGJsMYoIH6gBbDtoXUkzCiUW3HgLuqQoUzOIm+vB+P6BzDXdF4ECIrSsBlQq4CcoNMa+rCJx3gcMnbYHFoGHfHlG/zwY+ftR6GWivSSGZNa2dJ41NNaSMFOhfj7TLK7YB56VQDjUYRP3MfcCds4APt7uJLonketEDQZI9YK36ODsSeYPJQI8X7TPkweucKY0U/BvsfX/5PzfDj8yyTXE5Lpt0GpayaTWksnGj8LchVeSZ+fWECNLlwPC3bfzUxyI6zvrExbSaCRwSAbRehOxvcm/4x8yweWvvFCuYvhoOvPGw7f7ty2Pv2Gtx8iywcA0wfaVtzmR84aqd9riV5Vx2iYjyqCVCRz24SlRRgROPaF7O1pSvx6S7gVGtbM+E5iJ0gk2ejPb4Hee5CdeA5xxVKE5uLeiuCOyuypiE3VIo8MVJYyArKZdXXo5ubM6SXsDxZ4G3ekvt16+76d232uM+3EBqnM/YwlcBUiS1nrj6Je0y6X6bXONLIlqkoO3TyDYRsPmghc+9lDG1LVwfawHM7Ag0ld+ZNfl2cp1ZqPPe+2AAMOwt4HERSlM+Al5wA29DBd6HE9sBNccD2391E33YsM9d8KNtFeC+mnZkcg8+Uww2vnUM0G2BXN9UNhA5EGl6yvMwF/hPCvyfjsjvJdv38/GaRZW3NgKpRKCWySP3gTxjFDXfifCiiGFToycs+Hv/8Y+9T7znz5+X18n3k+drhAgk/u7PfwUcu8rQFoyrWfKNXaZ49m0Kpddv91G5Lm7Hgk0/2/+KEhVU4MQjnpWaYjqfl2IgWOCwtk32HAMWrbfLweTANKmd7bp+748CWURs3eOuRALGJbDQoDhZLzX/TwfbEV7piuexGk8FUsuL+MwF4B43CDN7OimEF9nl+1+wNcMH5Bi+8EW6WMTP+sett4HdeLfEwe6oLED4/YMVvHk9KPp2PinXpzUw8Hbg2yeAvJlsU8VANrfItW5TCaguBTipWsj+TyP34KilwBdS2+4u58sYDNaw2ZR4//PAP+dtr5jmT8tv+IMVuRRJPevb/QmbPTxBFR9J5FY0fjlh7yl6GFlA8zry+lEQfjncbuMPvSPdRETeVsxNEOj14D3qQQ/O1cYQovhc+p0VjQ1lPwrR6NJI7r0dh+33IYwN8g8u5zP4gJz3DhFzhf28Mr7QI0SvDAXSFz/Z++FqsMLGe46xN77Xo+l0oKy8A1gRWZ7A4rmU4KECJx7BgsVrvw4EexuMkcI8S1rr/qXb/IJPLwi+lFmAejVD/o9qgCCbpjib+fhltuZ/LfhCfFpedJGBHoShze0yu85SqFz6z770WBhwgMPJd9uxOejWZ82wQj4gqXwHrxZIIUQWyr5eD570KW2A4sHjdryRzvOB+V/awiGuwUBVskJqrYw9iGxw743QvNQZp0C9XcQqCxM2PXCcpU+H2Gs3o6O915pIfjG3oBsivw/vn7/mAAWzAl1EULIwZzPlLqlte0zvYIUPmy/md7VjvZCX5bgc2I5BpOwxRDEQX6H3hLA5rk1le/8WyWZjaOjJoheEnhg22fnDZ4L390eyjceTy22zMq/vEfktvhcREZtdprvUDhfWFLKMwTnn16RIbw47FbSXykXiSHiSrwe70rMJc79UXOjt6irXyx82OTMOT1FuFD6q17UcOXKYBg0aBMwLVatWrZopVKhQwLzYNhEv5udpgfNe7gEjL8YwkwLIDGhy5XZPtbP5GVLB5Mxgl998xOYlSWz/t2/f3iRKlMj5rKV9YURUOdtJDdxIjd6cng9z/FmYrePCP+++mhE/hyYvLtOywpXpVzN+fn85548fDU9b9zhMs7Iwh6bD7Hoq/PNK5LT5nw6Gubd6+Pa0Ic1gdkyASep+HylIjdSkw/LrloD5biyMiDtnPU+ePOa2224Ly79RE3FiGpay1ytQ/tWM3zut7JMiKYwIUOe8M6aGGSjX4n/P2WMG2i86Vrt2bTO+QwbnWvKzUyWDKZ83/PqKKDFSwDnXSMShkQLINCpt05uUCb9XaN4xfI+/cTTM9vH2fh1+h/1u3P8l9z7lvfPhQPt9ffeLKbvllltMhw4dAubFNUucCCZzGp5z4PzIWsGCBU316tUD5gUyqSyE/f787aoUDLyd967JmylwfrCN9/+EuwLn+Vv9+vVNzpw5A+aFoiVLlsy0a9cuYF6oWrFixUyVKlUC5gUy6nAuXBcROChVqhS++CKGo0rjECJw8Oeff+LAgQNuys2DvTTYlbJ4ALe3vHAcnv3c1izZNMXa0XmpEdV50vbGaFVRaontgBrjbU+HwzPsPsWGATWLSO36QaDuU1IjrXwPBhV/y+nhUekJOcYl24zxyQ7be4NNDhzjhDUrHmPcMhvUy4BUdnH14DnRtcxmi8jAiUSlQESpEba7rAgRzOpka4qMB/Bqd/TOfLwd+OkoMK8LcJucm4cUvs53rD3RBrSyeYtz/OSTa8feKowtGdlKzndWeMyECBxIYYC1a12Xzw3AXjTeIIT/O2ubwE6esTX0U7JOTxnjiLz/DMZl92s2rzGQlOfKPPZIuyy/H5vgeD0IeyQFO5BbBA6OHD6EXaPCA0c2/wxIoebcN41LS41a7hkGerJmzaBQ354yHmxi+nue9YyVzQOUz2fvB95f/I5ec8fNRgQORLjjjTfecFNCH97T2bNnxzffuO7NSMD7lp6oj+T58vX8xhdE4GDXrl04etTHnRjCiMBBq1at8M478oAmEETgIF26dNi8OfIj3oapnWuZenBurn0wAKZBySvT21e1Na5ANSrWtPo1himTG+ag1Ka5LgIgrKaWPzPMPbI/l9/uDSOFqtk6JZuzfmyW9e4ckNp7pxrh27GGyWP3bmjPqUM1u03R7Fd+flSMx9sy1i7nSA+zexLMbcXsZ45qFb7d0/fCPFjPLvvXcmd2hGnh4zWiZ4H7L+kF8+OTMMv6S802S8R9guHBkQLdpE8Zvs5rUasoTNvKMF1qWS9TuyowIjJNs3IwVQtZD9rVaun0eIxva6+HCMmA20TH6MHJly9fhDR6jrzfl94o/ua8H3y3CWTfPmH3+2q4/V6BtrnZFp88OMGyqHpwQsHUgxP6FlUPjsbgxBM4JoT/WBeMjWB8Az0SHLvCH6axS+nSfnZkVVIpv/2fQ9J61be9odbtAUrmshPdbTiW34lPYXfVlhVsd1Z2W2WPhselouB1XWUgIWv1jcsAneZHbxwOwpgP9r5hDfKrEcDUj2132je/lXO8E/jzGRt0zF5h9OAQ/26jHIfE6/JKGNxYZCjw6nrgzpk2Junn425mEGGshG+cAK8FAywZCPqKfPbrUolmF1jGMDA2gwO5cVb4QN1ex7WxXhF6eOpNkuVYij9gUCvjQvj77jxif3N2170enDuI+/Fc+b0URVHiEhEUz9VMPTg311hLZuyMb9r6x2Emuu3TbDOnV8A3n14Dxsz0rB+eliUNzJ7JMIdnwDzbOdxDUCSbja3wYnC87WPL6DGg14YxOCJyIuSJkHO8IdUKh8fWBMuCFYMTLOPv7B9XFGwL5MEJZVMPTsIw9eCEvqkHJ0T5+U8bv+ELe3B4PVtmdQwfYM2DXoN0vWyvIY/jp4GSI6xno89r4R4Cxr14vZBuBvQYML6o2XQ7qagvjCmiN+Tb/dbTEMpk62s9PoqiKEr0UIETT+DQ7ezy7EveQUCWPkCGh4FaE60A8MfrzuqLF9iqxD0YpKwoiqJEHxU48YSdv9lxX/yhB8Z3KHVFURRFUYAodRNv0KCB0206oZA1a1bnf1z4zs0KH0bmVOfx2o4ibkrMwO/8119/4fLlEG8LcolLv3FskdC+c6JEiZA5c2b9jUOchPadkydP7nSZToi/8d69e7Fp0yZn+VpESeDUrFkTa9ascVNCn+rVqzs3z/79V5nWN1YxzkjE/zlDF8UcTZo0wapVqxKMwMmbN68zZkhCuq85Ds4vv/ziWEKAAqdRo0b49NNP3ZTQp1ChQs44OBs2BGEeh3hCQhwHp169egnqvvbGweF9ferUVSY58yMs4vhapr2oEobdrF5UN8viWi+q2DDtRRX6pr2oQt+0F9X1TWNwFEVRFEUJOVTgKIqiKGFUKgCUz+uuxBL5M9vpZBQlmKjAURRFCSL1StiRx69G2hTuQhykeA7gm1HApjFuQizBecze6eOuKEqQUIGjKIoSJFImBT4dAuya5Cb4UasocGIOJwB1E+IQnCR1x0S7zOk3YpN+jSM3NYiiRAUVOIqiKEEgdXLggwF2mbOq+0NRM7sz8MJXCDgP2c2EM8O/+iAwd9XVxY3/QKPBgrP8pxZxVXQYkDMD0LycnEMS4KUewHK5nr/NBKoWcjdWlCigAkdRFCWaZEgFfDIY2PyznUg1lRTY/tBL8esJoPciNyGOkCk18KWIC8bBFMoG7J1s43A8bi9jp4P581k3IQjweDQKmCnt7WS1G58Avh5pJ9y9eAlYtN5OGEzxs+5xoEAWd2dFiSQqcBRFUaJB3kx2BnzOZD/iHWDUUiCjiAZfGJMz6HbgYXdW/0BwGxb6tYtdvwmL89JVKeiuCPQeZU/nrkSCpmXDRcax2UA+EQ9vbARmfQrUnABsOehuKGRPD7z3XfCbrejFul3OY8IHwKQPgbvnAAVFJA550+Z/8RPwiFyvym48EEWPokQFFTiKoig3CHsbfTkcmLHSFtLkw+1Ai/IRm3RmdwKeWgEk8XvjUqhQZCzrL6JinE37Yhhw53V6FDFQmd4OT6ScnAv8OgNIF8lmpA37gI/kPIvLZ329V8TFs8DT8h1W7QT+/MfdyIWTv5bKdfVmIn7+0ObAbSLMGpQEmpUDuta+dtBw2cet16bBZGCmiKqvdgH7/3AzXTiw6YP1rJen43PAkf+5GYoSSVTgKIqi3ACMFWFvI3oZXlnvJgonTgNZ0gIfPwqUyGkFQBN6Ku6yAchszvLg7Pi9ZX8GH7NZa/RSm75yh/1/Nf46Yz0qqR+y/z3j3HSRgeKi9Wzg5+NArox2xn5SJBtQLIdd9uA5zvgEeKCOmxCAYSJwhoj1aQTcVxN4vtu1u33PFMHXdxGwbo+b4Efp3CK8RtnmsUZTRCxtdjMUJQqowFEURYkiFC3v97fNOZ/+4Cb6UPox24S0y5014PmvgBrjgZIjIs4Yf0d54Nn7rOeFHiCKjee+uP5s/0dnAYObWfERXf45b4UXe1G91suKMn92HLYBwIGgsMrcRwTNTKDtM0DHeeGCKxAUUQ1LAW9tsk1xNfym17urCrB1HFApv/w/BJTLGzimSVGuhwocRVGUKOAJAHog2ORUp7gNymUTDgvnt3pbDw6hcKGXgr2T9v5u03ypIvt58TbsTdSzvvWuXI/MaYAn21mh9fM04IiIi+PP3lgg7j1zgDJ55HOfs6Lig61uhsDjk0algZ+O2OXo4gm8M/NtQDO9P74xR/dUtf8HvyGffwl4qB6wb4r1gClKVFCBoyiKEgW8ppr21YAxrYHPh9rB8bhcvwTw/nfApp+B5D1skxGDhumlCBQEPHaZ9XRUfMJ6bZZtAZ5wm6muBffJ2R/IJVZpNFBYziFLH+DgcXeDKMDYF8/jEsjrQpHD78VYmWBw/DRQfiTQ40Xr1WJTmW+3+fZz7XnM/gyY+rH1CuV7VD7/E3cDRYkkKnDiMdUKA4n1F1SUWIW9fFgAM0C26fRwYdD8aaDPa8CSb2yB7RXaneYBz3Wxwcg50ts0wgDlXG6zz4+/SSGeGXh5nV2PDIz1oVg4eQY4d9FNDDLed2syzXZ/DxY/HbXXyT+g+Wpcumy/q6JEBS0e4zGPNgVaVnBXFEWJk7y9yYqEUo8Bx065iQKDeVcOBrrUAp7tbNMCxfMoinJjqMCJxyzdbNv7FUWJf1D4dFsADJKKykP1gW/3BydoWFEUiwqceMy7btfJwtnsf0VR4hffHQTKjwL6LwZeiULzlKIo10cFTjyGtT2Omtq/sZugKEq8hF3DF6xxVxRFCQoqcOI5c1bZAbWuNkaFoiiKoiREVODEc06fB+ZK7W9UKzdBURRFURQVOKEAJ8irmM8Oka4oiqIoigqckODCJTsTL4du71nPTVQURVGUBIwKnBDh8Emgyhg74V2Z3G6ioiiKoiRQVOCEEOxVNfZ9O1Ov79wuSvyAkxCWzeOuKIqiKNFCBU6IsehrG3g8pJmboMQLOEz/h4MiDuWvKArQvBywZay7oihRQAVOCPLAi3YG3lsLugkBqFwAaCYvjmBTPAeQJY27Egk+fhTIL4V7QoaihrMlT/4Q+OxHN1FJECSKo57WJb2A5EnclZvM+/3tbOeKElVU4IQgnISPImexvKQKZXUT/dgwClgmL45gkjIZsGMicGSWm3AdutUGGpYCOtVwE24yq0fY+b1ik3QpgRUDgaFvAi+udROVeE2aFPIMPgu828dNuAbnF8Sd+99jVieg3a3yDqnrJtxE6L05/BeQtqeboChRQAVOiLJ6FzDyXWDXJODOim6iDyt32P+lctn/waByfvt/0wH7/1pUKgA80VoE2GDgyRVu4k2EXqcaRa7t9YoJnu9qJ1ic+amboMR7imeXAlmEa7Z0bsJV4L32x99SEdngJsQB7q8FVCsE5JTKz9xVbuJNIrM8k8/eJ2JLxCJ7iipKVFGBE8K8tVFExFLglQeB7re5iS4Z5AVcdSyw84ibEE3oav9iuF3Ok+nasSR0fb/SA3j4Fdv7KxB8ua19DMh+nUIiGNwCg9ekhjj6PaDDc26iHymSAhcXWosubSrb5sEZ91oP2/wvbTMde79VLwzUKW63o4fr9Hz7mVFp9lNuHvTezOtmlzfss/+vxqg7geFvuStxAN6DE+4COs6zXuBAxEbnBa+y8YJcx+VbrQj0bS7znkPac13cREUJgAqcEGfSh0C5UUAXKSzf7h1eUBbNAew5ZpeDwbA77H+6kjkJaIdqdj0Qj7UE1svL3/Mi+dO0LHB0ltQkpbBnt/eY5p4yh3HxMvDUVTxJWdMCf8tLn+QfZP9Hhzcfsc2DvRuFN1EtGyAFY1cRWa2BXvWtoFq9G1i3x+7zv3P2vxJ3YSH8fj/gU7mvW8v9W+oawzVULQQUzAIs+cZNuIkkdkuB6SK4GQd24E+77svku62gOCUVgA/lfv1A7td3+gRXeLOSxM9gEzebi5uXB2oWlffEYDmnaeGTCj/6OnDrGKD4MKBRKaBkTpuuKP6owAlRcmUAahezy7+cAOpNAr7ZL/aE1I5EOJy7CJwVCwaMW2lbBcghL3e6kheslsK7IZAsQJAiR1we0QJ4eqVtHvOfCb2WvNDmS0HfbYEUGD2AwW+4GUGGNT++TA+MPYyuFQ45aV/IC5O1Rl/ukJfs1yNtTZLf6+gpN8OHjKltjbN+SaBFBaB9Veud+eXpwB6oZA8AL6+T2vvbQAl5kZeV41cQEVp7ItBsuq1Bn//X1pYbyAu80RTgkggwJe7C+DMK15+OAI+/C3zyg/VkNi7tbiBQFHgiYd3jVtwyBodpN4v1ch7nXrD/6T3kOXHalyn3AHPvB16SZzBPxvAmotoTgInLgakf2RHUT5616R4US/yej8kz/kxnYFwb+/34XFyP/wzQeb59Psj0j0XIjAXKyLnllmPu/8OmP/+VvN/knBbKdht/lmt+1KYrij8qcEKUg1JQssDmy4VNVB2rS+EtBXS/16SglhdDsLw3I+VleK8cu6nUsP46Y9PY7LVJXjyz5QVH+JLkedBWP2YLa9YCF3QHutSy2xDGLCx6CLhnro1LMPLCCwTHixna3Bq3/+kp26QVFT4QwcIX6I4jSfHB7pzOy3rwmyK+RHQQNrG91RsYIy9oCo4i2a3ACQRjFka2lGvb2F5nCsvtv0r6OOD3v92NfEiSGOha276or8W0DsAjrwBrdrsJSpyE9yMFCz0ffeX5Ipf/szFw7PqfXkQD6btIfncREz1eBA4dt8KVnohsfW0+oViuKWKZzZPj29rKQEz2Muwt53TmAlAgq7wvdlqRcUYqPvtETKzfCyzdDBw/HS5wvj8sgn8fsHaPNX5PX7g+eqn8l+NUym9FE+EwCJGBzer0bP0lnznmfTfRD1bS6AHdIefSyfWsKsrVYDFyXcuRI4dp0KBBwLxQtWrVqplChQoFzIsvljUtTPuqMC/3gBGB4Zi8jM3uSTD9m1y5ffv27U2iRImuSPc3KaSdY0ntz2RIdWW+vKSd/ORJwtMyynZHZ8HICz/Ctp7JS8sMaho4z9ekQDHD77DWpjJM0ewwpXMH3vZaJqLI/DYrkalXp1aE9Lol7LnvnQzzy9MwIhTN/56D6dMo4v43alLbd45fIidMoltg6peEkVpzhG1qFYXZNt7m+6YHw2rXrm3y5csXMC8U7ZZbbjEdOnQImBdde7Kd/S35jAXKn3iXzfdNe7cPzP21IqbReO/zflsxEGZ6B5hHGsIMbmbvb/9tafzMx1vC9JbtxraBWTU0/PkpWLCgqV69+hX7BDIR8+bQdF6nwPk0qXyYg9MC5wXbHqwHM+WewHm0LPLcNiljz9n33VO/fn2TM2fOCNuGsiVLlsy0a9cuYF6oWrFixUyVKlUC5gUy9eCEOH/+A7wptaKuC4BMvYE7Z9mmI3oPZn/mbhRFGGtw9nm7zNrn//zc1IS1PNZSOT+WR7c61tNyKkA8ye1l5FhpgRXbpDYpNbhrwdola2/jpIbLZoFvRgFP3xu4SexaDG4KZE3zn9Q2Iz4GtYva/3t/B36WWjkDoV9cAywJUm8XNg9O+1hqwxNsM5YINXy1y810kYLTCRBnjVqJeyzuaT2SjG177B1g3V43w49nPrf/2fRDRNQ6Y7oE6jk16W7gn/NAixnAo2/YXky8T3gfBmLDfjt6eYOS1tNzW3FAKhFRhs1o7MlHjynPk02tHhzGgR4lBvqy+cn7HjEJe5fRe+QPr12xHNajxPPdeMDGMinK1VCBk4DgCMdf/gTkzQQ8Ky/eqzUBXY9/5tv/6R+2L+RAUATlF6EyzCdI+JQIIb6w/WGsyfKBQGV5sf0wEdgz2cYBXIuPvpdjv2Vd/Jn7iECaJgVOFLuSMpCXJEn0n9Os5PVeYowB4wCai/io+xRQIR/wgghCrwkuGLBQ5Gfkke/Nc6e734MFCs+NzWhK3OTuqvY/B2akIP5ksFQmngG2jpN7c5DczwNsHBrj3ChY/nZFPePLGBPHphz2uPLlta+BotndlUjQRCoF7PXU0h0Ggk1N7OYdVaHfWI5DobZqKLBpNFClgJsh8Nl8uqM9V45Hw3icmIbNtwy2H9DENn978Nrw/cDg5sNyTe+sBGz+2c1UlACowElgcFAxvpSjM66E1/11egdb2yud28asMH6AcykxwJADCbIWVn283ZZQINCjkzq5m+BSQmpl5D43wJAFAI95LSjOZnxiY11uFPYwI5/cvx5j5IWaJMDTwFojic1Axs41bddxJe7C+5TGmJrWs20gbPZ+QFtZHrvM3lsfbrfCht4GjwypRDSXAM7LfpPauYku3RcCJ+UZ8Xo1XY9V8hzTE8RYnmLD5Pl7RCoVj0Zd6PM78FmlmGkrIm2qTyXkc/mML3fKszvHVkBS+T27MUFZuZb0cpXIZcfz8li+TQTdB0A6EVvvfScVNakcBLPSoYQmTlvV9UxjcELDHqhz7XiVyMTgpEtp4wqeagfzXj+Yr0fadRqXGQ9Q5iqf8UI3G4fD2Bnf9KntYTaOhln5qP0vNcYI+TFlefLkMbfddlvAPFqPujAifgLmxZQx3kEKuYB5wTCNwbl5xpiqbrWvfD4KZoGpkA/m99kwSRNHzLsRi0oMTmTs1oIwHw0KnBdXTGNwQt+iGoMjFjDxClOBkzAsskHG0bGrBTNWlBd8tcLBecFH1q4ncELRVODEPasiAsKrJATKj6oFW+DEB1OBE/qmQcZKnOdqsT9bfwG+dQMnFSUhwViSni8BpUa4CYqiRBsVOIqiKHGAl9bZHoKKogQHFTiKoiiKooQcKnAURVEURYkSnDssU2p3JQpwOp5rzVUYTFTgKIqiKEo8hXP6XVwI5MzgJsQCd1Wx86gdm20/239Mp2vx5XDg1YfCp/GISVTgKIqiKEo8hXN+kROn7f+YhqNbT74HKDnCTohMOB9fZOH4UalE4HDy55hGBY6ixBE4ueIjDd0VRVGU65A88SVMvxd4eV3UB3i8ETix7MLuwN3P2tnd2SM2tYiVVTvdDSIJJ1yODVTgKEocYHYnYNgddhRnRVFuLkkT21ngOeo6Z/+Pi6RIajCo0td4aS3w0EtuYgzCa/JaLzvNDIf08IjLw3qowFGUm0ybysDtZe1w/5xsVFGUmwcDYM88D/z4JLDrKeDoTGDLWGBQU3eDOECqZMDx2f/i6Jk0GP62mxjDcN6zn44AS76x65xSpHk54LkuwJoR1lpWsHm+UBjdLFTgKIofnFOLgXOxAWdO5ozoreQluueYm6goyk3jjW+BdXuAe58D8g4Csva1yyy873EnWb2ZcM6wRQ8B5y4CL+90Z1qNYRqVtt+/72t2nSLw3AtW3HBw1n6L7RxmQ30mV6b44Xt0ans34SagAkdR/GBNJDbIkkZqQ72AZtOB3a644USMDOJTFOXm8dtJIF1Kd0Xg87ntUMS0qJItnZ1sNaqkTGZnUm9XBXjiTmDHBDsJcI6BnDb+FjzT2c6yTjHBSVG5fXSh12Xg7cC7fYAVA+0M+afOAgu62c9hLyjCyVkZ/7PtF9uTigNVFs8BLBVR+H5/O2v+4+/abT1SJI1ar6vooAJHUXzofhvwx9/yELq9A2KKAlmA5+VlwZfD+X/ti2v3JGBcG/tyofihS5wxAHypJue7TFGUGKFQVusZ8eAzd+aCuyJUKgC0rgy8tdFNiAI50gOvPAgcniHvFhEEvmPHMM6HPZLK53UThMalrYjIndH+P/WcbS5rUQEoJuKB9vNx4AFnCj07o3zzp+1M8hQOnWo4ydFisVS8Kst3nv050KQMcEg+b96X4c1T72yyvaG+O2jX2WTG71hQ3msrB8v5/WnTs4hA8r2OvK4UTToOjhKyfDfWPrhxDT58FBq9XgH+u8p8WYReFnIjwYd8AfG775lsX1ijW4vJZ/LzWs6UYz8lL4gd9qU46W7g5Fzg+LPAP/Pti1BRlOCSNS3w6RAgrY9XgSJi3+92uVphYKkUyl0XAH+fs2n+vNXbNuP4c/etwLdPAPdWdxOEKgXtf8be/SnPNj0l/5wXwSCVmIl3AR8OsoKCXiR2w2YA8QdbgWFv2UHyKo+WfZaINbmMpgX24q8zNtCX4+GQ9Xvs/xuldSV7LTrLO4eeo/V75XoMFwGz3goZUiq3CJ6uwJPtgK3jgP+JCCNLv5O8x8KFEL93neLAyFb2fbZNtv16H7Bgtc2PaVTgKEFhpdQeWHCzlnIt+MCXzWNrAHGN3g2BZfIi2eu+2AIxogXwmbwM+V3XyYMcVU7Li4z8/jcw5E3bxbLJNGDCBxFjcH74Dcgz0NbOWBsatRR47gs3U1GUoDGuLfDimnDxwhF6s6cDjp4CBjezzcidpLDfchD4RsQKK2ge9LT+M8+KAs9TwUpMjzp22Ae+L5pMBTq6AoDslef89Yett5bc9iRQKBuweYx8rlRsSP4scoy6ths2vbztRAg9ex8w61Ngx2H7jmo1OymypTzjeFtWDZX3iZxr/UnAT0ftMW6URxoAMz+x4maUCJOuL4RPkJxJvu+H24E3vwUq5LPXp7SIHfasokdn9mc2Noiend6LJE9E14AmtuLI61p9vIi45fZYsYEKHCXacATNBqWA//6z7cxXo7A8xNM62BmTO8pL4UZh+y4f6Dsr2hrNjY7gyZfTgbGHsaTdRoxsCTza1NaEOBZNR6l50DXLngIej8s2dK1+LTUaQm/LjZC9n32B8mV1tS6WZeSl8fVIK3rKyv/JHwIHpVanKErwoHeGwbMz5Fn0yJLWipS1UoGpWUQK5XFSoblk41w4qN5IN6aklbx/No4Gkie164ydoydnpwgWBiPz2Ow80LeRFVGETVyrholI+RV44EWpEP4FTLnHem4YwNtD0gpIZfHFtcD3so0H41rK5ZV3hggIj72/34JXf6qAW0UY0WvSdLr1tkSHzPJOpHfmq10irHrY73rIZ+gKel4YgE0B9ukOOx4OK2nTPnY38OGFr4CBr9s4HYqfoW/Z5v/YRAWOEi3oynxPCmx6GOpIgf/lT26GC4PqGEdCXugGjHkvfMZk1hDY7EJviGeRgS7Z24oDb/cBht8htQepJd0IReTzSfY0F5yXxzGpsdFyi2CqXQzoXNM2W7EpakF3oF4JqcmJMKspoqqS1OQu+AysxRdhe3mp3VFeXjRlgWblpBbU0Qowf1L7BAEy/wGp7flCUfWmvCh7vwo8tcK+XBVFCT4UMRQF9DoQPsfL5H1Gnl4pQmUucF8t29Nx6WbrvbjwL/DBAFvhuUsK72c/t9vzXbhQBEDZx0X4/GzfffT4/O8cUFlEyCR5lo/+z3YqeFKWNx4Axr5vrZqIqNUiKsgR2abXyzbfg++8Lj6elJiClbrPfgSGNAd+FfG16Gs3w4XvoulyXXh+T8i7nB5vHQdHCUkYDU9x87k8EPQw8Ob3D4ZlUB3jSBiFz9rBXlfcEAbXUuw8IMKGblxCcXA9WMtJ18sGAreaZd2iNzLpG4cKLzQ6Dxq+fJtT23pGXlSsiTDq/xERF/c/b93Ob4vYYOAvA/n6N7G1LjYh+ZLL9WKxCa59Nft/11Hbu8Cfwyftfwo6dvf0HTSL8CXD8SY++cFNUBQlxqBHgoNssvfkzE7Wm7P1ENBInsMfJwJVCgA1xtvC/Dap+FDYLNlg0/jsDnrdeigYI8Nn9pQIGjY5c52eFXpBKKAoCNgs7fWYJIxr+cKvUhiIP/+JnakN6IX6n4gpdrZgE1N8RwWOckOwK+L7Im5YEHsu2wN/Wu+Gb2+END2BO0QYMCJ/80H74HiwhkA3JmsJdIlSTPzvrJt5Dd7pY3sc/SLH/WO2bc+uITWv6MBmrlUi1PzhZ7HWxQBDChi6pTneA13KvrwjtbueUqvhdt3Euot4Ya8D3x4EvvCF2GAyUGSobdv3JVta+zkcj8eD3ULZhq0oSvB4ZZ19Z7Fi9pi8x6qOtc1I9LKs3W2bmNiczpg5vqPYK6jhFDtWzrU6IrDyRm/21YKS4yps9u9U04qb2JrbKiZRgaNEGXZtXD7Aihtv4CfiPcy3S83Hg16dPBltzYaeGhb8gWCbN5uyAnk8/GGvAnaJZBAuB+GqMsa6jm+URLcYxyvjNZ15sFcCPUoMit4nLzV+Z8LAuRXR+DwP1hwDvSRfl5cnX5C/uzP1/ipCjoGE7FmlKErweFDeJRzEb9wy+zx6sEmIAf6+3pZQh/FF6VPZDiAff+8m3mQoPG9k7CAPFThKlMifGVj9GLBGajcMIPOHbdJj20TsQn13VeDlte6KC4OR2UugZ31biHOAKvLzNOA3qTXRc8Jmn0Dw5RNs8mSyI2+yGc1jpwg4BgLTtXyPe36l5bv3EVG3YZ9djwkoCr0muHyDgBIjbNdQts0riqLEBGwaJ4PfsP9vBMYhMRzBt3PGjcJhNHY+Bdxfy03wg5/BrufsrcbhNlie+HdyodM7UmFLOXLkQM2aNbFmzRo3JfSpXr06/vzzT+zfHwuNn3GEJk2aYNWqVbh8+crIsUcbnUHXmucxdkVqLN2aHP+ZK9tMUiQxODDxBH46mggNZ4pqEDYO/wtNZ1u10rPOOTy1MjU6VDmPp+8+jS92JcXGQ0nRpORFzFiVEqt2JZcb1+D2Uhex4UBSnDwbsxo8b968KFiwILoWWIGmpS+ix6K0+OgHNyrahylt/0GrchdRYowovHjObbfdhkOHDuGXXyLhLgsBEiVKhEaNGuHTT326yoQ4hQoVQvbs2bFhwwY3JfRp0KABdu3ahSNHpGaSAEiePDnq1q0btPs6d4bLjsfkwPEbGOBLSJfiP+wa+5ezXHd6Buz9wy8gMwrcV+0cJrc9gxqTM+LQX+HnU6xYMaRPnx5ff/01/nz6lJPGeCe2HnDwVPaAZfO/R5QEDm8gFvgJhaxZszr/E9p3/uuvv64QOPXyH8WQGj9gzOoKaFDwKOrk+x1nLiZB6mSXcOBkGuw6kR4ZU1xE0Ux/4/DfqVAhx0nc8UZjZ98PO4T3bXxhSzG8vye/u2bJk/YMJtT7Dt1X3BZQNMUkkfuNjXyHz9FjRS0cPR0Nf2kcIaHd1xQ4mTNn1ndXiJPQvnOyZMmcwj6ufN+xdbegXLaTaPO2qIxokD31OUxrtBFj11TEvpMRXTLeb7x3716s77UJj7wCLHB9LoxRPL8gosAhFDjXNRE4RgROwLxQtWrVqhmpCQXMC1Vr3769kQIhYJ6v5UgPky4lTLsqMH0awdx9K0ztYjDZ0sFkTSvXrnD4tgWzwKx/XI5dNeIxPPtgAMwDdQLnxbTlyZPH3HabM+b5Va1MbpiLCwPnxUerXbu2yZcvX8C8ULRbbrnFdOjQIWBeqFrBggVN9erVA+aFqtWvX9/kzJkzYF4omggc065du4B5sW0jWsCsfBQmcaLA+ZG1W26x79pZnQLnFytWzFSpUsVZTpI4Yl51KXM2jo6YpjE4yg3B8WLoFmTvIY4D8fYmG6THgZzYpZEzzHpw3pRaE4E3A8zjwu7Xv0g+B7aKqzD4+EYH9VMURQll2LW8S23g3nl2cs3owMFW2WGk/2I34Rpc8ouiYCcQ/zHDVOAoNxUOEsWg3ZgewCo6sEdTTAYVK4qi+MOxvdgBg9PgBObmvzQ5vAYHQeW8VSd9On9wiAtOzzC/q500mD1v/WGvWY7Q7OVxmaM+cxBBUjEf8HADKR8kzZsD62qwcwjf0xyrzBcVOIqiKIoSxzg2245mzCkYfGlQ0o4Dtma4dVew8J9znxUE/nBMMk7mSaH0yWA30QcKEU6fQyHCCUavBScD5XHOvWAHRqT4eK+vnQiUQ2pwmoq6xe1UOt+PtxNsdrsNaFbWjjjvwUDmWZ2AvZOB57oA22Vbzme1YyIw+SPrEeJ8Xy+IcGLgMHu3+o/27s9gEVGc4NN/3CEVOIqiKIpyE/EfxJMzjh85CTSa4iYIFBhP3wu8/KDtDr169y24BQYv9bBT1/SxfTrC4EjzbzxsZ/MmvoOO0jvEaXJ2TAD6yX4UIpwZ3IOi4tRzwASfAU29rt8cuZ4iiyIlX2Y7Plf1QvY7fDYUeH+LHaeMIz0Tznw+4h27zG3e729DEzjIKQc7fWG1HayVcCDYDtXtSPIc34yjQXPk92sNAEthd081Of8Ak3iqwFEURVGUmwAn7133OHBijgiamUCv+jb96Q52nDE2uxB6Wj4fAlQVIfHPeTsC/Kj3EqN76S1IIqW4M0mnzwgW3J4TEjNWkmOTsWcRJ70kHFdm6zgbL8ORnD04CjsZ2hyY0dGOVu87eSenm+BM5v1es9PZcCT6ciOB9nNl2+RWQHH8rlfXW4/OhlHAoeMRp7Xh+VN4UcCcdef/yprWjtROOCcgp/3xYji5PcXUtQZW5QjzfRfZKTL8UYGjKIqiKLEIvR5fDBNRUdsWzhkfAcqLIOjd0DbnsGlpkzvZJr0dX4uQoFcnbyZg3PtWYEy5+zJypv7HTiUhQoazoHu8JcdbucMG63qjpXO0+Hf7WC8JR29mk9StcszdR4EWM2zQLmcQ5+jtnD5nxTYbe0gR5rHpZ+Cvs8DzXYE+ct7HT9tmJDZNPSqCjHE09PosdScs5fQ1hB4jxtK0qmS/Awfnm3s/sHqEHbvGlyUikjgv2GE5J57Pfc9HjO/xh5N/fnSVkZdV4CiKoihKLMHCfsVA2wOV8TXeZLvsfco4knFS+HPy3wPTgDGtgTNSwBfOBixYbZtt/uDEm08AZfIYES+JnFHjT4gAKJnLHqdWUStqxn9g1xnzwqakj+QzOacWp4KhiNgsYoWfz+aujKmAb+WYjGG5Q4TFg3WtwNk42goYDwYAL+4JHDoRPp0D5+r7VsTYJjk3xvKw4whHXn9prYiswTZuh8cpkwd4bpX1+HBU9q/3ho+G3/UF62XKLsKo/iTbI4vH4GSlV+vgwaYp33MLhAocRVEURYklHmspYmM7MFcKe1/K5LbT3BCKBw6/cfqCFRo//wlkFSHC5qwJIoAefwdoPiMpdp/M7ATrelPdEM4FWL8kcE9VO33B+pFA5xp2nqk7K9lmHwqbSR9aITTmfZs+YAnQbzHQrortHTVPxArnDuR2Hpyqh1M6DH/LTRAuXLIeoYIiZqqPl+8gx2MzGr03FC3pH7bxNhRHbNb67qAInS+A1zbYiYZz9rfCjtBTw0mbfztpxdi1YHNWdRGC14MOrOuaDvSXMCyyA/2FivkP9Jc+JUy5PFduF0qmA/2FvulAf3HXlvWHebAeTLEcdnDUUa1gto+H2SbGQe5e63nlPvVKwDQvJ++rjOFp3kB/hbPBjG9rB1hlOgdh5XFoeybD1Coavk9krWP1KwfSo/GYnw+9Mj22zHegv8iYenAUxYeFUuNoWNpdURRFCTJPLAXuKAe8+iAwrLktiTvMBSqMsh4Pjinjz1e7bJwJexT5s/8PYJQck01chIHFPA6t2LCIgcKRhR4V/4H0CJvJurnByPEBFTiK4tK2sp3BfGYszcnItunHWrgriqIkCLb/CrSebZtzWs60k0X+dNTNjOOw9xObmeILKnAURciSBnjjEdszIDZGVWbPCJLoKk/gg/WAxb2kVpfP9qhQFEVRooYKHCXa5M4IvPSA9UjEV6bfa8eF2HLITfCjTWU7tHh04TV6v5/t8skxJVh743gTHFgrg89E5RwQ6+5bbe+DCwsiF0ynKIqihKMCR4kWHP3y52lAp5rXHquAYzCwcI9LIojncmDsYYyq+xNaV7IjcHJU0BdFrNGaieggHGjqzUeAAU2APCLmokvz8sBnQ4CyeeyQ6/un2JFE0/nM1zL/S9uGzoG06NLmXCuKoigxAd9FN/JuZkWMFVyOp9Oqop1SYUgzYOJdwLOdgVcfAt7pYyt1nAzzo0HAp4PtGEBfDrfTR7wneS90s+PeBBsVOMoNw6YTDvQ09SM70NTq3W5GADjGAsktN3lcgcF4pHCm004g3lsb7bwq7JbJGW13HbFdJjmWA78jZ8zlcOnRgaIlTU/g9Hng9qlA7YlAXnno754D/HLC3UjgtWV8Difae3qlPR9FUZSYgF29CcfXmXGvnSCTAwLy/XenCJf2bpfzUa3sAH18L7FydvxZ4POhwFN3W48z55Ri8zvHuflmP/C2vFPnSWWNcY2cZ4pj83CQwsFv2ikcGBw9S/J+/M2Ox+O9Xzm2jzeqc3RQgaPcMIxV4WibHG+B4yDkkBs0EByd8/BfQMoHw4fn9uCDwwGiOPCV/3wsVyNYMSn5RFiUGJ8bedOfx1B54N77ztpSMQqKIc2BES2tF4WBdev22DEaokv9ErYp7MtdtucDm8b8GdvazhEz+A3gjW/dREVRlBhgzzFb+er5khUbaZJbr07TcrZ5vn4pO50C3998D45bBmfm7tKPS/5sK1o4+jErihzDhuPrZEtvx6oZ18bOEt6mkpQT1ay3mgMJPlRPRFQd4NMhQJFsIoS+sFNU/DNPPuf56w/iFxlU4Cg3DJtrXhHRwqG02X2xhDuSpgcnZ2PPJM5rQoHw01O2CYiwpsBhuCkiRr4DVCkQPpmbBwt4DmDFmsLJufLwyMPEGsMuOQ6H+w4GdYucx9pDmSPMl8Jjc2h0Co+a462oeVRqNPTieMHB0eEuqelQRHlwYC7f+BtCb9jnO4HRInT4UlAURYkpjs2yTVSMReRkl5x6oWJ+oFh2K2yqFrRTOFCozO5sm5rWPmabmjj5J0UMPTxs1q8s7/J88g5NnUyOeUne3yKe+H796Ygd5I8iaI2839aKUFojlbyX19mRkDdLHr0+w94G6jwJDJf/wcAZEOd6pgP9JQyL7EB/KZLCbBgJIze1s54mhR0ESkRK2DZc96xXfZj8mW06B5Fi2qYxMCImjDwopnfD8P38TZS8eaAOzNg2MO/1g6mUP/B2N2JzuqcxU3sUDlvn+R+Yaj8rd0YYebjN0ObyuX3tYFz9m0TcP1cGmM41YCbcZfPlQTetKsKUlP0Scapfn20943ef1xVmUFOYLWPtwFkcwCvQwFpjWl/5mdE1Hegv9E0H+gt98wb6C5QXVcuYGuauKjAiThyrJFYxH0z5vPZdViirfR9KRSzCOz62TQf6U2IUTr3P+VEYPMaJ1zjwE2FMyXeyThXvcafUCjgUN12fbIfl/CWEQbNEHh7sn2rnXZnjN2y5x301gT2TbRsv51jhPkwLFtUKXMDu4+Gz1LHZjYNqtaxgg3+/n2C9KHfIOud6YZyOB9uLvxoBlJVzoodq7+92wju2Rb/aE/jjGaBeCXdjHzgHC9u36ZZ9+FWgkXwO26x3Sq2FQdsM2vPgvDPZfCbRUxRFCTbsIPLuZuthofG9zTmy+K7mGD3e9An/Oxu4ST0uc4XqCWTqwUkYdj0PzndjYX6YCLO0b7iHgv9rFIH5aJD1TnjbrnscpmGp8HXPOKz4zI62JsChyn338bcKUos49wLMZ0PsZ3AqhUDb3ajxs2lvPGxrMf7591SFWT7gynTPAnldPItqTYefLwLHHJxmz2niXTD/mwvzTp/A29+oqQcn9E09OKFvwfTgxBdTD44SYwy7wwaecZp9dltmGyx7Rx2abj0PDCRmABpx2m0LAat22nWPtCmArrXt+C+sCRw67mZchW1Si2BwcuOpdlbZU+fcjCAx5D3rLmHtJVA3d/YmmLbSXQlAoOHMPaJa0+HnP/YOUGgI0H8xIIIHqZLbc1MURVGihgocJdIs32r/D5DCt99rwAMv2jlUOKU9p7h/6GWgwWS7jTd1P+Egdd4geexxtXKH7V5OhotoGr/MLt8M3t2WGg1fvg1vb3ITfOCMvEZEyupdbkIswR4InG2Xw6Kzee91d6ZdRVEUJfKowFEizc4jtsCdK4Uv22Z3HQV+Pm6nxvfn0x/s/4sL7bT7mVLbdQof7lcoq/X6lM8n/1fYvLgGe05Nv4b3RlEURYm7qMBRYoQzF4CsfewYCZVHh0/Q9ua3QPtqwNJ+1lPBsRTiYtAap09IJebbnVtRFEWJP6jAUWIMxstwwDxfAcOeV1XHAhVGASPfBf4OckxNsDh30Ta3UYQpiqIo8Q8VOIqiKIqihBwqcBRFURRFCTlU4CiKoiiKEnKowFEURVEUJeRQgaMoiqIoSsihAkdRFEVRlJBDBY6iKIqiKCGHChxFURRFUUIOFTiKoiiKooQcKnAURVEURQk5VOAoiqIoihJyqMBRFEVRFCXkUIGjKIqiKErIoQJHURRFUZSQQwWOoiiKoighhwocRVEURVFCDhU4SkhwcaE1RVEURSEqcJR4T+UC9n+FUfa/oiiKoqjAUeI1aVIArzwItJoJ7DziJiqKoigJHhU4Srwmf2bghdXAyh1ugqIoiqIIKnCUWCFTauCO8kDR7G5CkPjxN2DWp+6KosRRkiVxFxRFiTVU4CgxzrOdgWOzgXa3hsfLkIJZbGBwo9JughJvOfs8cF9Nd0UJI31K4Ogs4PR8e69nSOVmKIoS46jAUWKUBiWtsKnzJNBtAfDGt26G8PNx4IudwEeDIl/Dva0YsGeyLSyalHETXebeH96b6owUKKVyuRkub/UGCriiyrMdj/2GOS22okxudyMXxva0qwJ0rW2/g3JtXlwDfP+rXf5yuBU7rSsBeTLatMiSNLG7cA3Sym+zegTww0Tgk8FA5xpuRhAon9fej979ceo5YPI9bqZLiqTAPVXtf49HGgJfj3RXXDaNASbcBeTsD6R8UI53Cfh8qJupKEqMowJHiTESy921UgqgriJsvtnvJvrRdDqw6GugbyM34Srkyww8cSfwfj+pEf8POPCnXfZoVg64SwQJKfu4CJffgG3jgYypbVrmNEDtosAvJ4COUmgVeNQWOmWfzIUSWU7j0WZ2OzK0OfDXHKBXA9lHBBW/QyUfz1MowuuTM4O7cgP0eQ3Y7gqcWnKdB9wOtKwov4OIkG4iEil0sqcDprYHdk+S++GJiN6MCvmsoDjzfHg6j8O0nSKOPSg4T8hvU6MIMGkF8N1BEVc9ou8ZueUWYHRr4J0+wIrtQN2ngKpjgXc3AwPlu1A8k/YibP6eB7zW03pn6H3cOg6Y2dHel4SC+LMhVizx3iaX/wOe+wIoJ2mKosQOKnCUGOP2Mjb41zcAOHVyd8GHx98BJkpNl4VMIFiQ7JtiPUEFpeBg4UOR8u0BdwPh+1+smBnznhSgx4CaIm5Y4LIZjDxQx3qP/jNSiEmhdUQKIxY6udJfxomzSfHIq3Y7Bi2z1j30TSm85DN7vGjTm/p5i6LDwWn2f70SwJz7IjbbEQpDxisNaCIiLJmbGMOwGeWQiM1CWd0EH0rnlutdHbi/lj03Qo9bz/rA4Rn2XH1J9oB8p9EiTERk8vfuWEMEqXxnejT+OS/3hSxnEUHF9d9nWxGzUbYnpUZYTwcFAz1BpJ4IInrjlvYFnu9m00rKdq9tAJ4SkUPo1YkOT3cAKorIqiLnNHeV/X6zOoV7Af931nqNKIIIt/lE7sUnWgGvfyPf4xSQJLF8z6nASElj4Pv6vcAoWe7XGBh+hxXgvKcURYkdVOAoMUaDUsCyLe6KwILs5Fyp7ft5a45J4ZBI7kT/ZiKPES3s/4pS6//7nF1uKMfe5CNwlvYDzv9rC5YeImboCTj4J7DlkC2UH6wLPPOZu7ELBdWMu/7Cou35cO6iTXuzN/CYCK6ZbuByKhEYv/4FvLjWrkcXCoVcGW3TylQpVBl03dgnBimdiLlzLwCzOwNT2gM/TnQzYphO8+z35nl5IoLwN6NXgx6ZBd2BbOmADtVs89Azco5c37DP3dgHCren7pYCfimwWIQIqSfCdNwyKezl9/ziJysmN/1s8yh6KIwKisDaMg5IIdedQqerXAs2ES0fCHy4HRi4xHpV+Lv0EoH1rdwTI962v1F0oAjjvTLqTuAnOc8nReRO+xioMcE2o1YtBExfCVQSIbZA7rGzcr90XwDUkW2nfGQ9kU9/AlQXYd1gMvDWRitmuC29Y6Kr0fxpYM1u+3mKosQ8KnCUGIPxMp//aJe95iPiiRRfDh0PXEixELxXREF2ETD0uBDGPjzcQArir+w642XYvDJVCprfZkrtuosVNX/8bfO7i+DZ+ouN+fGF4+fcmv8ilu+21XTWwCvlDy+QCWvjb31rRVh04Xm/LJ9Jlm21TSD0FLCmT8rlAY4/a5fpyaAYiK2g1PTyOU+2k2v3hS3MfaGAYC84io15cm157Ue9a5v7csjvwuYiXjcPej0erGdjriZ/COz93Xrd2Kz4ooiY7reJYFpsBc2r64FvRCAVEaFHDw3FDIVD30W2WZNeos0igng9Fq6xXrh/L1sPD8VQZxGyFB7RpaXcNzzunmPAnbOAWiLglm8TYSLKhOKFYuUD+c0oountoxikIPJgb77Vu8LvOcL7lb/z6Pfsddh11M1QFCXWYOXiupYjRw7ToEGDgHmhatWqVTOFChUKmBeq1r59e5MoUaKAeVG1PZNhkia2y4lugflyOMwjDa/crkxumLWPXZlOm3Q3zIgWEdPmd4WZ3iF8vbcc8+l7YbKlg2lSBiZ1cpg8GWG+nwAjosL8+KRd9z2GFMLm4kKYSiVzmttuu81Jy5UB5oeJNl8Eknm8Jcz28fZ4vvveqPHzaCLanPV0KWGOzpJzyA8z936Y/VNhto6DeaEbzJuPwByQ9byZrjxOdK127domX758Yeu96tvz+nQIzNcjYYpmj7j92DYwv8+GOTQdZkATmFvktxx4e/j32TIWpkCWiPukTBZx3TNuv/7x8HXeF/x8/n7Ny9l13+2DYbfccovp0KFDwLxQtYIFC5rq1asHzAtVq1+/vsmZM2fAvFC0ZMmSmXbt2gXMC1UrVqyYqVKlSsC8QKYeHCXGYO3Xg7Ev9SfZ2AV/Hm9lXfmBoBfoo+3uisB4hhI5gWFvuwnC6t22Zs/a86c/AGcuyDa5gCMnbY279GPAYVn2hfE8PxyWff4J77Zz9BRwWvZd97htgikpx+A583jRhc06pNBg4NAJu8waPr1Z87paz0H5UTbmh7FEjGvp8Fz0m16uhwgKpzmM8DrXlu9Nj4svvHb0XtCLwaY7/q4zPgE6z7fejKrjgIN+3jGvyc8fem3oHfHgfTHvS2DQ6/L539t1RVGUYKACR4kx6PK/XpAsA23Z1PDKejfBj62HgMdaAoObAauGAm0rA/fMAS7JsT0YG0JRkiuDjWlhs8Zz9wOTP3I3CADjOfotdldcWHCzgO8thTb/swD/64ybGU0+EeGVe0BEoUXhVHy4baqicDh93vYKavcskKYnsNEnxiim6CuC8cNtQKqH7DkEEhgvfAU8+NKVwodxJhSmvr+FoihKXEEFjhJjMKCyWVl3JQDsHUXvweA33IQA9F8CrJSaPcdHmfSh7VHzu0+cA7lPhAg5OB348Unb5ZhxFF/+ZNMDQSGxbo+74gMLa/a+OnHaTQgSJ0Uo/fmPuxJHqFLQdttmF28VKYqihBoqcJQYY+l3wF23uit+sGmEQaVvfhtYaHiwGeeldbY78GduwLI/9Cyw6cOzh1/RiTcjw/i2tovzb37Nd4qiKKGAChwlxvhqF3BrQdsTyh920Waz1MTlboISq9Qreg5Z0tqeToqiKKEIh1aLVFhfjhw50KBBA/z6qztcaQIgb1477GhC+85HjhzB5cvBabNoWuQYbi/6OwZ+7DcaXBwhIf7GBfPlwjN13sWIT0thxx/p3dTQJVGiRMidO7e+u0Icfme+t/j+SggkT54c2bJlS5D39Y8//ojt2316n1yFKAmcevXqYd26dW5K6FO9enX8+eef2L//KvMMhCB16tTB+vXrgyZwyH1VT2PJ5tS4/B9vt7gFH5iCBQtizZo1bkroM/+BlGicby8Kjc7jpoQ2FDi1a9dOUL9xoUKFkD17dmzY4DOoU4jDd9e+ffsSjMBJliyZU0YlpPu6WLFiSJcunVNGsWyODBQ41zUdBydhWDDHwYkPlidPnrBxcBKKcSyaljWyB8wLRdNxcBKG6Tg4oW86Do6iKNek49tVsP23AJOCKYqihBAqcBQlgXHsdDRnpoyjcMLN2JraQlGUuI8KHCVeEluzbCvxA85aztnHG5VyExRFSfCowFHiHRwgcMtYIF+A7udKwoQzgHNm8nc2uwmKoiR4VOAo8Y6xbYD3vrOzWStKtcJAjvTA4++4CYoSS3DeOI7ppcRNVOAoN4X2VYGLC+1AgFEhWRKgcRngyRVugpKgSZLYzjvWambw5g1TlMjw6kPA77PtdCdK3EQFjhJjUIxwXqhAcOZusn4kkD2dXY4MFy/Z2cE5MaWiPNoU+OkosHKHm3CT4ZxpbEJVQps6xYEO1exEudeaS0+5uajAUWIETs9wej6wcbSb4Acn4uS8UYs3AL/OcBMV5RqUzSNC5lHgxLPAsVnAuDZ2Pq1BS2x+9cLArE7A3PuBe6ratBuhbgnglQeth9GzVhWBItncDQR6jng+vqQTYXPmeWCKT42+WTl7zn8+E36sOfe5mUq8pJz87p8PBWpPBLb94ibGI9hBI0VSdyXEUYGjBJ3kSaxnZrfUrClirsVDLwF//A3kzeQmKHGSXBls4ewLRezbvYGGfj2XGpQEnmoHNC7tJgSBPBmBZf1FvHwBZOsnwmE6MLwF8MgrVthQ1HAC180/25iI13pGXeTQ48jvM/keKcB+BAoOlu8y2ea900cEjR0lHu2qAGdFyPAeJyVz2maK4yK8yKDX7f/E8nad3xV4db3c34Pss/DiWiBDapuvxD/ooftiOLBqp1TeDriJ8QTe3wwJ2DMJ+HuefZ7L5HYzQxQVOErQGSe16o++lwLBLQA8Arnu/70MGBO4MGSB9ZgUYl7Nt/ttboZLqVzAPClAvHzaD1Kr8qdJGalVS6HlCx/sLrWkYGr9F+oViNyQ3wmVmkWAgyIoiFfzo6jYOwW4sxLwu9vcyIDLT0QUTLgLeLQZ8KEU6r5kTQucmW+PR0rLb8Cu3Z4wYOHB37t/E7vusaA70L6abYb6YKudYX7ZAJvXu5G9B3rUBb7ZDyz6Guj3ms3jOUaFxSKKDsitUH0c8K0UXk/fawUK4T3K8/v2CaBXA7nPDgO7RMBvkHt8qQiu46eBO562M7NvHw/sfBI4MtMGP588K2IpiwifplLrLwqMfd8eMyHw1xzgcAh5aClkl2+zAjsmoAjpWtsKbd5rq0fYe/BTea7qS8WBcEiEh+UefLbTJaRNdsEmClULAW/Jfrwn6U1kpZH7jJBnivckf4fRreX9/AFw73N2n8db2f+higocJajcUR4YeHvEdulUyYAf5YX/pxRkFCH+XJICK1WAgXXnSK18TBu7zIKLwskXFqhZ0wAr5IXD2nGPF4Eth9xMHx6Rl8EGn+nEcmcEZneWQicrP9dgVL1dbk7swRcZr0km+Q4Uav6wYGTvoJvFM3J9vCaZGR2tJyNLH+D8v8CD9YA1j9m8HFK4//Cb/R6rhgLr99rfirFS+R+12xSQwn1aByn8pcBPKt+bzTv0sHwgIqWWFPhTPgIqFZDfaJT9vekt8qA35X4Roks3yzb5gUNSsPA4vD6EHkB+Du+BA1OBtXJe++X/gtXAkDftNpGBYpqFAePBWBgs6SUCbTtQTgqLdXusV4geoaFvAY1E2HWQAmLeFyKwREyVlEJo8ofAZ67Xp5oIJF6vfCLw7pECfoAItpd6SIEj993t06QGfcz90ATAW5uAbHJNaxdzE+IxzcsB9eQeeeRVu857pndDufcGAlWi2FkiEE3LAjsm2E4U9PTRE/jPeaCbVOz4uRfk2RspguRHqcRRzHSt/R+KZjiBXvWBr+U+pRD6RCoBiaRU53FYwRgk72J61O9/Xp4red5mfwaUyCH3oXwWn9MH5fkJdSLM3XA107moEoZFdy6q5QNgZnaMmFYhn53/iPbGwxHzaN9PgJEa7hXpHw2CeaodjBSIpk1lmGc7R8wvlBVGCjyTPzPMlrH2+CVzRtzmdfk8pvum+Vrrmlkj5LesAPPmIzC/Ph1+zrTby0TcL7o2vq09Ls//xLMwFeUaieiJ8Jm0e6sH3j86Vrt2bZMvX76AeZ69389+fuY0MNvGwxTNDiMCIsK5idAxIiiMvGyN1BKda/bzNJhXH4KRmnvYdkx7vCWMiBrzxzMwIiDMQ7Jv60owp+fDSK3T7J4E06oizJGZMI1Lw3SqYffltZHCMey80qeEEcFs2sr9IKIqwjlnkXMVsXhFemTnouJ9xPuMv4Vvekr5vBRJI6bFdYtLc1FVLwyzbwrMoKaB869mXWqF30M0//zEiSKuX20uKhGnV6T5G7epV8LeA16aCBrnc/lOW/kozBm5V3lfH54hn1USJm0KmAl32ecj0PlFxaQSYE7Otd/5TnkOXu5hP2fS3eHfn++4Ma3ttnwnLh94i9k7I72Z3SniMxLKFtW5qMQCJl5hKnAShkVH4LAQYAHFAsE3PY28CPiAbh1nl33zSueG+faJiGm0GkVgNo4OfzlNuQema+2I2/CYfRqFvwDOvwBTPm94Pl8ETOcL1nc/z3iezF8xIltY2v3ygvlTCuHOUsByXWppzkuF23nbRNe6yffg8TaMtMJu1VCY2+QF9eFAm96uCkyejLZQ8P0+wbLICBzaB/Ji5/nQhjSzaRlFPBwUwcI0ik+eN9P5Pfo3sdec4uSTwVa4Mo3XkNvwpZw3U/jxC2ezYrhDNSvumMbr7n0mRRH38ba/UdPJNm++ZU1r7/N5XQPn+xuf901jrBDOmQHm7PMwxXOE549sZe8RigyuD21u1/0FDitUTPfWef9SEDCNzyHTeP/xXmXa9A42jcdtIkKbab3qwyzobo33I8UNhb13TAp838+4EUud3IqaNSNgFvey7yH/d6W/6WSbkbKAiVeYCpyEYdEROA1L2YItUB4LQq8Q87W3pfbuvWh87Z0+ci5V7XKGVNYL4Fs4UgDxpcIXjleAUuw81iJ8m6V9rZfBW/c1Cifuv7h3qgiziVcuYNPpKfDS+PKhd8Jbj4490tAef1n/8LQ9k2F+esq+eD+V68fv8ZK87J7x81gFyyIrcGh1pVb7z7zI1xD5W/C7+HtBbqapwIkbllSe1W9GwdxaMHC+Z9NEZNB7S08dhQY9FxQeTcvadwiX+Qx5z3rH6nb9rSF5wgROJXmO/5b7lun0FObLDDPxLpijs2zac12sx5CVKL6zeE5Mp6iiuPjxSevN47HoEWQeKx3eOb7Xz1bYuC/fDXWKh+fFlqnAub5pDI4SNFpWCA+E82ftHhuX4Qu70ErtDC+tcxNcGO9Qtzjw3ha7zniQReuBX/+y64TBdz0WApcuA//xVhb2HgOK57TL5fPa5YWr7bo/8pLEsVPAY8szuikW7kdOnbP/CbsD//ibuxINGFQ7syNw8Dhw5yw3UWCbPmNJ+i0GBiyxYwftlM/j8s1m9S4gbS8bhxIZ2t0K7P8D2BoPu88qMQtj5hiP8//2zgROp+qN478ZjH3fZhiTGYwIWUYGI2aiiJDGVlpkKUIlhcpSsmUvS5aUtAlFaSG7hOwRUohIWcq+c//P8577/ued8Y51Nvf9fT+fZ+57zznvfe899849v/uc55y7/4id4AURxq5YlAffMjFyIkhQRv7/uk83L1Nd21fy5b6h2/hV/t81qP3dNsB5ubd881sQWlQ65QrIndre3C80GFzjUJbK/UJj/Wr0Bw4eN+8s61IH6Cnb1bgofc1H78/N/788jLliVnS2dOVv2Rdl739mqej+NR8L9JLv6GAKnfaCpE0uUz3ejB4c37Cb8eBEyFPQ4h7e8xKaPpltkaekirddnqd969r/rE9mcqNyeXk8uyoK5TJPVL0bxf+edu1MbmM+a+xImcLx892m6fp99dIEBwfH8+Bol5nmubevT4vqPUqKGBz1BGk/v7e8lLTr8eBcr+nTdvUS3vNSy+jBSX1T74deGx1ivOe7TWOo9H//71GwNvc3/4fueCy1asVNd6h6OvXeoN4Z7RrXuLlNg7Nb7z+dxeXpUQ+tehNjSpn7ktvLq6b/hwVzxP/dK5l2a3lLT22jB+fqRg8OSTJ0DpJMAXHDgBNDhxrrnCafrPQ+6kmHAeswxrtvN3NNtHzHeGrc6Pwifx42IwrUqsrviQDBi/cDM1abModPmNE93jh5Vq58ufw9vTRu1FOTvxPwxpfAMcnf8hdQc6A8KW62C9wE+ruLU37AVoqh88Po6xJ0JBUhbhpVAJa9AoyeD4xbaCcmgv6/BT8PFO0G9JttriWdDDRTWzNa7sffgV2HgHuHAo9OAGatMyP71JvS5bsI9Jyd0zWdgP5/q2d34VZzX3J7eRX9P/znmL1yDfzHV4DcslDgkCTl2Y+AyXIzUhGSGHrDU5dwPxERiaFdWk+/D7wtN0VPcaOo67nYS0Z45M4C9G4EPBUNDPjKzL9zNfQGmVH2MTFU+LwuN9eR84B3l/KlnteCdh8Maga8dB1Ds4mz0bl/zr1r5jFqNNIMfb5W9P7RP1buJ/acRipQrtS1RYg3KHBIkrJqB1BGntbUC5MY034Cun9mr9wEK+Rp7oVPzaRbTd4GZq+3M0iKo3PlzFzj3SNHfJPC9uzkxeVh5Oe95vO1MkDEjU7qeL3fI8QTChyS5CT0uBDnoK8l0Fc0eDK6lZkgT4M0CXGjgek6Aae3ruAroZM/6uzjr860Ewi5QShwCCHXjI5YKWbPcKyj3cY9bp7UHxoNnE0wSo6Q60Xj83RG3g5TgFPn7ERCbhAKHELINaGv4dAp6TVwU2NuJovYyZfNvI4g4RQAhNwIq/uYoGAnB+OTlIMChxByTbhfXtmjPrChH3DwmBnhpi9MJeRm0XeN6dxVPabbCYTcJBQ4hJBrQkeUKU3vAhoMNy+eZLwVSSrGPma8gToBJyFJAQUOIT6OvtXc8w3eiaEzMGvQaKU+wNb9diIhSUCn2iYYWee1ISSpoMAhxMcpURC4v5y9QkgqMLwlMNn2EBKSVFDgEOLjBHYBJrFxIalEzsxmSe8NSWoocAjxcfT1CoSkFto1pZODcpoBktRQ4BDi4+gbnvUNzISkFtv/tj8QkoRQ4BDi46zpC9QqZa8QQohDoMAhxMcJ6WpGRxFCiJOgwCHEx+lcGwjMaa8QQohDoMAhxMeZ/wsDjQkhzoMChxAfRyft47ukCCFOgwKHEEIIIY6DAocQQgghjoMChxDiWKoUA85OstCm9CqkT2cnEkJ8AgocQohjmfGMWe44mheWZT4TQnwDChySbGTLBLzXFlja005IIu4pDZx7114h5AoUzAk8/zGweF9xXLxkJxJCfAIKHJIs6Av0/h0DhBcEag2yE5OIxhXtD4RcgSwBZvnxSrMkhPgWFDgkyUknV9WsZ4F+s4Hq/YFLCboGqhUH6t9pr9wA9coBZV+xVwhJhNceBEbPB46c8rNTCCG+BAUOSXJ2vAkcPyMC50s7IQENKwBfdAFmiwjyu4G254lJwK98OR+5AjXCgftFRL86004ghPgcFDgkSalaHCiUG2hzhRiZHtOBLO2NJ6ZbXTvxOvhhu/2BEC9o7NfktsCoucD5i3ZiMqCvt1BvpJv82e0PhJA0AQUOSVJGPypPzsOBg8fthES4IA1P9TeMN+dGaVfLBBt/0xUomMNOJD5H5gAgKhx4QcTyl8+Z2K/b8sq1+BhwcoIZJj6k+hzky2Z/4QYoFQQMbQH8Oshcc2p75Drv0xgIFkF/aDSwb6Rd2GZwszgPZfkQ4Jl7TNC9fvcDEfiEkOSFAockGRpXc+acebfRtfDXETNPydUoLA2IN8aImPr7KFBAxM2fI4DQfHaGF9qLGLqziL1yi6CNtI4Yq1vWdLmkFXJlMYHeKjCzZrQTvVBBGnWNx/IkR2agSSV7xSZ3ViNS3KhgUHGQVwSJfl/FgTdKFwJW9gKOjgN6NTTbLpbf5D34llkGdpHtdxQBnOUEFvYwaddDpgzAwFhgjr5xPR2w86CdIRw/DSzeJmlDzW/XGmjS9TpUEfP8feaaW9PXdMkG5QJmrQWWyHdaVDFlCSHJBwUOSTL0Jv7LX/aKB+4n3v4P2Qk26uJPrLtJuxnc39slDYjG63jyWHVgvwik9u+JSHpdno6nAgOa2pkJ0Eame33TCE1oDax9LW7b41ocsksZtFG9u6Q0ZunthGREn+61my67HKs3+j4IdIgBnr0XWNDd7G9q82QN4Oc3gKeijcD8byxQNIGwzCBCYEM/YFUfERcihtw8FGE8HZ+K4FBUKI1uBfwjYqRvY7g8LG89YgSDioOMcg4WynH/JNtxe0JU8Pjbn1Vc9flCzlUb4D75zla59jSgXUVNsQLA9NVmJJV+3nciByYsNt+7VlTcrBABVfN2EVI7gEYi6lS8h8s+KdnleoqtDNfw88aj5Jj3AK+K0Pp1sMnP1cHsazm5/rSMxgOdOS8CSERYc6k3QkjyQoFDkoztf5sGJzHyJohRaCqNw6x19ooH6pHRbgZlyg/ydN8OiPTw9LxYD5j0pIiD4SKEpJHr1wSoc4dpQBOije/MziIUpsA1k+1yEVT3DTGNom47OJcJ0oguBSx7GdgyQBqxl6RBHAF8Zk8Slxyo2Ds7yQi3lxsYT81HT8eJBW1cn/lAGlARBPWGAYUSCLzUQAVNaxE4Uf2BLh/q6CSTvl0adD1ninqa1GOh3pW6IjoOnQDuKAx8/TzwiTT4eo1kbGs8GOtFmFYOA/b+a7x562Rdy56/ALzwCTC3G7D0V7Ndraup7YHf5Ldqy7lWVu+SMpvNZxWu2u3TSISGvhn9g+XAybPANy8AYx8DFu0r5hpRdT2ogFKB4i93yfW75Zjk+hj2HfCHaOIqIpIfHgc8MRE4KvXQXI5n60A5T7nMMT73sRGBMzoZj0162caq3mZk16MT5GFgrf0jhJBkRQfxXtUCAwOtmJgYr3lOtSpVqlhhYWFe85xqzZs3t/z9/b3mXc2kobNyZL48PTAnLLnZWyIw/p8WnBvWjiGw8mSNX1ZNBIZ17l3zPV1vWAHWdy+Yz9LgWAfehiWNlqvMoh7G9LNaSN647eTNZtK61YtL87QlPWE9Gp3XurtGlKvco9Xi8ppUMt/1LJ9U9ty9sJbKb0vjZ23uD0vEmmupv1c2GFZOqcNTE2ANbmbK6zF/9Rys7vUv39aNWFRUlBUSEuI1LzF7tSEsERxWBjmHj1SFtXtYXJ2rVSoKS8SatbEfrPa1YP0yQP5/isGa0g7W72/CGhgLa9dQWDGlzHa07ssUhhURao59+jOwihcw10jXurBEALq+r7+t11Qr+U0Rof+/JtwWkN58V/chKjx+ntv8/PysFi1aeM1LCruzCKwG5eP2Ta+jb7rCGtIcVnigSSspy/Ih8b+XnBYaGmpFRkZ6zXOqRUdHW0FBQV7znGgBAQFWbGys1zynWnh4uBUREeE1z5vRg0OSDPU+PBxpr3igcTLjF5nAYjcasDn0W/O0nZASBYHH5clYv6fxGFr21c9NnsajfP+L8RAo2s2lT//3DpGn9K0mzkHRJ+/98jTfW76nv5OQByuZp+pFv2XG2/U3uNKm/uhauLwnGl+iM+AmB+pJWrbdBFiLwHN1X9R+E/hP6qJyqPFcaJmNe4Cw/MDXXY23ZPDX9gZSGBEekEYbr88GRLCgcx3jIVE++8ks1Xvy+RqgQm+Td+i41Htzc5xlXgHe+8GU06DcyUuBmgOBzfuANbtMftMxwO8HzDUy/DvglZnAqh3mO8dOAx+uMOdXrwlPzl0ARs4Dsj+VeqPrNv4JzJFLyL1veh1poP2L04w3R9FpDbQLixCSclDgkCRD3fJta5pZjK9ESxFBYdJoquhJSK3bTRfAJytNLIwGhmrsgjaEStki0tBtEfEijYl23ZTqCTzyjgn21LiZc+dNuQ+lwVMGeREF5YKB99sCT71v1kvlP4HHJphYjSeiTBfLL9L4jllg8pOa0+ek8bvfCBsVUbof2jg+PUUae9m3gXOAj6RB13gO7S6bKcJBuzVSC30U0jih8U9I3Us9NxxpYpoU3eccTwN3vCziR4SNxsBonIkKmBoDgElLzLo29KEi3DR9mi2KkorlvwFnRegQQognFDgkyRgrgkCf3lfKU7yKE2/ocG4dldJi7OUzHCsaoKpemQXSsL/VyoyGcXsJFPViTFoKPFA+vpDSoGT1/OyyY4bf/8HEgHhjzWsmtkM9CMrbK4u5YiOmPwNUL2EmEuz2qclLap6OBkY8LE/0+4HbRbx5NvYal9H1E2D2ehM83WCEHFN3IxJSkx0HgELPGU/LxMUmIFipMwQ4ccYIGEIISWtQ4JAk5a3vgWZjLu9KcPPPMaBS3/jDbT3R7if9fvfpUq6P8aR4Q7svdDSOBhirp2PD68Brs+MCX+dtBhZuNZ89UXGlPOAxZ8msbYVQUsRGRfm9diIs3N6i5EC9RPoKi3K9gN2H7UQv6AR1Wkdp7QWRIXmNl04DtDV4lhBC0ioUOCTJ2bQ3LvbAG4dP2B8SQWMaVGRcqXG/dyiwYEtcV4nGPKh34Wqo92eCl66xlELjMvQVFpYX79WtgHbfKZ2mmiUhhKRVKHDILYmKH43B0eHeb4hguJKg8kS7Wzp9aK+Q60KHgOvcNRpbw5gXQkhahwKHEHJVdFSaTjb4+z9xo5sIISQtQ4FDCLkqu4eZZdlXzZIQQtI6FDiEkCuio6YK5jSz96a1oGdCCEkMfavLNYU7BgYGolKlSliyJJXHrKYgkZGROHDgAHbu3GmnOJ+GDRvi66+/xsWLHrPyOZgiRYogNDQUS5cutVOcT1RUFPbs2eOyqxFd8gJmdjyDnp8HYPwSjzdi3kL4+/ujQYMG+PLLL+0U56PXtN6zV6xYYac4n+joaGzbtg379++3U5xNQEAA6tat61PXdXh4OHLkyIFVq1bh9OnTdmriXJfAiYmJwfHjx+0U55M9u3l5kq8d86lTp3xG4PjqOVaudsz5s5zCO/cuwPp/8uONFV6mqL5FUIGTNWtWnmOH42vHnDFjRpfI8cVzvHv3bixfbk+nfhVU4FzV+C4q37CbeRfVrWjBwcFWjRo1vOY51a71XVQVQmD9O8Z73q1kyf0uqrRofBeV843vorq6MQaHEOKV9XuAPMn4RnVCCElOKHAIIYQQ4jgocAghhBDiOChwCCGEEOI4KHAIIYQQ4jgocAghhBDiOChwCCGEEOI4KHAIIYQQ4jgocAghhBDiOChwCCGEEOI4KHAIIYQQ4jgocAghhBDiOChwCCGEEOI4KHAIIYQQ4jgocAghhBDiOChwCCGEEOI4KHAIIYQQ4jgocAghhBDiOChwCCGEEOI4KHAIIYQQ4jgocAghhBDiOChwCCGEEOI4KHAIIYQQ4jgocAghhBDiOChwCCGEEOI4KHAIIYQQ4jgocAghhBDiOChwCCGEEOI4KHAIIYQQ4jgocAghhBDiOChwCCGEEOI4KHAIIYQQ4jgocAghhBDiOChwCCGEEOI4KHAIIYQQ4jgocAghhBDiOChwCCGEEOI4KHAIIYQQ4jgocAghhBDiOChwCCGEEOI4KHAIIYQQ4jgocAghhBDiOChwCHEI2TMBWTPaK4mQKwuQKf1Few3InRXoXBs49y4wINZOvIVpUB64v5y9Iujns5MsfFDnU3Svbycmgtbd8/cBYx8DprQDPulglneF2QWuwD2lTR2qEULSBhQ4hKQB7i4JZBOBkpBMGYAieYASBYF82exED/KIQPltsGlYD48B/ht7eSMbFQ6s7mvS178uDXfT1WhR6bgrb2F3oFgB10f8fdQs0zp+fvaHBLSMBD7vDMx61qz3bmTsmanAhoNB6NfEpCeGCrzyIcAP22U7a0Tc/AAs/w0Y+bDJz5nZlJncBsib4Fz0bQx0nAK0Gm8nEEJSHQocQlIA9SS4n/DVMqSzM4TYCODtVkDWALP+/YumjIqVXUOBb7oCHz1txEl0KVPGzaTWwM6D0vh2AAKk4VVTAnOaZcXbjIj57mcgXJah3YDxq0NRttA5V/65C8BXG8z33vrelZTqaN381AfoUd+IiwlyjB8+Bcx53tTL2UnAjiF2YZv82Y23ZeAcoPBzwOsPArVul/oS8TdpiR/e2VwVj7wDvHS/2W5Aern5JRBKEUWB4d8BH68EZq+XOtsEpJd92bTX5B8cDXSrJyKmGvC17IsnYxcCT8dI+kY7gRCS6lDgEJLMvPJAnFdBhYhSQYSHoh6DQc2AB0YC/xwzaQePA3Olcc3zDBAk3yv7KnDXa8BnPwHFC5oyyhsPAZdkWXcYcNroFTxZwzTIui0VOZPbmvQB0vD/cQhIJ//xD92xD19szOpK7/MF8HID18c0w8kJpl50XzfsEcG3Gfh0ldTT10CpnsC/J4xX67a89hcEFUA9p5vjqV5CRIwcUyURLEfHAT+8bGFI9TmIrSyCRbbZ7C7gxHjgPbtuFBUyJQKBrfvtBCGLCM4X6gKj5hlhpdwjgknFYIj8dmZbkCqfiChasAWYKGKMEJI2oMAhJBnR+JY+jU2XhzaMKkT2HwF2HDBdUp92BNq9B+w5bMoXzWe6lJ6eAliWSVO0e0ob6G9tD0Gbu4Fn7gEen2jK3VdGGvJXgOZVgDpvAoVzAetEFBXIDgQ/HyeAhrUQoXMkC9bsMf1hc0U8lCtiGvi0gNtD9fGPwDzZN/VObf8bKJjDdBFpvQWK6PtiLXB7kCnbtqYIPamDYd8Z0TGwqUnXz3/+K/U/S87D0sZoPlbyRCSVCTbnQH9L45aU+uWA1TuNR8vN71KPx88ATUUQKZnbAcu2m3N0+nxcnbp5eYbp7qt9h51ACElVKHAISUY0hkZpbXsAyhQG/jsFHD4BDG9pPDWLtpo8bZBndJKGcjqw7z+T5maYlJ24BNgr6RnTA+MeB16fDTSqYOJrejUC+n8lQmeoCB4pv1OW2uhH9gMO2J4h9dRUDgWG/lDCJAgqjg4cNwIiLaDdcUqdsnI8DwHzXzLHp8erdeZGhYeKExV+vRqK2PvApKuAU5Hh7q4r9qJ6VvykLsyt7oiIHCVM0kfMBX5+A3jnCVO/r0l9ulERo+ej3jCgi4jUkt2Bi+ouE15vAoxZANwh5zI4t0lTNH/ot8Cj1ewEQkiqQoFDSDKhQkS9C3cPiHvab18LmLzUNJ5PRJlGVtHA2fekQV76K/DhCpPm5sV6psEd/LVZ14DWJVJucDMRTjWA5z4CovoD3/5sfnOtBhRfACr1MZ4h9c4MaQ40rgTUHwGcvRjfXaOxKCqGUptWVU23VK1BJo7mXhFpbqGitnKHXVA4JKKsQE6pm/ulvn40nh5FRcbaXeZzQuZ2M/V+56umnNa9npvFIjAbSL38tNMuKGwfbH5Pu8GyZwZ2HTL1qHE+Klrf/l5EUn5g2SsmhsqNepgKe4geQkjqQYFDSDLx3H1GsLgb5pKBQMMKwAfLgXplgR9/M3ExKm4mPGGCa7t9asq6qauejFig6Rjg/EUgKBfwggiemiVNvg5tXm036BoA+2MvIDiP6ZbROJwKIdII9wTyZQeiRTgcOQWMabABD5Y74WrsVdyox+PEGbON1EKDfjVe6NhpUy9uNF33MyE6uqlDNPCgiLYh39qJgsYpVQoFVvU2sTbtRFB2rm3Um26r5sD4cTbahaXxPds80txs3AP8e9KU0aHjP8k2df9ajjPnQoOzG44EutY1MTpfiShbKWVuldFohDgdChxCkgGNr+kYA/QVoaFoI/1xB+Clz4zIqFsOqFbCiIuPnjLlm0vD6elJUY/Bl9JoqnfG3c2kXSLHpZF1ezUipDHXgFltYHUIc98vgHW7gVhp+FeK2PmkoxEArScBJ8+abfRfUhK1ws+4AnDPSLqiXT6pSbuaZqnCRb0k2jWlx6THpvupAb+eqLjoMR2oJYJF69ONxshUec0IRw02LiH1q4HKigq8Fb+bz1dD61a3r/E/zURcqujSGJ7OH8Z1VSka0F3tDVNGhZDuf0e7u4wQkvroLfWqFhgYaMXExHjNc6pVqVLFCgsL85rnVGvevLnl7+/vNc+JFhwcbNWoUcNr3s1Y08qwPnzKfM6XDdaCl2ANahqXr2n/jYW1sR+sl+6H5e8Xl+e23FlhSSNvifi5LM/TiuSBlT973Lpuq2JRWOVD4pdzW1RUlBUSEmL5SbmM6b2XSWkLkP2Y0BpWq6qwGlWAdVcYrDxy/JoXmu/y8tdjfn5+VosWLbzmOdVCQ0OtyMhIr3lOtejoaCsoKMhrnhMtICDAio2N9ZrnVAsPD7ciIiK85nkzenAISQZC8wP/HAXq3wks7glM+8l4BNwcOgHk7gjc2Qt48xvvMTD/nTSehKt1H6nnQIeWu9FtrfsjznORGBpgfNZj1FBqojFD7d8z8Uc6B43Gw2j3kKLxL4QQcr1Q4BCSDEz90XQ/PVYdePJdYMJiO4MQQkiKQIFDSDKg86w0fsvEbXiOziGEEJIyUOAQQgghxHFQ4BBCCCHEcejr5ryEN15OYGAgSpcujYULF9opzqdKlSo4ePAgdu70nT6G5s2bY/r06bh0yWMsrIMJDg5GaGgoli1bZqc4n6ioKOzZs8dltzo6MaDOBaST72UWcy0DgIz250zpzbLm3dWwetWPCEhn5hvKIOm61Llx9C3kOqO0Bme78zVdh+n//7P8jv6Wms4d5F7WKQOs320CwnVd33+lEwPqTNS5spj5cvQVEDrBYkqi13TBggWxcuVKO8X5REdHY9u2bdi/38ukRg4kICAADRs2xIwZM+wU5xMeHo4cOXJgzZo1dsqVuS6BExMTg99+85iFy+GUKFHC1dDv2OExharD0WNWQXfxotyZfYAiRYogU6ZMafa61tHjAekvIcDfkkb7EjKmuySN9iVpcC1cuOTnsnMX/XHsbDqcPCct8TWg5/js2bPJKnDS+19C3iznkUcsb+bzyJX5ArJkuCh2SYTIRWSUY1BB4O9nuZYX5S50UY5FSScLP0nPkM5C5vQXpbx+R49bvh9wCVlkmUnWA6Qu9PjPXvDHGTGtB7WzF0ydaLouz1/yR+asOXD4v+PyG7pu6u38RT/Xb1YvegRLd+WW+kvnWnfnu0zKuD9fstRUCMUtC2Y7h39OBPx/Xcvp8ew7lhEn5JxYcgZ1v89cEKWUgoSFhSFdunQ+d78+efIk/vrrLzvF2WTMmBEhISE+d46VdevWucTs1dA7ynUJnJ9++slOcT533XUXDh8+7FMCR4957dq1PiVwgoKCrvu63tLTzBi3cHtWaUT9XA1wtoyXkF0sY3rLJUDSuUyf9mUp/2na8Ok/m/slmq6F/PH8B9QyWt40/qbhPy8N9ln5jTPntSHXpWmEM0g5FQEB8nu5Ml9CVmn8T5z1x9Ez/jh1zl8abGOnz5mGXLeljXCB/Plw9swpnD518v+/pbMpu8WGftbG/5R8T7dzWn73pHzWpa5rupbRY82eyRxznqwXkD/rReTPdgGBOS7IvgGHTqazLT3+laXZH7NNPQ7dF500z5KlqSutDEmXetB03Qf9zdNyvGY/zPKkvR+afy34+/sjIiLCp+5dKnDy5cvnc/frvXv3+pTAufPOO33qHLs9OD/88IPrXF8NvUN43l8ThV1UvgG7qK4N7QbRly3qCx+1C0TfNaXT+B8V088XpPouiEbUpTbW+lmf8hUVB+6m2fXZXtdsLeu2G0HfuJ07K0RsmdmR1bLKvmp3i7uLpUSJkjhw8BD+OXhYzrPZL7fp7+pS32nl3oZ2Aeln11LWdVZh3Vc9Xp1F+KiYzuujI8fU9oml9qsfPPGTCtbr+tNPE7wHw8Gwi8r5sIvq2tB71VWNMxn7hnEmY+ebeyZjb3lONM5k7BvGmYydb5zJmBBCCCE+DwUOIYQQQhwHBQ4hhBBCHAcFDiGEEEIcBwUOIYQQQhwHBQ4hhBBCHAcFDiGEEEIcBwUOIYQQQhwHBQ4hhBBCHAcFDiGEEEIcBwUOIYQQQhwHBQ4hhBBCHAcFDiGEEEIcBwUOIYQQQhwHBQ4hhBBCHAcFDiGEEEIcBwUOIYQQQhwHBQ4hhBBCHAcFDiGEEEIcBwUOIYQQQhwHBQ4hhBBCHAcFDiGEEEIcBwUOIYQQQhwHBQ4hhBBCHAcFDiGEEEIcBwUOIYQQQhwHBQ4hhBBCHAcFDiGEEEIcBwUOIYQQQhwHBQ4hqUS14sCmN4Aa4XYCIYSQJIMCh5BUIJ385335HPD7AWDXQTvxGiiYAyiSx14hhBCSKBQ4hKQC4QWBz34CHnwL2PufnXgN1CsH7BgCfPy0nUAIIcQrFDiEpAJb9wMdP7BXroP3fwDOXRBR9K+dQAghxCsUOITcQuTMDMzZAHSfbicQQgjxCgUOIbcQR08DLcYBlmUnEOKDaAwbIVeDlwkhJNVpHWV/IOQamNwGeLCSvULSBMG57Q9pCAocQkiqok/j41sDL9azEwi5AtGlgHJFgC/X2wkk1WlzNzCkhb2ShqDAIYSkKn5+ZvnJSrMk186WAcC5d+0VH2FIc6Dbp8DFS3aCF0LzmXoplMtYhRCgcqiZe6pdLaBxRaD2HXbhW4jsmYCHI4GRDwOzu5zHx/Vm4I+hwMZ+wNrXzDF/0gGY2QkoXcj+UjKTKwvQqyHQ+3M7IQ1BgUMISVX06U+5nuHyTiNjevvDdXBHYaB4QWD733aCg8iXDRgYa6948FAE8N9JYMEWOyERFvUwyzPnRQzVA4aLIOj/kDTEjYAxj4rIqQl809X8zq1ChxjgFxG094gw27xXjmNBOlf63QOBBiOAZmOAtpPNIIQHKgBT2ruyk53eUqcfy8PJb//YCWkIChxCSKrh7wd0ukeerN+wE24Rute/uudEG9ZlL5uG+v5yQNaMdkYC5nYDjo8HSgXZCV7IKw1xzdvtFUE9El89BzQeZaYMGN7SznAIu4YCLyToslRPnwqUPl/YCTbDWlx+LjQGP7w78K+Ioa6fANGDgHtlm/WGAQFtgPoiCJSAGxCWqUGLKsDj1YHI1+WBQI510lK5Zs6I0DlUAHsOA3/KNbDjAPDBcuCjFeYYK/e1v3yTqAdM67ewlxibkoEmFmrgHDshjUGBQ0gqcrXRIHXkae0jL5P66c1ev3urjyZRd/vOg8CaXXZCMjClrYWRNWa7XPl6o3ZbBvMA7ELrUb0D+nTvzo8pZWfatJR9nf2syevXxE600eH7E1vHdbcpA0TYVCkmjYAIl6Z3AUtF7GTKYGfaVC9hYkoi+gAbReTpE3pCVBh9Kb8bls+sN5Kn81myrk/r3/wMPDNVRGJtIDCnyb/Vef4+IKPUU/anzHp6OU8q/qZ1EKGXVQROY2DrQCOOtSuqcx2glQhET4Z/Z+o/MUoUNB6Hv47YCUmMdiXpNZFUqFhu9178/S2az8KB01IhyczinsYTts+Lh3VTf2Dw10ZsKY+JCJsngl3/R9LCvekWvz0SkrbRfv4sAZc3bIreBE5PNMuVvYBYaWATMq0jUF6e1u8sAnzRxTzZavmzk8x31frKDd+TtNDQaffJI1VNw9ujvtwEm5l9rX+nXUDILPWiT+R9EzyRJyXaOLYQYdJ3VR2U7w0EiTDI38nkuetJRZbum+7vTzuBLh8Cw74F7ilt8rURXdzD5I9dYNKUu20xot1Lem70Kdrb8P2HRgOt5Xz99nf8945pA6hdKSpUft4L/C4Nrj4te6IibIbs75JfgTkb5fcfE3H1kPFELNxqyuiT+9vfAw3Km/VbGT1f6vH69wSwRUSMXuunJgAfiNhpXEnqS4759dlAJRGEl6Sufx0MdJxiZgX3ZNwiKVMUuD0Rr9in8n81b5O9ksSoeDo8Ro6jqZ1wk2idhOQVMSHXiCeaduh0FnsteVgl/zNF5frXayyhB1KFtjJxiflf1rgf/R/p96VJLxtslqkJBQ4hyYA+vejNWfv5j4wDjr1j1rWxdPPjb2aZsa2Z1fitVuZG4UZFQjZ5Erx3CPDfKeCdhebGru5ntTzPmHJr/wBuk5tdgRzA+CeAPcPN021qoe/KWv868J4cVxm5yWmb//dRUycqBNy88gDw/WYpu8dOSAam23V05FwWHJE61HmEtOGZtc4IkkerAc/XBaLkSbTJ28CU5cDkZUDPGbJ/M0XElDQiRGeQ1jiHubK/Wk5F0sodZtsftJfGeJ9peN1ol8IGOa5MUgdu0fOLlHE3uOrp0e/1/8p0Kyj6/RmrzWdFy0xpZ56cixWQ5UizXe3O0+tBg2abSKOvIvLcRaBqcfuLtzDrXpNrV66TPNmk4Vws/wPq9ZI6fF/OidbNYyJEl8v/zalzwBP21ALaXaMis0PEdpMgXJD60HrV+kqINtTa+GrDnNRoN863L5jP7nNZt6yJ/7lR9Prx9v/c64GLyJNJLuhkYmlPoMJtQB25/ywVge3pEdNrT0XiXXK+NNj7k6eB3YflWEV4r5KHBGXjn2aZmlDgEJIM9GxglhojkVUaMhUkf0lDFSE3BkUFSbUScqN9xdzACsmN8eyFuMZQb2gTRKw8Jk+v2sBpP7s2rhpToKgQ0sZbG8ivNsiNJgzYKw1w6xom/8wkacBF6KioUnuzmUlPCVQ4FHrWjKqIkmMcL0/TI+bGCTNFG3p92lMRkVxot0ZFuUEXEZFZIPNxvPagPPEPMsLh0fHy1C/1N+Jh0z2mXpy3RWBq2k65oaugUDE6/yXjgVGB40aDOFUoKU9FS2OcFej8kVlXVJSqeGkr9a5eBjeFRfi5z98+OVcFcwKvzTLrinqPYkrHufb1fMZWNm5/jXP4ZqMRir8Nlv2UxkU9Y+ohzJ/dNNoq1m51dh8CXppmrpNBX5tuJK2nl+6Xa0VEp5vcUufquSz3qllXb1zp/MfMio0KTA3CTsiT8j+i53PLX3aCBxor5c3bei3oPs15HjgguzF3k/GwqedVX6qr5/FGUQGhgk5HK3miL+n9aqco8GTgrUeASBHMT70HLNkm19p0uXcVFTH5pPGwLZd6V6+Z1rGOSNN9e+FTc/9ScdlQxLj7Xpba6G5c1QIDA62YmBiveU61KlWqWGFhYV7znGrNmze3/P39veY50YKDg60aNWp4zbtRExFjbR8MK2fm+OlbBsCShtP1ednLsHa8CUvEx/+tUtG4sit7mzT3uqfJ06orb0TL+OkTWsM68Dasu0vCKi6/kz0TLBFCVrXisP4YGlcuKirKCgkJiffdpDC5+VlF88VPG9wMVoeY+Glq378ISxrky9KTytKni1+3e9/OavVpDKtQrrgyn3aAJaLGEqFlNb8LVmwErDp3mPrV/JEPez8HIXnNMjzQ1Gtw7rg8EW7W5Dawxjwal6ZWpRgsEVeWNIKufdDtSuMXr4za+CfMedTrR4SMlUOuIRFMlogeq0klWGUKwxKBdtn3xj4G6+On49ZDQ0OtyMjIeGVuVdO68jw2NWmArf4Pxa1nsM9306g8/09b1APW0BZxZdRECLrqVcRvvHS3efutazERRdbSnrBEdFm/y/+1nie9LvSzbrNFFe/fu1aThxnrIbk+3et6vX7T1c+KjY2NVy4prHQhs8+jpI490/X/4rl7TV6N8Lh0va77NYlfNrksPDzcioiI8JrnzejBISSJ0W4i7XJyP+Urze4C9h8xfdlyg3AFnxbJK58vmFER+jSpXU2Kzl+hsRhFbVe3J+5uC31yev4TO9FGvRV13jTu5N/ldzTwr6Y84L0rT8M6kiS50YBodVN78v0vxp3tiXpL1EM19Uc7IYlRb8agpsB5eZJ08+lv5V3eEs8gzSYRJo5Bn0Snic1YY/ZXPWnKuIVm+fco80Q77nFgTV95apYnchEermBXnY/Fc3j7z28AraoBr35unui120g9Q+rC1+4VHeKs+6AeCm8ufI3/0TfNa9yDdk0ek2vohJxHfYr/fC2weZ/ctfXW7UGt24G2NeN7mZyAelK0a0c9CAmDiPX6GeAxckfPdde5FfBR639d/18aUK4B3Bqb5ImONvtC6lFfduuNS1LPnsHn14L+T05tb/4nt8r/8brdwMmzcp08L/v/pZxvuT5ebWi8rDcaeDx6gdmG1oneH/Tae2Fa8gwB03uSdpc+6+GVVPT/YuQ8c+0ui+sNdF3HOqpwVhc5T1WBlxvI/so1r7FDqQ0FDiFJiDbyx6VRmi8NpRsVHnqjflJuvIrG0nz7s7lRZHtKhM9RuSEfNHnKhn7G5e5thEebGqYB1+GiCdGRGxpoqgJCGzztXunTyAS4auOY3ASJKBuQINbg7HkzxNmNCoM3pExnaciTi//GilCoY7rJtI41ZuaJUmtcN2AdKaXziSgaz1SvnDRGE4zo1Ebx0Oi47rxf/xaR0lHqfLIJ8tVzpnV5Zy8jPLSbS0WRG884Ce3m0ngSrX8VfeXkO6vsmJ0roY1IrUFmv3cdshOvgl4rNQYA8zbbCQ5BuzG1u09jnzy7+pROcv2oiPDkl4O5cNurQcjXSQRiN1OHCQW3xmGp+EyM90QkanzW9TBCRJOe++c+Nl3QBXMAC3sAQ74x22s6RkRroHnwCctvf8mDcsFGOHvG5yVERZ5OhKmxfHp/0GHZOw56XHBJiD4cvWEHCl8LOv9O+/fMOdIHt4uyXLDVdFWlBVyunKsZu6h8w9hFdXP24VOwWkbGrd9R2LhwI4vFpamL9za7m0Ptkw6wWkfFres2PLurPO2l+003iLc8dYmrC1m7KwbGwoop5b1ccnVRqdtfj1WPr3FF0z2lXW2eXVHq9h7UNP73ktq0m0lE5f/X/fz8rBfb3mcdGWvqpqKXutXuRO3S066thHm3ojmpi+paLTo62goKCvKady2m3Vx/Doclgtxrvjd7Vv7ffnzVdAXreomCsDrVjt9teSXLlcV0R95Xxnt+Qssiv+O+RgMCAm6oiypPVu/pt4Kxi4qQVKSYPKFpIKhOCa9DenXeFHX1ukfcqJdDUfetDhnW7qbcWcyTnht1x7u7qxLypjwVbkvEva5dJepC1u4xHQXkHkacUqjbX4M+9UlTAw91PpNRsj/uriidnE6DOD1HGyUH2s2k3QSe/HkiN3J1NHWzzkvdaneidumlladOkvLoKxwWbwMOn7ATroKOjuoYAzQaBZw+Z9I0KHr0/PjdlldCg9x1tJcOILgWNNj4Zq/Rv98yXmVfgAKHkCRkzAIzDFn7yFWIVOgNfOcx34bG4Sib3gC61gVW/A40GGnSnIB2sTw+EXhikuki8Hy/lE6X3/0zc5MmJC2hsSOdawNdEsSdJEZkMTNSTrtnDh63E68T7S7V4eo6Wiyl0GkFlLQwhDsloMAhJAn5cIWJj7lvKPDW93EzfHqiDX8WuTk+KE9S7yzyDa9BVLiJp0iJWCBCrhdt8HXiRg0Cvxoa6KuzUk9bdeNCQaeJ0IBnjeNKqf9/DU7WuWvuH37lF5U6CQocQkiyo3O2aNAlIWkRnSX4Wj0xKm50EsKbCZR/7l4zg3dio7mSGg1u1u5ynZfLcwCE06HAIYQkKzp1fajcYD1n6SXkVkQnXNRXp3SbZifcIDrFg2fcXXKiU1Qs7G4m69N3l/kSFDiEkGRFh53q25wTDvUl5FZCX0GiQ8I1rs4dVJzW0cD+rveZ1y3M9JjSwFegwCGEJCs6MZ1OX0/IrYq+Y2qHiIS+s8w7xW4V9D1vkf3M6C5fhAKHEEIISYT7ygAreolY2O282aKdjk6FeE2O48DAQJQtWxaLFi2yU5xPZGQkDhw4gJ077dej+gDNmjXDzJkzcfGib0wIUqRIEYSGhmLp0qV2ivOJiorCnj17XOYL+Pv7IzY2Fp999pmd4nz0mtZ79ooVK+wU5xMdHY1t27Zh//6ki9yd8MRFhOW30GdWOiz/LXlmDr5RAgIC0LBhQ8yY4fEWUocTHh6OHDlyYPXq1dfURl2XwImJicGFC/aLWnyA9OnNuz587ZgvXbrkMl/AV8+x4ivH7Ofnh3Tp0vEcOxxfO2ZfPscqYq/V2eKa0vhqxlc1+IbxVQ3Ot+R6VUNaNX1VQ4sWLbzmpTUrGWhedbF1oPf8azW+qsH5dqOvariVja9qIISQWxR9wae+ONPby1QJIdcHBQ4hhKQh9K3j+m4sQsjNQYFDCCGEEMdBgUMIIYQQx0GBQwhJUe4sApx717yAkyQ9Onvt1Ef3I3MG35jqgZDEoMAhhKQof/5rlk6YiaBYAfuDB3mzAWUKA5VDgQixB8oDIXntzCuQ0YyAvSodYoCat9srCdD0VX2A8ctz4vT5dHYqIb4JBQ4hKcgz9wCHRgPvPgl0lM/Bue0MH8HPD/igPTBpCfDj73ZiMhCaD9j0hvEUnZ1kYXz0DGzsB/wyAKhewi5koy8D/fApoGllIE9WOzEBGUQrBOa0V2z85Vi2DjQeKU/uLQMMbApMkeP88VVgZmcpJ7+r++JN6OgLHDVv51A7QcgcAJQKslc8UBE06hGgSpid4IEKqQ/aAS98AvywM4udSojvQoFDSBIQUwqY3AboUge4p7Rp/LyxcQ/w7wlg3magtDRg2qjpE/n1kCOz+Z2dQ4BpHYHpzwCfdgDa1bILpAIqEvJnt1euwHcvGAHwzFQ7IZnYfVga/JHAJyvN+lOLYlFTxEjmDMCiHiYtQMSCChsVPQ0rAHXLAa1rmDxFz2HjisCsLsDJCcCe4UaIuJn3ollu/NMs3ehvthoPFC8AfLRCfkeui6zyO8O+BRa8ZBeyqSe/qedw4Byg8HN2olDnDqB7fXvFg+Oy3dnrgDe/sRNsVLSpkDpxBnh7vp1IiI9DgUPITaKN3nttpYEsa7on9O2986UhyyJP4Ql5prZpzKb9BHT6EAh61jyRD29pF/BC70bGg+BGPUBDWwCb9wFzNgATFhvRU724yS+aD3i8uvEWlS5k0pKLcsGm0VaRsE8ERWQxO8MLbWsCeaR+ckuDri/gTE70zeV7/wPKyP6p0FHUe/T7P8AQEQcFc4gYELFw8ZI5BzmeBtrIeRz2nSmrx6VdPe1knycvA7KJQCnfS4TSeyb/LTlnd5c030uI/o4Kp/GLRDBNshOFL+Vc3Sbnxk1nuRZGPwpU7A30+cJOtAmQ8336vL1i83S0Wbb2EFlKk0rm93T+nB0HjUeIEEKBQ8hNUTLQXvYACskTuDZU9UfI0756EMqbPDfq5SmaF3h/uZ0gXLDjQGtIY+mNlpHAqw3NtJxuGo8yXoGG0nBP/dF0c2nD+ZL9qqXHRNxMfBIY8TCwoZ8JOk0Omt0ljbYcs3oMdH+0a2Tpy3ZmAlweifuBRrLPJ8/aicnM/BeBsiJUTp+TOrl9javLat4vIk6+N16cQSI0H58IHD5hf8HmhbrGG9LXPpdfrhcRewHY8pcI2R+MoKhWQsTaM8CZBCJEUUGq5TuLgPVE92W4LaAayLUxTERtk7eMUE3ISdnnbBntFUHF1ItSf0VfMF4aN73k2ni9CXDfUDN/Tv+vzPUS/4ohxDehwCHkJtjU3ywTBoiekgZKvQhu0ssTuQqO50UElC1sGtGlPYH9IlYGfw1Uec0u6IF6bfo2FuEyLU4IKd/8bH8QdDvP3QfUlQbuwDGTpg2yot6d5mONJyKp0UZeG9aYwcCsdSbtu01xAcSeaCzJJBFcTccAfx2xE5ORlb3FegF3irBT8aIi4J9T2XGnpA39VvZRREvxgrI/ItBerCdCo4XUaVdgrZyDVlXNsVWWz19vtDfogXrKPu1ovD2eQkNRj52Km9ZRl3tZsopY6VHfeIN09NjbrWT/Xr28e8vNJklvXsV8Vo/clHYidsfF1V8hEbXqOXy0mjnPE1vL+XjQiJxjp4GqRRPsHCE+CAUOITeIO0A4Y9v4M8/mymKe0BdvsxMEjZlZvxtYJ7ZGGk8NQo0sDpyVJ/39R+OLITffytN6aH5g5Dw7IQHdpHFuEWlEhltYaPfIBGnsmrxt7Iu1wJFTQPZMJj8p0AZXxdoDIhR2HrQThd8PAPcNsVdsNGhXvSFdPgQ2pNDLyyveJlbUdFFV6wfcO9QPc/eUdIkdjRVyoyOgNA5n637TbRg9yHjMXplp6iwh6kVZJeJJvTPehEkl+U0974NEsKrI8ETrS2NnsooIWthdzpuIFf3dxNB9V8/TQTmH2t3ZS/bpp53mnKuw2fGmKbf8dxFvImy7inDubXdzbf0LeL/V32aFEB+GAoeQG6RhRWCfNESe8STqydFRQu8ulcbpuElTIfTcvcDLM0zjqN05bqvUB+hgx1Z4ot0Z2gAHdrETEqBehkeqGkHh2cVSTUTTqbPmqV5JJ//hKrgSxnPcDP1jgQEiCH77x06wSS+/pSLHjXqtNIB2ynJp3G2vUnKjsUzawNcWAfC11MHiniIuWloIznYkXuC3dk9pF5N26cxYbQSLihINCtbgYRURGtfy2oPAyfGS9w7wZjMjZMcssDeSgP1HgPIhIi5+sBOEoFymDgpkB7pPN960EXONp+VqVJSyOeXcqWD6UPZL0WBoRT1Rev1ojI9ub+0fJl3RGKPjZzwOlhAfhQKHkBskMEdct5CisS7LXpGna2n4X5tlJwr15an+jS+9d8+oOLrgZT4YFRE9pUH896Sd4EG+bKab5BFpdBPmV7gtbvi1ihvttvhYGkfPLq6bRYdTf77GXhHUKzJA9leP3RMNxFUBqF1wKcXmvUDVfsDSX4EeUn936PkQ0fVEqTXYO0LEyaOmq6dHAxE1Uk49JLpUz43y8UoTdDxAhI96nLR+VQTVGwZESjmNmVEB4Q0Vdz+LUNKAaxVI2q20W76nXWXaPafnWuutux0rdTV0v1XE6JB6ZaDUsQZxq3fpnUUmzRu7DqnHzkL2jKKmCfFx9PnzqhYYGGjFxMR4zXOqValSxQoLC/Oa51Rr3ry55e/v7zXPiRYcHGzVqFHDa97VrGJRWHuGw5rbDdbm/rDWvw7roQjvZdWCc8Ma0TJu3c8PljSE1pKe8cupvXT/5Wlue/Ze870a4Zfn3R4Ea8cQWBv6wfprJKyPnoaVM3P8MlFRUVZISEi8tOsx/W23/TEU1k99YPVrAit7prgyHe+B9cMrsDKmj//d1DA/Pz+rRYsWXvOSw0LzmfN8T+nL6/5m7MkasI69Y64bb/luq3ibOTeNalfwmu9Ui46OtoKCgrzmOdECAgKs2NhYr3lOtfDwcCsiIsJrXiLmNfEyo8DxDaPAuT4rLKLlrjDTqHnL9zS3oFE7MtYIohmdYGXzEAbXag9HJt54+svvFJX9yRLgPf9mBY7abXlhVRKBlyvL5XnasG8fDKtgjsvzUsNSWuCkttW8Hdbnz2e1IiMjveY71ShwnG/XK3DYRUXITaBdMBr8qd0CV0O7KPJ3MgG3y7YDj44HYkdfPhrnWtCuFM/AZk80YPkP2R8dyZVc6ER6GveRMBhX55fREVPNx5jgV5LyLNkGvDDLyzskCPExKHAISUFUlGj8hE4+523+k1sdnX9HR32tT6ERU4QQkhgUOISQJOGpaPtdSYkMayeEkJSEAocQctOEBwI96wNPJpjgjhBCUgsKHELITaOzAetrKjQmiVw750QQ5sxsrxBCkhQKHELITVE5FAjJC3zwo51ArosTKfRuLkJ8DQocQshNoa+JaDXejBIj14dO5KdvNCeEJD0UOISQm+Lvo8CmvfYKIYSkEShwCCGEEOI4KHAIIYQQ4jgocAghhBDiOChwCCGpSvECZri0vpWcEEKSCgocQkiq0iTCLKc+ZZaEEJIUUOAQQlKVod+al4M+8o6dQG6KFa8Cv766y14jxHehwCGEpCpP1gA27wV2HLATfJS7woDMAfaKUCSP3KD97JUE1LodyOJR1k3urEClUGD+r1nsFEJ8FwocQkiqUSgX0KsR8NI0O+EWJZfoifTp7BVBhUl0KeC5e4GeDYDn7wNmP2ve2ZUYP7wCtK9lrwjTnwHC8tsrHtS+A5jYGsiUwU7wYO8IYP8R4JnpDGgihAKHkFuM7JmAqHCgpjzFe0MbvtgI4KvnTPCuWlokID3wmTTiA+cAvyeD90aFgB77kOYWWpdajcU9gC0DjPBISOlCpr5OTQA+fMrsmyfp5E6ZTerdGypulr0MVCpqJwhF8wGdaxuPSr2yZl1/V0XOmEftQh7kkXLKzNVmqRQrAOw+bK/Y3B4ETBJx02wM8O9JO1FQQfVuGyCDiKw3v7ETCfFxKHAISUHayRO6ei2uB33PkzbUvRoC77UFDkvj1v1+4PsXTbo2om6evRf4YyjQvAowYTHw6kzgrtfszBRAxVfDCkDbmsBT0aaRH9HSzkzA8XeAssHAO4vshCRGRYWiXT3bj+TDS58BJ88ZseImR2YjODb0kzJ/Ay98aurt3AWTX7U4sGc4cHqiCAqpd61v9ax4MqWdCLWfgFU77ARh50Ggydum6y1TAPD8x/JbTwPle5lrQN/f5cmAprIf84G99stK82cHjpwCzl8064qe55mdZVufAOv32IlCwRzALBFO2TICU38ESokIIoRQ4BCSYugT+SsNgGNngG71TMOo5M2WuHfgziLA728C3/5sns614RvwFfDASPMeo9U7gY4xdmFB4zL0lVALtgBzNpqn+Q0ejWFyM1zEzIxOQPUSQKgIjMphwDMicjy7bxQVPioI8kuDnRw0EpGlglB5sBKw8u/b0KUOsPYPYP4vJv2+MsCh0cDR00CuDkbcjFsILP0V8PMDXpZzNVnquN1kESkiLLW+s7YHHvYIhm52lxEW/b60EzzQfRgt4knf03XJfk/XWRFOU34AAnOadWXsYyYOqcd0O0HImB44JWLMjYqyabKPH4mA+WKtnSi0jJR67A0s2gq0GGe6+uqXl2O7/YRdghDfhQKHkBRioDylD/kWOCECZ0BsnPDQuAv1DqjQ8US7PjQuQ8VNo1HA+MUmhmPfEbuAoALGc/4Y7e6pOVAauLLAwu7xvTspQddPgEGyD9G3A3M3A49NMMLggocnIqYUXGKjqXpEbE9JUlMyyPy20vEDESsRC1ziotNUk6ZejukixHQE1yszjSdHu6ncfC7Cq2JRIPJ1cxxugaIeFbdXRb1VbzwEdJDtJ0QFjG6/v4hR9Qx58nhUnODT33ikqtTJYCN+3Gj+BY+XcKpo/OeYXDdSt3oN/Dkc2DpABI0I5VHzzP4NaQ5MehIonBt4K/YgCuUQ5UaID0OBQ0gKcG8Z48HR7hgdLXNc2p4Rc02eihJFvR9uNAZkVhdgsAgYFTeK5k9eCkwUoeOmlDTKuw7ZKzbaoD74FjBngzzZ9wCCpcFLKY6LeOv9BdBwpGlstQvKE60D9Yo0H2ca7ORizAIT76IBtxrou3BvcbR51wgtrds5z5tYJfWkHXwbWNITGPmwERb9RbTUv1P2cazx7iTGi/LdqcsvFzCKdmsN/lqExvd2go2Kk91yvtQLE5TLeGW0K+uH7XYBm5wiuNx1p92Ouj/t3jPr+rsFRUAVE2GbQY6ldGERxyJkt+0HRs+X3xBhO3JxLnSputt8gRAfRp9NrmqBgYFWTEyM1zynWpUqVaywsDCveU615s2bW/7+/l7znGjBwcFWjRo1vObdiMlTtLVlQPw0aVCtXyStegmzLo2p1fGe+GU614Y1IDZu/d02sMY/EbcuAsn64RVYfn5xafpZt1u6UFxaQnu0GqxfB8n/b864tKioKCskJCReuZs1Pe4sAfHTmlSC9e0Lcet5ssI69y6sFlXil0tK023rb7hNj9/fX9JbtPh/mQdlv77uCuvwaFgxpWBlSBd/G/q9ed3ip7lNz+Ftec3nuVKmfEj8/HLBsHo3MtvwTFfT39H0x6vDypsN1sZ+sNrWvLyc2/4aGXcchXJ5L5OYhYUWtTYNzuI6Pm/5TrTo6GgrKCjIa54TLSAgwIqNjfWa51QLDw+3IiIivOZ5M3pwCElCHqsOFE8wQndNXyB3FmD5b2aeEw1cnb3OzrTZ95+Z20TR7pti+eO6UxT1OGzaK/+x+m9r06cRsF4e0rf8ZScIGrvhiQadqhfBHe+TXIiwwEWPLhVllhyjZ7ePCDask/39dJWdkAys3gW8OA04aHuHNJ7GsuJPJqMekPMXgLydgIVb4wfyKvWGybkoZQKK+zUxXT/TOgJrXwOGtTRdU8oTky6Pb9JYGe1yCutmJ9hoILCOzvpLzvOU5SbQXLuWJi2xC3ghepCZG0g9Mn95dEteC3qZ3JbrDL5LsB+E+BIUOIQkIZ+sBH7+014RdFhvYWnMqvYz600qAdNXG0HjycmzQESoET/aJaHdI54Nr870+9ose0WoW9YEzz49xU4QNK5k51DTkOo2dCi5Bi/P22yGKOtorORCu0w0jkiHZms3j3axPBwJHDhu8rvWNWnV7HpILlQQ6HDtVhNMPNBvb2pAs4WqgX/gntKmS0oF4f13mu4yb2iAto546vwhsP+oGQk1diHw0NsmJmfzPlNOu78SoqObNJ5Hz4MKW+32+rSDCDv53orfgaK24FCxOnmZ+ZwYv/4t57SnOffXS0A6C5nSX8Kug3YCIT4IBQ4hSYg2huo1UDTW4/22QCdpKN3zmTxe3YyiSch8aVT//Nd4Ch6feHl8ig55PiEiSOc7aXs3MO5xoIWIIA1YdrN1vwiqHmbIsoqJrvcBG6Rh/WWAyd+TYE6VpEQDiV/8DPimq4i18cDB0SIm7heRMw6oeJvUwT3AIx6jiZITDS7WUUUaj1LuVROs3aHsSlfsj3pfen8OTFgk9TUQOCz7qekaxFtHxJmbM+eB8VJm7ALjcVmy7dqFRtCzQIXeRqCox009VqEibEbOswukAOcu+uPuiZEoKdcDIb6Mq6/qasYYHN8wxuDcnD0VDevNZuazxk5ovI07r2JRWOtfjx9H42llg2HdWcR7njsWY9dQWF90iYsDuRFLjhicxCxTBhOTVP9O7/kpYX5+fvFicOLSYZUpbOJwNMZJhNBlZW5VCw0NtSIjI73mOdUYg+N8YwwOIanIvydM18fgZqYLQ0cTucmU3gxZ9oyj8US7LTZ6dG95oh6S4i8BlfuaEVIJZ7hNq3z5rIlJ+nqjnZCG0POg3U0ah6PdeDqxHiHEOVDgEJKEaEP5QAUzcVv53vGHGf/4u4nDuFG0i+nQLTR/m87HovPRFBKRQwghKQ0FDiFJiAoa9bboDL3/ebwryBfReCMdxXUriTJCiHOgwCGEJAutqgEfLLdXCCEkhaHAIYQkOTpjr756wNssv4QQkhJQ4BBCkhwdvj7sW3uFEEJSAQocQkiSozPvfrjCXiGEkFSAAocQQgghjoMChxBCCCGOgwKHEELSIHmzASUSvLiVEHLtUOAQQkga5K+Rce8RI4RcPxQ4hBCSBsnd0Rgh5MagwCGEkDTIqXPAybP2CiHkuqHAIYSkKh1igODc9koys7gHcO5de8WH8PcD6pWzVwjxEShwCCGpRnQpoHNt4N9kfm9Xtgxn8UQUUK2EWZ/VxQide0qb9eQkpcSbm4I57A8ehOUHZvOlp8THoMAhhKQKBaQhnvAE0Gay6Y5JLjrXtjC21hdoUB74cr1JGzEPGL8IGPUIUKmoSfPkzWbAnOeB1iKKEqNYAaBcsL2SCAHpgZ1DjZDLkRl4uQHwditgVW8jsE6Mv3IgcXURZI9Ws1euQu6swPRn5NgethNs0sldfstAyfvJTiDER/ATs8zHKxMYGIiYmBhs2rTJTnE+ZcuWxcmTJ7Fz5047xfnoMW/ZsgUXL160U5xNkSJFkCtXrlS5rluWP4Rlu7Jj79GMiAg+gT/+y4hDJzPYud7JkO4SiuQ8h53/ZrJTrk6m9JcwpMFuVCt6Ak2mhCNHcASOHj2KPXv22CVSnnR+Ft55aCcW78yBj9blt1OTnoLZzuGtxrsx4pf6WLl+O9rcdQBPV/0HlUeVdeX3qfMnVu7Jjrm/5nKt58p0Af3q/umqq57fFMG6fVkvOyf5spzH3Pbb7DVg2JIgfLw+n70WR/6s5/Fdu204fsYftd65A9kCLuLBMv/i5Dl/tI88gImrCmC3nPMB9f7EtgOZ0GV2qP1Ng+775OY70e2rEGw9kMVO9U5wzrMY22QX5mzNjUmy3duKhiFbtmzYvmUjBtXfg7vDjmPX4Yx4bX5hbNovSsiB6L3r0KFD2L9/v53ibAICAlCyZEmfapPDw8ORMWNGrFy58pra5ev24FiW5TPmxlueU83XjlctNY45e8B5dKu1H+WCTrrWO1b7G0HZz8UrkzPTefkHvRS3nvE8Vnb+BdMf+w2Vixx3pQVlP4vX7v0T37ffgvlizcod+n95taohx7C80y/In+08pq7NiwPH06XK8Sa052rsxwERDh+uzec1P6ns7+MZ0OKjEjh5IaMc9CXULnEUbT8LdeXly3IO1Ysex4o/srrWKxQ6gQVPb8XavVlRccQdInpy4uCJ9PG2V6nwcUx9+HdMWJkfkW+Vxn0TSuKOwFMiZuKfu0ipdxU3Wuc1x5V2pR0/648P5HhD85zFtI15MOPnPFj9Z1YMXBiEu0JOxPt+Bv+LLlE6fkUBbPknc7y8VhUPIDjHmf+vF8pxFuNE3IxaFugqf/GS6xQjJNt/+KDl79h3NAMqyfEMkN95XwRTy/IH423PKebGW54TzY23PCfb9aLfuKoFBgZaMTExXvOcalWqVLHCwsK85jnVmjdvbvn7+3vNc6IFBwdbNWrU8JqXXJY5ANaOIbDeeMis55T2a8sAWH5+8cvNfhZWZLG49TnPw3q5Aay53WA1rgBrQmtY2wfDGvsYrL6NYb3dCta5d2E9e68p37k2rP2jYEWFx21DLSoqygoJCYmXlpLWogqsta+ZevCWn9Tm5+dntWjRwlU/Xz1n0rTOV/WG1fEesz68JawzE2G980Tc9zKKtknnH7d+d0lYfwyFVbFoXJo3KxVk6r2nnKuEeXoufn4DVoZ0cWmBOc359yw3XvZDz6tnmlqxArB2yT64667ibeacN78rroxue9hjuay9owKsBuXj0tXa1zLlPdOcYtHR0VZQUJDXPCdaQECAFRsb6zXPqRYeHm5FRER4zfNmjMEhJIX58hYq9zAAAAdwSURBVFmgSB7g1ZlmvWtd4IPl8t+o/5IeSCOMs+fN57Y1AWlwMWAOMH01ULYIXEGzpV8GOn4A9J0FdP4QGDMfOG3Hs2zaaz53ve/qsSI3isZ33FfGxJZ8/LSJK9F4k8QoK/sxqCnQbEzcfqYE+TKdwFPRwBtfAo9UBVb0kv1dCYxdYPI71Qb85VierAEs7QlsHQjsGQ7UNT1ZrviZKe2AWNnvdX+YtIRoDMwdhYF5L8r2pgID5Vx5kiUAmNgaePYj4LxHD3B6+V2310VpWMHEBWm5hOh+zdkQV3cfSZ1rXNE0O75GR0qtfx0IyXMebb4o6yrryYTFwN5/TWwQIU6HAoeQJMbPTwTJ3fZKAvo/BFyQxixLe7OeLxvQRspOXmbWPdGp+g+fBArlAno3Atq9Z9KnihiqfQfQb7ZsK0Go1F1hwAY7tGbxNiC8B/DFWmBmZ7ga+KRERcHpicAzstQg4fHSeGrDO7ebXcDmXhFAOkxZj+fTjkaQ7ThgZyYj+nsq7O4pbeHFikvw/Wbz+7GVgZbjgFHzTLmxjwHHTgMluwNVXjP7V/tNoGAX4OuNpkyXOsC3PwNrdpn1hGRIB4yT7Wi5gjmlvtfYGR7ouV/yK7Boq51gE5IX2H/EfNZ9HvmwCK1J8UWQG50XZ8Rc81kFpQY6x44GguQamSbH9noToL1cJy/NLoCjZ+LHDuk50GtAhZhed4Q4HQocQpKY0oWk0XzcNGieqJC5r6zxXriFSff6Im6WAgeOmXU36q0JlIZy33/Ae22BId8AfxwyebuHifA5IQLnS7PuRkXV2QvATx6xd/o7U38EqvcHHq9uRgclBUfGSmNZC4joAzQcKY2yiIUlIqhqDgTqDzdlMgeYOtBGN480ql8/D0xaAnwjQiEl2D9KBIkIlm+6igDIehx1RGjtljpUL8b2f+xCwt0ljbdkl+StF3G4eZ+pd0863SNiqYi94oF6sJpUAtbJ7+h3VLj1+cLO9ECFywMVRHhMsxM8aBkJzPvFfFaBpPv3816znpCsGUWEFTMCpZFs757BwMPyfb0mcmWR62uI8TbdX/oEmpX9C0OaG6/arqGmPnQEVybRPQmchYQ4EgocQpKYX6SBvFcaGu1GclPrduDlB4DG0sgcP2PSCuc23oSh35l1T9RDk1MaLH2aP3paGqb5doaQRxq3Ud/bK4LOs6JeiM7SOD46wU5MgAqoGGkMK4eJILn95keZZJGGVrtgEjbE6j36TcRDDxFum94wDfL9InjU2zB/S5z3ISXIJMLw4xWmC6fvqtouj9f63aZrb7MIvhmdgNB8QHig8ZJdCT0G9Y593hkY/wTw1iNGOKgH64kaxiP0wqfAV/JbcxMMatEuPB26XU9EiHqKtE6qFgeayrnXbVS4La6r7HXZx0Ffm8/e6DHddJX9JdeResyWbQfel3WlwxSgaH7TBRcVdho5M15wnYvunwEPvgWEiNC77QUjytweI0KcTrygnMSMQca+YQwyThqTp2hrz3DzOSiXCQyNCI1fZmYnWB1i4qe5TYNeNRh0XjdY8sQdL+/YOyZv2cuwNvYzga8v1IWVxSNoVwSGdX+5+N9TK5IH1l9vB1glwoIvy7secwe3qi3paQKfF/WAtXsYrOWvmKDn/Nlh+fvBEiHhNWA2OU2DiKe2h/WBmAYKa5CxZ35AeliPVoNVpjAsEZPW1oGwfhkAa3IbU3cfPgVLhFC87+h5qCznUOv14UhYdeR7ebLGL+PN9Pd7NYyrr0OjzVKEiisQWfO9fS8xm/8SrE61vee5LTQ01IqMjLwsXa85EWeXpTvBGGTsfLveIGMxr4mXGQWObxgFTtKZNmK5ssAa8yis7tJoeuZpA7lAGirPNE9zN4YJxY3bVMyUDYZVNJ/3/PIhZhSWjrJScTXucVhNK8OKjTDbvb9KoNfvXa/lzQarZKDZF12qoHHn6aiwSU/C+vjpy0eIJbet7mtGqen+uEdReSvnNh0x1a8JrI9kX7vVg9WkUsqN8koO8yZwWlU15/72oPhlnWIUOM43jqIiJI2gAaGPVQcaVQTGLbQTBR0h0z8WaDvZTvBCrg4mEPmMPYoqIRrUq6Ok3HE5CdGuokajTEzMRyuAbBlNoPLHst39xzNix6GkGUajsUC//m32RZeX9LYiaAyRBr3qSLDHJ8qdxk5PKSr3NaPU3PtzNTR2qdfnwCPvAEO/BT5fm7KjvFICvZZK9QS2+cY8eIQwBoeQ5OKeN4En7wZenmFiL9zoKJbmY01Qa2KogEk4QupG0FgLbeg1Nqfsq0BAG2nEZ1TG6fPJ+6+vrzk4eMwcp7fRQCTlmbEmZUavEZJWoMAhJJnQ+VLK9zJz3Hgy/5f4I52ciM7L88zUa/egEEJIUkOBQwhJcpb/Zn8ghJBUggKHEEIIIY6DAocQQgghjoMChxBCCCGOgwKHEEIIIY6DAocQQgghjoMChxBCCCGOgwKHEEIIIY6DAocQQgghjoMChxBCCCGOgwKHEEIIIY6DAocQQgghjoMChxBCCCGOgwKHEEIIIQ4D+B94qlAI7kXlYwAAAABJRU5ErkJggg==)"
      ]
    },
    {
      "cell_type": "code",
      "execution_count": null,
      "metadata": {
        "id": "ySS-EgDvr-J9"
      },
      "outputs": [],
      "source": [
        "df = read_csv('/content/drive/MyDrive/Trabalho/Cancer/Datasets/colorretal_first_pp.csv')\n",
        "df.head(2)"
      ]
    },
    {
      "cell_type": "code",
      "execution_count": null,
      "metadata": {
        "id": "QoNiMe5uaenA"
      },
      "outputs": [],
      "source": [
        "# NULL! to NaN\n",
        "df.loc[df.DTRECIDIVA == '#NULL!', 'DTRECIDIVA'] = np.nan\n",
        "df.loc[df.DTTRAT == '#NULL!', 'DTTRAT'] = np.nan\n",
        "df.loc[df.DTULTINFO == '#NULL!', 'DTULTINFO'] = np.nan"
      ]
    },
    {
      "cell_type": "code",
      "execution_count": null,
      "metadata": {
        "id": "GR3rbzqpyF9P"
      },
      "outputs": [],
      "source": [
        "# Dates - DTCONSULT, DTDIAG, DTTRAT, DTULTINFO, DTRECIDIVA\n",
        "lista_datas = ['DTCONSULT', 'DTDIAG', 'DTTRAT', 'DTULTINFO', 'DTRECIDIVA']\n",
        "df[lista_datas].isna().sum()"
      ]
    },
    {
      "cell_type": "code",
      "execution_count": null,
      "metadata": {
        "id": "dK7QPG5u7Lct"
      },
      "outputs": [],
      "source": [
        "df[lista_datas].head(10)"
      ]
    },
    {
      "cell_type": "markdown",
      "metadata": {
        "id": "WP4zex4i3cw8"
      },
      "source": [
        "## **Date difference columns**"
      ]
    },
    {
      "cell_type": "markdown",
      "metadata": {
        "id": "xttJFFswngf7"
      },
      "source": [
        "The differences between the dates of consultation, diagnosis and treatment will be calculated, and then the difference between the date of recurrence and last information and the first three.\n",
        "\n",
        "This process will be performed by the function `get_dates_diff`, which drops the empty rows of the `DTTRAT` and `DTULTINFO` columns, converts the date columns to the datetime format and then calculates the difference between the dates in days. \n",
        "\n",
        "The idea is presented below."
      ]
    },
    {
      "cell_type": "markdown",
      "metadata": {
        "id": "7ZdR-4v6rlaW"
      },
      "source": [
        "\n",
        "> See the full function in the [functions section](https://cancer-project.readthedocs.io/en/latest/Cancer%20Libraries%20and%20functions.html#General)."
      ]
    },
    {
      "cell_type": "markdown",
      "metadata": {
        "id": "ZfMJlxUCsMni"
      },
      "source": [
        "**Date columns**\n",
        "\n",
        "* Consultation - $t_1$\n",
        "\n",
        "* Diagnosis - $t_2$\n",
        "\n",
        "* Treatment - $t_3$\n",
        "\n",
        "* Recurrence - $t_4$\n",
        "\n",
        "* Last information - $t_5$\n",
        "\n",
        "---\n",
        "\n",
        "**Difference, in days, between dates:**\n",
        "\n",
        "$$CONSDIAG = t_2 - t_1$$\n",
        "\n",
        "$$DIAGTRAT = t_3 - t_2$$\n",
        "\n",
        "$$TRATCONS = t_3 - t_1$$\n",
        "\n",
        "**Last information:**\n",
        "\n",
        "$$ULTICONS = t_5 - t_1$$\n",
        "\n",
        "$$ULTIDIAG = t_5 - t_2$$\n",
        "\n",
        "$$ULTITRAT = t_5 - t_3$$"
      ]
    },
    {
      "cell_type": "code",
      "execution_count": null,
      "metadata": {
        "id": "HukacGEz9ppK"
      },
      "outputs": [],
      "source": [
        "dates = ['CONSDIAG', 'DIAGTRAT', 'TRATCONS', 'ULTICONS', 'ULTIDIAG', 'ULTITRAT']"
      ]
    },
    {
      "cell_type": "markdown",
      "metadata": {
        "id": "Bv6p8rMcpdz0"
      },
      "source": [
        "New columns with the dates difference"
      ]
    },
    {
      "cell_type": "code",
      "execution_count": null,
      "metadata": {
        "id": "vGuAaM84xhlX"
      },
      "outputs": [],
      "source": [
        "df = get_dates_diff(df, lista_datas)\n",
        "print(df.shape)\n",
        "df[dates].head(3)"
      ]
    },
    {
      "cell_type": "code",
      "execution_count": null,
      "metadata": {
        "id": "oFixNYIoY-zX"
      },
      "outputs": [],
      "source": [
        "df.head(3)"
      ]
    },
    {
      "cell_type": "markdown",
      "metadata": {
        "id": "E7HU7c1yDHVP"
      },
      "source": [
        "## **Histograms**"
      ]
    },
    {
      "cell_type": "code",
      "execution_count": null,
      "metadata": {
        "id": "81N2cL4XMAun"
      },
      "outputs": [],
      "source": [
        "fig = px.histogram(df, x='CONSDIAG', marginal='box',\n",
        "                   title='Diferença de dias entre diagnóstico e consulta')\n",
        "fig.show(config = {'staticPlot': True})"
      ]
    },
    {
      "cell_type": "code",
      "execution_count": null,
      "metadata": {
        "id": "o6szgFGLMAut"
      },
      "outputs": [],
      "source": [
        "fig = px.histogram(df, x='DIAGTRAT', marginal='box',\n",
        "                   title='Diferença de dias entre tratamento e diagnóstico')\n",
        "fig.show(config = {'staticPlot': True})"
      ]
    },
    {
      "cell_type": "code",
      "execution_count": null,
      "metadata": {
        "id": "LNUtt6XgMAuu"
      },
      "outputs": [],
      "source": [
        "fig = px.histogram(df, x='TRATCONS', marginal='box', \n",
        "                   title='Diferença de dias entre tratamento e consulta')\n",
        "fig.show(config = {'staticPlot': True})"
      ]
    },
    {
      "cell_type": "code",
      "execution_count": null,
      "metadata": {
        "id": "uDmr85FpLYzH"
      },
      "outputs": [],
      "source": [
        "fig = px.histogram(df, x='ULTICONS', marginal='box',\n",
        "                   title='Diferença de dias entre última informação e consulta')\n",
        "fig.show(config = {'staticPlot': True})"
      ]
    },
    {
      "cell_type": "code",
      "execution_count": null,
      "metadata": {
        "id": "iGfG5HB2LYzN"
      },
      "outputs": [],
      "source": [
        "fig = px.histogram(df, x='ULTIDIAG', marginal='box',\n",
        "                   title='Diferença de dias entre última informação e diagnóstico')\n",
        "fig.show(config = {'staticPlot': True})"
      ]
    },
    {
      "cell_type": "code",
      "execution_count": null,
      "metadata": {
        "id": "hb6RJcSBLYzO"
      },
      "outputs": [],
      "source": [
        "fig = px.histogram(df, x='ULTITRAT', marginal='box', \n",
        "                   title='Diferença de dias entre última informação e tratamento')\n",
        "fig.show(config = {'staticPlot': True})"
      ]
    },
    {
      "cell_type": "markdown",
      "metadata": {
        "id": "AFVw4Xenh_as"
      },
      "source": [
        "## **Creation of death label**"
      ]
    },
    {
      "cell_type": "markdown",
      "metadata": {
        "id": "WdWv--3qriAo"
      },
      "source": [
        "In this section, labels will be created based on the latest information, one column only if the person died or not (`obito_geral`) and one for death by cancer (`obito_cancer`)\n",
        "Another three columns will have the information about how many years after the diagnosis the person lived (`vivo_ano1`, `vivo_ano3`, `vivo_ano5`). \n",
        "\n",
        "After creating the columns, the datasets will be saved in csv files, one for São Paulo and one for the other states."
      ]
    },
    {
      "cell_type": "markdown",
      "metadata": {
        "id": "oDMSh1kKrrA8"
      },
      "source": [
        "> This process will be performed by the `get_labels` function, see the [functions section](https://cancer-project.readthedocs.io/en/latest/Cancer%20Libraries%20and%20functions.html#General) to see the complete function."
      ]
    },
    {
      "cell_type": "markdown",
      "metadata": {
        "id": "epJX0RhKbrrN"
      },
      "source": [
        "**Death labels**\n",
        "\n",
        "* Death at any time - obito_geral;\n",
        "\n",
        "* Death by cancer - obito_cancer;\n",
        "\n",
        "* Patient is alive after one year - vivo_ano1;\n",
        "\n",
        "* Patient is alive after three years - vivo_ano3;\n",
        "\n",
        "* Patient is alive after five years - vivo_ano5.\n",
        "---\n",
        "\n",
        "**Last information**\n",
        "\n",
        "1 - Alive with cancer\n",
        "\n",
        "2 - Alive, without other specifications\n",
        "\n",
        "3 - Death by cancer\n",
        "\n",
        "4 - Death by other causes\n"
      ]
    },
    {
      "cell_type": "code",
      "execution_count": null,
      "metadata": {
        "id": "vxv5E2Dhh-gP"
      },
      "outputs": [],
      "source": [
        "df.head(2)"
      ]
    },
    {
      "cell_type": "code",
      "execution_count": null,
      "metadata": {
        "id": "W8jxcV-0nQZV"
      },
      "outputs": [],
      "source": [
        "df.ULTINFO.value_counts()"
      ]
    },
    {
      "cell_type": "code",
      "execution_count": null,
      "metadata": {
        "id": "6H486BUsMBxC"
      },
      "outputs": [],
      "source": [
        "df = get_labels(df)\n",
        "df.shape"
      ]
    },
    {
      "cell_type": "code",
      "execution_count": null,
      "metadata": {
        "id": "zAcMSks4v2lG"
      },
      "outputs": [],
      "source": [
        "columns = ['ULTINFO', 'obito_geral', 'obito_cancer', 'vivo_ano1', 'vivo_ano3', 'vivo_ano5']\n",
        "\n",
        "df[columns].head(2)"
      ]
    },
    {
      "cell_type": "code",
      "execution_count": null,
      "metadata": {
        "id": "ff-_373C8_Ks"
      },
      "outputs": [],
      "source": [
        "df[columns][df.obito_geral == 0].head(10)"
      ]
    },
    {
      "cell_type": "markdown",
      "metadata": {
        "id": "k_QaVtjnztXe"
      },
      "source": [
        "## **Inputer ESCOLARI**"
      ]
    },
    {
      "cell_type": "code",
      "execution_count": null,
      "metadata": {
        "id": "nIsEOm4VmAiG"
      },
      "outputs": [],
      "source": [
        "cols = ['ESCOLARI', 'IDADE', 'ECGRUP', 'SEXO']\n",
        "df_esc = df[cols].copy()\n",
        "df_esc.head(3)"
      ]
    },
    {
      "cell_type": "code",
      "execution_count": null,
      "metadata": {
        "id": "Jd0k_jAvmAiI"
      },
      "outputs": [],
      "source": [
        "df_esc.loc[df_esc.ESCOLARI == 9, 'ESCOLARI'] = np.nan\n",
        "df_esc.loc[df_esc.ECGRUP == 'I', 'ECGRUP'] = 1\n",
        "df_esc.loc[df_esc.ECGRUP == 'II', 'ECGRUP'] = 2\n",
        "df_esc.loc[df_esc.ECGRUP == 'III', 'ECGRUP'] = 3\n",
        "df_esc.loc[df_esc.ECGRUP == 'IV', 'ECGRUP'] = 4\n",
        "df_esc.ESCOLARI.value_counts(dropna=False)"
      ]
    },
    {
      "cell_type": "code",
      "execution_count": null,
      "metadata": {
        "id": "akwA39m_mAiK"
      },
      "outputs": [],
      "source": [
        "from sklearn.impute import KNNImputer\n",
        "\n",
        "X = df_esc.values\n",
        "imputer = KNNImputer(n_neighbors=5, weights='distance')\n",
        "df_esc.ESCOLARI = imputer.fit_transform(X)\n",
        "df_esc.head(3)"
      ]
    },
    {
      "cell_type": "code",
      "execution_count": null,
      "metadata": {
        "id": "yn01fkbamAiM"
      },
      "outputs": [],
      "source": [
        "df['ESCOLARI_2'] = df_esc.ESCOLARI.round()\n",
        "df.ESCOLARI_2.value_counts(dropna=False)"
      ]
    },
    {
      "cell_type": "code",
      "execution_count": null,
      "metadata": {
        "id": "BgE1d6RkmAiN"
      },
      "outputs": [],
      "source": [
        "df.ESCOLARI.value_counts()"
      ]
    },
    {
      "cell_type": "code",
      "execution_count": null,
      "metadata": {
        "id": "BZAO2ELF3-wh"
      },
      "outputs": [],
      "source": [
        "save_csv(df, '/content/drive/MyDrive/Trabalho/Cancer/Datasets/colorretal_sp_labels.csv')"
      ]
    },
    {
      "cell_type": "markdown",
      "metadata": {
        "id": "8WVIfoHVUJD5"
      },
      "source": [
        "## **Creation of recurrence labels**"
      ]
    },
    {
      "cell_type": "markdown",
      "metadata": {
        "id": "EuQZcqyPs7gy"
      },
      "source": [
        "In this section, labels will be created based on the recurrence, two columns for people who died, one without recurrence and one with recurrence, and two for people who are alive, also one without recurrence and one with recurrence. \n",
        "\n",
        "After creating the columns, the datasets will be saved in csv files, one for São Paulo and one for the other states, now both datasets have 94 columns. "
      ]
    },
    {
      "cell_type": "markdown",
      "metadata": {
        "id": "nvlBqc5Wr1as"
      },
      "source": [
        "> This process will be performed by the `get_labels_rec` function, see the [functions section](https://cancer-project.readthedocs.io/en/latest/Cancer%20Libraries%20and%20functions.html#General) to see the complete function."
      ]
    },
    {
      "cell_type": "markdown",
      "metadata": {
        "id": "n4hUOvp1UJEE"
      },
      "source": [
        "**Recurrence labels**\n",
        "\n",
        "* Death without recurrence - ob_sem_rec;\n",
        "\n",
        "* Death with recurrence - ob_com_rec;\n",
        "\n",
        "* Alive without recurrence - vivo_sem_rec;\n",
        "\n",
        "* Alive with recurrence - vivo_com_rec.\n",
        "\n",
        "---\n",
        "\n",
        "**Last information**\n",
        "\n",
        "1 - Alive with cancer\n",
        "\n",
        "2 - Alive, without other specifications\n",
        "\n",
        "3 - Death by cancer\n",
        "\n",
        "4 - Death by other causes\n"
      ]
    },
    {
      "cell_type": "code",
      "execution_count": null,
      "metadata": {
        "id": "5tHKXLOt4J7V"
      },
      "outputs": [],
      "source": [
        "# df_SP = read_csv('/content/drive/MyDrive/Trabalho/Cancer/Datasets/cancer_SP_labels.csv')"
      ]
    },
    {
      "cell_type": "code",
      "execution_count": null,
      "metadata": {
        "id": "HXEA-290UJEI"
      },
      "outputs": [],
      "source": [
        "# df_SP.head(2)"
      ]
    },
    {
      "cell_type": "code",
      "execution_count": null,
      "metadata": {
        "id": "AxmmZKq9UJEP"
      },
      "outputs": [],
      "source": [
        "# df_SP = get_label_rec(df_SP)"
      ]
    },
    {
      "cell_type": "code",
      "execution_count": null,
      "metadata": {
        "id": "NTdxMLPtAJaZ"
      },
      "outputs": [],
      "source": [
        "# columns = ['RECNENHUM', 'obito_geral', 'obito_cancer', 'ob_com_rec', 'ob_sem_rec',\n",
        "        #    'vivo_com_rec', 'vivo_sem_rec']\n",
        "# df_SP[columns].head()"
      ]
    },
    {
      "cell_type": "code",
      "execution_count": null,
      "metadata": {
        "id": "Y4APrtJVUJEV"
      },
      "outputs": [],
      "source": [
        "# save_csv(df_SP, '/content/drive/MyDrive/Trabalho/Cancer/Datasets/cancer_SP_labels.csv')"
      ]
    },
    {
      "cell_type": "markdown",
      "metadata": {
        "id": "Dhhu_98sWwEQ"
      },
      "source": [
        "## **Verificação dos dados criados**"
      ]
    },
    {
      "cell_type": "code",
      "execution_count": null,
      "metadata": {
        "id": "FgMHtez7Ff2M"
      },
      "outputs": [],
      "source": [
        "df_SP = read_csv('/content/drive/MyDrive/Trabalho/Cancer/Datasets/colorretal_sp_labels.csv')"
      ]
    },
    {
      "cell_type": "code",
      "execution_count": null,
      "metadata": {
        "id": "Qq4Phj7JXMat"
      },
      "outputs": [],
      "source": [
        "df_SP.head(2)"
      ]
    },
    {
      "cell_type": "markdown",
      "metadata": {
        "id": "RueRGXrmXp6z"
      },
      "source": [
        "### **Features das datas**\n",
        "\n",
        "**Date columns**\n",
        "\n",
        "* Consultation - $t_1$\n",
        "\n",
        "* Diagnosis - $t_2$\n",
        "\n",
        "* Treatment - $t_3$\n",
        "\n",
        "* Recurrence - $t_4$\n",
        "\n",
        "* Last information - $t_5$\n",
        "\n",
        "---\n",
        "\n",
        "**Difference, in days, between dates:**\n",
        "\n",
        "$$CONSDIAG = t_2 - t_1$$\n",
        "\n",
        "$$DIAGTRAT = t_3 - t_2$$\n",
        "\n",
        "$$TRATCONS = t_3 - t_1$$\n",
        "\n",
        "**Recurrence:**\n",
        "\n",
        "$$RECCONS = t_4 - t_1$$\n",
        "\n",
        "$$RECDIAG = t_4 - t_2$$\n",
        "\n",
        "$$RECTRAT = t_4 - t_3$$\n",
        "\n",
        "**Last information:**\n",
        "\n",
        "$$ULTICONS = t_5 - t_1$$\n",
        "\n",
        "$$ULTIDIAG = t_5 - t_2$$\n",
        "\n",
        "$$ULTITRAT = t_5 - t_3$$"
      ]
    },
    {
      "cell_type": "markdown",
      "metadata": {
        "id": "pDLt5-v4ZoQ_"
      },
      "source": [
        "**SP**"
      ]
    },
    {
      "cell_type": "code",
      "execution_count": null,
      "metadata": {
        "id": "WyPYfgeVYX4S"
      },
      "outputs": [],
      "source": [
        "# Diagnóstico antes da consulta\n",
        "df_SP[df_SP.CONSDIAG < 0].shape"
      ]
    },
    {
      "cell_type": "code",
      "execution_count": null,
      "metadata": {
        "id": "R3c6AfemYXxC"
      },
      "outputs": [],
      "source": [
        "# Tratamento antes do diagnóstico\n",
        "df_SP[df_SP.DIAGTRAT < 0].shape"
      ]
    },
    {
      "cell_type": "code",
      "execution_count": null,
      "metadata": {
        "id": "gtW8pV2dYyFb"
      },
      "outputs": [],
      "source": [
        "# Tratamento antes da consulta\n",
        "df_SP[df_SP.TRATCONS < 0].shape"
      ]
    },
    {
      "cell_type": "code",
      "execution_count": null,
      "metadata": {
        "id": "P1unisiPZOS9"
      },
      "outputs": [],
      "source": [
        "# Última informação antes da consulta\n",
        "df_SP[df_SP.ULTICONS < 0].shape"
      ]
    },
    {
      "cell_type": "code",
      "execution_count": null,
      "metadata": {
        "id": "7Az08V0BZObl"
      },
      "outputs": [],
      "source": [
        "# Última informação antes do diagnóstico\n",
        "df_SP[df_SP.ULTIDIAG < 0].shape"
      ]
    },
    {
      "cell_type": "code",
      "execution_count": null,
      "metadata": {
        "id": "kQh4EJjuEh0Y"
      },
      "outputs": [],
      "source": [
        "df_SP[df_SP.ULTIDIAG > 365].shape"
      ]
    },
    {
      "cell_type": "code",
      "execution_count": null,
      "metadata": {
        "id": "LwMl3Dw-Em4h"
      },
      "outputs": [],
      "source": [
        "df_SP[df_SP.ULTIDIAG > 365*3].shape"
      ]
    },
    {
      "cell_type": "code",
      "execution_count": null,
      "metadata": {
        "id": "PGVM06rHEoyg"
      },
      "outputs": [],
      "source": [
        "df_SP[df_SP.ULTIDIAG > 365*5].shape"
      ]
    },
    {
      "cell_type": "code",
      "execution_count": null,
      "metadata": {
        "id": "T4zBQiLvZOmf"
      },
      "outputs": [],
      "source": [
        "# Última informação antes do tratamento\n",
        "df_SP[df_SP.ULTITRAT < 0].shape"
      ]
    },
    {
      "cell_type": "markdown",
      "metadata": {
        "id": "dYcJTcD-Xs7x"
      },
      "source": [
        "### **Labels óbito**\n",
        "* Óbito em qualquer momento - ob\n",
        "\n",
        "* Patient is alive after one year - vivo_ano1;\n",
        "\n",
        "* Patient is alive after three years - vivo_ano3;\n",
        "\n",
        "* Patient is alive after five years - vivo_ano5;"
      ]
    },
    {
      "cell_type": "markdown",
      "metadata": {
        "id": "WbnEfJ81aiUJ"
      },
      "source": [
        "**SP**"
      ]
    },
    {
      "cell_type": "code",
      "execution_count": null,
      "metadata": {
        "id": "Ki6RbJi_aiUu"
      },
      "outputs": [],
      "source": [
        "df_SP.obito_geral.value_counts()"
      ]
    },
    {
      "cell_type": "code",
      "execution_count": null,
      "metadata": {
        "id": "eADfFqSDVoYi"
      },
      "outputs": [],
      "source": [
        "df_SP.obito_cancer.value_counts()"
      ]
    },
    {
      "cell_type": "code",
      "execution_count": null,
      "metadata": {
        "id": "G-qEmc5maiUx"
      },
      "outputs": [],
      "source": [
        "df_SP.vivo_ano1.value_counts()"
      ]
    },
    {
      "cell_type": "code",
      "execution_count": null,
      "metadata": {
        "id": "xvTRcrnOAne4"
      },
      "outputs": [],
      "source": [
        "df_SP.vivo_ano3.value_counts()"
      ]
    },
    {
      "cell_type": "code",
      "execution_count": null,
      "metadata": {
        "id": "KoM-EZJ2ArsI"
      },
      "outputs": [],
      "source": [
        "df_SP.vivo_ano5.value_counts()"
      ]
    },
    {
      "cell_type": "code",
      "execution_count": null,
      "metadata": {
        "id": "FD7f-CwDD94O"
      },
      "outputs": [],
      "source": [
        "df_SP[(df_SP.obito_geral == 0) & (df_SP.vivo_ano1 == 0) & (df_SP.vivo_ano3 == 0) & (df_SP.vivo_ano5 == 0)].shape"
      ]
    },
    {
      "cell_type": "code",
      "execution_count": null,
      "metadata": {
        "id": "OogNIFtgCmua"
      },
      "outputs": [],
      "source": [
        "df_SP[(df_SP.obito_geral == 0) & (df_SP.vivo_ano1 == 1) & (df_SP.vivo_ano3 == 0) & (df_SP.vivo_ano5 == 0)].shape"
      ]
    },
    {
      "cell_type": "code",
      "execution_count": null,
      "metadata": {
        "id": "6NhIMzMCD6Gp"
      },
      "outputs": [],
      "source": [
        "df_SP[(df_SP.obito_geral == 0) & (df_SP.vivo_ano1 == 1) & (df_SP.vivo_ano3 == 1) & (df_SP.vivo_ano5 == 0)].shape"
      ]
    },
    {
      "cell_type": "markdown",
      "metadata": {
        "id": "UNVmfqcPXxAi"
      },
      "source": [
        "### **Labels recidiva**\n",
        "* Óbito sem recidiva - ob_sem_rec\n",
        "\n",
        "* Óbito com recidiva - ob_com_rec\n",
        "\n",
        "* Vivos sem recidiva - vivo_sem_rec\n",
        "\n",
        "* Vivos com recidiva - vivo_com_rec\n",
        "---\n"
      ]
    },
    {
      "cell_type": "markdown",
      "metadata": {
        "id": "3aze-RBvb0JH"
      },
      "source": [
        "**SP**"
      ]
    },
    {
      "cell_type": "code",
      "execution_count": null,
      "metadata": {
        "id": "2gOwKXHRb0Ju"
      },
      "outputs": [],
      "source": [
        "# df_SP.ob_sem_rec.value_counts()"
      ]
    },
    {
      "cell_type": "code",
      "execution_count": null,
      "metadata": {
        "id": "MR68sld7b0Jx"
      },
      "outputs": [],
      "source": [
        "# df_SP.ob_com_rec.value_counts()"
      ]
    },
    {
      "cell_type": "code",
      "execution_count": null,
      "metadata": {
        "id": "JakpWxUYb0Jy"
      },
      "outputs": [],
      "source": [
        "# df_SP.vivo_sem_rec.value_counts()"
      ]
    },
    {
      "cell_type": "code",
      "execution_count": null,
      "metadata": {
        "id": "nPKGxJgub0Jz"
      },
      "outputs": [],
      "source": [
        "# df_SP.vivo_com_rec.value_counts()"
      ]
    },
    {
      "cell_type": "markdown",
      "metadata": {
        "id": "k9nkbPZQfrsF"
      },
      "source": [
        "# **Informações**"
      ]
    },
    {
      "cell_type": "code",
      "execution_count": null,
      "metadata": {
        "id": "aKvU9e7HVgeP"
      },
      "outputs": [],
      "source": [
        "def percent_surv(df):\n",
        "    \"\"\"\n",
        "    \"\"\"\n",
        "    df_aux = df.copy()\n",
        "    df_aux['meses_trat'] = (df_aux['ULTITRAT']/30).round()\n",
        "    df_aux = (df_aux.groupby(by=['meses_trat'])['obito_geral'].sum()/df_aux.shape[0]).reset_index()\n",
        "\n",
        "    soma = 1\n",
        "    val = df_aux['obito_geral'].values.copy()\n",
        "    for i in range(df_aux.shape[0]):\n",
        "        soma -= df_aux.obito_geral[i]\n",
        "        val[i] = soma\n",
        "        \n",
        "    df_aux['perc'] = val\n",
        "\n",
        "    return df_aux"
      ]
    },
    {
      "cell_type": "code",
      "execution_count": null,
      "metadata": {
        "id": "4wV-Fs-p0w3b"
      },
      "outputs": [],
      "source": [
        "%%capture\n",
        "\n",
        "!pip install pandas-profiling -U\n",
        "\n",
        "from pandas_profiling import ProfileReport"
      ]
    },
    {
      "cell_type": "code",
      "execution_count": null,
      "metadata": {
        "id": "ZWz9hn-E1Yjc"
      },
      "outputs": [],
      "source": [
        "profile = ProfileReport(df.copy())\n",
        "profile.to_notebook_iframe()"
      ]
    },
    {
      "cell_type": "code",
      "execution_count": null,
      "metadata": {
        "id": "mrmvRoM1dICf"
      },
      "outputs": [],
      "source": [
        "df = read_csv('/content/drive/MyDrive/Trabalho/Cancer/Datasets/colorretal_sp_labels.csv')"
      ]
    },
    {
      "cell_type": "code",
      "execution_count": null,
      "metadata": {
        "id": "vr6ZlnohdOsQ"
      },
      "outputs": [],
      "source": [
        "df.head(3)"
      ]
    },
    {
      "cell_type": "code",
      "execution_count": null,
      "metadata": {
        "id": "ncLQXaVZdniX"
      },
      "outputs": [],
      "source": [
        "df.obito_geral.value_counts(True)"
      ]
    },
    {
      "cell_type": "code",
      "execution_count": null,
      "metadata": {
        "id": "I2s14v2hfID9"
      },
      "outputs": [],
      "source": [
        "df_surv = percent_surv(df)\n",
        "df_surv.head(3)"
      ]
    },
    {
      "cell_type": "code",
      "execution_count": null,
      "metadata": {
        "id": "5H4ta507ePz9"
      },
      "outputs": [],
      "source": [
        "plt.figure(figsize=(10, 6))\n",
        "plt.plot(df_surv.meses_trat[2:], df_surv.perc[2:], color='k')\n",
        "plt.xlabel('Months', size=14)\n",
        "plt.xticks(np.linspace(0, 260, 14))\n",
        "plt.yticks(np.linspace(0, 1, 11))\n",
        "plt.ylabel('Percentage of survival', size=14)\n",
        "# plt.title('Time (in days) between consultation and diagnosis for each year', size=16)\n",
        "plt.ylim([0, 1.])\n",
        "plt.vlines(12, 0, 1, colors='b', label='one year', linestyle='dotted')\n",
        "plt.vlines(36, 0, 1, colors='gray', label='three years', linestyle='dotted')\n",
        "plt.vlines(60, 0, 1, colors='r', label='five years', linestyle='dotted')\n",
        "plt.gca().spines['top'].set_visible(False)\n",
        "plt.gca().spines['right'].set_visible(False)\n",
        "plt.legend()\n",
        "plt.show()"
      ]
    },
    {
      "cell_type": "code",
      "execution_count": null,
      "metadata": {
        "id": "MyG0r0bGkASj"
      },
      "outputs": [],
      "source": [
        "fig = go.Figure(data=go.Scatter(x=df_surv.meses_trat[2:], y=df_surv.perc[2:]))\n",
        "fig.show()"
      ]
    },
    {
      "cell_type": "code",
      "execution_count": null,
      "metadata": {
        "id": "k9R_q7D-kpJE"
      },
      "outputs": [],
      "source": [
        "# 12 = 0.7666\n",
        "# 24 = 0.6595\n",
        "# 36 = 0.5950"
      ]
    },
    {
      "cell_type": "code",
      "execution_count": null,
      "metadata": {
        "id": "93NXRh15UlKH"
      },
      "outputs": [],
      "source": [
        "df.ECGRUP.unique()"
      ]
    },
    {
      "cell_type": "code",
      "execution_count": null,
      "metadata": {
        "id": "VI-vGgRpVIEJ"
      },
      "outputs": [],
      "source": [
        "df_1 = df.query(\"ECGRUP == 'I'\")\n",
        "df_surv1 = percent_surv(df_1)\n",
        "df_surv1.head(3)"
      ]
    },
    {
      "cell_type": "code",
      "execution_count": null,
      "metadata": {
        "id": "J8ra789wXLVU"
      },
      "outputs": [],
      "source": [
        "df_2 = df.query(\"ECGRUP == 'II'\")\n",
        "df_surv2 = percent_surv(df_2)\n",
        "df_surv2.head(3)"
      ]
    },
    {
      "cell_type": "code",
      "execution_count": null,
      "metadata": {
        "id": "5s8d4v5cXhMl"
      },
      "outputs": [],
      "source": [
        "df_3 = df.query(\"ECGRUP == 'III'\")\n",
        "df_surv3 = percent_surv(df_3)\n",
        "df_surv3 = df_surv3.query(\"meses_trat >= 0\")\n",
        "df_surv3.head(3)"
      ]
    },
    {
      "cell_type": "code",
      "execution_count": null,
      "metadata": {
        "id": "HKdsQOKRXo3z"
      },
      "outputs": [],
      "source": [
        "df_4 = df.query(\"ECGRUP == 'IV'\")\n",
        "df_surv4 = percent_surv(df_4)\n",
        "df_surv4 = df_surv4.query(\"meses_trat >= 0\")\n",
        "df_surv4.head(3)"
      ]
    },
    {
      "cell_type": "code",
      "execution_count": null,
      "metadata": {
        "id": "8hadW6cJaCqo"
      },
      "outputs": [],
      "source": [
        "# 'solid', 'dashed', 'dashdot', 'dotted'"
      ]
    },
    {
      "cell_type": "code",
      "execution_count": null,
      "metadata": {
        "id": "g6S5OXH7WRJi"
      },
      "outputs": [],
      "source": [
        "plt.figure(figsize=(10, 6))\n",
        "plt.plot(df_surv1.meses_trat, df_surv1.perc, color='k', label='ECGRUP = I', linestyle='dashed')\n",
        "plt.plot(df_surv2.meses_trat, df_surv2.perc, color='k', label='ECGRUP = II', linestyle='dashdot')\n",
        "plt.plot(df_surv3.meses_trat, df_surv3.perc, color='k', label='ECGRUP = III', linestyle='dotted')\n",
        "plt.plot(df_surv4.meses_trat, df_surv4.perc, color='k', label='ECGRUP = IV')\n",
        "\n",
        "plt.xlabel('Months', size=14)\n",
        "plt.xticks(np.linspace(0, 260, 14))\n",
        "plt.yticks(np.linspace(0, 1, 11))\n",
        "plt.ylabel('Percentage of survival', size=14)\n",
        "# plt.title('Time (in days) between consultation and diagnosis for each year', size=16)\n",
        "\n",
        "plt.vlines(12, 0, 1, colors='b', #label='one year', \n",
        "           linestyle='dotted')\n",
        "plt.vlines(36, 0, 1, colors='gray', #label='three years', \n",
        "           linestyle='dotted')\n",
        "plt.vlines(60, 0, 1, colors='r', #label='five years', \n",
        "           linestyle='dotted')\n",
        "\n",
        "plt.ylim([0, 1.])\n",
        "plt.gca().spines['top'].set_visible(False)\n",
        "plt.gca().spines['right'].set_visible(False)\n",
        "plt.legend()\n",
        "plt.show()"
      ]
    },
    {
      "cell_type": "code",
      "execution_count": null,
      "metadata": {
        "id": "FuOZUwEO7DfR"
      },
      "outputs": [],
      "source": [
        "x_num, _, _, _ = train_preprocessing(df)"
      ]
    },
    {
      "cell_type": "code",
      "execution_count": null,
      "metadata": {
        "id": "asA6YMCD7Bzj"
      },
      "outputs": [],
      "source": [
        "df_num = pd.DataFrame(x_num, columns=df.columns)\n",
        "df_num.head(2)"
      ]
    },
    {
      "cell_type": "code",
      "execution_count": null,
      "metadata": {
        "id": "JP1QyNRwIoDp"
      },
      "outputs": [],
      "source": [
        "corr_matrix = df_num.corr()\n",
        "fig, ax = plt.subplots(figsize = (20, 15))\n",
        "colormap = sns.diverging_palette(220, 10, as_cmap = True)\n",
        "mask = np.triu(np.ones_like(corr_matrix, dtype = np.bool))\n",
        "sns.heatmap(corr_matrix, cmap = colormap, mask = mask, annot = True, fmt = '.2f')\n",
        "fig.show()"
      ]
    },
    {
      "cell_type": "code",
      "execution_count": null,
      "metadata": {
        "id": "5VXAug91J1v8"
      },
      "outputs": [],
      "source": [
        "# corr_matrix = df_num.corr()\n",
        "fig, ax = plt.subplots(figsize = (15, 10))\n",
        "colormap = sns.diverging_palette(220, 10, as_cmap = True)\n",
        "mask = np.triu(np.ones_like(corr_matrix, dtype = np.bool))\n",
        "sns.heatmap(corr_matrix, cmap = colormap, mask = mask)# annot = True, fmt = '.2f')\n",
        "fig.show()"
      ]
    },
    {
      "cell_type": "code",
      "execution_count": null,
      "metadata": {
        "id": "yWKyRWfl_UfE"
      },
      "outputs": [],
      "source": [
        "feat = ['IDADE', 'SEXO', 'IBGE', 'CATEATEND', 'DIAGPREV', 'EC', 'TRATHOSP', \n",
        "        'NENHUM', 'CIRURGIA', 'RADIO', 'QUIMIO', 'HORMONIO', 'TMO', 'IMUNO',\n",
        "        'OUTROS', 'NENHUMANT', 'CONSDIAG', 'TRATCONS', 'DIAGTRAT', 'ANODIAG',\n",
        "        'DRS', 'RRAS', 'RECNENHUM', 'IBGEATEN', 'ESCOLARI_2']\n",
        "        \n",
        "len(feat)"
      ]
    },
    {
      "cell_type": "code",
      "execution_count": null,
      "metadata": {
        "id": "hnZnyd0LAvoL"
      },
      "outputs": [],
      "source": [
        "df[feat].head(2)"
      ]
    },
    {
      "cell_type": "code",
      "execution_count": null,
      "metadata": {
        "id": "NZoitt7sBSNr"
      },
      "outputs": [],
      "source": [
        "x, _, _, _ = train_preprocessing(df[feat])"
      ]
    },
    {
      "cell_type": "code",
      "execution_count": null,
      "metadata": {
        "id": "QWaXXOBBgNbx"
      },
      "outputs": [],
      "source": [
        "x.shape"
      ]
    },
    {
      "cell_type": "code",
      "execution_count": null,
      "metadata": {
        "id": "RoHz02Kr_Sqb"
      },
      "outputs": [],
      "source": [
        "%%capture\n",
        "\n",
        "!pip install scipy -U"
      ]
    },
    {
      "cell_type": "code",
      "execution_count": null,
      "metadata": {
        "id": "o5aKvLkWeZGH"
      },
      "outputs": [],
      "source": [
        "# 'obito_cancer', 'obito_geral', 'vivo_ano1', 'vivo_ano3', 'vivo_ano5'"
      ]
    },
    {
      "cell_type": "code",
      "execution_count": null,
      "metadata": {
        "id": "TDNgIZh6VZGQ"
      },
      "outputs": [],
      "source": [
        "for col in range(0, 25):\n",
        "    chisqt = pd.crosstab(x[:, col], df['vivo_ano5'], margins=True)\n",
        "    value = []\n",
        "\n",
        "    for i in range(chisqt.shape[0] - 1):\n",
        "        value.append(chisqt.iloc[i].values)\n",
        "\n",
        "    print(f'{df[feat].columns[col]}: {chi2_contingency(np.array(value))[1]}')"
      ]
    },
    {
      "cell_type": "code",
      "execution_count": null,
      "metadata": {
        "id": "Er9DYbKKKjJP"
      },
      "outputs": [],
      "source": [
        "# from scipy.stats import chi2_contingency\n",
        "\n",
        "# chisqt = pd.crosstab(df.SEXO, df['vivo_ano5'], margins=True)\n",
        "\n",
        "# value = np.array([chisqt.iloc[0][0:5].values,\n",
        "#                   chisqt.iloc[1][0:5].values])\n",
        "\n",
        "# print(chi2_contingency(value)[0:3])"
      ]
    },
    {
      "cell_type": "code",
      "execution_count": null,
      "metadata": {
        "id": "1J67OaCGEffW"
      },
      "outputs": [],
      "source": [
        "def variables_preprocessing2(df, dates_list):\n",
        "    \"\"\"Do some preprocessing on the DataFrame like strings splits, fill NaN values,\n",
        "        replace values and drop some columns.\n",
        "\n",
        "    :param df pd.DataFrame: DataFrame to be preprocessed.\n",
        "\n",
        "    :return: DataFrame after be preprocessed and get some columns removed\n",
        "    :rtype: pd.DataFrame\n",
        "    \"\"\"\n",
        "\n",
        "    df_aux = df.copy()\n",
        "    no_info = '**Sem informação**'\n",
        "\n",
        "    # DRS\n",
        "    DRS_expand = df_aux.DRS.str.split(' ', expand=True)\n",
        "    df_aux['DRS'] = DRS_expand[1]\n",
        "    df_aux.DRS.fillna('0', inplace=True)\n",
        "\n",
        "    df_aux.dropna(subset=['DTTRAT', 'DTULTINFO'], inplace=True)\n",
        "    \n",
        "    for c in dates_list:\n",
        "        if c in ['DTTRAT', 'DTULTINFO', 'DTRECIDIVA']: # Has a different date format \n",
        "            fmt = '%Y-%m-%d %H:%M:%S'\n",
        "        else:\n",
        "            fmt = '%Y-%m-%d'\n",
        "        df_aux[c] = pd.to_datetime(df_aux[c], format=fmt)\n",
        "        \n",
        "    df_aux['CONSDIAG'] = (df_aux.DTDIAG - df_aux.DTCONSULT).dt.days\n",
        "    df_aux['DIAGTRAT'] = (df_aux.DTTRAT - df_aux.DTDIAG).dt.days\n",
        "    df_aux['TRATCONS'] = (df_aux.DTTRAT - df_aux.DTCONSULT).dt.days\n",
        "\n",
        "    df_aux['ULTICONS'] = (df_aux.DTULTINFO - df_aux.DTCONSULT).dt.days\n",
        "    df_aux['ULTIDIAG'] = (df_aux.DTULTINFO - df_aux.DTDIAG).dt.days\n",
        "    df_aux['ULTITRAT'] = (df_aux.DTULTINFO - df_aux.DTTRAT).dt.days\n",
        "\n",
        "    df_aux['obito_geral'] = 0\n",
        "    df_aux['obito_cancer'] = 0\n",
        "\n",
        "    df_aux['vivo_ano1'] = 0\n",
        "    df_aux['vivo_ano3'] = 0\n",
        "    df_aux['vivo_ano5'] = 0 \n",
        "    \n",
        "    df_aux.loc[df_aux.ULTINFO > 2, 'obito_geral'] = 1\n",
        "\n",
        "    df_aux.loc[df_aux.ULTINFO == 3, 'obito_cancer'] = 1\n",
        "\n",
        "    df_aux.loc[df_aux.ULTIDIAG > 365, 'vivo_ano1'] = 1\n",
        "    df_aux.loc[df_aux.ULTIDIAG > 3*365, 'vivo_ano3'] = 1\n",
        "    df_aux.loc[df_aux.ULTIDIAG > 5*365, 'vivo_ano5'] = 1\n",
        "\n",
        "    col = df_aux.columns\n",
        "    drop_cols = ['REC04', 'META01', 'META02', 'META03', 'META04', 'REC01', \n",
        "                 'REC02', 'REC03', 'DTCONSULT', 'DTDIAG', 'DTTRAT', 'DTULTINFO', \n",
        "                 'DTRECIDIVA', 'DESCTOPO', 'DESCMORFO', 'CIDADE']\n",
        "\n",
        "    col = col.drop(drop_cols)\n",
        "\n",
        "    return df_aux[col]"
      ]
    },
    {
      "cell_type": "code",
      "execution_count": null,
      "metadata": {
        "id": "eeoSAB2cCWu0"
      },
      "outputs": [],
      "source": [
        "path = '/content/drive/MyDrive/Trabalho/Cancer/Datasets/ANALITICO_Colorretal_lucas.csv'\n",
        "\n",
        "df_total = read_csv(path, drop_id=True)\n",
        "\n",
        "# #NULL! to NaN\n",
        "df_total.loc[df_total.DTRECIDIVA == '#NULL!', 'DTRECIDIVA'] = np.nan\n",
        "df_total.loc[df_total.DTULTINFO == '#NULL!', 'DTULTINFO'] = np.nan\n",
        "df_total.loc[df_total.DTTRAT == '#NULL!', 'DTTRAT'] = np.nan\n",
        "\n",
        "df_limpo = variables_preprocessing2(df_total, ['DTCONSULT', 'DTDIAG', 'DTTRAT', 'DTULTINFO', 'DTRECIDIVA'])\n",
        "df_limpo.head(2)"
      ]
    },
    {
      "cell_type": "code",
      "execution_count": null,
      "metadata": {
        "id": "6SJHJJOk1s1t"
      },
      "outputs": [],
      "source": [
        "from sklearn.decomposition import PCA\n",
        "\n",
        "x_tot, _, _ = train_preprocessing(df_limpo)\n",
        "\n",
        "pca = PCA()\n",
        "principalComponents = pca.fit_transform(x_tot)"
      ]
    },
    {
      "cell_type": "code",
      "execution_count": null,
      "metadata": {
        "id": "QCUpY5jUjpOo"
      },
      "outputs": [],
      "source": [
        "plt.figure(figsize=(15, 8))\n",
        "\n",
        "plt.bar(np.linspace(1, x_tot.shape[1], x_tot.shape[1]), \n",
        "        pca.explained_variance_ratio_, alpha=0.5, align='center', \n",
        "        label='Variance ratio')\n",
        "plt.step(np.linspace(1, x_tot.shape[1], x_tot.shape[1]), \n",
        "         np.cumsum(pca.explained_variance_ratio_), where='mid',\n",
        "         label='Sum of explained variance ratio')\n",
        "\n",
        "plt.ylabel('Explained variance', size=14)\n",
        "plt.xlabel('Number of principal components', size=14)\n",
        "plt.legend()\n",
        "\n",
        "plt.show()"
      ]
    },
    {
      "cell_type": "code",
      "execution_count": null,
      "metadata": {
        "id": "GgByulWiL3s8"
      },
      "outputs": [],
      "source": [
        "drop_cols = ['UFRESID', 'UFNASC', 'TMOAPOS']\n",
        "\n",
        "df_ret1 = df_limpo.drop(columns=drop_cols)\n",
        "df_ret1.head(2)"
      ]
    },
    {
      "cell_type": "code",
      "execution_count": null,
      "metadata": {
        "id": "FqFxzvJvMgG-"
      },
      "outputs": [],
      "source": [
        "x_ret1, _, _ = train_preprocessing(df_ret1)\n",
        "\n",
        "# pca = PCA()\n",
        "principalComponents = pca.fit_transform(x_ret1)"
      ]
    },
    {
      "cell_type": "code",
      "execution_count": null,
      "metadata": {
        "id": "J3cCvIC5Mkql"
      },
      "outputs": [],
      "source": [
        "plt.figure(figsize=(15, 8))\n",
        "\n",
        "plt.bar(np.linspace(1, x_ret1.shape[1], x_ret1.shape[1]), \n",
        "        pca.explained_variance_ratio_, alpha=0.5, align='center', \n",
        "        label='Variance ratio')\n",
        "plt.step(np.linspace(1, x_ret1.shape[1], x_ret1.shape[1]), \n",
        "         np.cumsum(pca.explained_variance_ratio_), where='mid',\n",
        "         label='Sum of explained variance ratio')\n",
        "\n",
        "plt.ylabel('Explained variance', size=14)\n",
        "plt.xlabel('Number of principal components', size=14)\n",
        "plt.legend()\n",
        "\n",
        "plt.show()"
      ]
    },
    {
      "cell_type": "code",
      "execution_count": null,
      "metadata": {
        "id": "6cQGFrCNvIcX"
      },
      "outputs": [],
      "source": [
        "drop = ['TOPO', 'TOPOGRUP', 'T', 'N', 'M', 'NAOTRAT', 'TRATAMENTO', 'TRATFAPOS',\n",
        "        'NENHUMAPOS', 'CIRURAPOS', 'RADIOAPOS', 'QUIMIOAPOS', 'HORMOAPOS', \n",
        "        'IMUNOAPOS', 'OUTROAPOS', 'RECLOCAL', 'RECREGIO', 'RECDIST', 'HABILIT']\n",
        "\n",
        "df_ret2 = df_ret1.drop(columns=drop)\n",
        "df_ret2.head(2)"
      ]
    },
    {
      "cell_type": "code",
      "execution_count": null,
      "metadata": {
        "id": "wg55PQg3NM8w"
      },
      "outputs": [],
      "source": [
        "x_ret2, _, _ = train_preprocessing(df_ret2)\n",
        "\n",
        "# pca = PCA()\n",
        "principalComponents = pca.fit_transform(x_ret2)"
      ]
    },
    {
      "cell_type": "code",
      "execution_count": null,
      "metadata": {
        "id": "5XFcMf-MNPML"
      },
      "outputs": [],
      "source": [
        "plt.figure(figsize=(15, 8))\n",
        "\n",
        "plt.bar(np.linspace(1, x_ret2.shape[1], x_ret2.shape[1]), \n",
        "        pca.explained_variance_ratio_, alpha=0.5, align='center', \n",
        "        label='Variance ratio')\n",
        "plt.step(np.linspace(1, x_ret2.shape[1], x_ret2.shape[1]), \n",
        "         np.cumsum(pca.explained_variance_ratio_), where='mid',\n",
        "         label='Sum of explained variance ratio')\n",
        "\n",
        "plt.ylabel('Explained variance', size=14)\n",
        "plt.xlabel('Number of principal components', size=14)\n",
        "plt.legend()\n",
        "\n",
        "plt.show()"
      ]
    }
  ],
  "metadata": {
    "colab": {
      "collapsed_sections": [
        "LPae7x8J38aH",
        "WFF7F08l-69r",
        "boYaJCOJc7l_",
        "KrtScl3y0RJD",
        "g9czgDBf_LMN",
        "CrlKtj_4_OeH",
        "9YR3fsPLo1w1",
        "p-XaH_Hk6qd-",
        "OfHyooqt_o1z",
        "0NHDr4E9_o10",
        "c_E_Zn3c6slZ",
        "rfO7gQ5BJz5V",
        "ZheaeDLZUWJh",
        "TqTkS24FQyge",
        "7vcqYVidnKcJ",
        "G-7AJxiqAfK0",
        "nAswfUChAaCI",
        "10pDSFI9RS1g",
        "kpOqDcPiRdSr",
        "FymjKaCQQTO4",
        "R3XOLjoLI6KK",
        "uCaln4yDQg9l",
        "TxBQj1tuR1zz",
        "r1RxntQrR-L5",
        "VxHstXz5oACm",
        "-O8qZqMNpb0o",
        "LEvrA6yIpaX7",
        "gFGUYhdDLQRk",
        "6kMEltD5kqXx",
        "szGQwL8iVN8V",
        "BYXCXeSclD9W",
        "6syIujtClMep",
        "QYlf_a6BlhMX",
        "NPUQy2jgdn15",
        "EXs-tiaiVO1l",
        "TdRaJ910s1uJ",
        "WP4zex4i3cw8",
        "E7HU7c1yDHVP",
        "AFVw4Xenh_as",
        "k_QaVtjnztXe",
        "8WVIfoHVUJD5",
        "Dhhu_98sWwEQ",
        "RueRGXrmXp6z",
        "dYcJTcD-Xs7x",
        "UNVmfqcPXxAi",
        "k9nkbPZQfrsF"
      ],
      "name": "mouth_oropharynx_preprocessing.ipynb",
      "provenance": [],
      "include_colab_link": true
    },
    "kernelspec": {
      "display_name": "Python 3",
      "name": "python3"
    },
    "language_info": {
      "name": "python"
    }
  },
  "nbformat": 4,
  "nbformat_minor": 0
}