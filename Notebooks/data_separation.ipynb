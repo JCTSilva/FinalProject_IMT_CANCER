{
  "nbformat": 4,
  "nbformat_minor": 0,
  "metadata": {
    "colab": {
      "name": "data_separation.ipynb",
      "provenance": [],
      "collapsed_sections": [
        "NSJS3mcWM3jc",
        "earjDGqBB1jc",
        "rWln4QtJjsHd",
        "hg9ow8g8li9F",
        "pBxAq4M7lshE",
        "QGKtL0GKlwfc",
        "5jRNd7S_l0dl",
        "i7AyP4LkWjda",
        "yXj62vWqu-Dx"
      ],
      "mount_file_id": "1rSsxZSFIAI9fJasbl36wkLtm6E0ugZ7m",
      "authorship_tag": "ABX9TyNeOh2f3qZad6xnDfNWgF2D",
      "include_colab_link": true
    },
    "kernelspec": {
      "name": "python3",
      "display_name": "Python 3"
    },
    "language_info": {
      "name": "python"
    }
  },
  "cells": [
    {
      "cell_type": "markdown",
      "metadata": {
        "id": "view-in-github",
        "colab_type": "text"
      },
      "source": [
        "<a href=\"https://colab.research.google.com/github/JCTSilva/FinalProject_IMT_CANCER/blob/main/Notebooks/data_separation.ipynb\" target=\"_parent\"><img src=\"https://colab.research.google.com/assets/colab-badge.svg\" alt=\"Open In Colab\"/></a>"
      ]
    },
    {
      "cell_type": "markdown",
      "source": [
        "# **Data information, functions and libraries**"
      ],
      "metadata": {
        "id": "mS5rsS4nL2cF"
      }
    },
    {
      "cell_type": "markdown",
      "source": [
        "## **Data importing**"
      ],
      "metadata": {
        "id": "5TpOxVtr5Xrh"
      }
    },
    {
      "cell_type": "code",
      "execution_count": 26,
      "metadata": {
        "colab": {
          "base_uri": "https://localhost:8080/"
        },
        "id": "Vu8XaZrRvbjT",
        "outputId": "fbda9b73-0979-45ab-cdb8-b5ce37205632"
      },
      "outputs": [
        {
          "output_type": "stream",
          "name": "stdout",
          "text": [
            "Looking in indexes: https://pypi.org/simple, https://us-python.pkg.dev/colab-wheels/public/simple/\n",
            "Requirement already satisfied: gdown in /usr/local/lib/python3.7/dist-packages (4.4.0)\n",
            "Requirement already satisfied: six in /usr/local/lib/python3.7/dist-packages (from gdown) (1.15.0)\n",
            "Requirement already satisfied: filelock in /usr/local/lib/python3.7/dist-packages (from gdown) (3.7.1)\n",
            "Requirement already satisfied: tqdm in /usr/local/lib/python3.7/dist-packages (from gdown) (4.64.0)\n",
            "Requirement already satisfied: requests[socks] in /usr/local/lib/python3.7/dist-packages (from gdown) (2.23.0)\n",
            "Requirement already satisfied: beautifulsoup4 in /usr/local/lib/python3.7/dist-packages (from gdown) (4.6.3)\n",
            "Requirement already satisfied: idna<3,>=2.5 in /usr/local/lib/python3.7/dist-packages (from requests[socks]->gdown) (2.10)\n",
            "Requirement already satisfied: urllib3!=1.25.0,!=1.25.1,<1.26,>=1.21.1 in /usr/local/lib/python3.7/dist-packages (from requests[socks]->gdown) (1.24.3)\n",
            "Requirement already satisfied: chardet<4,>=3.0.2 in /usr/local/lib/python3.7/dist-packages (from requests[socks]->gdown) (3.0.4)\n",
            "Requirement already satisfied: certifi>=2017.4.17 in /usr/local/lib/python3.7/dist-packages (from requests[socks]->gdown) (2022.6.15)\n",
            "Requirement already satisfied: PySocks!=1.5.7,>=1.5.6 in /usr/local/lib/python3.7/dist-packages (from requests[socks]->gdown) (1.7.1)\n"
          ]
        }
      ],
      "source": [
        "!pip install gdown"
      ]
    },
    {
      "cell_type": "markdown",
      "source": [
        "## **Functions**"
      ],
      "metadata": {
        "id": "nvsMm0RLMFhM"
      }
    },
    {
      "cell_type": "code",
      "source": [
        "def feature_selection(data_frame, col, feat):\n",
        "  data_f = data_frame.loc[data_frame[col] == feat]\n",
        "  return data_f"
      ],
      "metadata": {
        "id": "jj-x8goEgsgu"
      },
      "execution_count": 27,
      "outputs": []
    },
    {
      "cell_type": "markdown",
      "source": [
        "## **Libraries**"
      ],
      "metadata": {
        "id": "cRoDPk-9MRkb"
      }
    },
    {
      "cell_type": "code",
      "source": [
        "## Todas as bibliotecas utilizadas no projeto\n",
        "import pandas as pd\n",
        "import numpy as np\n",
        "import gdown"
      ],
      "metadata": {
        "id": "-gJ7v10vMUdj"
      },
      "execution_count": 28,
      "outputs": []
    },
    {
      "cell_type": "markdown",
      "source": [
        "# **Data first treatment**"
      ],
      "metadata": {
        "id": "RVLKWfu5Mr8M"
      }
    },
    {
      "cell_type": "markdown",
      "source": [
        "## **Reading data**"
      ],
      "metadata": {
        "id": "NSJS3mcWM3jc"
      }
    },
    {
      "cell_type": "code",
      "execution_count": 29,
      "metadata": {
        "colab": {
          "base_uri": "https://localhost:8080/",
          "height": 105
        },
        "id": "RzeyQ5pqM8Kp",
        "outputId": "2cdd733d-f39e-4eb9-d5b7-20e21e039dbb"
      },
      "outputs": [
        {
          "output_type": "stream",
          "name": "stderr",
          "text": [
            "Downloading...\n",
            "From: https://drive.google.com/uc?id=1iISItpvWTJ0Tdao5Hrg-_p9mQhUsCBAL\n",
            "To: /content/paci_complete.csv\n",
            "100%|██████████| 461M/461M [00:02<00:00, 192MB/s]\n"
          ]
        },
        {
          "output_type": "execute_result",
          "data": {
            "text/plain": [
              "'paci_complete.csv'"
            ],
            "application/vnd.google.colaboratory.intrinsic+json": {
              "type": "string"
            }
          },
          "metadata": {},
          "execution_count": 29
        }
      ],
      "source": [
        "# Install the file with the file ID in Google Drive\n",
        "id = \"1iISItpvWTJ0Tdao5Hrg-_p9mQhUsCBAL\"\n",
        "output = \"paci_complete.csv\"\n",
        "gdown.download(id=id, output=output, quiet=False)"
      ]
    },
    {
      "cell_type": "code",
      "execution_count": 30,
      "metadata": {
        "colab": {
          "base_uri": "https://localhost:8080/",
          "height": 270
        },
        "id": "tiKhKkNxbO18",
        "outputId": "56884066-4f46-4631-de7e-22310de93cc3"
      },
      "outputs": [
        {
          "output_type": "stream",
          "name": "stderr",
          "text": [
            "/usr/local/lib/python3.7/dist-packages/IPython/core/interactiveshell.py:2882: DtypeWarning: Columns (78,91) have mixed types.Specify dtype option on import or set low_memory=False.\n",
            "  exec(code_obj, self.user_global_ns, self.user_ns)\n"
          ]
        },
        {
          "output_type": "execute_result",
          "data": {
            "text/plain": [
              "   ESCOLARI  IDADE  SEXO UFNASC UFRESID     IBGE       CIDADE  CATEATEND  \\\n",
              "0         3     84     1     SP      SP  3512308      CONCHAS          2   \n",
              "1         9     61     2     SP      SP  3503307       ARARAS          9   \n",
              "2         9     83     2     SP      SP  3503307       ARARAS          9   \n",
              "3         9     83     1     SP      SP  3503307       ARARAS          9   \n",
              "4         9     45     2     SP      SP  3551009  SAO VICENTE          1   \n",
              "\n",
              "    DTCONSULT  CLINICA  ...  REC03 REC04  IBGEATEN   CIDO  \\\n",
              "0  2014-02-24       12  ...    NaN   NaN   3503307  82113   \n",
              "1  2011-06-28       23  ...    NaN   NaN   3503307  80003   \n",
              "2  2011-04-27       23  ...    NaN   NaN   3503307  80703   \n",
              "3  2011-03-09       23  ...    NaN   NaN   3503307  80103   \n",
              "4  2020-11-12       31  ...    NaN   NaN   3548500  80103   \n",
              "\n",
              "                       DSCCIDO HABILIT                             HABIT11  \\\n",
              "0       ADENOCARCINOMA TUBULAR       1                              UNACON   \n",
              "1            NEOPLASIA MALIGNA       1                              UNACON   \n",
              "2  CARCINOMA ESCAMOCELULAR SOE       1                              UNACON   \n",
              "3                CARCINOMA SOE       1                              UNACON   \n",
              "4                CARCINOMA SOE       2  UNACON com Serviço de Radioterapia   \n",
              "\n",
              "  HABILIT1 HABILIT2 CIDADEH  \n",
              "0        1        1  Araras  \n",
              "1        1        1  Araras  \n",
              "2        1        1  Araras  \n",
              "3        1        1  Araras  \n",
              "4        1        1  Santos  \n",
              "\n",
              "[5 rows x 100 columns]"
            ],
            "text/html": [
              "\n",
              "  <div id=\"df-726f7779-d3c7-4fc7-9b1b-9d5d6435a4fa\">\n",
              "    <div class=\"colab-df-container\">\n",
              "      <div>\n",
              "<style scoped>\n",
              "    .dataframe tbody tr th:only-of-type {\n",
              "        vertical-align: middle;\n",
              "    }\n",
              "\n",
              "    .dataframe tbody tr th {\n",
              "        vertical-align: top;\n",
              "    }\n",
              "\n",
              "    .dataframe thead th {\n",
              "        text-align: right;\n",
              "    }\n",
              "</style>\n",
              "<table border=\"1\" class=\"dataframe\">\n",
              "  <thead>\n",
              "    <tr style=\"text-align: right;\">\n",
              "      <th></th>\n",
              "      <th>ESCOLARI</th>\n",
              "      <th>IDADE</th>\n",
              "      <th>SEXO</th>\n",
              "      <th>UFNASC</th>\n",
              "      <th>UFRESID</th>\n",
              "      <th>IBGE</th>\n",
              "      <th>CIDADE</th>\n",
              "      <th>CATEATEND</th>\n",
              "      <th>DTCONSULT</th>\n",
              "      <th>CLINICA</th>\n",
              "      <th>...</th>\n",
              "      <th>REC03</th>\n",
              "      <th>REC04</th>\n",
              "      <th>IBGEATEN</th>\n",
              "      <th>CIDO</th>\n",
              "      <th>DSCCIDO</th>\n",
              "      <th>HABILIT</th>\n",
              "      <th>HABIT11</th>\n",
              "      <th>HABILIT1</th>\n",
              "      <th>HABILIT2</th>\n",
              "      <th>CIDADEH</th>\n",
              "    </tr>\n",
              "  </thead>\n",
              "  <tbody>\n",
              "    <tr>\n",
              "      <th>0</th>\n",
              "      <td>3</td>\n",
              "      <td>84</td>\n",
              "      <td>1</td>\n",
              "      <td>SP</td>\n",
              "      <td>SP</td>\n",
              "      <td>3512308</td>\n",
              "      <td>CONCHAS</td>\n",
              "      <td>2</td>\n",
              "      <td>2014-02-24</td>\n",
              "      <td>12</td>\n",
              "      <td>...</td>\n",
              "      <td>NaN</td>\n",
              "      <td>NaN</td>\n",
              "      <td>3503307</td>\n",
              "      <td>82113</td>\n",
              "      <td>ADENOCARCINOMA TUBULAR</td>\n",
              "      <td>1</td>\n",
              "      <td>UNACON</td>\n",
              "      <td>1</td>\n",
              "      <td>1</td>\n",
              "      <td>Araras</td>\n",
              "    </tr>\n",
              "    <tr>\n",
              "      <th>1</th>\n",
              "      <td>9</td>\n",
              "      <td>61</td>\n",
              "      <td>2</td>\n",
              "      <td>SP</td>\n",
              "      <td>SP</td>\n",
              "      <td>3503307</td>\n",
              "      <td>ARARAS</td>\n",
              "      <td>9</td>\n",
              "      <td>2011-06-28</td>\n",
              "      <td>23</td>\n",
              "      <td>...</td>\n",
              "      <td>NaN</td>\n",
              "      <td>NaN</td>\n",
              "      <td>3503307</td>\n",
              "      <td>80003</td>\n",
              "      <td>NEOPLASIA MALIGNA</td>\n",
              "      <td>1</td>\n",
              "      <td>UNACON</td>\n",
              "      <td>1</td>\n",
              "      <td>1</td>\n",
              "      <td>Araras</td>\n",
              "    </tr>\n",
              "    <tr>\n",
              "      <th>2</th>\n",
              "      <td>9</td>\n",
              "      <td>83</td>\n",
              "      <td>2</td>\n",
              "      <td>SP</td>\n",
              "      <td>SP</td>\n",
              "      <td>3503307</td>\n",
              "      <td>ARARAS</td>\n",
              "      <td>9</td>\n",
              "      <td>2011-04-27</td>\n",
              "      <td>23</td>\n",
              "      <td>...</td>\n",
              "      <td>NaN</td>\n",
              "      <td>NaN</td>\n",
              "      <td>3503307</td>\n",
              "      <td>80703</td>\n",
              "      <td>CARCINOMA ESCAMOCELULAR SOE</td>\n",
              "      <td>1</td>\n",
              "      <td>UNACON</td>\n",
              "      <td>1</td>\n",
              "      <td>1</td>\n",
              "      <td>Araras</td>\n",
              "    </tr>\n",
              "    <tr>\n",
              "      <th>3</th>\n",
              "      <td>9</td>\n",
              "      <td>83</td>\n",
              "      <td>1</td>\n",
              "      <td>SP</td>\n",
              "      <td>SP</td>\n",
              "      <td>3503307</td>\n",
              "      <td>ARARAS</td>\n",
              "      <td>9</td>\n",
              "      <td>2011-03-09</td>\n",
              "      <td>23</td>\n",
              "      <td>...</td>\n",
              "      <td>NaN</td>\n",
              "      <td>NaN</td>\n",
              "      <td>3503307</td>\n",
              "      <td>80103</td>\n",
              "      <td>CARCINOMA SOE</td>\n",
              "      <td>1</td>\n",
              "      <td>UNACON</td>\n",
              "      <td>1</td>\n",
              "      <td>1</td>\n",
              "      <td>Araras</td>\n",
              "    </tr>\n",
              "    <tr>\n",
              "      <th>4</th>\n",
              "      <td>9</td>\n",
              "      <td>45</td>\n",
              "      <td>2</td>\n",
              "      <td>SP</td>\n",
              "      <td>SP</td>\n",
              "      <td>3551009</td>\n",
              "      <td>SAO VICENTE</td>\n",
              "      <td>1</td>\n",
              "      <td>2020-11-12</td>\n",
              "      <td>31</td>\n",
              "      <td>...</td>\n",
              "      <td>NaN</td>\n",
              "      <td>NaN</td>\n",
              "      <td>3548500</td>\n",
              "      <td>80103</td>\n",
              "      <td>CARCINOMA SOE</td>\n",
              "      <td>2</td>\n",
              "      <td>UNACON com Serviço de Radioterapia</td>\n",
              "      <td>1</td>\n",
              "      <td>1</td>\n",
              "      <td>Santos</td>\n",
              "    </tr>\n",
              "  </tbody>\n",
              "</table>\n",
              "<p>5 rows × 100 columns</p>\n",
              "</div>\n",
              "      <button class=\"colab-df-convert\" onclick=\"convertToInteractive('df-726f7779-d3c7-4fc7-9b1b-9d5d6435a4fa')\"\n",
              "              title=\"Convert this dataframe to an interactive table.\"\n",
              "              style=\"display:none;\">\n",
              "        \n",
              "  <svg xmlns=\"http://www.w3.org/2000/svg\" height=\"24px\"viewBox=\"0 0 24 24\"\n",
              "       width=\"24px\">\n",
              "    <path d=\"M0 0h24v24H0V0z\" fill=\"none\"/>\n",
              "    <path d=\"M18.56 5.44l.94 2.06.94-2.06 2.06-.94-2.06-.94-.94-2.06-.94 2.06-2.06.94zm-11 1L8.5 8.5l.94-2.06 2.06-.94-2.06-.94L8.5 2.5l-.94 2.06-2.06.94zm10 10l.94 2.06.94-2.06 2.06-.94-2.06-.94-.94-2.06-.94 2.06-2.06.94z\"/><path d=\"M17.41 7.96l-1.37-1.37c-.4-.4-.92-.59-1.43-.59-.52 0-1.04.2-1.43.59L10.3 9.45l-7.72 7.72c-.78.78-.78 2.05 0 2.83L4 21.41c.39.39.9.59 1.41.59.51 0 1.02-.2 1.41-.59l7.78-7.78 2.81-2.81c.8-.78.8-2.07 0-2.86zM5.41 20L4 18.59l7.72-7.72 1.47 1.35L5.41 20z\"/>\n",
              "  </svg>\n",
              "      </button>\n",
              "      \n",
              "  <style>\n",
              "    .colab-df-container {\n",
              "      display:flex;\n",
              "      flex-wrap:wrap;\n",
              "      gap: 12px;\n",
              "    }\n",
              "\n",
              "    .colab-df-convert {\n",
              "      background-color: #E8F0FE;\n",
              "      border: none;\n",
              "      border-radius: 50%;\n",
              "      cursor: pointer;\n",
              "      display: none;\n",
              "      fill: #1967D2;\n",
              "      height: 32px;\n",
              "      padding: 0 0 0 0;\n",
              "      width: 32px;\n",
              "    }\n",
              "\n",
              "    .colab-df-convert:hover {\n",
              "      background-color: #E2EBFA;\n",
              "      box-shadow: 0px 1px 2px rgba(60, 64, 67, 0.3), 0px 1px 3px 1px rgba(60, 64, 67, 0.15);\n",
              "      fill: #174EA6;\n",
              "    }\n",
              "\n",
              "    [theme=dark] .colab-df-convert {\n",
              "      background-color: #3B4455;\n",
              "      fill: #D2E3FC;\n",
              "    }\n",
              "\n",
              "    [theme=dark] .colab-df-convert:hover {\n",
              "      background-color: #434B5C;\n",
              "      box-shadow: 0px 1px 3px 1px rgba(0, 0, 0, 0.15);\n",
              "      filter: drop-shadow(0px 1px 2px rgba(0, 0, 0, 0.3));\n",
              "      fill: #FFFFFF;\n",
              "    }\n",
              "  </style>\n",
              "\n",
              "      <script>\n",
              "        const buttonEl =\n",
              "          document.querySelector('#df-726f7779-d3c7-4fc7-9b1b-9d5d6435a4fa button.colab-df-convert');\n",
              "        buttonEl.style.display =\n",
              "          google.colab.kernel.accessAllowed ? 'block' : 'none';\n",
              "\n",
              "        async function convertToInteractive(key) {\n",
              "          const element = document.querySelector('#df-726f7779-d3c7-4fc7-9b1b-9d5d6435a4fa');\n",
              "          const dataTable =\n",
              "            await google.colab.kernel.invokeFunction('convertToInteractive',\n",
              "                                                     [key], {});\n",
              "          if (!dataTable) return;\n",
              "\n",
              "          const docLinkHtml = 'Like what you see? Visit the ' +\n",
              "            '<a target=\"_blank\" href=https://colab.research.google.com/notebooks/data_table.ipynb>data table notebook</a>'\n",
              "            + ' to learn more about interactive tables.';\n",
              "          element.innerHTML = '';\n",
              "          dataTable['output_type'] = 'display_data';\n",
              "          await google.colab.output.renderOutput(dataTable, element);\n",
              "          const docLink = document.createElement('div');\n",
              "          docLink.innerHTML = docLinkHtml;\n",
              "          element.appendChild(docLink);\n",
              "        }\n",
              "      </script>\n",
              "    </div>\n",
              "  </div>\n",
              "  "
            ]
          },
          "metadata": {},
          "execution_count": 30
        }
      ],
      "source": [
        "data = pd.read_csv('/content/paci_complete.csv')\n",
        "data.head()"
      ]
    },
    {
      "cell_type": "code",
      "source": [
        "data.shape"
      ],
      "metadata": {
        "id": "ozEYYfWR5EkN",
        "colab": {
          "base_uri": "https://localhost:8080/"
        },
        "outputId": "345f5a59-cff1-4454-b248-fc26afd7f786"
      },
      "execution_count": 31,
      "outputs": [
        {
          "output_type": "execute_result",
          "data": {
            "text/plain": [
              "(1048575, 100)"
            ]
          },
          "metadata": {},
          "execution_count": 31
        }
      ]
    },
    {
      "cell_type": "markdown",
      "source": [
        "## **General features selection**\n",
        "\n",
        "ANODIAG: 2000-2017\n",
        "\n",
        "CATEATEND: 2 - SUS\n",
        "\n",
        "MORFOLOGIAS: 80703, 80723, 80733, 80743\n",
        "\n",
        "ECGRUP: I, II, III, IV\n",
        "\n",
        "HABILIT2: 4 - VOLUNTÁRIOS"
      ],
      "metadata": {
        "id": "earjDGqBB1jc"
      }
    },
    {
      "cell_type": "code",
      "source": [
        "df = data[['ESCOLARI', 'IDADE', 'SEXO', 'UFNASC', 'UFRESID', 'IBGE', 'CIDADE', 'CATEATEND', 'DTCONSULT',\n",
        "      'DIAGPREV', 'DTDIAG', 'BASEDIAG', 'TOPO', 'TOPOGRUP', 'DESCTOPO', 'MORFO', 'DESCMORFO', 'EC',\n",
        "      'ECGRUP', 'DTTRAT', 'NAOTRAT', 'TRATAMENTO', 'TRATHOSP', 'TRATFAPOS', 'CIRURGIA', 'RADIO', 'QUIMIO',\n",
        "      'TMO', 'OUTROS', 'NENHUMAPOS', 'CIRURAPOS', 'RADIOAPOS', 'QUIMIOAPOS', 'HORMOAPOS', 'TMOAPOS', 'IMUNOAPOS',\n",
        "      'OUTROAPOS', 'DTULTINFO', 'ULTINFO', 'CONSDIAG', 'TRATCONS', 'DIAGTRAT', 'ANODIAG', 'FAIXAETAR',\n",
        "      'DRS', 'RRAS', 'DTRECIDIVA', 'RECNENHUM', 'RECLOCAL', 'RECREGIO', 'RECDIST', 'REC01', 'REC02',\n",
        "      'REC03', 'REC04', 'IBGEATEN', 'CIDO', 'DSCCIDO', 'HABILIT2', 'CIDADEH']]\n",
        "\n",
        "df.shape"
      ],
      "metadata": {
        "colab": {
          "base_uri": "https://localhost:8080/"
        },
        "id": "Z-tJVF-JdhIg",
        "outputId": "7364088f-8ad3-4ff0-ac1a-0c8d5469372d"
      },
      "execution_count": 32,
      "outputs": [
        {
          "output_type": "execute_result",
          "data": {
            "text/plain": [
              "(1048575, 60)"
            ]
          },
          "metadata": {},
          "execution_count": 32
        }
      ]
    },
    {
      "cell_type": "markdown",
      "source": [
        "### **ANODIAG: 2000-2017**"
      ],
      "metadata": {
        "id": "rWln4QtJjsHd"
      }
    },
    {
      "cell_type": "code",
      "source": [
        "anodiag = df.ANODIAG.value_counts()[[2000,2001,2002,2003,2004,2005,\n",
        "                           2006,2007,2008,2009,2010,2011,\n",
        "                           2012,2013,2014,2015,2016,2017]]\n",
        "print('There are {} lines and each feature amount is:\\n\\n{}'.format(anodiag.sum(), anodiag))\n"
      ],
      "metadata": {
        "colab": {
          "base_uri": "https://localhost:8080/"
        },
        "id": "JHqqO3zxqR9i",
        "outputId": "47a6ed01-80b5-46b1-f9db-875505fe9ba9"
      },
      "execution_count": 33,
      "outputs": [
        {
          "output_type": "stream",
          "name": "stdout",
          "text": [
            "There are 873992 lines and each feature amount is:\n",
            "\n",
            "2000    27979\n",
            "2001    30990\n",
            "2002    34389\n",
            "2003    35764\n",
            "2004    38549\n",
            "2005    42367\n",
            "2006    41536\n",
            "2007    43032\n",
            "2008    45864\n",
            "2009    49216\n",
            "2010    51586\n",
            "2011    57014\n",
            "2012    58769\n",
            "2013    62599\n",
            "2014    65720\n",
            "2015    63753\n",
            "2016    62848\n",
            "2017    62017\n",
            "Name: ANODIAG, dtype: int64\n"
          ]
        }
      ]
    },
    {
      "cell_type": "code",
      "source": [
        "dfv1 = pd.concat([feature_selection(df, 'ANODIAG', 2000),\n",
        "                feature_selection(df, 'ANODIAG', 2001),\n",
        "                feature_selection(df, 'ANODIAG', 2002),\n",
        "                feature_selection(df, 'ANODIAG', 2003),\n",
        "                feature_selection(df, 'ANODIAG', 2004),\n",
        "                feature_selection(df, 'ANODIAG', 2005),\n",
        "                feature_selection(df, 'ANODIAG', 2006),\n",
        "                feature_selection(df, 'ANODIAG', 2007),\n",
        "                feature_selection(df, 'ANODIAG', 2008),\n",
        "                feature_selection(df, 'ANODIAG', 2009),\n",
        "                feature_selection(df, 'ANODIAG', 2010),\n",
        "                feature_selection(df, 'ANODIAG', 2011),\n",
        "                feature_selection(df, 'ANODIAG', 2012),\n",
        "                feature_selection(df, 'ANODIAG', 2013),\n",
        "                feature_selection(df, 'ANODIAG', 2014),\n",
        "                feature_selection(df, 'ANODIAG', 2015),\n",
        "                feature_selection(df, 'ANODIAG', 2016),\n",
        "                feature_selection(df, 'ANODIAG', 2017)], ignore_index=True)\n",
        "dfv1.shape"
      ],
      "metadata": {
        "colab": {
          "base_uri": "https://localhost:8080/"
        },
        "id": "HR2fe_AdhQvn",
        "outputId": "a63dace4-4dac-4ac6-abbd-42120cbfda7d"
      },
      "execution_count": 34,
      "outputs": [
        {
          "output_type": "execute_result",
          "data": {
            "text/plain": [
              "(873992, 60)"
            ]
          },
          "metadata": {},
          "execution_count": 34
        }
      ]
    },
    {
      "cell_type": "markdown",
      "source": [
        "### **CATEATEND: 2 - SUS**"
      ],
      "metadata": {
        "id": "hg9ow8g8li9F"
      }
    },
    {
      "cell_type": "code",
      "source": [
        "dfv1.CATEATEND.value_counts()[[2]]\n",
        "\n",
        "cateatend = dfv1.CATEATEND.value_counts()[[2]]\n",
        "print('There are {} lines and each feature amount is:\\n\\n{}'.format(cateatend.sum(), cateatend))"
      ],
      "metadata": {
        "colab": {
          "base_uri": "https://localhost:8080/"
        },
        "id": "tPy0l335n9Lr",
        "outputId": "99c24f5d-acc8-451b-d8bd-3c63fb9320e7"
      },
      "execution_count": 35,
      "outputs": [
        {
          "output_type": "stream",
          "name": "stdout",
          "text": [
            "There are 401626 lines and each feature amount is:\n",
            "\n",
            "2    401626\n",
            "Name: CATEATEND, dtype: int64\n"
          ]
        }
      ]
    },
    {
      "cell_type": "code",
      "source": [
        "dfv1 = feature_selection(dfv1, 'CATEATEND', 2)\n",
        "dfv1.shape"
      ],
      "metadata": {
        "colab": {
          "base_uri": "https://localhost:8080/"
        },
        "id": "54ZuZW9onsXL",
        "outputId": "a97bc6b4-6940-41ab-89cc-d6f627065857"
      },
      "execution_count": 36,
      "outputs": [
        {
          "output_type": "execute_result",
          "data": {
            "text/plain": [
              "(401626, 60)"
            ]
          },
          "metadata": {},
          "execution_count": 36
        }
      ]
    },
    {
      "cell_type": "markdown",
      "source": [
        "### **MORFO: 80703, 80723, 80733, 80743**"
      ],
      "metadata": {
        "id": "pBxAq4M7lshE"
      }
    },
    {
      "cell_type": "code",
      "source": [
        "morfo = dfv1.MORFO.value_counts()[[80703, 80723, 80733, 80743]]\n",
        "print('There are {} lines and each feature amount is:\\n\\n{}'.format(morfo.sum(), morfo))"
      ],
      "metadata": {
        "outputId": "4d8236e6-a351-410f-fb5c-30722633174c",
        "colab": {
          "base_uri": "https://localhost:8080/"
        },
        "id": "mn7k2AfgpIgI"
      },
      "execution_count": 37,
      "outputs": [
        {
          "output_type": "stream",
          "name": "stdout",
          "text": [
            "There are 66713 lines and each feature amount is:\n",
            "\n",
            "80703    66393\n",
            "80723      156\n",
            "80733       43\n",
            "80743      121\n",
            "Name: MORFO, dtype: int64\n"
          ]
        }
      ]
    },
    {
      "cell_type": "code",
      "source": [
        "dfv1 = pd.concat([feature_selection(dfv1, 'MORFO', 80703), \n",
        "                  feature_selection(dfv1, 'MORFO', 80723), \n",
        "                  feature_selection(dfv1, 'MORFO', 80733), \n",
        "                  feature_selection(dfv1, 'MORFO', 80743)], ignore_index=True)\n",
        "dfv1.shape"
      ],
      "metadata": {
        "colab": {
          "base_uri": "https://localhost:8080/"
        },
        "outputId": "e856118d-cdce-4bde-fbbb-1918c017c6ca",
        "id": "Dt7rUlXKpIgJ"
      },
      "execution_count": 38,
      "outputs": [
        {
          "output_type": "execute_result",
          "data": {
            "text/plain": [
              "(66713, 60)"
            ]
          },
          "metadata": {},
          "execution_count": 38
        }
      ]
    },
    {
      "cell_type": "markdown",
      "source": [
        "### **ECGRUP: I, II, III, IV**"
      ],
      "metadata": {
        "id": "QGKtL0GKlwfc"
      }
    },
    {
      "cell_type": "code",
      "source": [
        "ecgrup = dfv1.ECGRUP.value_counts()[['I', 'II', 'III', 'IV']]\n",
        "print('There are {} lines and each feature amount is:\\n\\n{}'.format(ecgrup.sum(), ecgrup))"
      ],
      "metadata": {
        "outputId": "530ff6c1-201f-43be-a37a-c24a022a43b9",
        "colab": {
          "base_uri": "https://localhost:8080/"
        },
        "id": "ag9BWu4VrwY4"
      },
      "execution_count": 39,
      "outputs": [
        {
          "output_type": "stream",
          "name": "stdout",
          "text": [
            "There are 62791 lines and each feature amount is:\n",
            "\n",
            "I      21629\n",
            "II     10119\n",
            "III    10908\n",
            "IV     20135\n",
            "Name: ECGRUP, dtype: int64\n"
          ]
        }
      ]
    },
    {
      "cell_type": "code",
      "source": [
        "dfv1 = pd.concat([feature_selection(dfv1, 'ECGRUP', 'I'), \n",
        "                  feature_selection(dfv1, 'ECGRUP', 'II'), \n",
        "                  feature_selection(dfv1, 'ECGRUP', 'III'), \n",
        "                  feature_selection(dfv1, 'ECGRUP', 'IV')], ignore_index=True)\n",
        "dfv1.shape"
      ],
      "metadata": {
        "colab": {
          "base_uri": "https://localhost:8080/"
        },
        "id": "JmHw91rCsXTz",
        "outputId": "1174faaa-59f0-4e15-b2b8-9b58b6dde1d2"
      },
      "execution_count": 40,
      "outputs": [
        {
          "output_type": "execute_result",
          "data": {
            "text/plain": [
              "(62791, 60)"
            ]
          },
          "metadata": {},
          "execution_count": 40
        }
      ]
    },
    {
      "cell_type": "markdown",
      "source": [
        "### **HABILIT2: 1,2,3,5**"
      ],
      "metadata": {
        "id": "5jRNd7S_l0dl"
      }
    },
    {
      "cell_type": "code",
      "source": [
        "habilit2 = dfv1.HABILIT2.value_counts()[[1,2,3,5]]\n",
        "print('There are {} lines and each feature amount is:\\n\\n{}'.format(habilit2.sum(), habilit2))"
      ],
      "metadata": {
        "colab": {
          "base_uri": "https://localhost:8080/"
        },
        "outputId": "f85d47d9-6cac-47f8-c1af-08f23fb7dde0",
        "id": "cBSZzBOJswV4"
      },
      "execution_count": 41,
      "outputs": [
        {
          "output_type": "stream",
          "name": "stdout",
          "text": [
            "There are 62571 lines and each feature amount is:\n",
            "\n",
            "1    22178\n",
            "2    39807\n",
            "3      467\n",
            "5      119\n",
            "Name: HABILIT2, dtype: int64\n"
          ]
        }
      ]
    },
    {
      "cell_type": "code",
      "source": [
        "dfv1 = pd.concat([feature_selection(dfv1, 'HABILIT2', 1), \n",
        "                  feature_selection(dfv1, 'HABILIT2', 2), \n",
        "                  feature_selection(dfv1, 'HABILIT2', 3), \n",
        "                  feature_selection(dfv1, 'HABILIT2', 5)], ignore_index=True)\n",
        "dfv1.shape"
      ],
      "metadata": {
        "colab": {
          "base_uri": "https://localhost:8080/"
        },
        "id": "CsjeU86StW1q",
        "outputId": "e4ba2eaa-1823-4ffc-f08f-862f4a5a01db"
      },
      "execution_count": 42,
      "outputs": [
        {
          "output_type": "execute_result",
          "data": {
            "text/plain": [
              "(62571, 60)"
            ]
          },
          "metadata": {},
          "execution_count": 42
        }
      ]
    },
    {
      "cell_type": "markdown",
      "source": [
        "## **Mouth**\n",
        "\n",
        "TOPO: C003, C004, C005, C006, C008, C009, C020, C021, C022, C023, C028, C029, C030, C031, C039, C040, C041, C048, C049, C050, C059, C060, C061, C062, C068, C069"
      ],
      "metadata": {
        "id": "i7AyP4LkWjda"
      }
    },
    {
      "cell_type": "code",
      "source": [
        "boca = dfv1.TOPO.value_counts()[['C003', 'C004', 'C005', 'C006', 'C008', 'C009', 'C020', 'C021',\n",
        "                                 'C022', 'C023', 'C028', 'C029', 'C030', 'C031', 'C039', 'C040',\n",
        "                                 'C041', 'C048', 'C049', 'C050', 'C059', 'C060', 'C061', 'C062',\n",
        "                                 'C068', 'C069']]\n",
        "print('There are {} lines and each feature amount is:\\n\\n{}'.format(boca.sum(), boca))"
      ],
      "metadata": {
        "colab": {
          "base_uri": "https://localhost:8080/"
        },
        "outputId": "8f2c5bf4-4b0b-4064-ae61-3c961c5eccaa",
        "id": "dtZkjYsStjsj"
      },
      "execution_count": 43,
      "outputs": [
        {
          "output_type": "stream",
          "name": "stdout",
          "text": [
            "There are 6249 lines and each feature amount is:\n",
            "\n",
            "C003       6\n",
            "C004      61\n",
            "C005      12\n",
            "C006      32\n",
            "C008       6\n",
            "C009      60\n",
            "C020     110\n",
            "C021     980\n",
            "C022      61\n",
            "C023      31\n",
            "C028     101\n",
            "C029    1463\n",
            "C030      56\n",
            "C031     178\n",
            "C039      78\n",
            "C040     222\n",
            "C041     113\n",
            "C048      77\n",
            "C049     962\n",
            "C050     215\n",
            "C059     169\n",
            "C060     208\n",
            "C061      20\n",
            "C062     497\n",
            "C068      16\n",
            "C069     515\n",
            "Name: TOPO, dtype: int64\n"
          ]
        }
      ]
    },
    {
      "cell_type": "code",
      "source": [
        "df_boca = pd.concat([feature_selection(dfv1, 'TOPO', 'C003'),\n",
        "                     feature_selection(dfv1, 'TOPO', 'C004'),\n",
        "                     feature_selection(dfv1, 'TOPO', 'C005'),\n",
        "                     feature_selection(dfv1, 'TOPO', 'C006'),\n",
        "                     feature_selection(dfv1, 'TOPO', 'C008'),\n",
        "                     feature_selection(dfv1, 'TOPO', 'C009'),\n",
        "                     feature_selection(dfv1, 'TOPO', 'C020'),\n",
        "                     feature_selection(dfv1, 'TOPO', 'C021'),\n",
        "                     feature_selection(dfv1, 'TOPO', 'C022'),\n",
        "                     feature_selection(dfv1, 'TOPO', 'C023'),\n",
        "                     feature_selection(dfv1, 'TOPO', 'C028'),\n",
        "                     feature_selection(dfv1, 'TOPO', 'C029'),\n",
        "                     feature_selection(dfv1, 'TOPO', 'C030'),\n",
        "                     feature_selection(dfv1, 'TOPO', 'C031'),\n",
        "                     feature_selection(dfv1, 'TOPO', 'C039'),\n",
        "                     feature_selection(dfv1, 'TOPO', 'C040'),\n",
        "                     feature_selection(dfv1, 'TOPO', 'C041'),\n",
        "                     feature_selection(dfv1, 'TOPO', 'C048'),\n",
        "                     feature_selection(dfv1, 'TOPO', 'C049'),\n",
        "                     feature_selection(dfv1, 'TOPO', 'C050'),\n",
        "                     feature_selection(dfv1, 'TOPO', 'C059'),\n",
        "                     feature_selection(dfv1, 'TOPO', 'C060'),\n",
        "                     feature_selection(dfv1, 'TOPO', 'C061'),\n",
        "                     feature_selection(dfv1, 'TOPO', 'C062'),\n",
        "                     feature_selection(dfv1, 'TOPO', 'C068'),\n",
        "                     feature_selection(dfv1, 'TOPO', 'C069')], ignore_index=True)\n",
        "df_boca.shape"
      ],
      "metadata": {
        "outputId": "96968f2d-1ea8-435b-dbc7-dad07cf5c8d2",
        "colab": {
          "base_uri": "https://localhost:8080/"
        },
        "id": "Yn1zXmSItjsk"
      },
      "execution_count": 44,
      "outputs": [
        {
          "output_type": "execute_result",
          "data": {
            "text/plain": [
              "(6249, 60)"
            ]
          },
          "metadata": {},
          "execution_count": 44
        }
      ]
    },
    {
      "cell_type": "markdown",
      "source": [
        "## **Oropharynx**\n",
        "\n",
        "TOPO: C019, C051, C052, C058, C090, C091, C098, C099, C100, C101, C102, C103, C108, C109, * **C142 - não há** *"
      ],
      "metadata": {
        "id": "yXj62vWqu-Dx"
      }
    },
    {
      "cell_type": "code",
      "source": [
        "oro = dfv1.TOPO.value_counts()[['C019', 'C051', 'C052', 'C058', 'C090',\n",
        "                                'C091', 'C098', 'C099', 'C100', 'C101',\n",
        "                                'C102', 'C103', 'C108', 'C109']]\n",
        "print('There are {} lines and each feature amount is:\\n\\n{}'.format(oro.sum(), oro))"
      ],
      "metadata": {
        "colab": {
          "base_uri": "https://localhost:8080/"
        },
        "id": "F5HiBhgRvzuI",
        "outputId": "0a57d676-3ef6-431d-b761-8eb614b0b172"
      },
      "execution_count": 45,
      "outputs": [
        {
          "output_type": "stream",
          "name": "stdout",
          "text": [
            "There are 6293 lines and each feature amount is:\n",
            "\n",
            "C019    1751\n",
            "C051     750\n",
            "C052     120\n",
            "C058      52\n",
            "C090     200\n",
            "C091     266\n",
            "C098      60\n",
            "C099     705\n",
            "C100     128\n",
            "C101      56\n",
            "C102     233\n",
            "C103      88\n",
            "C108     253\n",
            "C109    1631\n",
            "Name: TOPO, dtype: int64\n"
          ]
        }
      ]
    },
    {
      "cell_type": "code",
      "source": [
        "df_oro = pd.concat([feature_selection(dfv1, 'TOPO', 'C019'),\n",
        "                    feature_selection(dfv1, 'TOPO', 'C051'),\n",
        "                    feature_selection(dfv1, 'TOPO', 'C052'),\n",
        "                    feature_selection(dfv1, 'TOPO', 'C058'),\n",
        "                    feature_selection(dfv1, 'TOPO', 'C090'),\n",
        "                    feature_selection(dfv1, 'TOPO', 'C091'),\n",
        "                    feature_selection(dfv1, 'TOPO', 'C098'),\n",
        "                    feature_selection(dfv1, 'TOPO', 'C099'),\n",
        "                    feature_selection(dfv1, 'TOPO', 'C100'),\n",
        "                    feature_selection(dfv1, 'TOPO', 'C101'),\n",
        "                    feature_selection(dfv1, 'TOPO', 'C102'),\n",
        "                    feature_selection(dfv1, 'TOPO', 'C103'),\n",
        "                    feature_selection(dfv1, 'TOPO', 'C108'),\n",
        "                    feature_selection(dfv1, 'TOPO', 'C109')], ignore_index=True)\n",
        "df_oro.shape"
      ],
      "metadata": {
        "colab": {
          "base_uri": "https://localhost:8080/"
        },
        "id": "HS-GS5fwxvYA",
        "outputId": "8301ae4f-ac4c-476c-e53c-19f5e3c2102a"
      },
      "execution_count": 46,
      "outputs": [
        {
          "output_type": "execute_result",
          "data": {
            "text/plain": [
              "(6293, 60)"
            ]
          },
          "metadata": {},
          "execution_count": 46
        }
      ]
    },
    {
      "cell_type": "markdown",
      "source": [
        "## **Exporting Mouth and Oropharynx datasets**"
      ],
      "metadata": {
        "id": "nxvVw5WjyX4P"
      }
    },
    {
      "cell_type": "code",
      "source": [
        "df_boca.shape"
      ],
      "metadata": {
        "colab": {
          "base_uri": "https://localhost:8080/"
        },
        "id": "QsX1BrM17jeA",
        "outputId": "7bb15230-57d4-4e49-b7fe-d1c672923b30"
      },
      "execution_count": 47,
      "outputs": [
        {
          "output_type": "execute_result",
          "data": {
            "text/plain": [
              "(6249, 60)"
            ]
          },
          "metadata": {},
          "execution_count": 47
        }
      ]
    },
    {
      "cell_type": "code",
      "source": [
        "df_oro.shape"
      ],
      "metadata": {
        "colab": {
          "base_uri": "https://localhost:8080/"
        },
        "id": "2N20aNjY7mL7",
        "outputId": "af823f20-c2be-46be-b9b0-7812c5a5c4b2"
      },
      "execution_count": 48,
      "outputs": [
        {
          "output_type": "execute_result",
          "data": {
            "text/plain": [
              "(6293, 60)"
            ]
          },
          "metadata": {},
          "execution_count": 48
        }
      ]
    },
    {
      "cell_type": "code",
      "source": [
        "df_boca.to_csv(r'/content/drive/MyDrive/TCC_2022/data/cancer_boca.csv')\n",
        "df_oro.to_csv(r'/content/drive/MyDrive/TCC_2022/data/cancer_orofaringe.csv')"
      ],
      "metadata": {
        "id": "HWlHlA9pyhEf"
      },
      "execution_count": 49,
      "outputs": []
    }
  ]
}